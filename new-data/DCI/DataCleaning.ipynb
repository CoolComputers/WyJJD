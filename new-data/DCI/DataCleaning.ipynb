{
 "cells": [
  {
   "cell_type": "code",
   "execution_count": 13,
   "metadata": {},
   "outputs": [],
   "source": [
    "import csv\n",
    "import numpy as np\n",
    "import pandas as pd\n",
    "import os, sys\n",
    "import subprocess\n",
    "import base64 #for createdownloadlink\n",
    "from os import listdir\n",
    "from os.path import isfile, join\n",
    "\n",
    "data_folder = '../new-data/'\n",
    "dci_data_folder = data_folder+'DCI/all-combined/'\n",
    "\n",
    "year_folders = [f for f in listdir(dci_data_folder) if not isfile(join(dci_data_folder, f))]"
   ]
  },
  {
   "cell_type": "code",
   "execution_count": 30,
   "metadata": {},
   "outputs": [
    {
     "name": "stdout",
     "output_type": "stream",
     "text": [
      "CLASSIFICATION OF OFFENSES,SEX,STATE TOTALS 2012,STATE TOTALS 2012,STATE TOTALS 2011,STATE TOTALS 2011\n",
      "\n",
      "Classification,Actual Offenses,Total Offenses Cleared,% Cleared,Juvenile Clearances,% Clearances Involving Juveniles\n",
      "\n",
      "\"\",,2013,2012,\n",
      "\n",
      "\n",
      "\"\",,,,Total Arsons Reported by Month,,,,\n",
      "\n"
     ]
    }
   ],
   "source": [
    "#print(year_folders)\n",
    "file_cont = {}\n",
    "for folder in year_folders:\n",
    "    current_path=dci_data_folder+folder\n",
    "    folder_files = [f for f in listdir(current_path) if isfile(join(current_path, f))]\n",
    "    for file in folder_files:\n",
    "        f = open(current_path+'/'+file,'r')\n",
    "        head = f.readline()\n",
    "        f.close()\n",
    "        #print('file:'+str(file)+'\\nheads:'+str(head))\n",
    "        file_cont[file] = head\n",
    "        \n",
    "overviews = [f for f in file_cont if 'total' in f]   \n",
    "for view in overviews:\n",
    "    print(file_cont[view])"
   ]
  },
  {
   "cell_type": "code",
   "execution_count": null,
   "metadata": {},
   "outputs": [],
   "source": []
  },
  {
   "cell_type": "code",
   "execution_count": null,
   "metadata": {},
   "outputs": [],
   "source": []
  }
 ],
 "metadata": {
  "kernelspec": {
   "display_name": "Python 3",
   "language": "python",
   "name": "python3"
  },
  "language_info": {
   "codemirror_mode": {
    "name": "ipython",
    "version": 3
   },
   "file_extension": ".py",
   "mimetype": "text/x-python",
   "name": "python",
   "nbconvert_exporter": "python",
   "pygments_lexer": "ipython3",
   "version": "3.4.2"
  }
 },
 "nbformat": 4,
 "nbformat_minor": 2
}
