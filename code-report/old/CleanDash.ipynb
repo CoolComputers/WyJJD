{
 "cells": [
  {
   "cell_type": "raw",
   "metadata": {
    "extensions": {
     "jupyter_dashboards": {
      "version": 1,
      "views": {
       "grid_default": {
        "hidden": true
       },
       "report_default": {}
      }
     }
    }
   },
   "source": [
    "<script>\n",
    "  function code_toggle() {\n",
    "    if (code_shown){\n",
    "      $('div.input').hide('500');\n",
    "      $('#toggleButton').val('Show Code')\n",
    "    } else {\n",
    "      $('div.input').show('500');\n",
    "      $('#toggleButton').val('Hide Code')\n",
    "    }\n",
    "    code_shown = !code_shown\n",
    "  }\n",
    "\n",
    "  $( document ).ready(function(){\n",
    "    code_shown=false;\n",
    "    $('div.input').hide()\n",
    "  });\n",
    "</script>\n",
    "<form action=\"javascript:code_toggle()\"><input type=\"submit\" id=\"toggleButton\" value=\"Show Code\"></form>"
   ]
  },
  {
   "cell_type": "code",
   "execution_count": 1,
   "metadata": {
    "extensions": {
     "jupyter_dashboards": {
      "version": 1,
      "views": {
       "grid_default": {
        "hidden": true
       },
       "report_default": {}
      }
     }
    }
   },
   "outputs": [],
   "source": [
    "from ipywidgets import widgets\n",
    "from ipywidgets import interactive\n",
    "from IPython.display import display, HTML\n",
    "from pivottablejs import pivot_ui\n",
    "\n",
    "import csv\n",
    "import numpy as np\n",
    "import pandas as pd\n",
    "import os, sys\n",
    "import subprocess\n",
    "import base64 #for createdownloadlink\n",
    "import data_functions as dfunct\n"
   ]
  },
  {
   "cell_type": "markdown",
   "metadata": {
    "extensions": {
     "jupyter_dashboards": {
      "version": 1,
      "views": {
       "grid_default": {
        "col": 0,
        "height": 39,
        "hidden": false,
        "row": 0,
        "width": 12
       },
       "report_default": {}
      }
     }
    }
   },
   "source": [
    "<a id='top'></a>\n",
    "# Wyoming Juvenile Justice Data (WyJJD)\n",
    "Project funded through grants received by the [Wyoming Children's Law Center](wyoclc.org)\n",
    "\n",
    "\n",
    "# Table of Contents\n",
    "## DCI Data\n",
    "* [Overview](#dcioverview)\n",
    "* [Detailed Index Offense Information](#detailedindex)\n",
    "\n",
    "## DFS Data\n",
    "* [Overview](#dfsoverview)\n",
    "\n",
    "## DOE Data\n",
    "* [Overview](#doeoverview)\n",
    "\n",
    "\n",
    "### Interactive Tables\n",
    "This project contains interactive data tables which allow you to create custom representations of information for your exploration. At the top left of every table you will see a menu where you can select multiple report visualization styles ranging from Excel-like tables to heatmaps. Just below this selection is another selection menu which allows you to change the accumulation methods used on the data(i.e. sum, unique count, etc). Along the left side of the report view below these selection menus is a selection of possible data points that are available. Click and drag these points to either the column on the side or to the top of the table, depending on how you want to view the data. There are also download links accompanying each table in order to download the data for use in other projects and/or reports.\n",
    "\n",
    "For example, \n",
    "\n",
    "<img src=\"https://pivottable.js.org/images/animation.gif\">\n",
    "To see more demos or view the behind the scenes methods please <a href=\"https://github.com/nicolaskruchten/pivottable/wiki/Optional-Extra-Renderers\">visit here</a>"
   ]
  },
  {
   "cell_type": "markdown",
   "metadata": {
    "extensions": {
     "jupyter_dashboards": {
      "version": 1,
      "views": {
       "grid_default": {
        "col": 0,
        "height": 5,
        "hidden": false,
        "row": 39,
        "width": 12
       },
       "report_default": {}
      }
     }
    }
   },
   "source": [
    "<a id='dcioverview'></a>\n",
    "[back to top](#top)\n",
    "# Division of Criminal Investigation\n",
    "## Overview"
   ]
  },
  {
   "cell_type": "code",
   "execution_count": 3,
   "metadata": {
    "extensions": {
     "jupyter_dashboards": {
      "version": 1,
      "views": {
       "grid_default": {
        "hidden": true
       },
       "report_default": {}
      }
     }
    }
   },
   "outputs": [],
   "source": [
    "overviewDF = dfunct.getOverview()"
   ]
  },
  {
   "cell_type": "markdown",
   "metadata": {
    "extensions": {
     "jupyter_dashboards": {
      "version": 1,
      "views": {
       "grid_default": {
        "col": 0,
        "height": 4,
        "hidden": false,
        "row": 44,
        "width": 4
       },
       "report_default": {}
      }
     }
    }
   },
   "source": [
    "<p id=\"detailedindex\"></p>\n",
    "## Detailed Index Offense Information"
   ]
  },
  {
   "cell_type": "markdown",
   "metadata": {
    "extensions": {
     "jupyter_dashboards": {
      "version": 1,
      "views": {
       "grid_default": {
        "col": 0,
        "height": 5,
        "hidden": false,
        "row": 48,
        "width": 12
       },
       "report_default": {}
      }
     }
    }
   },
   "source": [
    "<a id='dfsoverview'></a>\n",
    "[back to top](#top)\n",
    "# Department of Family Services\n",
    "## Overview"
   ]
  },
  {
   "cell_type": "code",
   "execution_count": 4,
   "metadata": {
    "extensions": {
     "jupyter_dashboards": {
      "version": 1,
      "views": {
       "grid_default": {
        "col": 0,
        "height": 56,
        "hidden": false,
        "row": 53,
        "width": 12
       },
       "report_default": {}
      }
     }
    }
   },
   "outputs": [
    {
     "data": {
      "text/html": [
       "<h3>Data by County</h3>"
      ],
      "text/plain": [
       "<IPython.core.display.HTML object>"
      ]
     },
     "metadata": {},
     "output_type": "display_data"
    },
    {
     "data": {
      "text/html": [
       "<a download=\"DFS_ByCounty.csv\" href=\"data:text/csv;base64,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\" target=\"_blank\">Download County Data</a>"
      ],
      "text/plain": [
       "<IPython.core.display.HTML object>"
      ]
     },
     "metadata": {},
     "output_type": "display_data"
    },
    {
     "data": {
      "text/html": [
       "\n",
       "        <iframe\n",
       "            width=\"100%\"\n",
       "            height=\"500\"\n",
       "            src=\"pivottablejs.html\"\n",
       "            frameborder=\"0\"\n",
       "            allowfullscreen\n",
       "        ></iframe>\n",
       "        "
      ],
      "text/plain": [
       "<IPython.lib.display.IFrame at 0x7fe4d939fc50>"
      ]
     },
     "metadata": {},
     "output_type": "display_data"
    },
    {
     "data": {
      "text/html": [
       "<h3>PLC Data</h3>"
      ],
      "text/plain": [
       "<IPython.core.display.HTML object>"
      ]
     },
     "metadata": {},
     "output_type": "display_data"
    },
    {
     "data": {
      "text/html": [
       "<a download=\"DFS_PLC.csv\" href=\"data:text/csv;base64,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\" target=\"_blank\">Download PLC Data</a>"
      ],
      "text/plain": [
       "<IPython.core.display.HTML object>"
      ]
     },
     "metadata": {},
     "output_type": "display_data"
    },
    {
     "data": {
      "text/html": [
       "\n",
       "        <iframe\n",
       "            width=\"100%\"\n",
       "            height=\"500\"\n",
       "            src=\"pivottablejs.html\"\n",
       "            frameborder=\"0\"\n",
       "            allowfullscreen\n",
       "        ></iframe>\n",
       "        "
      ],
      "text/plain": [
       "<IPython.lib.display.IFrame at 0x7fe4d8b30110>"
      ]
     },
     "metadata": {},
     "output_type": "display_data"
    },
    {
     "data": {
      "text/html": [
       "<h3>AFCARS Data</h3>"
      ],
      "text/plain": [
       "<IPython.core.display.HTML object>"
      ]
     },
     "metadata": {},
     "output_type": "display_data"
    },
    {
     "data": {
      "text/html": [
       "<a download=\"DFS_AFCARS.csv\" href=\"data:text/csv;base64,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\" target=\"_blank\">Download AFCARS Data</a>"
      ],
      "text/plain": [
       "<IPython.core.display.HTML object>"
      ]
     },
     "metadata": {},
     "output_type": "display_data"
    },
    {
     "data": {
      "text/html": [
       "\n",
       "        <iframe\n",
       "            width=\"100%\"\n",
       "            height=\"500\"\n",
       "            src=\"pivottablejs.html\"\n",
       "            frameborder=\"0\"\n",
       "            allowfullscreen\n",
       "        ></iframe>\n",
       "        "
      ],
      "text/plain": [
       "<IPython.lib.display.IFrame at 0x7fe4a5ed63d0>"
      ]
     },
     "metadata": {},
     "output_type": "display_data"
    }
   ],
   "source": [
    "afcars, county, plc = dfunct.getDFS()\n",
    "\n",
    "#https://pivottable.js.org/examples/\n",
    "display(HTML(\"<h3>Data by County</h3>\"))\n",
    "display(dfunct.create_download_link(county,title=\"Download County Data\",filename=\"DFS_ByCounty.csv\"))\n",
    "display(pivot_ui(county))\n",
    "display(HTML(\"<h3>PLC Data</h3>\"))\n",
    "display(dfunct.create_download_link(plc,title=\"Download PLC Data\",filename=\"DFS_PLC.csv\"))\n",
    "display(pivot_ui(plc))\n",
    "display(HTML(\"<h3>AFCARS Data</h3>\"))\n",
    "display(dfunct.create_download_link(afcars,title=\"Download AFCARS Data\",filename=\"DFS_AFCARS.csv\"))\n",
    "display(pivot_ui(afcars))\n"
   ]
  },
  {
   "cell_type": "markdown",
   "metadata": {
    "extensions": {
     "jupyter_dashboards": {
      "version": 1,
      "views": {
       "grid_default": {
        "col": 0,
        "height": 5,
        "hidden": false,
        "row": 128,
        "width": 12
       },
       "report_default": {}
      }
     }
    }
   },
   "source": [
    "<a id='doeoverview'></a>\n",
    "[back to top](#top)\n",
    "# Department of Education\n",
    "## Overview"
   ]
  },
  {
   "cell_type": "code",
   "execution_count": 5,
   "metadata": {
    "extensions": {
     "jupyter_dashboards": {
      "version": 1,
      "views": {
       "grid_default": {
        "col": 0,
        "height": 19,
        "hidden": false,
        "row": 109,
        "width": 12
       },
       "report_default": {}
      }
     }
    }
   },
   "outputs": [
    {
     "data": {
      "text/html": [
       "<h3>School Juvenile Data</h3>"
      ],
      "text/plain": [
       "<IPython.core.display.HTML object>"
      ]
     },
     "metadata": {},
     "output_type": "display_data"
    },
    {
     "data": {
      "text/html": [
       "<a download=\"SchoolJuvenileData.csv\" href=\"data:text/csv;base64,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\" target=\"_blank\">Download School Juvenile Data</a>"
      ],
      "text/plain": [
       "<IPython.core.display.HTML object>"
      ]
     },
     "metadata": {},
     "output_type": "display_data"
    },
    {
     "data": {
      "text/html": [
       "\n",
       "        <iframe\n",
       "            width=\"100%\"\n",
       "            height=\"500\"\n",
       "            src=\"pivottablejs.html\"\n",
       "            frameborder=\"0\"\n",
       "            allowfullscreen\n",
       "        ></iframe>\n",
       "        "
      ],
      "text/plain": [
       "<IPython.lib.display.IFrame at 0x7fe4d8b30110>"
      ]
     },
     "metadata": {},
     "output_type": "display_data"
    }
   ],
   "source": [
    "school_data = dfunct.getSchool()\n",
    "#print(school_data)\n",
    "# df, title = \"Download CSV file\", filename = \"data.csv\"\n",
    "display(HTML(\"<h3>School Juvenile Data</h3>\"))\n",
    "display(dfunct.create_download_link(school_data,title=\"Download School Juvenile Data\",filename=\"SchoolJuvenileData.csv\"))\n",
    "#display(school_data)\n",
    "#display(HTML(school_data.to_html()))\n",
    "#https://blog.ouseful.info/2016/12/29/simple-view-controls-for-pandas-dataframes-using-ipython-widgets/\n",
    "display(pivot_ui(school_data))"
   ]
  }
 ],
 "metadata": {
  "extensions": {
   "jupyter_dashboards": {
    "activeView": "grid_default",
    "version": 1,
    "views": {
     "grid_default": {
      "cellMargin": 10,
      "defaultCellHeight": 20,
      "maxColumns": 12,
      "name": "grid",
      "type": "grid"
     },
     "report_default": {
      "name": "report",
      "type": "report"
     }
    }
   }
  },
  "kernelspec": {
   "display_name": "Python 3",
   "language": "python",
   "name": "python3"
  },
  "language_info": {
   "codemirror_mode": {
    "name": "ipython",
    "version": 3
   },
   "file_extension": ".py",
   "mimetype": "text/x-python",
   "name": "python",
   "nbconvert_exporter": "python",
   "pygments_lexer": "ipython3",
   "version": "3.4.2"
  },
  "widgets": {
   "application/vnd.jupyter.widget-state+json": {
    "state": {},
    "version_major": 2,
    "version_minor": 0
   }
  }
 },
 "nbformat": 4,
 "nbformat_minor": 2
}
