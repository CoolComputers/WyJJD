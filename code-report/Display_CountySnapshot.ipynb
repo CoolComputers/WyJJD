{
 "cells": [
  {
   "cell_type": "code",
   "execution_count": 2,
   "metadata": {},
   "outputs": [
    {
     "name": "stdout",
     "output_type": "stream",
     "text": [
      "           2010   2011   2012   2013   2014   2015   2016   2017\n",
      "County                                                          \n",
      "Albany    36433  36883  37332  37573  37793  38036  37987  38332\n",
      "Big Horn  11667  11726  11765  11939  11859  11956  11941  11906\n",
      "Campbell  46233  46560  47861  48051  48192  49293  48800  46242\n",
      "*************\n",
      "             Manslaughter  Rape  Robbery  Aggravated-Assault  Burglary  \\\n",
      "County Year                                                              \n",
      "Albany 2010             0     0        0                   2         2   \n",
      "       2011             0     0        0                   1         2   \n",
      "       2012             0     0        0                   0         5   \n",
      "\n",
      "             Larceny-Theft  Motor-Vehicle-Theft  Arson  Other-Assaults  \\\n",
      "County Year                                                              \n",
      "Albany 2010              8                    1      0              21   \n",
      "       2011             21                    1      2              13   \n",
      "       2012             14                    1      0              25   \n",
      "\n",
      "             Forgery-Counterfeiting  ...    Driving-Under-the-Influence  \\\n",
      "County Year                          ...                                  \n",
      "Albany 2010                       0  ...                              5   \n",
      "       2011                       0  ...                              4   \n",
      "       2012                       0  ...                              1   \n",
      "\n",
      "             Liquor-Laws  Drunkenness  Disorderly-Conduct  \\\n",
      "County Year                                                 \n",
      "Albany 2010           28            0                   1   \n",
      "       2011           21            0                   1   \n",
      "       2012           30            1                   0   \n",
      "\n",
      "             All-Other-Offenses-Except-Traffic  Suspicion  \\\n",
      "County Year                                                 \n",
      "Albany 2010                                 33          0   \n",
      "       2011                                 29          0   \n",
      "       2012                                 11          0   \n",
      "\n",
      "             Curfew-Loitering-Law-Violations  Run-a-ways  Vagrancy  total  \n",
      "County Year                                                                \n",
      "Albany 2010                                5           0         0    143  \n",
      "       2011                                0           0         0    110  \n",
      "       2012                                3           0         0    126  \n",
      "\n",
      "[3 rows x 31 columns]\n",
      "*************\n",
      "*************COUNTY ARRESTS\n",
      "             Manslaughter  Rape  Robbery  Aggravated-Assault  Burglary  \\\n",
      "County Year                                                              \n",
      "Albany 2014             0     0        1                   1         5   \n",
      "       2015             0     0        0                   1         0   \n",
      "       2016             0     0        0                   0         0   \n",
      "\n",
      "             Larceny-Theft  Motor-Vehicle-Theft  Arson  Other-Assaults  \\\n",
      "County Year                                                              \n",
      "Albany 2014             30                    0      0              58   \n",
      "       2015             27                    1      0              40   \n",
      "       2016              7                    0      0              27   \n",
      "\n",
      "             Forgery-Counterfeiting  ...    Driving-Under-the-Influence  \\\n",
      "County Year                          ...                                  \n",
      "Albany 2014                       0  ...                              0   \n",
      "       2015                       0  ...                              5   \n",
      "       2016                       0  ...                              1   \n",
      "\n",
      "             Liquor-Laws  Drunkenness  Disorderly-Conduct  \\\n",
      "County Year                                                 \n",
      "Albany 2014           22            0                   2   \n",
      "       2015           20            0                   1   \n",
      "       2016           16            0                   1   \n",
      "\n",
      "             All-Other-Offenses-Except-Traffic  Suspicion  \\\n",
      "County Year                                                 \n",
      "Albany 2014                                 28          0   \n",
      "       2015                                 36          0   \n",
      "       2016                                 18          0   \n",
      "\n",
      "             Curfew-Loitering-Law-Violations  Run-a-ways  Vagrancy  total  \n",
      "County Year                                                                \n",
      "Albany 2014                                0           0         0    177  \n",
      "       2015                                0           0         0    162  \n",
      "       2016                                0           0         0    100  \n",
      "\n",
      "[3 rows x 31 columns]\n",
      "<class 'tuple'>\n",
      "Albany\n",
      "36433\n",
      "<class 'tuple'>\n",
      "Albany\n",
      "36883\n",
      "<class 'tuple'>\n",
      "Albany\n",
      "37332\n",
      "<class 'tuple'>\n",
      "Albany\n",
      "37573\n",
      "<class 'tuple'>\n",
      "Albany\n",
      "37793\n",
      "<class 'tuple'>\n",
      "Albany\n",
      "38036\n",
      "<class 'tuple'>\n",
      "Albany\n",
      "37987\n",
      "<class 'tuple'>\n",
      "Big Horn\n",
      "11667\n",
      "<class 'tuple'>\n",
      "Big Horn\n",
      "11726\n",
      "<class 'tuple'>\n",
      "Big Horn\n",
      "11765\n",
      "<class 'tuple'>\n",
      "Big Horn\n",
      "11939\n",
      "<class 'tuple'>\n",
      "Big Horn\n",
      "11859\n",
      "<class 'tuple'>\n",
      "Big Horn\n",
      "11956\n",
      "<class 'tuple'>\n",
      "Big Horn\n",
      "11941\n",
      "<class 'tuple'>\n",
      "Campbell\n",
      "46233\n",
      "<class 'tuple'>\n",
      "Campbell\n",
      "46560\n",
      "<class 'tuple'>\n",
      "Campbell\n",
      "47861\n",
      "<class 'tuple'>\n",
      "Campbell\n",
      "48051\n",
      "<class 'tuple'>\n",
      "Campbell\n",
      "48192\n",
      "<class 'tuple'>\n",
      "Campbell\n",
      "49293\n",
      "<class 'tuple'>\n",
      "Campbell\n",
      "48800\n",
      "<class 'tuple'>\n",
      "Carbon\n",
      "15849\n",
      "<class 'tuple'>\n",
      "Carbon\n",
      "15848\n",
      "<class 'tuple'>\n",
      "Carbon\n",
      "15732\n",
      "<class 'tuple'>\n",
      "Carbon\n",
      "15861\n",
      "<class 'tuple'>\n",
      "Carbon\n",
      "15907\n",
      "<class 'tuple'>\n",
      "Carbon\n",
      "15645\n",
      "<class 'tuple'>\n",
      "Carbon\n",
      "15727\n",
      "<class 'tuple'>\n",
      "Converse\n",
      "13821\n",
      "<class 'tuple'>\n",
      "Converse\n",
      "13736\n",
      "<class 'tuple'>\n",
      "Converse\n",
      "14025\n",
      "<class 'tuple'>\n",
      "Converse\n",
      "14365\n",
      "<class 'tuple'>\n",
      "Converse\n",
      "14219\n",
      "<class 'tuple'>\n",
      "Converse\n",
      "14312\n",
      "<class 'tuple'>\n",
      "Converse\n",
      "14127\n",
      "<class 'tuple'>\n",
      "Crook\n",
      "7119\n",
      "<class 'tuple'>\n",
      "Crook\n",
      "7123\n",
      "<class 'tuple'>\n",
      "Crook\n",
      "7141\n",
      "<class 'tuple'>\n",
      "Crook\n",
      "7153\n",
      "<class 'tuple'>\n",
      "Crook\n",
      "7245\n",
      "<class 'tuple'>\n",
      "Crook\n",
      "7432\n",
      "<class 'tuple'>\n",
      "Crook\n",
      "7497\n",
      "<class 'tuple'>\n",
      "Fremont\n",
      "40195\n",
      "<class 'tuple'>\n",
      "Fremont\n",
      "40520\n",
      "<class 'tuple'>\n",
      "Fremont\n",
      "41022\n",
      "<class 'tuple'>\n",
      "Fremont\n",
      "40911\n",
      "<class 'tuple'>\n",
      "Fremont\n",
      "40573\n",
      "<class 'tuple'>\n",
      "Fremont\n",
      "40237\n",
      "<class 'tuple'>\n",
      "Fremont\n",
      "40245\n",
      "<class 'tuple'>\n",
      "Goshen\n",
      "13422\n",
      "<class 'tuple'>\n",
      "Goshen\n",
      "13580\n",
      "<class 'tuple'>\n",
      "Goshen\n",
      "13642\n",
      "<class 'tuple'>\n",
      "Goshen\n",
      "13551\n",
      "<class 'tuple'>\n",
      "Goshen\n",
      "13544\n",
      "<class 'tuple'>\n",
      "Goshen\n",
      "13566\n",
      "<class 'tuple'>\n",
      "Goshen\n",
      "13355\n",
      "<class 'tuple'>\n",
      "Hot Springs\n",
      "4809\n",
      "<class 'tuple'>\n",
      "Hot Springs\n",
      "4808\n",
      "<class 'tuple'>\n",
      "Hot Springs\n",
      "4833\n",
      "<class 'tuple'>\n",
      "Hot Springs\n",
      "4834\n",
      "<class 'tuple'>\n",
      "Hot Springs\n",
      "4789\n",
      "<class 'tuple'>\n",
      "Hot Springs\n",
      "4717\n",
      "<class 'tuple'>\n",
      "Hot Springs\n",
      "4669\n",
      "<class 'tuple'>\n",
      "Johnson\n",
      "8587\n",
      "<class 'tuple'>\n",
      "Johnson\n",
      "8645\n",
      "<class 'tuple'>\n",
      "Johnson\n",
      "8637\n",
      "<class 'tuple'>\n",
      "Johnson\n",
      "8637\n",
      "<class 'tuple'>\n",
      "Johnson\n",
      "8584\n",
      "<class 'tuple'>\n",
      "Johnson\n",
      "8616\n",
      "<class 'tuple'>\n",
      "Johnson\n",
      "8496\n",
      "<class 'tuple'>\n",
      "Laramie\n",
      "92219\n",
      "<class 'tuple'>\n",
      "Laramie\n",
      "92587\n",
      "<class 'tuple'>\n",
      "Laramie\n",
      "94704\n",
      "<class 'tuple'>\n",
      "Laramie\n",
      "95731\n",
      "<class 'tuple'>\n",
      "Laramie\n",
      "96123\n",
      "<class 'tuple'>\n",
      "Laramie\n",
      "97005\n",
      "<class 'tuple'>\n",
      "Laramie\n",
      "97968\n",
      "<class 'tuple'>\n",
      "Lincoln\n",
      "18094\n",
      "<class 'tuple'>\n",
      "Lincoln\n",
      "18009\n",
      "<class 'tuple'>\n",
      "Lincoln\n",
      "17938\n",
      "<class 'tuple'>\n",
      "Lincoln\n",
      "18312\n",
      "<class 'tuple'>\n",
      "Lincoln\n",
      "18567\n",
      "<class 'tuple'>\n",
      "Lincoln\n",
      "18736\n",
      "<class 'tuple'>\n",
      "Lincoln\n",
      "19076\n",
      "<class 'tuple'>\n",
      "Natrona\n",
      "75456\n",
      "<class 'tuple'>\n",
      "Natrona\n",
      "76421\n",
      "<class 'tuple'>\n",
      "Natrona\n",
      "78583\n",
      "<class 'tuple'>\n",
      "Natrona\n",
      "81101\n",
      "<class 'tuple'>\n",
      "Natrona\n",
      "81439\n",
      "<class 'tuple'>\n",
      "Natrona\n",
      "82134\n",
      "<class 'tuple'>\n",
      "Natrona\n",
      "80892\n",
      "<class 'tuple'>\n",
      "Niobrara\n",
      "2491\n",
      "<class 'tuple'>\n",
      "Niobrara\n",
      "2483\n",
      "<class 'tuple'>\n",
      "Niobrara\n",
      "2476\n",
      "<class 'tuple'>\n",
      "Niobrara\n",
      "2544\n",
      "<class 'tuple'>\n",
      "Niobrara\n",
      "2489\n",
      "<class 'tuple'>\n",
      "Park\n",
      "28248\n",
      "<class 'tuple'>\n",
      "Park\n",
      "28546\n",
      "<class 'tuple'>\n",
      "Park\n",
      "28933\n",
      "<class 'tuple'>\n",
      "Park\n",
      "29170\n",
      "<class 'tuple'>\n",
      "Park\n",
      "29119\n",
      "<class 'tuple'>\n",
      "Park\n",
      "29110\n",
      "<class 'tuple'>\n",
      "Park\n",
      "29412\n",
      "<class 'tuple'>\n",
      "Platte\n",
      "8664\n",
      "<class 'tuple'>\n",
      "Platte\n",
      "8695\n",
      "<class 'tuple'>\n",
      "Platte\n",
      "8730\n",
      "<class 'tuple'>\n",
      "Platte\n",
      "8707\n",
      "<class 'tuple'>\n",
      "Platte\n",
      "8776\n",
      "<class 'tuple'>\n",
      "Platte\n",
      "8797\n",
      "<class 'tuple'>\n",
      "Platte\n",
      "8675\n",
      "<class 'tuple'>\n",
      "Sheridan\n",
      "29123\n",
      "<class 'tuple'>\n",
      "Sheridan\n",
      "29254\n",
      "<class 'tuple'>\n",
      "Sheridan\n",
      "29528\n",
      "<class 'tuple'>\n",
      "Sheridan\n",
      "29735\n",
      "<class 'tuple'>\n",
      "Sheridan\n",
      "29888\n",
      "<class 'tuple'>\n",
      "Sheridan\n",
      "29940\n",
      "<class 'tuple'>\n",
      "Sheridan\n",
      "30049\n",
      "<class 'tuple'>\n",
      "Sublette\n",
      "10254\n",
      "<class 'tuple'>\n",
      "Sublette\n",
      "10189\n",
      "<class 'tuple'>\n",
      "Sublette\n",
      "10481\n",
      "<class 'tuple'>\n",
      "Sublette\n",
      "10172\n",
      "<class 'tuple'>\n",
      "Sublette\n",
      "10155\n",
      "<class 'tuple'>\n",
      "Sublette\n",
      "10056\n",
      "<class 'tuple'>\n",
      "Sublette\n",
      "10002\n",
      "<class 'tuple'>\n",
      "Sweetwater\n",
      "43569\n",
      "<class 'tuple'>\n",
      "Sweetwater\n",
      "44013\n",
      "<class 'tuple'>\n",
      "Sweetwater\n",
      "45042\n",
      "<class 'tuple'>\n",
      "Sweetwater\n",
      "45145\n",
      "<class 'tuple'>\n",
      "Sweetwater\n",
      "44981\n",
      "<class 'tuple'>\n",
      "Sweetwater\n",
      "44732\n",
      "<class 'tuple'>\n",
      "Sweetwater\n",
      "44245\n",
      "<class 'tuple'>\n",
      "Teton\n",
      "21295\n",
      "<class 'tuple'>\n",
      "Teton\n",
      "21476\n",
      "<class 'tuple'>\n",
      "Teton\n",
      "21709\n",
      "<class 'tuple'>\n",
      "Teton\n",
      "22326\n",
      "<class 'tuple'>\n",
      "Teton\n",
      "22817\n",
      "<class 'tuple'>\n",
      "Teton\n",
      "23029\n",
      "<class 'tuple'>\n",
      "Teton\n",
      "23180\n",
      "<class 'tuple'>\n",
      "Uinta\n",
      "21093\n",
      "<class 'tuple'>\n",
      "Uinta\n",
      "20899\n",
      "<class 'tuple'>\n",
      "Uinta\n",
      "20999\n",
      "<class 'tuple'>\n",
      "Uinta\n",
      "20960\n",
      "<class 'tuple'>\n",
      "Uinta\n",
      "20845\n",
      "<class 'tuple'>\n",
      "Uinta\n",
      "20780\n",
      "<class 'tuple'>\n",
      "Uinta\n",
      "20711\n",
      "<class 'tuple'>\n",
      "Washakie\n",
      "8537\n",
      "<class 'tuple'>\n",
      "Washakie\n",
      "8460\n",
      "<class 'tuple'>\n",
      "Washakie\n",
      "8421\n",
      "<class 'tuple'>\n",
      "Washakie\n",
      "8427\n",
      "<class 'tuple'>\n",
      "Washakie\n",
      "8288\n",
      "<class 'tuple'>\n",
      "Washakie\n",
      "8296\n",
      "<class 'tuple'>\n",
      "Washakie\n",
      "8188\n",
      "<class 'tuple'>\n",
      "Weston\n",
      "7198\n",
      "<class 'tuple'>\n",
      "Weston\n",
      "7141\n",
      "<class 'tuple'>\n",
      "Weston\n",
      "7074\n",
      "<class 'tuple'>\n",
      "Weston\n",
      "7136\n",
      "<class 'tuple'>\n",
      "Weston\n",
      "7142\n",
      "<class 'tuple'>\n",
      "Weston\n",
      "7181\n",
      "<class 'tuple'>\n",
      "Weston\n",
      "7198\n",
      "             Manslaughter  Rape  Robbery  Aggravated-Assault  Burglary  \\\n",
      "County Year                                                              \n",
      "Albany 2010             0     0        0                   2         2   \n",
      "       2011             0     0        0                   1         2   \n",
      "       2012             0     0        0                   0         5   \n",
      "\n",
      "             Larceny-Theft  Motor-Vehicle-Theft  Arson  Other-Assaults  \\\n",
      "County Year                                                              \n",
      "Albany 2010              8                    1      0              21   \n",
      "       2011             21                    1      2              13   \n",
      "       2012             14                    1      0              25   \n",
      "\n",
      "             Forgery-Counterfeiting    ...     Drunkenness  \\\n",
      "County Year                            ...                   \n",
      "Albany 2010                       0    ...               0   \n",
      "       2011                       0    ...               0   \n",
      "       2012                       0    ...               1   \n",
      "\n",
      "             Disorderly-Conduct  All-Other-Offenses-Except-Traffic  Suspicion  \\\n",
      "County Year                                                                     \n",
      "Albany 2010                   1                                 33          0   \n",
      "       2011                   1                                 29          0   \n",
      "       2012                   0                                 11          0   \n",
      "\n",
      "             Curfew-Loitering-Law-Violations  Run-a-ways  Vagrancy  total  \\\n",
      "County Year                                                                 \n",
      "Albany 2010                                5           0         0    286   \n",
      "       2011                                0           0         0    220   \n",
      "       2012                                3           0         0    252   \n",
      "\n",
      "             population      rate  \n",
      "County Year                        \n",
      "Albany 2010       36433  0.007850  \n",
      "       2011       36883  0.005965  \n",
      "       2012       37332  0.006750  \n",
      "\n",
      "[3 rows x 33 columns]\n"
     ]
    },
    {
     "ename": "NameError",
     "evalue": "name 'display_arrests_html' is not defined",
     "output_type": "error",
     "traceback": [
      "\u001b[0;31m---------------------------------------------------------------\u001b[0m",
      "\u001b[0;31mNameError\u001b[0m                     Traceback (most recent call last)",
      "\u001b[0;32m~/work/wclc/WyJJD/code-report/CountySnapshots.ipynb\u001b[0m in \u001b[0;36m<module>\u001b[0;34m()\u001b[0m\n\u001b[1;32m     23\u001b[0m \u001b[0mafcars_out\u001b[0m \u001b[0;34m=\u001b[0m \u001b[0mwidgets\u001b[0m\u001b[0;34m.\u001b[0m\u001b[0minteractive_output\u001b[0m\u001b[0;34m(\u001b[0m\u001b[0mdisplay_afcars_html\u001b[0m\u001b[0;34m,\u001b[0m\u001b[0;34m{\u001b[0m\u001b[0;34m'county'\u001b[0m\u001b[0;34m:\u001b[0m\u001b[0mcounty_drop\u001b[0m\u001b[0;34m,\u001b[0m\u001b[0;34m'year_tup'\u001b[0m\u001b[0;34m:\u001b[0m\u001b[0myear_slide\u001b[0m\u001b[0;34m}\u001b[0m\u001b[0;34m)\u001b[0m\u001b[0;34m\u001b[0m\u001b[0m\n\u001b[1;32m     24\u001b[0m \u001b[0mcounty_out\u001b[0m \u001b[0;34m=\u001b[0m \u001b[0mwidgets\u001b[0m\u001b[0;34m.\u001b[0m\u001b[0minteractive_output\u001b[0m\u001b[0;34m(\u001b[0m\u001b[0mdisplay_county_html\u001b[0m\u001b[0;34m,\u001b[0m\u001b[0;34m{\u001b[0m\u001b[0;34m'county'\u001b[0m\u001b[0;34m:\u001b[0m\u001b[0mcounty_drop\u001b[0m\u001b[0;34m,\u001b[0m\u001b[0;34m'year_tup'\u001b[0m\u001b[0;34m:\u001b[0m\u001b[0myear_slide\u001b[0m\u001b[0;34m}\u001b[0m\u001b[0;34m)\u001b[0m\u001b[0;34m\u001b[0m\u001b[0m\n\u001b[0;32m---> 25\u001b[0;31m \u001b[0marrests_out\u001b[0m \u001b[0;34m=\u001b[0m \u001b[0mwidgets\u001b[0m\u001b[0;34m.\u001b[0m\u001b[0minteractive_output\u001b[0m\u001b[0;34m(\u001b[0m\u001b[0mdisplay_arrests_html\u001b[0m\u001b[0;34m,\u001b[0m\u001b[0;34m{\u001b[0m\u001b[0;34m'county'\u001b[0m\u001b[0;34m:\u001b[0m\u001b[0mcounty_drop\u001b[0m\u001b[0;34m,\u001b[0m\u001b[0;34m'year_tup'\u001b[0m\u001b[0;34m:\u001b[0m\u001b[0myear_slide\u001b[0m\u001b[0;34m}\u001b[0m\u001b[0;34m)\u001b[0m\u001b[0;34m\u001b[0m\u001b[0m\n\u001b[0m\u001b[1;32m     26\u001b[0m \u001b[0mfelony_out\u001b[0m \u001b[0;34m=\u001b[0m \u001b[0mwidgets\u001b[0m\u001b[0;34m.\u001b[0m\u001b[0minteractive_output\u001b[0m\u001b[0;34m(\u001b[0m\u001b[0mdisplay_felony_html\u001b[0m\u001b[0;34m,\u001b[0m\u001b[0;34m{\u001b[0m\u001b[0;34m'county'\u001b[0m\u001b[0;34m:\u001b[0m\u001b[0mcounty_drop\u001b[0m\u001b[0;34m,\u001b[0m\u001b[0;34m'year_tup'\u001b[0m\u001b[0;34m:\u001b[0m\u001b[0myear_slide\u001b[0m\u001b[0;34m}\u001b[0m\u001b[0;34m)\u001b[0m\u001b[0;34m\u001b[0m\u001b[0m\n\u001b[1;32m     27\u001b[0m \u001b[0mlesser_out\u001b[0m \u001b[0;34m=\u001b[0m \u001b[0mwidgets\u001b[0m\u001b[0;34m.\u001b[0m\u001b[0minteractive_output\u001b[0m\u001b[0;34m(\u001b[0m\u001b[0mdisplay_lesser_html\u001b[0m\u001b[0;34m,\u001b[0m\u001b[0;34m{\u001b[0m\u001b[0;34m'county'\u001b[0m\u001b[0;34m:\u001b[0m\u001b[0mcounty_drop\u001b[0m\u001b[0;34m,\u001b[0m\u001b[0;34m'year_tup'\u001b[0m\u001b[0;34m:\u001b[0m\u001b[0myear_slide\u001b[0m\u001b[0;34m}\u001b[0m\u001b[0;34m)\u001b[0m\u001b[0;34m\u001b[0m\u001b[0m\n",
      "\u001b[0;31mNameError\u001b[0m: name 'display_arrests_html' is not defined"
     ]
    }
   ],
   "source": [
    "# ATTENTION: To show results, from the menu bar please click \"Cell > Run All\"\n",
    "%run CountySnapshots.ipynb"
   ]
  },
  {
   "cell_type": "code",
   "execution_count": null,
   "metadata": {},
   "outputs": [],
   "source": []
  }
 ],
 "metadata": {
  "kernelspec": {
   "display_name": "Python 3",
   "language": "python",
   "name": "python3"
  },
  "language_info": {
   "codemirror_mode": {
    "name": "ipython",
    "version": 3
   },
   "file_extension": ".py",
   "mimetype": "text/x-python",
   "name": "python",
   "nbconvert_exporter": "python",
   "pygments_lexer": "ipython3",
   "version": "3.6.5"
  },
  "widgets": {
   "application/vnd.jupyter.widget-state+json": {
    "state": {
     "03a5fdadf1d845bbb395097bc2c88ddf": {
      "model_module": "@jupyter-widgets/output",
      "model_module_version": "1.0.0",
      "model_name": "OutputModel",
      "state": {
       "layout": "IPY_MODEL_813d2829c1d54f2f9189335773dad1f4",
       "outputs": [
        {
         "data": {
          "text/html": "<hr><h2>Educational Infraction Data</h2>",
          "text/plain": "<IPython.core.display.HTML object>"
         },
         "metadata": {},
         "output_type": "display_data"
        },
        {
         "data": {
          "text/html": "<table border=\"1\" class=\"dataframe\">\n  <thead>\n    <tr style=\"text-align: right;\">\n      <th></th>\n      <th></th>\n      <th></th>\n      <th>DISTRICT_ID</th>\n      <th>DISTRICT_NAME</th>\n      <th>Expulsion - Services not provided</th>\n      <th>Expulsion - Services provided</th>\n      <th>In school suspension</th>\n      <th>Out of school suspension</th>\n    </tr>\n    <tr>\n      <th>county</th>\n      <th>Beginning Year</th>\n      <th>End Year</th>\n      <th></th>\n      <th></th>\n      <th></th>\n      <th></th>\n      <th></th>\n      <th></th>\n    </tr>\n  </thead>\n  <tbody>\n    <tr>\n      <th rowspan=\"4\" valign=\"top\">Sublette</th>\n      <th rowspan=\"2\" valign=\"top\">2013</th>\n      <th>2014</th>\n      <td>1801000</td>\n      <td>Sublette #1</td>\n      <td>NaN</td>\n      <td>NaN</td>\n      <td>64.0</td>\n      <td>41.0</td>\n    </tr>\n    <tr>\n      <th>2014</th>\n      <td>1809000</td>\n      <td>Sublette #9</td>\n      <td>NaN</td>\n      <td>NaN</td>\n      <td>71.0</td>\n      <td>43.0</td>\n    </tr>\n    <tr>\n      <th rowspan=\"2\" valign=\"top\">2014</th>\n      <th>2015</th>\n      <td>1801000</td>\n      <td>Sublette #1</td>\n      <td>NaN</td>\n      <td>37.0</td>\n      <td>56.0</td>\n      <td>NaN</td>\n    </tr>\n    <tr>\n      <th>2015</th>\n      <td>1809000</td>\n      <td>Sublette #9</td>\n      <td>NaN</td>\n      <td>53.0</td>\n      <td>26.0</td>\n      <td>NaN</td>\n    </tr>\n  </tbody>\n</table>",
          "text/plain": "<IPython.core.display.HTML object>"
         },
         "metadata": {},
         "output_type": "display_data"
        }
       ]
      }
     },
     "05653583088e4d258ffaf0cfc770bdd8": {
      "model_module": "@jupyter-widgets/output",
      "model_module_version": "1.0.0",
      "model_name": "OutputModel",
      "state": {
       "layout": "IPY_MODEL_57ad04ddf7964087be2f22e1ec454b5b",
       "outputs": [
        {
         "data": {
          "text/html": "<h2>DFS Placement Data</h2>",
          "text/plain": "<IPython.core.display.HTML object>"
         },
         "metadata": {},
         "output_type": "display_data"
        },
        {
         "name": "stdout",
         "output_type": "stream",
         "text": "Afcars Data\n"
        },
        {
         "data": {
          "text/html": "<table border=\"1\" class=\"dataframe\">\n  <thead>\n    <tr style=\"text-align: right;\">\n      <th></th>\n      <th></th>\n      <th>CHINS</th>\n      <th>DE</th>\n    </tr>\n    <tr>\n      <th>COUNTY</th>\n      <th>YEAR</th>\n      <th></th>\n      <th></th>\n    </tr>\n  </thead>\n  <tbody>\n    <tr>\n      <th rowspan=\"3\" valign=\"top\">Sublette</th>\n      <th>2013</th>\n      <td>6</td>\n      <td>4</td>\n    </tr>\n    <tr>\n      <th>2014</th>\n      <td>2</td>\n      <td>4</td>\n    </tr>\n    <tr>\n      <th>2015</th>\n      <td>1</td>\n      <td>3</td>\n    </tr>\n  </tbody>\n</table>",
          "text/plain": "<IPython.core.display.HTML object>"
         },
         "metadata": {},
         "output_type": "display_data"
        },
        {
         "name": "stdout",
         "output_type": "stream",
         "text": "By County\n"
        },
        {
         "data": {
          "text/html": "<table border=\"1\" class=\"dataframe\">\n  <thead>\n    <tr style=\"text-align: right;\">\n      <th></th>\n      <th></th>\n      <th>CHINS</th>\n      <th>DE</th>\n    </tr>\n    <tr>\n      <th>COUNTY</th>\n      <th>YEAR</th>\n      <th></th>\n      <th></th>\n    </tr>\n  </thead>\n  <tbody>\n    <tr>\n      <th rowspan=\"3\" valign=\"top\">Sublette</th>\n      <th>2013</th>\n      <td>9.0</td>\n      <td>13</td>\n    </tr>\n    <tr>\n      <th>2014</th>\n      <td>15.0</td>\n      <td>11</td>\n    </tr>\n    <tr>\n      <th>2015</th>\n      <td>3.0</td>\n      <td>9</td>\n    </tr>\n  </tbody>\n</table>",
          "text/plain": "<IPython.core.display.HTML object>"
         },
         "metadata": {},
         "output_type": "display_data"
        }
       ]
      }
     },
     "0ccd90b84ed04def81dd5bbd48793ba8": {
      "model_module": "@jupyter-widgets/controls",
      "model_module_version": "1.2.0",
      "model_name": "SliderStyleModel",
      "state": {
       "description_width": ""
      }
     },
     "1c600317fd1f4d08ab846b2c2ceed5d2": {
      "model_module": "@jupyter-widgets/base",
      "model_module_version": "1.0.0",
      "model_name": "LayoutModel",
      "state": {}
     },
     "22597ec4e3de472e84eb3326ce5352e7": {
      "model_module": "@jupyter-widgets/controls",
      "model_module_version": "1.2.0",
      "model_name": "VBoxModel",
      "state": {
       "children": [
        "IPY_MODEL_6e24123828384783851afb9df2dd899a",
        "IPY_MODEL_7f13df0035b44f5e8ef506da5a280ce2",
        "IPY_MODEL_9e25b3280cf14343bea0b23f09bb529a",
        "IPY_MODEL_f4365071e0324f83b15761a7563abaed"
       ],
       "layout": "IPY_MODEL_49b0fb8d199743f5ba56fc010e0cf690"
      }
     },
     "286ece058a8b421e84b4b701412c3df5": {
      "model_module": "@jupyter-widgets/base",
      "model_module_version": "1.0.0",
      "model_name": "LayoutModel",
      "state": {}
     },
     "2d8f807895574cb0b188d216961dccdf": {
      "model_module": "@jupyter-widgets/controls",
      "model_module_version": "1.2.0",
      "model_name": "IntRangeSliderModel",
      "state": {
       "_model_name": "IntRangeSliderModel",
       "_view_name": "IntRangeSliderView",
       "layout": "IPY_MODEL_4ccfc06e91634bbca5dfca528c149055",
       "max": 2017,
       "min": 2012,
       "style": "IPY_MODEL_76aa31458e1447a2bd803dd6f265f93d",
       "value": [
        2013,
        2015
       ]
      }
     },
     "3596f1157f50468cb6d7ef9f0adf3d68": {
      "model_module": "@jupyter-widgets/controls",
      "model_module_version": "1.2.0",
      "model_name": "DescriptionStyleModel",
      "state": {
       "description_width": ""
      }
     },
     "3c7549aa4fee44aa98acd19e12cba007": {
      "model_module": "@jupyter-widgets/base",
      "model_module_version": "1.0.0",
      "model_name": "LayoutModel",
      "state": {}
     },
     "3d753131022a4565b9f41172a85d8774": {
      "model_module": "@jupyter-widgets/base",
      "model_module_version": "1.0.0",
      "model_name": "LayoutModel",
      "state": {}
     },
     "414fed226284457a921ff2cf84a7c9d4": {
      "model_module": "@jupyter-widgets/controls",
      "model_module_version": "1.2.0",
      "model_name": "DropdownModel",
      "state": {
       "_options_labels": [
        "Sublette",
        "Albany",
        "Natrona",
        "Fremont",
        "Sheridan",
        "Laramie",
        "Teton",
        "Washakie",
        "Converse",
        "Park",
        "Hot Springs",
        "Carbon",
        "Platte",
        "Lincoln",
        "Johnson",
        "Big Horn",
        "Goshen",
        "Sweetwater",
        "Weston",
        "Crook",
        "Uinta",
        "Campbell",
        "Niobrara"
       ],
       "description": "County:",
       "index": 0,
       "layout": "IPY_MODEL_db93b44db9354abe8188a8bb6fd0e392",
       "style": "IPY_MODEL_a71e152b97334f16839de11d56630b16"
      }
     },
     "41614febb566474d880ba73ad5253226": {
      "model_module": "@jupyter-widgets/base",
      "model_module_version": "1.0.0",
      "model_name": "LayoutModel",
      "state": {}
     },
     "48b51878f8fe4bd3a3e3137a9405b034": {
      "model_module": "@jupyter-widgets/base",
      "model_module_version": "1.0.0",
      "model_name": "LayoutModel",
      "state": {}
     },
     "4987863dd67740baaf77ec3d9c2b88ea": {
      "model_module": "@jupyter-widgets/base",
      "model_module_version": "1.0.0",
      "model_name": "LayoutModel",
      "state": {}
     },
     "49b0fb8d199743f5ba56fc010e0cf690": {
      "model_module": "@jupyter-widgets/base",
      "model_module_version": "1.0.0",
      "model_name": "LayoutModel",
      "state": {}
     },
     "4ccfc06e91634bbca5dfca528c149055": {
      "model_module": "@jupyter-widgets/base",
      "model_module_version": "1.0.0",
      "model_name": "LayoutModel",
      "state": {}
     },
     "57ad04ddf7964087be2f22e1ec454b5b": {
      "model_module": "@jupyter-widgets/base",
      "model_module_version": "1.0.0",
      "model_name": "LayoutModel",
      "state": {}
     },
     "5a77b1b711f7429d8ae62fe4eccb35ab": {
      "model_module": "@jupyter-widgets/base",
      "model_module_version": "1.0.0",
      "model_name": "LayoutModel",
      "state": {}
     },
     "5f90f86c0b8f4b94a4a001ccd91af71e": {
      "model_module": "@jupyter-widgets/controls",
      "model_module_version": "1.2.0",
      "model_name": "DropdownModel",
      "state": {
       "_options_labels": [
        "Sublette",
        "Albany",
        "Natrona",
        "Fremont",
        "Sheridan",
        "Laramie",
        "Teton",
        "Washakie",
        "Converse",
        "Park",
        "Hot Springs",
        "Carbon",
        "Platte",
        "Lincoln",
        "Johnson",
        "Big Horn",
        "Goshen",
        "Sweetwater",
        "Weston",
        "Crook",
        "Uinta",
        "Campbell",
        "Niobrara"
       ],
       "description": "County:",
       "index": 0,
       "layout": "IPY_MODEL_48b51878f8fe4bd3a3e3137a9405b034",
       "style": "IPY_MODEL_3596f1157f50468cb6d7ef9f0adf3d68"
      }
     },
     "645db67a532741c0abfe610c8eccded2": {
      "model_module": "@jupyter-widgets/base",
      "model_module_version": "1.0.0",
      "model_name": "LayoutModel",
      "state": {}
     },
     "64c4ed3f942c495896a27c99d4c48720": {
      "model_module": "@jupyter-widgets/output",
      "model_module_version": "1.0.0",
      "model_name": "OutputModel",
      "state": {
       "layout": "IPY_MODEL_a671818fcc7c403dacefcfa80ef1f4f1",
       "outputs": [
        {
         "data": {
          "text/html": "<h2>ORI Arrests Data</h2>",
          "text/plain": "<IPython.core.display.HTML object>"
         },
         "metadata": {},
         "output_type": "display_data"
        },
        {
         "data": {
          "text/html": "<table border=\"1\" class=\"dataframe\">\n  <thead>\n    <tr style=\"text-align: right;\">\n      <th></th>\n      <th></th>\n      <th>Manslaughter</th>\n      <th>Rape</th>\n      <th>Robbery</th>\n      <th>Aggravated-Assault</th>\n    </tr>\n    <tr>\n      <th>County</th>\n      <th>Year</th>\n      <th></th>\n      <th></th>\n      <th></th>\n      <th></th>\n    </tr>\n  </thead>\n  <tbody>\n    <tr>\n      <th rowspan=\"3\" valign=\"top\">Sublette</th>\n      <th>2013</th>\n      <td>0</td>\n      <td>0</td>\n      <td>0</td>\n      <td>0</td>\n    </tr>\n    <tr>\n      <th>2014</th>\n      <td>0</td>\n      <td>0</td>\n      <td>0</td>\n      <td>0</td>\n    </tr>\n    <tr>\n      <th>2015</th>\n      <td>0</td>\n      <td>0</td>\n      <td>0</td>\n      <td>0</td>\n    </tr>\n  </tbody>\n</table>",
          "text/plain": "<IPython.core.display.HTML object>"
         },
         "metadata": {},
         "output_type": "display_data"
        }
       ]
      }
     },
     "64fe5458c3cd49e191cc60b1e4098deb": {
      "model_module": "@jupyter-widgets/output",
      "model_module_version": "1.0.0",
      "model_name": "OutputModel",
      "state": {
       "layout": "IPY_MODEL_b3f7cd432bfb4b93ba78e8366d44446e",
       "outputs": [
        {
         "data": {
          "text/html": "<hr><h2>DFS Placement Data</h2>",
          "text/plain": "<IPython.core.display.HTML object>"
         },
         "metadata": {},
         "output_type": "display_data"
        },
        {
         "name": "stdout",
         "output_type": "stream",
         "text": "Afcars Data\n"
        },
        {
         "data": {
          "text/html": "<table border=\"1\" class=\"dataframe\">\n  <thead>\n    <tr style=\"text-align: right;\">\n      <th></th>\n      <th></th>\n      <th>CHINS</th>\n      <th>DE</th>\n    </tr>\n    <tr>\n      <th>COUNTY</th>\n      <th>YEAR</th>\n      <th></th>\n      <th></th>\n    </tr>\n  </thead>\n  <tbody>\n    <tr>\n      <th rowspan=\"3\" valign=\"top\">Sublette</th>\n      <th>2013</th>\n      <td>6</td>\n      <td>4</td>\n    </tr>\n    <tr>\n      <th>2014</th>\n      <td>2</td>\n      <td>4</td>\n    </tr>\n    <tr>\n      <th>2015</th>\n      <td>1</td>\n      <td>3</td>\n    </tr>\n  </tbody>\n</table>",
          "text/plain": "<IPython.core.display.HTML object>"
         },
         "metadata": {},
         "output_type": "display_data"
        },
        {
         "name": "stdout",
         "output_type": "stream",
         "text": "By County\n"
        },
        {
         "data": {
          "text/html": "<table border=\"1\" class=\"dataframe\">\n  <thead>\n    <tr style=\"text-align: right;\">\n      <th></th>\n      <th></th>\n      <th>CHINS</th>\n      <th>DE</th>\n    </tr>\n    <tr>\n      <th>COUNTY</th>\n      <th>YEAR</th>\n      <th></th>\n      <th></th>\n    </tr>\n  </thead>\n  <tbody>\n    <tr>\n      <th rowspan=\"3\" valign=\"top\">Sublette</th>\n      <th>2013</th>\n      <td>9.0</td>\n      <td>13</td>\n    </tr>\n    <tr>\n      <th>2014</th>\n      <td>15.0</td>\n      <td>11</td>\n    </tr>\n    <tr>\n      <th>2015</th>\n      <td>3.0</td>\n      <td>9</td>\n    </tr>\n  </tbody>\n</table>",
          "text/plain": "<IPython.core.display.HTML object>"
         },
         "metadata": {},
         "output_type": "display_data"
        }
       ]
      }
     },
     "682acc6fc35b46fdb64b0e75d552b8c7": {
      "model_module": "@jupyter-widgets/base",
      "model_module_version": "1.0.0",
      "model_name": "LayoutModel",
      "state": {}
     },
     "6bbe7c516b7e46dc8b7933734e617e5d": {
      "model_module": "@jupyter-widgets/controls",
      "model_module_version": "1.2.0",
      "model_name": "HBoxModel",
      "state": {
       "children": [
        "IPY_MODEL_e8dbc7953ae54da0955da214c7260593",
        "IPY_MODEL_2d8f807895574cb0b188d216961dccdf"
       ],
       "layout": "IPY_MODEL_8744c7db8aa5487d977a12c31bcf7e41"
      }
     },
     "6de8da1594cb43afb3b88f8aac1d3078": {
      "model_module": "@jupyter-widgets/controls",
      "model_module_version": "1.2.0",
      "model_name": "SliderStyleModel",
      "state": {
       "description_width": ""
      }
     },
     "6e24123828384783851afb9df2dd899a": {
      "model_module": "@jupyter-widgets/controls",
      "model_module_version": "1.2.0",
      "model_name": "HBoxModel",
      "state": {
       "children": [
        "IPY_MODEL_414fed226284457a921ff2cf84a7c9d4",
        "IPY_MODEL_bb8c9f4d18574ff9aeb73341ddd1a008"
       ],
       "layout": "IPY_MODEL_4987863dd67740baaf77ec3d9c2b88ea"
      }
     },
     "76aa31458e1447a2bd803dd6f265f93d": {
      "model_module": "@jupyter-widgets/controls",
      "model_module_version": "1.2.0",
      "model_name": "SliderStyleModel",
      "state": {
       "description_width": ""
      }
     },
     "78afe04d391f4eb7b61acd81b0058bf2": {
      "model_module": "@jupyter-widgets/controls",
      "model_module_version": "1.2.0",
      "model_name": "VBoxModel",
      "state": {
       "children": [
        "IPY_MODEL_c444b999c991482da61c93d44b9bad6a",
        "IPY_MODEL_64fe5458c3cd49e191cc60b1e4098deb",
        "IPY_MODEL_f319211b5b3e4647a642dbcb1f00ea34",
        "IPY_MODEL_03a5fdadf1d845bbb395097bc2c88ddf"
       ],
       "layout": "IPY_MODEL_f9a1c9835de942d4aca8a236b01725ee"
      }
     },
     "7cc82d8f1c5549b7b341c3a1632b044e": {
      "model_module": "@jupyter-widgets/controls",
      "model_module_version": "1.2.0",
      "model_name": "VBoxModel",
      "state": {
       "children": [
        "IPY_MODEL_b55b880ab7e240d4950a9b58ef46f9c7",
        "IPY_MODEL_05653583088e4d258ffaf0cfc770bdd8",
        "IPY_MODEL_ce5797e198584631a6e6aa877194066b",
        "IPY_MODEL_f556adf1deca43048df6b663249cf866"
       ],
       "layout": "IPY_MODEL_5a77b1b711f7429d8ae62fe4eccb35ab"
      }
     },
     "7f13df0035b44f5e8ef506da5a280ce2": {
      "model_module": "@jupyter-widgets/output",
      "model_module_version": "1.0.0",
      "model_name": "OutputModel",
      "state": {
       "layout": "IPY_MODEL_682acc6fc35b46fdb64b0e75d552b8c7",
       "outputs": [
        {
         "name": "stdout",
         "output_type": "stream",
         "text": "Afcars Data\n"
        },
        {
         "data": {
          "text/html": "<table border=\"1\" class=\"dataframe\">\n  <thead>\n    <tr style=\"text-align: right;\">\n      <th></th>\n      <th></th>\n      <th>CHINS</th>\n      <th>DE</th>\n    </tr>\n    <tr>\n      <th>COUNTY</th>\n      <th>YEAR</th>\n      <th></th>\n      <th></th>\n    </tr>\n  </thead>\n  <tbody>\n    <tr>\n      <th rowspan=\"3\" valign=\"top\">Sublette</th>\n      <th>2013</th>\n      <td>6</td>\n      <td>4</td>\n    </tr>\n    <tr>\n      <th>2014</th>\n      <td>2</td>\n      <td>4</td>\n    </tr>\n    <tr>\n      <th>2015</th>\n      <td>1</td>\n      <td>3</td>\n    </tr>\n  </tbody>\n</table>",
          "text/plain": "<IPython.core.display.HTML object>"
         },
         "metadata": {},
         "output_type": "display_data"
        },
        {
         "name": "stdout",
         "output_type": "stream",
         "text": "By County\n"
        },
        {
         "data": {
          "text/html": "<table border=\"1\" class=\"dataframe\">\n  <thead>\n    <tr style=\"text-align: right;\">\n      <th></th>\n      <th></th>\n      <th>CHINS</th>\n      <th>DE</th>\n    </tr>\n    <tr>\n      <th>COUNTY</th>\n      <th>YEAR</th>\n      <th></th>\n      <th></th>\n    </tr>\n  </thead>\n  <tbody>\n    <tr>\n      <th rowspan=\"3\" valign=\"top\">Sublette</th>\n      <th>2013</th>\n      <td>9.0</td>\n      <td>13</td>\n    </tr>\n    <tr>\n      <th>2014</th>\n      <td>15.0</td>\n      <td>11</td>\n    </tr>\n    <tr>\n      <th>2015</th>\n      <td>3.0</td>\n      <td>9</td>\n    </tr>\n  </tbody>\n</table>",
          "text/plain": "<IPython.core.display.HTML object>"
         },
         "metadata": {},
         "output_type": "display_data"
        }
       ]
      }
     },
     "813d2829c1d54f2f9189335773dad1f4": {
      "model_module": "@jupyter-widgets/base",
      "model_module_version": "1.0.0",
      "model_name": "LayoutModel",
      "state": {}
     },
     "81d0e6eb076b434982861b550cd32b64": {
      "model_module": "@jupyter-widgets/base",
      "model_module_version": "1.0.0",
      "model_name": "LayoutModel",
      "state": {}
     },
     "8744c7db8aa5487d977a12c31bcf7e41": {
      "model_module": "@jupyter-widgets/base",
      "model_module_version": "1.0.0",
      "model_name": "LayoutModel",
      "state": {}
     },
     "88958cca988f4363b63ee854ebb55837": {
      "model_module": "@jupyter-widgets/base",
      "model_module_version": "1.0.0",
      "model_name": "LayoutModel",
      "state": {}
     },
     "8fbdd9ee4ba2409e93bd1cab62e84b66": {
      "model_module": "@jupyter-widgets/base",
      "model_module_version": "1.0.0",
      "model_name": "LayoutModel",
      "state": {}
     },
     "93559ba7b671404b9942f6731748176c": {
      "model_module": "@jupyter-widgets/output",
      "model_module_version": "1.0.0",
      "model_name": "OutputModel",
      "state": {
       "layout": "IPY_MODEL_9f9918a83a7c4179905538fc84669dcb",
       "outputs": [
        {
         "data": {
          "text/html": "<h2>Educational Infraction Data</h2>",
          "text/plain": "<IPython.core.display.HTML object>"
         },
         "metadata": {},
         "output_type": "display_data"
        },
        {
         "data": {
          "text/html": "<table border=\"1\" class=\"dataframe\">\n  <thead>\n    <tr style=\"text-align: right;\">\n      <th></th>\n      <th></th>\n      <th></th>\n      <th>DISTRICT_ID</th>\n      <th>DISTRICT_NAME</th>\n      <th>Expulsion - Services not provided</th>\n      <th>Expulsion - Services provided</th>\n      <th>In school suspension</th>\n      <th>Out of school suspension</th>\n    </tr>\n    <tr>\n      <th>county</th>\n      <th>Beginning Year</th>\n      <th>End Year</th>\n      <th></th>\n      <th></th>\n      <th></th>\n      <th></th>\n      <th></th>\n      <th></th>\n    </tr>\n  </thead>\n  <tbody>\n    <tr>\n      <th rowspan=\"4\" valign=\"top\">Sublette</th>\n      <th rowspan=\"2\" valign=\"top\">2013</th>\n      <th>2014</th>\n      <td>1801000</td>\n      <td>Sublette #1</td>\n      <td>NaN</td>\n      <td>NaN</td>\n      <td>64.0</td>\n      <td>41.0</td>\n    </tr>\n    <tr>\n      <th>2014</th>\n      <td>1809000</td>\n      <td>Sublette #9</td>\n      <td>NaN</td>\n      <td>NaN</td>\n      <td>71.0</td>\n      <td>43.0</td>\n    </tr>\n    <tr>\n      <th rowspan=\"2\" valign=\"top\">2014</th>\n      <th>2015</th>\n      <td>1801000</td>\n      <td>Sublette #1</td>\n      <td>NaN</td>\n      <td>37.0</td>\n      <td>56.0</td>\n      <td>NaN</td>\n    </tr>\n    <tr>\n      <th>2015</th>\n      <td>1809000</td>\n      <td>Sublette #9</td>\n      <td>NaN</td>\n      <td>53.0</td>\n      <td>26.0</td>\n      <td>NaN</td>\n    </tr>\n  </tbody>\n</table>",
          "text/plain": "<IPython.core.display.HTML object>"
         },
         "metadata": {},
         "output_type": "display_data"
        }
       ]
      }
     },
     "9c7da54d84b3446994177066ff4d27bc": {
      "model_module": "@jupyter-widgets/controls",
      "model_module_version": "1.2.0",
      "model_name": "DescriptionStyleModel",
      "state": {
       "description_width": ""
      }
     },
     "9e25b3280cf14343bea0b23f09bb529a": {
      "model_module": "@jupyter-widgets/output",
      "model_module_version": "1.0.0",
      "model_name": "OutputModel",
      "state": {
       "layout": "IPY_MODEL_8fbdd9ee4ba2409e93bd1cab62e84b66",
       "outputs": [
        {
         "data": {
          "text/html": "<table border=\"1\" class=\"dataframe\">\n  <thead>\n    <tr style=\"text-align: right;\">\n      <th></th>\n      <th></th>\n      <th>Manslaughter</th>\n      <th>Rape</th>\n      <th>Robbery</th>\n      <th>Aggravated-Assault</th>\n      <th>Burglary</th>\n      <th>Larceny-Theft</th>\n      <th>Motor-Vehicle-Theft</th>\n      <th>Arson</th>\n      <th>Other-Assaults</th>\n      <th>Forgery-Counterfeiting</th>\n      <th>Fraud</th>\n      <th>Embezzlement</th>\n      <th>Stolen-Property</th>\n      <th>Vandalism</th>\n      <th>Weapons</th>\n      <th>Prostitution</th>\n      <th>Sex-Offenses</th>\n      <th>Drug-Abuse-Violations</th>\n      <th>Drug-Abuse-Violations-Possession</th>\n      <th>Gambling-Offenses</th>\n      <th>Offenses-Against-Family-Children</th>\n      <th>Driving-Under-the-Influence</th>\n      <th>Liquor-Laws</th>\n      <th>Drunkenness</th>\n      <th>Disorderly-Conduct</th>\n      <th>All-Other-Offenses-Except-Traffic</th>\n      <th>Suspicion</th>\n      <th>Curfew-Loitering-Law-Violations</th>\n      <th>Run-a-ways</th>\n      <th>Vagrancy</th>\n    </tr>\n    <tr>\n      <th>County</th>\n      <th>Year</th>\n      <th></th>\n      <th></th>\n      <th></th>\n      <th></th>\n      <th></th>\n      <th></th>\n      <th></th>\n      <th></th>\n      <th></th>\n      <th></th>\n      <th></th>\n      <th></th>\n      <th></th>\n      <th></th>\n      <th></th>\n      <th></th>\n      <th></th>\n      <th></th>\n      <th></th>\n      <th></th>\n      <th></th>\n      <th></th>\n      <th></th>\n      <th></th>\n      <th></th>\n      <th></th>\n      <th></th>\n      <th></th>\n      <th></th>\n      <th></th>\n    </tr>\n  </thead>\n  <tbody>\n    <tr>\n      <th rowspan=\"3\" valign=\"top\">Sublette</th>\n      <th>2013</th>\n      <td>0</td>\n      <td>0</td>\n      <td>0</td>\n      <td>0</td>\n      <td>1</td>\n      <td>2</td>\n      <td>0</td>\n      <td>0</td>\n      <td>4</td>\n      <td>0</td>\n      <td>0</td>\n      <td>0</td>\n      <td>0</td>\n      <td>0</td>\n      <td>0</td>\n      <td>0</td>\n      <td>0</td>\n      <td>0</td>\n      <td>3</td>\n      <td>0</td>\n      <td>0</td>\n      <td>0</td>\n      <td>7</td>\n      <td>0</td>\n      <td>0</td>\n      <td>13</td>\n      <td>0</td>\n      <td>0</td>\n      <td>1</td>\n      <td>0</td>\n    </tr>\n    <tr>\n      <th>2014</th>\n      <td>0</td>\n      <td>0</td>\n      <td>0</td>\n      <td>0</td>\n      <td>0</td>\n      <td>2</td>\n      <td>0</td>\n      <td>0</td>\n      <td>1</td>\n      <td>0</td>\n      <td>0</td>\n      <td>0</td>\n      <td>0</td>\n      <td>1</td>\n      <td>0</td>\n      <td>0</td>\n      <td>0</td>\n      <td>0</td>\n      <td>4</td>\n      <td>0</td>\n      <td>0</td>\n      <td>0</td>\n      <td>7</td>\n      <td>0</td>\n      <td>2</td>\n      <td>7</td>\n      <td>0</td>\n      <td>1</td>\n      <td>1</td>\n      <td>0</td>\n    </tr>\n    <tr>\n      <th>2015</th>\n      <td>0</td>\n      <td>0</td>\n      <td>0</td>\n      <td>0</td>\n      <td>0</td>\n      <td>0</td>\n      <td>0</td>\n      <td>0</td>\n      <td>0</td>\n      <td>0</td>\n      <td>0</td>\n      <td>0</td>\n      <td>0</td>\n      <td>0</td>\n      <td>0</td>\n      <td>0</td>\n      <td>0</td>\n      <td>2</td>\n      <td>3</td>\n      <td>0</td>\n      <td>0</td>\n      <td>0</td>\n      <td>2</td>\n      <td>2</td>\n      <td>0</td>\n      <td>5</td>\n      <td>0</td>\n      <td>0</td>\n      <td>0</td>\n      <td>0</td>\n    </tr>\n  </tbody>\n</table>",
          "text/plain": "<IPython.core.display.HTML object>"
         },
         "metadata": {},
         "output_type": "display_data"
        }
       ]
      }
     },
     "9e476c531a094fd894707db6473c7811": {
      "model_module": "@jupyter-widgets/base",
      "model_module_version": "1.0.0",
      "model_name": "LayoutModel",
      "state": {}
     },
     "9f9918a83a7c4179905538fc84669dcb": {
      "model_module": "@jupyter-widgets/base",
      "model_module_version": "1.0.0",
      "model_name": "LayoutModel",
      "state": {}
     },
     "a0b21e387a544703a65b5100f4812874": {
      "model_module": "@jupyter-widgets/controls",
      "model_module_version": "1.2.0",
      "model_name": "IntRangeSliderModel",
      "state": {
       "_model_name": "IntRangeSliderModel",
       "_view_name": "IntRangeSliderView",
       "layout": "IPY_MODEL_1c600317fd1f4d08ab846b2c2ceed5d2",
       "max": 2017,
       "min": 2012,
       "style": "IPY_MODEL_db6c7c2dd7c24ecb81a950ceed494704",
       "value": [
        2013,
        2015
       ]
      }
     },
     "a671818fcc7c403dacefcfa80ef1f4f1": {
      "model_module": "@jupyter-widgets/base",
      "model_module_version": "1.0.0",
      "model_name": "LayoutModel",
      "state": {}
     },
     "a71e152b97334f16839de11d56630b16": {
      "model_module": "@jupyter-widgets/controls",
      "model_module_version": "1.2.0",
      "model_name": "DescriptionStyleModel",
      "state": {
       "description_width": ""
      }
     },
     "adf8a4fc6169410199c04c15defece2d": {
      "model_module": "@jupyter-widgets/base",
      "model_module_version": "1.0.0",
      "model_name": "LayoutModel",
      "state": {}
     },
     "b36d648fcd924c769c9cfb32065f4ebe": {
      "model_module": "@jupyter-widgets/base",
      "model_module_version": "1.0.0",
      "model_name": "LayoutModel",
      "state": {}
     },
     "b385278eb22b43c0990bb0a0879e39ea": {
      "model_module": "@jupyter-widgets/controls",
      "model_module_version": "1.2.0",
      "model_name": "VBoxModel",
      "state": {
       "children": [
        "IPY_MODEL_6bbe7c516b7e46dc8b7933734e617e5d",
        "IPY_MODEL_b9794f04981d45a681e6d72366d28ebf",
        "IPY_MODEL_64c4ed3f942c495896a27c99d4c48720",
        "IPY_MODEL_93559ba7b671404b9942f6731748176c"
       ],
       "layout": "IPY_MODEL_3d753131022a4565b9f41172a85d8774"
      }
     },
     "b3f7cd432bfb4b93ba78e8366d44446e": {
      "model_module": "@jupyter-widgets/base",
      "model_module_version": "1.0.0",
      "model_name": "LayoutModel",
      "state": {}
     },
     "b55b880ab7e240d4950a9b58ef46f9c7": {
      "model_module": "@jupyter-widgets/controls",
      "model_module_version": "1.2.0",
      "model_name": "HBoxModel",
      "state": {
       "children": [
        "IPY_MODEL_5f90f86c0b8f4b94a4a001ccd91af71e",
        "IPY_MODEL_fce59ad10594441fb322bbeb9ecfc3c2"
       ],
       "layout": "IPY_MODEL_645db67a532741c0abfe610c8eccded2"
      }
     },
     "b9794f04981d45a681e6d72366d28ebf": {
      "model_module": "@jupyter-widgets/output",
      "model_module_version": "1.0.0",
      "model_name": "OutputModel",
      "state": {
       "layout": "IPY_MODEL_adf8a4fc6169410199c04c15defece2d",
       "outputs": [
        {
         "data": {
          "text/html": "<h2>DFS Placement Data</h2>",
          "text/plain": "<IPython.core.display.HTML object>"
         },
         "metadata": {},
         "output_type": "display_data"
        },
        {
         "name": "stdout",
         "output_type": "stream",
         "text": "Afcars Data\n"
        },
        {
         "data": {
          "text/html": "<table border=\"1\" class=\"dataframe\">\n  <thead>\n    <tr style=\"text-align: right;\">\n      <th></th>\n      <th></th>\n      <th>CHINS</th>\n      <th>DE</th>\n    </tr>\n    <tr>\n      <th>COUNTY</th>\n      <th>YEAR</th>\n      <th></th>\n      <th></th>\n    </tr>\n  </thead>\n  <tbody>\n    <tr>\n      <th rowspan=\"3\" valign=\"top\">Sublette</th>\n      <th>2013</th>\n      <td>6</td>\n      <td>4</td>\n    </tr>\n    <tr>\n      <th>2014</th>\n      <td>2</td>\n      <td>4</td>\n    </tr>\n    <tr>\n      <th>2015</th>\n      <td>1</td>\n      <td>3</td>\n    </tr>\n  </tbody>\n</table>",
          "text/plain": "<IPython.core.display.HTML object>"
         },
         "metadata": {},
         "output_type": "display_data"
        },
        {
         "name": "stdout",
         "output_type": "stream",
         "text": "By County\n"
        },
        {
         "data": {
          "text/html": "<table border=\"1\" class=\"dataframe\">\n  <thead>\n    <tr style=\"text-align: right;\">\n      <th></th>\n      <th></th>\n      <th>CHINS</th>\n      <th>DE</th>\n    </tr>\n    <tr>\n      <th>COUNTY</th>\n      <th>YEAR</th>\n      <th></th>\n      <th></th>\n    </tr>\n  </thead>\n  <tbody>\n    <tr>\n      <th rowspan=\"3\" valign=\"top\">Sublette</th>\n      <th>2013</th>\n      <td>9.0</td>\n      <td>13</td>\n    </tr>\n    <tr>\n      <th>2014</th>\n      <td>15.0</td>\n      <td>11</td>\n    </tr>\n    <tr>\n      <th>2015</th>\n      <td>3.0</td>\n      <td>9</td>\n    </tr>\n  </tbody>\n</table>",
          "text/plain": "<IPython.core.display.HTML object>"
         },
         "metadata": {},
         "output_type": "display_data"
        }
       ]
      }
     },
     "baaa59e5ec9447b6bfd8e366d626c158": {
      "model_module": "@jupyter-widgets/base",
      "model_module_version": "1.0.0",
      "model_name": "LayoutModel",
      "state": {}
     },
     "bb8c9f4d18574ff9aeb73341ddd1a008": {
      "model_module": "@jupyter-widgets/controls",
      "model_module_version": "1.2.0",
      "model_name": "IntRangeSliderModel",
      "state": {
       "_model_name": "IntRangeSliderModel",
       "_view_name": "IntRangeSliderView",
       "layout": "IPY_MODEL_81d0e6eb076b434982861b550cd32b64",
       "max": 2017,
       "min": 2012,
       "style": "IPY_MODEL_6de8da1594cb43afb3b88f8aac1d3078",
       "value": [
        2013,
        2015
       ]
      }
     },
     "c444b999c991482da61c93d44b9bad6a": {
      "model_module": "@jupyter-widgets/controls",
      "model_module_version": "1.2.0",
      "model_name": "HBoxModel",
      "state": {
       "children": [
        "IPY_MODEL_d83c975dac9949d990cb473e9eb9d81d",
        "IPY_MODEL_a0b21e387a544703a65b5100f4812874"
       ],
       "layout": "IPY_MODEL_b36d648fcd924c769c9cfb32065f4ebe"
      }
     },
     "ce5797e198584631a6e6aa877194066b": {
      "model_module": "@jupyter-widgets/output",
      "model_module_version": "1.0.0",
      "model_name": "OutputModel",
      "state": {
       "layout": "IPY_MODEL_286ece058a8b421e84b4b701412c3df5",
       "outputs": [
        {
         "data": {
          "text/html": "<h2>ORI Arrests Data</h2>",
          "text/plain": "<IPython.core.display.HTML object>"
         },
         "metadata": {},
         "output_type": "display_data"
        },
        {
         "data": {
          "text/html": "<table border=\"1\" class=\"dataframe\">\n  <thead>\n    <tr style=\"text-align: right;\">\n      <th></th>\n      <th></th>\n      <th>Manslaughter</th>\n      <th>Rape</th>\n      <th>Robbery</th>\n      <th>Aggravated-Assault</th>\n    </tr>\n    <tr>\n      <th>County</th>\n      <th>Year</th>\n      <th></th>\n      <th></th>\n      <th></th>\n      <th></th>\n    </tr>\n  </thead>\n  <tbody>\n    <tr>\n      <th rowspan=\"3\" valign=\"top\">Sublette</th>\n      <th>2013</th>\n      <td>0</td>\n      <td>0</td>\n      <td>0</td>\n      <td>0</td>\n    </tr>\n    <tr>\n      <th>2014</th>\n      <td>0</td>\n      <td>0</td>\n      <td>0</td>\n      <td>0</td>\n    </tr>\n    <tr>\n      <th>2015</th>\n      <td>0</td>\n      <td>0</td>\n      <td>0</td>\n      <td>0</td>\n    </tr>\n  </tbody>\n</table>",
          "text/plain": "<IPython.core.display.HTML object>"
         },
         "metadata": {},
         "output_type": "display_data"
        }
       ]
      }
     },
     "d83c975dac9949d990cb473e9eb9d81d": {
      "model_module": "@jupyter-widgets/controls",
      "model_module_version": "1.2.0",
      "model_name": "DropdownModel",
      "state": {
       "_options_labels": [
        "Sublette",
        "Albany",
        "Natrona",
        "Fremont",
        "Sheridan",
        "Laramie",
        "Teton",
        "Washakie",
        "Converse",
        "Park",
        "Hot Springs",
        "Carbon",
        "Platte",
        "Lincoln",
        "Johnson",
        "Big Horn",
        "Goshen",
        "Sweetwater",
        "Weston",
        "Crook",
        "Uinta",
        "Campbell",
        "Niobrara"
       ],
       "description": "County:",
       "index": 0,
       "layout": "IPY_MODEL_41614febb566474d880ba73ad5253226",
       "style": "IPY_MODEL_9c7da54d84b3446994177066ff4d27bc"
      }
     },
     "db6c7c2dd7c24ecb81a950ceed494704": {
      "model_module": "@jupyter-widgets/controls",
      "model_module_version": "1.2.0",
      "model_name": "SliderStyleModel",
      "state": {
       "description_width": ""
      }
     },
     "db93b44db9354abe8188a8bb6fd0e392": {
      "model_module": "@jupyter-widgets/base",
      "model_module_version": "1.0.0",
      "model_name": "LayoutModel",
      "state": {}
     },
     "e8dbc7953ae54da0955da214c7260593": {
      "model_module": "@jupyter-widgets/controls",
      "model_module_version": "1.2.0",
      "model_name": "DropdownModel",
      "state": {
       "_options_labels": [
        "Sublette",
        "Albany",
        "Natrona",
        "Fremont",
        "Sheridan",
        "Laramie",
        "Teton",
        "Washakie",
        "Converse",
        "Park",
        "Hot Springs",
        "Carbon",
        "Platte",
        "Lincoln",
        "Johnson",
        "Big Horn",
        "Goshen",
        "Sweetwater",
        "Weston",
        "Crook",
        "Uinta",
        "Campbell",
        "Niobrara"
       ],
       "description": "County:",
       "index": 0,
       "layout": "IPY_MODEL_ea9560b9ba2742039f35052853ce4398",
       "style": "IPY_MODEL_ee771f98ece643f9a34dce05b8c67b68"
      }
     },
     "ea9560b9ba2742039f35052853ce4398": {
      "model_module": "@jupyter-widgets/base",
      "model_module_version": "1.0.0",
      "model_name": "LayoutModel",
      "state": {}
     },
     "ee771f98ece643f9a34dce05b8c67b68": {
      "model_module": "@jupyter-widgets/controls",
      "model_module_version": "1.2.0",
      "model_name": "DescriptionStyleModel",
      "state": {
       "description_width": ""
      }
     },
     "f319211b5b3e4647a642dbcb1f00ea34": {
      "model_module": "@jupyter-widgets/output",
      "model_module_version": "1.0.0",
      "model_name": "OutputModel",
      "state": {
       "layout": "IPY_MODEL_88958cca988f4363b63ee854ebb55837",
       "outputs": [
        {
         "data": {
          "text/html": "<hr><h2>ORI Arrests Data</h2>",
          "text/plain": "<IPython.core.display.HTML object>"
         },
         "metadata": {},
         "output_type": "display_data"
        },
        {
         "data": {
          "text/html": "Violent Felony",
          "text/plain": "<IPython.core.display.HTML object>"
         },
         "metadata": {},
         "output_type": "display_data"
        },
        {
         "data": {
          "text/html": "<table border=\"1\" class=\"dataframe\">\n  <thead>\n    <tr style=\"text-align: right;\">\n      <th></th>\n      <th></th>\n      <th>Manslaughter</th>\n      <th>Rape</th>\n      <th>Robbery</th>\n      <th>Aggravated-Assault</th>\n    </tr>\n    <tr>\n      <th>County</th>\n      <th>Year</th>\n      <th></th>\n      <th></th>\n      <th></th>\n      <th></th>\n    </tr>\n  </thead>\n  <tbody>\n    <tr>\n      <th rowspan=\"3\" valign=\"top\">Sublette</th>\n      <th>2013</th>\n      <td>0</td>\n      <td>0</td>\n      <td>0</td>\n      <td>0</td>\n    </tr>\n    <tr>\n      <th>2014</th>\n      <td>0</td>\n      <td>0</td>\n      <td>0</td>\n      <td>0</td>\n    </tr>\n    <tr>\n      <th>2015</th>\n      <td>0</td>\n      <td>0</td>\n      <td>0</td>\n      <td>0</td>\n    </tr>\n  </tbody>\n</table>",
          "text/plain": "<IPython.core.display.HTML object>"
         },
         "metadata": {},
         "output_type": "display_data"
        },
        {
         "data": {
          "text/html": "Lesser Offenses",
          "text/plain": "<IPython.core.display.HTML object>"
         },
         "metadata": {},
         "output_type": "display_data"
        },
        {
         "data": {
          "text/html": "<table border=\"1\" class=\"dataframe\">\n  <thead>\n    <tr style=\"text-align: right;\">\n      <th></th>\n      <th></th>\n      <th>Burglary</th>\n      <th>Larceny-Theft</th>\n      <th>Motor-Vehicle-Theft</th>\n      <th>Arson</th>\n      <th>Other-Assaults</th>\n      <th>Forgery-Counterfeiting</th>\n      <th>Fraud</th>\n      <th>Embezzlement</th>\n      <th>Stolen-Property</th>\n      <th>Vandalism</th>\n      <th>Weapons</th>\n      <th>Prostitution</th>\n      <th>Sex-Offenses</th>\n      <th>Drug-Abuse-Violations</th>\n      <th>Drug-Abuse-Violations-Possession</th>\n      <th>Gambling-Offenses</th>\n      <th>Offenses-Against-Family-Children</th>\n      <th>Driving-Under-the-Influence</th>\n      <th>Liquor-Laws</th>\n      <th>Drunkenness</th>\n      <th>Disorderly-Conduct</th>\n      <th>All-Other-Offenses-Except-Traffic</th>\n      <th>Suspicion</th>\n      <th>Curfew-Loitering-Law-Violations</th>\n      <th>Run-a-ways</th>\n      <th>Vagrancy</th>\n    </tr>\n    <tr>\n      <th>County</th>\n      <th>Year</th>\n      <th></th>\n      <th></th>\n      <th></th>\n      <th></th>\n      <th></th>\n      <th></th>\n      <th></th>\n      <th></th>\n      <th></th>\n      <th></th>\n      <th></th>\n      <th></th>\n      <th></th>\n      <th></th>\n      <th></th>\n      <th></th>\n      <th></th>\n      <th></th>\n      <th></th>\n      <th></th>\n      <th></th>\n      <th></th>\n      <th></th>\n      <th></th>\n      <th></th>\n      <th></th>\n    </tr>\n  </thead>\n  <tbody>\n    <tr>\n      <th rowspan=\"3\" valign=\"top\">Sublette</th>\n      <th>2013</th>\n      <td>1</td>\n      <td>2</td>\n      <td>0</td>\n      <td>0</td>\n      <td>4</td>\n      <td>0</td>\n      <td>0</td>\n      <td>0</td>\n      <td>0</td>\n      <td>0</td>\n      <td>0</td>\n      <td>0</td>\n      <td>0</td>\n      <td>0</td>\n      <td>3</td>\n      <td>0</td>\n      <td>0</td>\n      <td>0</td>\n      <td>7</td>\n      <td>0</td>\n      <td>0</td>\n      <td>13</td>\n      <td>0</td>\n      <td>0</td>\n      <td>1</td>\n      <td>0</td>\n    </tr>\n    <tr>\n      <th>2014</th>\n      <td>0</td>\n      <td>2</td>\n      <td>0</td>\n      <td>0</td>\n      <td>1</td>\n      <td>0</td>\n      <td>0</td>\n      <td>0</td>\n      <td>0</td>\n      <td>1</td>\n      <td>0</td>\n      <td>0</td>\n      <td>0</td>\n      <td>0</td>\n      <td>4</td>\n      <td>0</td>\n      <td>0</td>\n      <td>0</td>\n      <td>7</td>\n      <td>0</td>\n      <td>2</td>\n      <td>7</td>\n      <td>0</td>\n      <td>1</td>\n      <td>1</td>\n      <td>0</td>\n    </tr>\n    <tr>\n      <th>2015</th>\n      <td>0</td>\n      <td>0</td>\n      <td>0</td>\n      <td>0</td>\n      <td>0</td>\n      <td>0</td>\n      <td>0</td>\n      <td>0</td>\n      <td>0</td>\n      <td>0</td>\n      <td>0</td>\n      <td>0</td>\n      <td>0</td>\n      <td>2</td>\n      <td>3</td>\n      <td>0</td>\n      <td>0</td>\n      <td>0</td>\n      <td>2</td>\n      <td>2</td>\n      <td>0</td>\n      <td>5</td>\n      <td>0</td>\n      <td>0</td>\n      <td>0</td>\n      <td>0</td>\n    </tr>\n  </tbody>\n</table>",
          "text/plain": "<IPython.core.display.HTML object>"
         },
         "metadata": {},
         "output_type": "display_data"
        }
       ]
      }
     },
     "f4365071e0324f83b15761a7563abaed": {
      "model_module": "@jupyter-widgets/output",
      "model_module_version": "1.0.0",
      "model_name": "OutputModel",
      "state": {
       "layout": "IPY_MODEL_9e476c531a094fd894707db6473c7811",
       "outputs": [
        {
         "data": {
          "text/html": "<table border=\"1\" class=\"dataframe\">\n  <thead>\n    <tr style=\"text-align: right;\">\n      <th></th>\n      <th></th>\n      <th></th>\n      <th>DISTRICT_ID</th>\n      <th>DISTRICT_NAME</th>\n      <th>Expulsion - Services not provided</th>\n      <th>Expulsion - Services provided</th>\n      <th>In school suspension</th>\n      <th>Out of school suspension</th>\n    </tr>\n    <tr>\n      <th>county</th>\n      <th>Beginning Year</th>\n      <th>End Year</th>\n      <th></th>\n      <th></th>\n      <th></th>\n      <th></th>\n      <th></th>\n      <th></th>\n    </tr>\n  </thead>\n  <tbody>\n    <tr>\n      <th rowspan=\"4\" valign=\"top\">Sublette</th>\n      <th rowspan=\"2\" valign=\"top\">2013</th>\n      <th>2014</th>\n      <td>1801000</td>\n      <td>Sublette #1</td>\n      <td>NaN</td>\n      <td>NaN</td>\n      <td>64.0</td>\n      <td>41.0</td>\n    </tr>\n    <tr>\n      <th>2014</th>\n      <td>1809000</td>\n      <td>Sublette #9</td>\n      <td>NaN</td>\n      <td>NaN</td>\n      <td>71.0</td>\n      <td>43.0</td>\n    </tr>\n    <tr>\n      <th rowspan=\"2\" valign=\"top\">2014</th>\n      <th>2015</th>\n      <td>1801000</td>\n      <td>Sublette #1</td>\n      <td>NaN</td>\n      <td>37.0</td>\n      <td>56.0</td>\n      <td>NaN</td>\n    </tr>\n    <tr>\n      <th>2015</th>\n      <td>1809000</td>\n      <td>Sublette #9</td>\n      <td>NaN</td>\n      <td>53.0</td>\n      <td>26.0</td>\n      <td>NaN</td>\n    </tr>\n  </tbody>\n</table>",
          "text/plain": "<IPython.core.display.HTML object>"
         },
         "metadata": {},
         "output_type": "display_data"
        }
       ]
      }
     },
     "f556adf1deca43048df6b663249cf866": {
      "model_module": "@jupyter-widgets/output",
      "model_module_version": "1.0.0",
      "model_name": "OutputModel",
      "state": {
       "layout": "IPY_MODEL_3c7549aa4fee44aa98acd19e12cba007",
       "outputs": [
        {
         "data": {
          "text/html": "<h2>Educational Infraction Data</h2>",
          "text/plain": "<IPython.core.display.HTML object>"
         },
         "metadata": {},
         "output_type": "display_data"
        },
        {
         "data": {
          "text/html": "<table border=\"1\" class=\"dataframe\">\n  <thead>\n    <tr style=\"text-align: right;\">\n      <th></th>\n      <th></th>\n      <th></th>\n      <th>DISTRICT_ID</th>\n      <th>DISTRICT_NAME</th>\n      <th>Expulsion - Services not provided</th>\n      <th>Expulsion - Services provided</th>\n      <th>In school suspension</th>\n      <th>Out of school suspension</th>\n    </tr>\n    <tr>\n      <th>county</th>\n      <th>Beginning Year</th>\n      <th>End Year</th>\n      <th></th>\n      <th></th>\n      <th></th>\n      <th></th>\n      <th></th>\n      <th></th>\n    </tr>\n  </thead>\n  <tbody>\n    <tr>\n      <th rowspan=\"4\" valign=\"top\">Sublette</th>\n      <th rowspan=\"2\" valign=\"top\">2013</th>\n      <th>2014</th>\n      <td>1801000</td>\n      <td>Sublette #1</td>\n      <td>NaN</td>\n      <td>NaN</td>\n      <td>64.0</td>\n      <td>41.0</td>\n    </tr>\n    <tr>\n      <th>2014</th>\n      <td>1809000</td>\n      <td>Sublette #9</td>\n      <td>NaN</td>\n      <td>NaN</td>\n      <td>71.0</td>\n      <td>43.0</td>\n    </tr>\n    <tr>\n      <th rowspan=\"2\" valign=\"top\">2014</th>\n      <th>2015</th>\n      <td>1801000</td>\n      <td>Sublette #1</td>\n      <td>NaN</td>\n      <td>37.0</td>\n      <td>56.0</td>\n      <td>NaN</td>\n    </tr>\n    <tr>\n      <th>2015</th>\n      <td>1809000</td>\n      <td>Sublette #9</td>\n      <td>NaN</td>\n      <td>53.0</td>\n      <td>26.0</td>\n      <td>NaN</td>\n    </tr>\n  </tbody>\n</table>",
          "text/plain": "<IPython.core.display.HTML object>"
         },
         "metadata": {},
         "output_type": "display_data"
        }
       ]
      }
     },
     "f9a1c9835de942d4aca8a236b01725ee": {
      "model_module": "@jupyter-widgets/base",
      "model_module_version": "1.0.0",
      "model_name": "LayoutModel",
      "state": {}
     },
     "fce59ad10594441fb322bbeb9ecfc3c2": {
      "model_module": "@jupyter-widgets/controls",
      "model_module_version": "1.2.0",
      "model_name": "IntRangeSliderModel",
      "state": {
       "_model_name": "IntRangeSliderModel",
       "_view_name": "IntRangeSliderView",
       "layout": "IPY_MODEL_baaa59e5ec9447b6bfd8e366d626c158",
       "max": 2017,
       "min": 2012,
       "style": "IPY_MODEL_0ccd90b84ed04def81dd5bbd48793ba8",
       "value": [
        2013,
        2015
       ]
      }
     }
    },
    "version_major": 2,
    "version_minor": 0
   }
  }
 },
 "nbformat": 4,
 "nbformat_minor": 2
}
