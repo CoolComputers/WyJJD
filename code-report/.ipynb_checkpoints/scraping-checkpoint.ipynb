{
 "cells": [
  {
   "cell_type": "code",
   "execution_count": 27,
   "metadata": {},
   "outputs": [
    {
     "name": "stdout",
     "output_type": "stream",
     "text": [
      "6\n"
     ]
    }
   ],
   "source": [
    "from bs4 import BeautifulSoup as bs\n",
    "import requests, pandas\n",
    "import csv \n",
    "\n",
    "county_page = 'http://eadiv.state.wy.us/demog_data/County_Profile.html'\n",
    "\n",
    "req = requests.get(county_page)\n",
    "soup = bs(req.content,'html.parser')\n",
    "county_tables = soup.find_all('table')\n",
    "print(len(county_tables))\n",
    "\n",
    "links = county_tables[4].find_all('a')\n",
    "#print(set(links))\n",
    "uniqs=set(links)\n",
    "county_links = []\n",
    "for uniq in uniqs:\n",
    "    county_links.append(uniq['href'])\n",
    "    #print(uniq)\n",
    "    #print(uniq['href'])\n",
    "splits = []\n",
    "for county in county_links:\n",
    "    #print(str(county.split('2017')))\n",
    "    splits.append(county.split('2017'))\n",
    "#print(str(splits))"
   ]
  },
  {
   "cell_type": "code",
   "execution_count": 36,
   "metadata": {},
   "outputs": [],
   "source": [
    "def getCounties():\n",
    "    print('getting county links')\n",
    "    county_page = 'http://eadiv.state.wy.us/demog_data/County_Profile.html'\n",
    "\n",
    "    req = requests.get(county_page)\n",
    "    soup = bs(req.content,'html.parser')\n",
    "    county_tables = soup.find_all('table')\n",
    "    print(len(county_tables))\n",
    "\n",
    "    links = county_tables[4].find_all('a')\n",
    "    #print(set(links))\n",
    "    uniqs=set(links)\n",
    "    county_links = []\n",
    "    for uniq in uniqs:\n",
    "        county_links.append(uniq['href'])\n",
    "        #print(uniq)\n",
    "        #print(uniq['href'])\n",
    "    splits = []\n",
    "    for county in county_links:\n",
    "        #print(str(county.split('2017')))\n",
    "        splits.append(county.split('2017'))\n",
    "    #print(str(splits))\n",
    "    return splits"
   ]
  },
  {
   "cell_type": "code",
   "execution_count": null,
   "metadata": {},
   "outputs": [],
   "source": [
    "from bs4 import BeautifulSoup as bs\n",
    "import requests, pandas, time\n",
    "import csv \n",
    "\n",
    "#soup = BeautifulSoup(html_doc, 'html.parser')\n",
    "\n",
    "#http://eadiv.state.wy.us/Wy_facts/Big_Horn2015.htm\n",
    "counties = getCounties()\n",
    "print(counties)\n",
    "years = ['2012','2013','2014','2015','2016']\n",
    "\n",
    "for year in years:\n",
    "    for county in counties:\n",
    "        #req_page = 'http://eadiv.state.wy.us/Wy_facts/Big_Horn'+year+'.htm'\n",
    "        req_page = county[0]+year+county[1]\n",
    "        print('requesting page:'+req_page)\n",
    "        time.sleep(2)\n",
    "        req = requests.get(req_page)\n",
    "        if req.status_code is not 200:\n",
    "            print('badreq-'+req.status_code)\n",
    "            continue\n",
    "        if req.status_code is 200:\n",
    "            #print(req.content)\n",
    "            soup = bs(req.content,'html.parser')\n",
    "            data = []\n",
    "            table = soup.find('table')\n",
    "            if table is None: \n",
    "                continue\n",
    "            #print(str(table))\n",
    "            heads = table.find_all('td')\n",
    "            print(len(heads))\n",
    "            rows = table.find_all('tr')\n",
    "            for row in rows:\n",
    "                cols = row.find_all('td')\n",
    "                cols = [ele.text.strip() for ele in cols]\n",
    "                data.append([ele for ele in cols if ele]) \n",
    "            #print(str(data))"
   ]
  }
 ],
 "metadata": {
  "kernelspec": {
   "display_name": "Python 3",
   "language": "python",
   "name": "python3"
  },
  "language_info": {
   "codemirror_mode": {
    "name": "ipython",
    "version": 3
   },
   "file_extension": ".py",
   "mimetype": "text/x-python",
   "name": "python",
   "nbconvert_exporter": "python",
   "pygments_lexer": "ipython3",
   "version": "3.6.5"
  }
 },
 "nbformat": 4,
 "nbformat_minor": 2
}
