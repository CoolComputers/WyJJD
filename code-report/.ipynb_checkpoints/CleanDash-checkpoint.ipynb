{
 "cells": [
  {
   "cell_type": "code",
   "execution_count": null,
   "metadata": {},
   "outputs": [],
   "source": [
    "from ipywidgets import widgets\n",
    "from ipywidgets import interactive\n",
    "from IPython.display import display, HTML\n",
    "\n",
    "import csv\n",
    "import numpy as np\n",
    "import pandas as pd\n",
    "import os, sys\n",
    "import subprocess\n",
    "\n",
    "data_folder = '../new-data/'\n",
    "dci_data_folder = data_folder+'DCI/all-combined/'\n",
    "dfs_afcars_data_file = data_folder+'DFS/DFS_12-16-AFCARS-CLEAN.csv'\n",
    "dfs_county_data_file = data_folder+'DFS/DFS_12-16-Placements-ByCounty-CLEAN.csv'\n",
    "dfs_plc_data_file = data_folder+'DFS/DFS_12-16-Placements-ByPLC-CLEAN.csv'\n",
    "school_discipline_data_file = data_folder+'school-discipline/SchoolDiscipline_2007-16_Combined-CSV.csv'\n",
    "\n",
    "#found:https://stackoverflow.com/questions/31893930/download-csv-from-an-ipython-notebook\n",
    "import base64\n",
    "import pandas as pd\n",
    "from IPython.display import HTML\n",
    "\n",
    "def create_download_link( df, title = \"Download CSV file\", filename = \"data.csv\"):\n",
    "    csv = df.to_csv()\n",
    "    b64 = base64.b64encode(csv.encode())\n",
    "    payload = b64.decode()\n",
    "    html = '<a download=\"{filename}\" href=\"data:text/csv;base64,{payload}\" target=\"_blank\">{title}</a>'\n",
    "    html = html.format(payload=payload,title=title,filename=filename)\n",
    "    return HTML(html)\n",
    "#end found\n"
   ]
  },
  {
   "cell_type": "code",
   "execution_count": null,
   "metadata": {},
   "outputs": [],
   "source": [
    "#Functions to get data frames\n",
    "def getOverview():#DONE\n",
    "    gather_overview_frames = []    \n",
    "    current_path = dci_data_folder+'overview/'\n",
    "    year_files = next(os.walk(current_path))[2]\n",
    "    for f in year_files:#process each file for this year\n",
    "        file_path = current_path+'/'+f\n",
    "        year = f.split('-')[0]\n",
    "        try:\n",
    "            df = pd.read_csv(file_path,sep=',',header='infer',index_col=0)\n",
    "            df.assign(Year=year)\n",
    "            gather_overview_frames.append(df)\n",
    "        except Exception as e:\n",
    "            print('cant load file: '+file_path)\n",
    "            print('['+str(e)+']')\n",
    "            print('*****************************************************************************************')\n",
    "    return pd.concat(gather_overview_frames)\n",
    "\n",
    "def getDFS():\n",
    "    afcars = pd.read_csv(dfs_afcars_data_file,sep=',',header='infer',index_col=0)\n",
    "    county = pd.read_csv(dfs_county_data_file,sep=',',header='infer',index_col=0)\n",
    "    plc = pd.read_csv(dfs_plc_data_file,sep=',',header='infer',index_col=0)\n",
    "    return afcars, county, plc\n",
    "\n",
    "def getSchool():\n",
    "    return pd.read_csv(school_discipline_data_file,sep=',',header='infer',index_col=0)"
   ]
  },
  {
   "cell_type": "markdown",
   "metadata": {},
   "source": [
    "<a id='top'></a>\n",
    "# Wyoming Juvenile Justice Data (WyJJD)\n",
    "Project funded through grants received by the [Wyoming Children's Law Center](wyoclc.org)\n",
    "\n",
    "## DCI Data\n",
    "* [Overview](#dcioverview)\n",
    "* [Detailed Index Offense Information](#detailedindex)\n",
    "\n",
    "## DFS Data\n",
    "* [Overview](#dfsoverview)\n",
    "\n",
    "## DOE Data\n",
    "* [Overview](#doeoverview)"
   ]
  },
  {
   "cell_type": "markdown",
   "metadata": {},
   "source": [
    "<a id='dcioverview'></a>\n",
    "[back to top](#top)\n",
    "# Division of Criminal Investigation\n",
    "## Overview"
   ]
  },
  {
   "cell_type": "code",
   "execution_count": null,
   "metadata": {},
   "outputs": [],
   "source": [
    "overviewDF = getOverview()"
   ]
  },
  {
   "cell_type": "markdown",
   "metadata": {},
   "source": [
    "<p id=\"detailedindex\"></p>\n",
    "## Detailed Index Offense Information"
   ]
  },
  {
   "cell_type": "markdown",
   "metadata": {},
   "source": [
    "<a id='dfsoverview'></a>\n",
    "[back to top](#top)\n",
    "# Department of Family Services\n",
    "## Overview"
   ]
  },
  {
   "cell_type": "markdown",
   "metadata": {},
   "source": [
    "<a id='doeoverview'></a>\n",
    "[back to top](#top)\n",
    "# Department of Education\n",
    "## Overview"
   ]
  },
  {
   "cell_type": "code",
   "execution_count": null,
   "metadata": {},
   "outputs": [],
   "source": [
    "school_data = getSchool()\n",
    "#print(school_data)\n",
    "create_download_link(school_data)\n",
    "display(school_data)\n",
    "display(HTML(school_data.to_html()))\n",
    "#https://blog.ouseful.info/2016/12/29/simple-view-controls-for-pandas-dataframes-using-ipython-widgets/"
   ]
  },
  {
   "cell_type": "code",
   "execution_count": null,
   "metadata": {},
   "outputs": [],
   "source": [
    "from pivottablejs import pivot_ui\n",
    "pivot_ui(school_data)"
   ]
  }
 ],
 "metadata": {
  "kernelspec": {
   "display_name": "Python 2",
   "language": "python",
   "name": "python2"
  },
  "language_info": {
   "codemirror_mode": {
    "name": "ipython",
    "version": 2
   },
   "file_extension": ".py",
   "mimetype": "text/x-python",
   "name": "python",
   "nbconvert_exporter": "python",
   "pygments_lexer": "ipython2",
   "version": "2.7.9"
  }
 },
 "nbformat": 4,
 "nbformat_minor": 2
}
