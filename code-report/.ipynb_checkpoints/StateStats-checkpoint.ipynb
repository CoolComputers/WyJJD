{
 "cells": [
  {
   "cell_type": "code",
   "execution_count": 21,
   "metadata": {},
   "outputs": [],
   "source": [
    "# state-wide comparisons of crime statistics\n",
    "#File:StateStats.ipynb\n",
    "#Author: Rafer Cooley\n",
    "#Desc:Generate Statewide statistics of juvenile data\n",
    "from ipywidgets import widgets\n",
    "from ipywidgets import interactive\n",
    "from IPython.display import display, HTML, clear_output\n",
    "from pivottablejs import pivot_ui\n",
    "import matplotlib.pyplot as plt\n",
    "import csv\n",
    "import numpy as np\n",
    "import pandas as pd\n",
    "import os, sys\n",
    "import subprocess\n",
    "import base64 #for createdownloadlink\n",
    "#import data_functions as dfunct\n",
    "%run getdata.ipynb\n",
    "\n",
    "dfunct = DataFunctions()\n",
    "overview = dfunct.getOverview()\n",
    "dfs = dfunct.getDFS()#afcars, county, plc\n",
    "school = dfunct.getSchool()\n",
    "#school['County'] = school['DISTRICT_NAME'].str.split('#').str[0]\n",
    "index_crimes = dfunct.getIndexCrimes()#DO NOT USE THIS! replaced by ori data\n",
    "juvenile_arrests = dfunct.getORIData()\n",
    "arrest_totals = dfunct.getStateTotalArrests()\n",
    "population_data = dfunct.getPopulationData()\n",
    "\n",
    "#qualifiers for ORI data\n",
    "violent_felony = ['Manslaughter','Rape','Robbery','Aggravated-Assault']\n",
    "lesser_offenses = ['Burglary','Larceny-Theft','Motor-Vehicle-Theft','Arson',\n",
    "    'Other-Assaults','Forgery-Counterfeiting','Fraud','Embezzlement','Stolen-Property','Vandalism','Weapons',\n",
    "    'Prostitution','Sex-Offenses','Drug-Abuse-Violations','Drug-Abuse-Violations-Possession','Gambling-Offenses',\n",
    "    'Offenses-Against-Family-Children','Driving-Under-the-Influence','Liquor-Laws','Drunkenness',\n",
    "    'Disorderly-Conduct','All-Other-Offenses-Except-Traffic','Suspicion','Curfew-Loitering-Law-Violations',\n",
    "    'Run-a-ways','Vagrancy']"
   ]
  },
  {
   "cell_type": "code",
   "execution_count": 25,
   "metadata": {},
   "outputs": [],
   "source": [
    "pop_data = dfunct.getPopulationData()\n",
    "state_arrests = dfunct.getStateTotalArrests()\n",
    "ori = dfunct.getORIData()\n",
    "school = dfunct.getSchool()\n",
    "\n",
    "pops = []\n",
    "for row,new_df in juvenile_arrests.groupby(level=[0,1]):\n",
    "    pops.append(pop.loc[row[0],str(row[1])])\n",
    "juvenile_arrests['population']=pops\n",
    "juvenile_arrests['rate'] = (juvenile_arrests['total']/juvenile_arrests['population'])\n",
    "    \n",
    "# school incidents vs index crimes\n",
    "# school incidents vs arrest rates\n",
    "# incidents vs population (percentage)\n",
    "# sums per county over time\n",
    "\n",
    "#juvenile_arrests.head()"
   ]
  },
  {
   "cell_type": "code",
   "execution_count": 23,
   "metadata": {},
   "outputs": [
    {
     "data": {
      "text/html": [
       "<h1>Juvenile Justice State Overview</h1>"
      ],
      "text/plain": [
       "<IPython.core.display.HTML object>"
      ]
     },
     "metadata": {},
     "output_type": "display_data"
    },
    {
     "data": {
      "text/html": [
       "short description<hr>"
      ],
      "text/plain": [
       "<IPython.core.display.HTML object>"
      ]
     },
     "metadata": {},
     "output_type": "display_data"
    },
    {
     "data": {
      "application/vnd.jupyter.widget-view+json": {
       "model_id": "79eb467bcf87445cbbd359628b652c08",
       "version_major": 2,
       "version_minor": 0
      },
      "text/plain": [
       "HBox(children=(VBox(children=(IntRangeSlider(value=(2013, 2015), description='Year range:', max=2017, min=2012…"
      ]
     },
     "metadata": {},
     "output_type": "display_data"
    }
   ],
   "source": [
    "def display_header():\n",
    "    display(HTML('<h1>Juvenile Justice State Overview</h1>'))\n",
    "    display(HTML('short description<hr>'))\n",
    "    \n",
    "##Widget Objects\n",
    "counties = set(school.index.levels[0].str.strip())\n",
    "\n",
    "year_slide = widgets.IntRangeSlider(\n",
    "    description='Year range:',\n",
    "    min=2012,\n",
    "    max=2017,\n",
    "    step=1\n",
    ")\n",
    "estimates_slide = widgets.Select(\n",
    "    options=[1000,10000,100000],\n",
    "    value=10000,\n",
    "    description='Estimate per',\n",
    "    disabled=False,\n",
    "    continuous_update=True,\n",
    "    orientation='horizontal',\n",
    "    readout=True\n",
    ")\n",
    "#tables widgets\n",
    "# afcars_out = widgets.interactive_output(display_afcars_html,{'county':county_drop,'year_tup':year_slide})\n",
    "# county_out = widgets.interactive_output(display_county_html,{'county':county_drop,'year_tup':year_slide})\n",
    "# #arrests_out = widgets.interactive_output(display_arrests_html,{'county':county_drop,'year_tup':year_slide})\n",
    "# felony_out = widgets.interactive_output(display_felony_html,{'county':county_drop,'year_tup':year_slide})\n",
    "# lesser_out = widgets.interactive_output(display_lesser_html,{'county':county_drop,'year_tup':year_slide})\n",
    "# school_out = widgets.interactive_output(display_school_html,{'county':county_drop,'year_tup':year_slide})\n",
    "\n",
    "#estimates widgets\n",
    "#crime_rate_out = widgets.interactive_output(county_crime_rate,{'county':county_drop,'year_tup':year_slide,'estimate_per':estimates_slide})\n",
    "\n",
    "#show everything\n",
    "display_header()\n",
    "display(widgets.HBox([\n",
    "    widgets.VBox([year_slide]),\n",
    "    estimates_slide,\n",
    "    widgets.HTML(value=\"people\")\n",
    "]))\n",
    "\n"
   ]
  },
  {
   "cell_type": "code",
   "execution_count": null,
   "metadata": {},
   "outputs": [],
   "source": []
  }
 ],
 "metadata": {
  "kernelspec": {
   "display_name": "Python 3",
   "language": "python",
   "name": "python3"
  },
  "language_info": {
   "codemirror_mode": {
    "name": "ipython",
    "version": 3
   },
   "file_extension": ".py",
   "mimetype": "text/x-python",
   "name": "python",
   "nbconvert_exporter": "python",
   "pygments_lexer": "ipython3",
   "version": "3.6.5"
  }
 },
 "nbformat": 4,
 "nbformat_minor": 2
}
