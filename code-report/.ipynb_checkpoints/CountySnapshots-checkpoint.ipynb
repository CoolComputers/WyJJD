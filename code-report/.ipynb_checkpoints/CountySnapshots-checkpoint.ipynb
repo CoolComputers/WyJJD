{
 "cells": [
  {
   "cell_type": "raw",
   "metadata": {},
   "source": [
    "<script>\n",
    "  function code_toggle() {\n",
    "    if (code_shown){\n",
    "      $('div.input').hide('500');\n",
    "      $('#toggleButton').val('Show Code')\n",
    "    } else {\n",
    "      $('div.input').show('500');\n",
    "      $('#toggleButton').val('Hide Code')\n",
    "    }\n",
    "    code_shown = !code_shown\n",
    "  }\n",
    "\n",
    "  $( document ).ready(function(){\n",
    "    code_shown=false;\n",
    "    $('div.input').hide()\n",
    "  });\n",
    "</script>\n",
    "<form action=\"javascript:code_toggle()\"><input type=\"submit\" id=\"toggleButton\" value=\"Show Code\"></form>"
   ]
  },
  {
   "cell_type": "code",
   "execution_count": 7,
   "metadata": {},
   "outputs": [],
   "source": [
    "from ipywidgets import widgets\n",
    "from ipywidgets import interactive\n",
    "from IPython.display import display, HTML\n",
    "from pivottablejs import pivot_ui\n",
    "import matplotlib.pyplot as plt\n",
    "import csv\n",
    "import numpy as np\n",
    "import pandas as pd\n",
    "import os, sys\n",
    "import subprocess\n",
    "import base64 #for createdownloadlink\n",
    "import data_functions as dfunct"
   ]
  },
  {
   "cell_type": "code",
   "execution_count": 8,
   "metadata": {},
   "outputs": [],
   "source": [
    "overview = dfunct.getOverview()\n",
    "dfs = dfunct.getDFS()\n",
    "school = dfunct.getSchool()\n",
    "school['County'] = school['DISTRICT_NAME'].str.split('#').str[0]\n",
    "index_crimes = dfunct.getIndexCrimes()\n",
    "juvenile_arrests = dfunct.getORIData()\n",
    "#display(index_crimes.loc[index_crimes['county'].str.upper()=='ALBANY COUNTY TOTALS'])\n",
    "#new = school[school['DISTRICT_NAME']]\n",
    "#display(school)\n",
    "#display(HTML(overview.to_html()))\n",
    "\n",
    "#violent felony list\n",
    "violent_felony = ['Manslaughter','Rape','Robbery','Aggravated Assault']"
   ]
  },
  {
   "cell_type": "code",
   "execution_count": 11,
   "metadata": {},
   "outputs": [],
   "source": [
    "#Show Data Functions\n",
    "def display_dfs_html(county,year_tup):\n",
    "    #print(type(dfs))\n",
    "    #print(str(dfs))\n",
    "    return HTML(dfs[1].to_html())\n",
    "\n",
    "def display_arrests_html(county,year_tup):\n",
    "    return HTML(juvenile_arrests.to_html())\n",
    "\n",
    "def display_school_html(county,year_tup):\n",
    "    return HTML(school.to_html())\n",
    "\n",
    "def display_overview_html(county,year_tup):\n",
    "    return HTML(overview.to_html())\n",
    "\n",
    "def display_dfs(county,year_tup):\n",
    "    #print(type(dfs))\n",
    "    #print(str(dfs))\n",
    "    return dfs[1].head(y)\n",
    "\n",
    "def display_arrests(county,year_tup):\n",
    "    return juvenile_arrests\n",
    "\n",
    "def display_school(county,year_tup):\n",
    "    return school\n",
    "\n",
    "def display_overview(county,year_tup):\n",
    "    return overview"
   ]
  },
  {
   "cell_type": "code",
   "execution_count": 12,
   "metadata": {},
   "outputs": [
    {
     "data": {
      "application/vnd.jupyter.widget-view+json": {
       "model_id": "55b05a2a0645484e8f1fee9bc4dc0432",
       "version_major": 2,
       "version_minor": 0
      },
      "text/plain": [
       "aW50ZXJhY3RpdmUoY2hpbGRyZW49KERyb3Bkb3duKGRlc2NyaXB0aW9uPXUnQ291bnR5OicsIG9wdGlvbnM9KCdBbGJhbnkgJywgJ0JpZyBIb3JuICcsICdDYW1wYmVsbCAnLCAnQ2FyYm9uICfigKY=\n"
      ]
     },
     "metadata": {},
     "output_type": "display_data"
    },
    {
     "name": "stdout",
     "output_type": "stream",
     "text": [
      "changed year(2013, 2016)\n",
      "county changed to:Crook --Crook \n"
     ]
    }
   ],
   "source": [
    "##Widget Objects\n",
    "county_drop = widgets.Dropdown(\n",
    "    options=school.County.unique().tolist(),\n",
    "    description='County:',\n",
    "    disabled=False,\n",
    ")\n",
    "\n",
    "year_slide = widgets.IntRangeSlider(min=2012,max=2017,step=1)\n",
    "    \n",
    "def refresh_tables():\n",
    "    a = display_dfs(county_drop.value,(year_slide.value[0],year_slide.value[1]))\n",
    "    b = display_arrests(county_drop.value,(year_slide.value[0],year_slide.value[1]))\n",
    "    c = display_school(county_drop.value,(year_slide.value[0],year_slide.value[1]))\n",
    "    d = display_overview(county_drop.value,(year_slide.value[0],year_slide.value[1]))\n",
    "    display(a)\n",
    "    display(b)\n",
    "    display(c)\n",
    "    display(d)\n",
    "    \n",
    "##Widget Update Functions\n",
    "def county_changed(change):\n",
    "    #plt.close('all')\n",
    "    print('county changed to:'+str(change['new'])+'--'+str(county_drop.value))\n",
    "    #print('year is'+str(year_slide.value[0]))\n",
    "    #refresh_tables()\n",
    "\n",
    "def year_changed(change):\n",
    "    #plt.close('all')\n",
    "    print('changed year'+str(change['new']))\n",
    "    #refresh_tables()\n",
    "    \n",
    "county_drop.observe(county_changed, names='value')\n",
    "year_slide.observe(year_changed,names='value')\n",
    "\n",
    "#Show Widgets\n",
    "#display(county_drop)\n",
    "#display(year_slide)\n",
    "#refresh_tables()\n",
    "\n",
    "def view2(x='',y=3):\n",
    "    if x=='All': return df.head(y)\n",
    "    return df[df['Asset Type Description']==x].head(y)\n",
    " \n",
    "# a_slider = widgets.IntSlider(min=0, max=15, step=1, value=5)\n",
    "# b_select =  widgets.Select(options=items)\n",
    "# widgets.interactive(view2,y=a_slider,x=b_select)\n",
    "widgets.interactive(display_dfs,county=county_drop,year_tup=year_slide)\n",
    "widgets.interactive(display_arrests,county=county_drop,year_tup=year_slide)\n",
    "widgets.interactive(display_school,county=county_drop,year_tup=year_slide)\n",
    "widgets.interactive(display_overview,county=county_drop,year_tup=year_slide)"
   ]
  },
  {
   "cell_type": "raw",
   "metadata": {},
   "source": [
    "<div id=\""
   ]
  }
 ],
 "metadata": {
  "kernelspec": {
   "display_name": "Python 2",
   "language": "python",
   "name": "python2"
  },
  "language_info": {
   "codemirror_mode": {
    "name": "ipython",
    "version": 2
   },
   "file_extension": ".py",
   "mimetype": "text/x-python",
   "name": "python",
   "nbconvert_exporter": "python",
   "pygments_lexer": "ipython2",
   "version": "2.7.9"
  }
 },
 "nbformat": 4,
 "nbformat_minor": 2
}
