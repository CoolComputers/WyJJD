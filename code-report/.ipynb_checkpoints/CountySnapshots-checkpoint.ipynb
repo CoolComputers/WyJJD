{
 "cells": [
  {
   "cell_type": "raw",
   "metadata": {},
   "source": [
    "<script>\n",
    "  function code_toggle() {\n",
    "    if (code_shown){\n",
    "      $('div.input').hide('500');\n",
    "      $('#toggleButton').val('Show Code')\n",
    "    } else {\n",
    "      $('div.input').show('500');\n",
    "      $('#toggleButton').val('Hide Code')\n",
    "    }\n",
    "    code_shown = !code_shown\n",
    "  }\n",
    "\n",
    "  $( document ).ready(function(){\n",
    "    code_shown=false;\n",
    "    $('div.input').hide()\n",
    "  });\n",
    "</script>\n",
    "<form action=\"javascript:code_toggle()\"><input type=\"submit\" id=\"toggleButton\" value=\"Show Code\"></form>"
   ]
  },
  {
   "cell_type": "code",
   "execution_count": 59,
   "metadata": {},
   "outputs": [],
   "source": [
    "from ipywidgets import widgets\n",
    "from ipywidgets import interactive\n",
    "from IPython.display import display, HTML\n",
    "from pivottablejs import pivot_ui\n",
    "\n",
    "import csv\n",
    "import numpy as np\n",
    "import pandas as pd\n",
    "import os, sys\n",
    "import subprocess\n",
    "import base64 #for createdownloadlink\n",
    "\n",
    "data_folder = '../new-data/'\n",
    "dci_data_folder = data_folder+'DCI/all-combined/'\n",
    "dci_index_crimes = dci_data_folder+'index-offenses/'\n",
    "dfs_afcars_data_file = data_folder+'DFS/DFS_12-16-AFCARS-CLEAN.csv'\n",
    "dfs_county_data_file = data_folder+'DFS/DFS_12-16-Placements-ByCounty-CLEAN.csv'\n",
    "dfs_plc_data_file = data_folder+'DFS/DFS_12-16-Placements-ByPLC-CLEAN.csv'\n",
    "school_discipline_data_file = data_folder+'school-discipline/SchoolDiscipline_2007-17_Combined-CSV.csv'\n",
    "\n",
    "#found:https://stackoverflow.com/questions/31893930/download-csv-from-an-ipython-notebook\n",
    "def create_download_link( df, title = \"Download CSV file\", filename = \"data.csv\"):\n",
    "    csv = df.to_csv()\n",
    "    b64 = base64.b64encode(csv.encode())\n",
    "    payload = b64.decode()\n",
    "    html = '<a download=\"{filename}\" href=\"data:text/csv;base64,{payload}\" target=\"_blank\">{title}</a>'\n",
    "    html = html.format(payload=payload,title=title,filename=filename)\n",
    "    return HTML(html)\n",
    "#end found\n",
    "\n",
    "#Functions to get data frames\n",
    "def getOverview():#DONE\n",
    "    gather_overview_frames = []\n",
    "    current_path = dci_data_folder+'overview/'\n",
    "    year_files = next(os.walk(current_path))[2]\n",
    "    for f in year_files:#process each file for this year\n",
    "        file_path = current_path+'/'+f\n",
    "        year = f.split('-')[0]\n",
    "        try:\n",
    "            df = pd.read_csv(file_path,sep=',',header='infer',index_col=0)\n",
    "            df.assign(Year=year)\n",
    "            gather_overview_frames.append(df)\n",
    "        except Exception as e:\n",
    "            print('cant load file: '+file_path)\n",
    "            print('['+str(e)+']')\n",
    "            print('*****************************************************************************************')\n",
    "    return pd.concat(gather_overview_frames)\n",
    "\n",
    "def getDFS():\n",
    "    afcars = pd.read_csv(dfs_afcars_data_file,sep=',',header='infer',index_col=0)\n",
    "    county = pd.read_csv(dfs_county_data_file,sep=',',header='infer',index_col=0)\n",
    "    plc = pd.read_csv(dfs_plc_data_file,sep=',',header='infer',index_col=0)\n",
    "    return afcars, county, plc\n",
    "\n",
    "def getSchool():\n",
    "    return pd.read_csv(school_discipline_data_file,sep=',',header='infer',index_col=0)\n",
    "\n",
    "#fix this to dynamically load files\n",
    "def getIndexCrimes():\n",
    "    obj={}\n",
    "    obj1 = pd.read_csv(dci_index_crimes+'2016-index-cp-after.csv',sep=',',header='infer')\n",
    "    obj1['year']='2016'\n",
    "    obj2 = pd.read_csv(dci_index_crimes+'2015-index-cp-after.csv',sep=',',header='infer')\n",
    "    obj2['year']='2015'\n",
    "    obj3 = pd.read_csv(dci_index_crimes+'2014-index-cp-after.csv',sep=',',header='infer')\n",
    "    obj3['year']='2014'\n",
    "    #newobj = obj['2016']#+obj['2015']+obj['2014']\n",
    "    newobj = pd.concat([obj1,obj2,obj3])\n",
    "    return newobj\n",
    "    #return pd.read_csv(dci_index_crimes+'2016-index-cp-after.csv',sep=',',header='infer')"
   ]
  },
  {
   "cell_type": "code",
   "execution_count": 63,
   "metadata": {},
   "outputs": [
    {
     "ename": "AttributeError",
     "evalue": "'Series' object has no attribute 'upper'",
     "output_type": "error",
     "traceback": [
      "\u001b[1;31m---------------------------------------------------------------------------\u001b[0m",
      "\u001b[1;31mAttributeError\u001b[0m                            Traceback (most recent call last)",
      "\u001b[1;32m<ipython-input-63-3eaf3e1cf46a>\u001b[0m in \u001b[0;36m<module>\u001b[1;34m()\u001b[0m\n\u001b[0;32m      4\u001b[0m \u001b[0mschool\u001b[0m\u001b[1;33m[\u001b[0m\u001b[1;34m'County'\u001b[0m\u001b[1;33m]\u001b[0m\u001b[1;33m=\u001b[0m\u001b[0mschool\u001b[0m\u001b[1;33m[\u001b[0m\u001b[1;34m'DISTRICT_NAME'\u001b[0m\u001b[1;33m]\u001b[0m\u001b[1;33m.\u001b[0m\u001b[0mstr\u001b[0m\u001b[1;33m.\u001b[0m\u001b[0msplit\u001b[0m\u001b[1;33m(\u001b[0m\u001b[1;34m'#'\u001b[0m\u001b[1;33m)\u001b[0m\u001b[1;33m.\u001b[0m\u001b[0mstr\u001b[0m\u001b[1;33m[\u001b[0m\u001b[1;36m0\u001b[0m\u001b[1;33m]\u001b[0m\u001b[1;33m\u001b[0m\u001b[0m\n\u001b[0;32m      5\u001b[0m \u001b[0mindex_crimes\u001b[0m \u001b[1;33m=\u001b[0m \u001b[0mgetIndexCrimes\u001b[0m\u001b[1;33m(\u001b[0m\u001b[1;33m)\u001b[0m\u001b[1;33m\u001b[0m\u001b[0m\n\u001b[1;32m----> 6\u001b[1;33m \u001b[0mdisplay\u001b[0m\u001b[1;33m(\u001b[0m\u001b[0mindex_crimes\u001b[0m\u001b[1;33m.\u001b[0m\u001b[0mloc\u001b[0m\u001b[1;33m[\u001b[0m\u001b[0mindex_crimes\u001b[0m\u001b[1;33m[\u001b[0m\u001b[1;34m'county'\u001b[0m\u001b[1;33m]\u001b[0m\u001b[1;33m.\u001b[0m\u001b[0mupper\u001b[0m\u001b[1;33m(\u001b[0m\u001b[1;33m)\u001b[0m\u001b[1;33m==\u001b[0m\u001b[1;34m'ALBANY COUNTY TOTALS'\u001b[0m\u001b[1;33m]\u001b[0m\u001b[1;33m)\u001b[0m\u001b[1;33m\u001b[0m\u001b[0m\n\u001b[0m\u001b[0;32m      7\u001b[0m \u001b[1;31m#new = school[school['DISTRICT_NAME']]\u001b[0m\u001b[1;33m\u001b[0m\u001b[1;33m\u001b[0m\u001b[0m\n\u001b[0;32m      8\u001b[0m \u001b[1;31m#display(school)\u001b[0m\u001b[1;33m\u001b[0m\u001b[1;33m\u001b[0m\u001b[0m\n",
      "\u001b[1;32mc:\\users\\rafec\\appdata\\local\\programs\\python\\python36-32\\lib\\site-packages\\pandas\\core\\generic.py\u001b[0m in \u001b[0;36m__getattr__\u001b[1;34m(self, name)\u001b[0m\n\u001b[0;32m   3612\u001b[0m             \u001b[1;32mif\u001b[0m \u001b[0mname\u001b[0m \u001b[1;32min\u001b[0m \u001b[0mself\u001b[0m\u001b[1;33m.\u001b[0m\u001b[0m_info_axis\u001b[0m\u001b[1;33m:\u001b[0m\u001b[1;33m\u001b[0m\u001b[0m\n\u001b[0;32m   3613\u001b[0m                 \u001b[1;32mreturn\u001b[0m \u001b[0mself\u001b[0m\u001b[1;33m[\u001b[0m\u001b[0mname\u001b[0m\u001b[1;33m]\u001b[0m\u001b[1;33m\u001b[0m\u001b[0m\n\u001b[1;32m-> 3614\u001b[1;33m             \u001b[1;32mreturn\u001b[0m \u001b[0mobject\u001b[0m\u001b[1;33m.\u001b[0m\u001b[0m__getattribute__\u001b[0m\u001b[1;33m(\u001b[0m\u001b[0mself\u001b[0m\u001b[1;33m,\u001b[0m \u001b[0mname\u001b[0m\u001b[1;33m)\u001b[0m\u001b[1;33m\u001b[0m\u001b[0m\n\u001b[0m\u001b[0;32m   3615\u001b[0m \u001b[1;33m\u001b[0m\u001b[0m\n\u001b[0;32m   3616\u001b[0m     \u001b[1;32mdef\u001b[0m \u001b[0m__setattr__\u001b[0m\u001b[1;33m(\u001b[0m\u001b[0mself\u001b[0m\u001b[1;33m,\u001b[0m \u001b[0mname\u001b[0m\u001b[1;33m,\u001b[0m \u001b[0mvalue\u001b[0m\u001b[1;33m)\u001b[0m\u001b[1;33m:\u001b[0m\u001b[1;33m\u001b[0m\u001b[0m\n",
      "\u001b[1;31mAttributeError\u001b[0m: 'Series' object has no attribute 'upper'"
     ]
    }
   ],
   "source": [
    "overview=getOverview()\n",
    "dfs = getDFS()\n",
    "school = getSchool()\n",
    "school['County']=school['DISTRICT_NAME'].str.split('#').str[0]\n",
    "index_crimes = getIndexCrimes()\n",
    "display(index_crimes.loc[index_crimes['county'].upper()=='ALBANY COUNTY TOTALS'])\n",
    "#new = school[school['DISTRICT_NAME']]\n",
    "#display(school)\n",
    "# display(HTML(overview.to_html()))"
   ]
  },
  {
   "cell_type": "code",
   "execution_count": 53,
   "metadata": {},
   "outputs": [
    {
     "data": {
      "application/vnd.jupyter.widget-view+json": {
       "model_id": "1e6b4097a832480ca13a454f9f228639",
       "version_major": 2,
       "version_minor": 0
      },
      "text/plain": [
       "Dropdown(description='County:', options=('Albany ', 'Big Horn ', 'Campbell ', 'Carbon ', 'Converse ', 'Crook '…"
      ]
     },
     "metadata": {},
     "output_type": "display_data"
    },
    {
     "data": {
      "application/vnd.jupyter.widget-view+json": {
       "model_id": "e5582fe5e36a46f79b9df440575a2bf0",
       "version_major": 2,
       "version_minor": 0
      },
      "text/plain": [
       "IntRangeSlider(value=(2013, 2015), max=2017, min=2012)"
      ]
     },
     "metadata": {},
     "output_type": "display_data"
    }
   ],
   "source": [
    "#def getIndexOffenses():\n",
    "import matplotlib.pyplot as plt\n",
    "county_drop = widgets.Dropdown(\n",
    "    options=school.County.unique().tolist(),\n",
    "    description='County:',\n",
    "    disabled=False,\n",
    ")\n",
    "\n",
    "year_slide = widgets.IntRangeSlider(min=2012,max=2017,step=1)\n",
    "\n",
    "def graph_index_crimes(begin,end,county):\n",
    "    index_crimes[(index_crimes['year'].between(int(begin),int(end),inclusive=True)) & (index_crimes['county']==county)].plot(type='bar')\n",
    "    \n",
    "def county_changed(change):\n",
    "    print('county changed to:'+str(change['new'])+'--'+str(county_drop.value))\n",
    "    #print('year is'+str(year_slide.value[0]))\n",
    "    graph_index_crimes(year_slide.value[0],year_slide.value[1],county_drop.value)\n",
    "    #print(school.loc[change['new'] in school['DISTRICT_NAME']])\n",
    "    #countyDF = school[school['DISTRICT_NAME'].str.match(change['new'])]\n",
    "    #noServices = countyDF['Expulsion - Services not provided'].sum()\n",
    "    #services = countyDF['Expulsion - Services provided'].sum()\n",
    "    #countyDF.plot(x='Beginning Year',y='Out of school suspension')\n",
    "\n",
    "def year_changed(change):\n",
    "    print('changed year'+str(change['new']))\n",
    "    \n",
    "county_drop.observe(county_changed, names='value')\n",
    "year_slide.observe(year_changed,names='value')\n",
    "\n",
    "display(county_drop)\n",
    "display(year_slide)"
   ]
  },
  {
   "cell_type": "code",
   "execution_count": 57,
   "metadata": {},
   "outputs": [
    {
     "data": {
      "text/plain": [
       "<matplotlib.axes._subplots.AxesSubplot at 0x155336f0>"
      ]
     },
     "execution_count": 57,
     "metadata": {},
     "output_type": "execute_result"
    },
    {
     "data": {
      "text/plain": [
       "<Figure size 432x288 with 0 Axes>"
      ]
     },
     "metadata": {},
     "output_type": "display_data"
    },
    {
     "data": {
      "image/png": "[encoded data removed]",
      "text/plain": [
       "<Figure size 432x288 with 1 Axes>"
      ]
     },
     "metadata": {},
     "output_type": "display_data"
    }
   ],
   "source": [
    "plt.figure()\n",
    "#index_crimes['2016'].plot(type='bar')\n",
    "index_crimes[['murder_total','forcible_rape_total','robbery_total','aggravated_assault_total','burglary_total','larceny_theft_total','mvt_total','total_total']].loc[index_crimes['county']=='Albany County Totals'].plot(kind='bar')\n"
   ]
  },
  {
   "cell_type": "code",
   "execution_count": null,
   "metadata": {},
   "outputs": [],
   "source": []
  },
  {
   "cell_type": "code",
   "execution_count": null,
   "metadata": {},
   "outputs": [],
   "source": []
  }
 ],
 "metadata": {
  "kernelspec": {
   "display_name": "Python 3",
   "language": "python",
   "name": "python3"
  },
  "language_info": {
   "codemirror_mode": {
    "name": "ipython",
    "version": 3
   },
   "file_extension": ".py",
   "mimetype": "text/x-python",
   "name": "python",
   "nbconvert_exporter": "python",
   "pygments_lexer": "ipython3",
   "version": "3.6.5"
  }
 },
 "nbformat": 4,
 "nbformat_minor": 2
}
