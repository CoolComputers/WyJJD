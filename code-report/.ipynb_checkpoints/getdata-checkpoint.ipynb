{
 "cells": [
  {
   "cell_type": "code",
   "execution_count": 24,
   "metadata": {},
   "outputs": [],
   "source": [
    "from ipywidgets import widgets\n",
    "import csv\n",
    "import numpy as np\n",
    "import pandas as pd\n",
    "\n",
    "data_folder = '../new-data/'\n",
    "dci_data_folder = data_folder+'DCI/all-combined/'\n",
    "dfs_afcars_data_file = data_folder+'DFS/DFS_12-16-AFCARS-CLEAN.csv'\n",
    "dfs_county_data_file = data_folder+'DFS/DFS_12-16-Placements-ByCounty-CLEAN.csv'\n",
    "dfs_plc_data_file = data_folder+'DFS/DFS_12-16-Placements-ByPLC-CLEAN.csv'\n",
    "school_discipline_data_file = data_folder+'school-discipline/SchoolDiscipline_2007-16_Combined-CSV.csv'\n",
    "\n",
    "dfs_afcars_data = np.genfromtxt(dfs_afcars_data_file, delimiter=\",\", skip_header=0)\n",
    "dfs_county_data = np.genfromtxt(dfs_county_data_file, delimiter=\",\", skip_header=0)\n",
    "dfs_plc_data = np.genfromtxt(dfs_plc_data_file, delimiter=\",\", skip_header=0)\n",
    "school_discipline_data = np.genfromtxt(school_discipline_data_file, delimiter=\";\", skip_header=1)"
   ]
  },
  {
   "cell_type": "code",
   "execution_count": 5,
   "metadata": {},
   "outputs": [
    {
     "name": "stdout",
     "output_type": "stream",
     "text": [
      "currentpath=/home/scrypy/work/wclc/New-Report/code-report\n",
      "found 6 repos\n",
      "['2012', '2013', '2014', '2015', '2016', '2017']\n"
     ]
    }
   ],
   "source": [
    "import os, sys\n",
    "import subprocess\n",
    "#dir_path = os.path.dirname(os.path.realpath(__file__))\n",
    "dir_path = os.getcwd()\n",
    "print('currentpath='+str(dir_path))\n",
    "\n",
    "#dci_year_folders = next(os.walk(dci_data_folder))[0]#current folder\n",
    "dci_year_folders = next(os.walk(dci_data_folder))[1]#folders in this dir\n",
    "#studentRepoFolders = next(os.walk(dci_data_folder))[2]#files in this dir\n",
    "list.sort(dci_year_folders)\n",
    "\n",
    "print(\"found \"+str(len(dci_year_folders))+\" repos\")\n",
    "print(str(dci_year_folders))\n",
    "\n",
    "dci_data_obj = []\n"
   ]
  },
  {
   "cell_type": "code",
   "execution_count": 12,
   "metadata": {},
   "outputs": [],
   "source": [
    "def getAllData():\n",
    "    for year in dci_year_folders:#process each year folder \n",
    "        dci_data_obj.append(year)\n",
    "        current_path = dci_data_folder+year\n",
    "        year_files = next(os.walk(current_path))[2]\n",
    "        #print(year_files)\n",
    "        for f in year_files:#process each file for this year\n",
    "            file_path = current_path+'/'+f\n",
    "            try:\n",
    "                tmpFile = np.genfromtxt(file_path, delimiter=\",\", skip_header=0)\n",
    "                #print('loaded file: '+file_path)\n",
    "            except Exception as e:\n",
    "                print('cant load file: '+file_path)\n",
    "                print('['+str(e)+']')\n",
    "                print('*****************************************************************************************')\n",
    "                print('*****************************************************************************************')\n",
    "            #print(tmpFile)\n",
    "        #for f in next(os.walk(dci_data_folder+'/'+year)):\n",
    "#getAllData()"
   ]
  },
  {
   "cell_type": "code",
   "execution_count": 43,
   "metadata": {},
   "outputs": [],
   "source": [
    "def getOverview():#DONE\n",
    "    gather_overview_frames = []    \n",
    "    current_path = dci_data_folder+'overview/'\n",
    "    print(current_path)\n",
    "    year_files = next(os.walk(current_path))[2]\n",
    "    for f in year_files:#process each file for this year\n",
    "        file_path = current_path+'/'+f\n",
    "        year = f.split('-')[0]\n",
    "        try:\n",
    "            #gather_overview_frames[year] = np.genfromtxt(file_path, delimiter=\",\", skip_header=1)\n",
    "            df = pd.read_csv(file_path,sep=',',header='infer',index_col=0)\n",
    "            df.assign(Year=year)\n",
    "            gather_overview_frames.append(df)\n",
    "        except Exception as e:\n",
    "            print('cant load file: '+file_path)\n",
    "            print('['+str(e)+']')\n",
    "            print('*****************************************************************************************')\n",
    "            \n",
    "                    \n",
    "    return pd.concat(gather_overview_frames)\n",
    "#getOverview()"
   ]
  }
 ],
 "metadata": {
  "kernelspec": {
   "display_name": "Python 2",
   "language": "python",
   "name": "python2"
  },
  "language_info": {
   "codemirror_mode": {
    "name": "ipython",
    "version": 2
   },
   "file_extension": ".py",
   "mimetype": "text/x-python",
   "name": "python",
   "nbconvert_exporter": "python",
   "pygments_lexer": "ipython2",
   "version": "2.7.9"
  }
 },
 "nbformat": 4,
 "nbformat_minor": 2
}
