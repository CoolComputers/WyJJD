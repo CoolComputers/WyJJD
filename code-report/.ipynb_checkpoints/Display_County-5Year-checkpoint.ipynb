{
 "cells": [
  {
   "cell_type": "code",
   "execution_count": 38,
   "metadata": {
    "scrolled": false
   },
   "outputs": [
    {
     "data": {
      "application/javascript": [
       "IPython.OutputArea.prototype._should_scroll = function(lines) {\n",
       "    return false;\n",
       "} "
      ],
      "text/plain": [
       "<IPython.core.display.Javascript object>"
      ]
     },
     "metadata": {},
     "output_type": "display_data"
    },
    {
     "data": {
      "text/html": [
       "<script>requirejs.config({paths: { 'plotly': ['https://cdn.plot.ly/plotly-latest.min']},});if(!window.Plotly) {{require(['plotly'],function(plotly) {window.Plotly=plotly;});}}</script>"
      ],
      "text/vnd.plotly.v1+html": [
       "<script>requirejs.config({paths: { 'plotly': ['https://cdn.plot.ly/plotly-latest.min']},});if(!window.Plotly) {{require(['plotly'],function(plotly) {window.Plotly=plotly;});}}</script>"
      ]
     },
     "metadata": {},
     "output_type": "display_data"
    },
    {
     "data": {
      "text/html": [
       "\n",
       "<style>\n",
       "@media screen{\n",
       ".container { width:90% !important; }\n",
       ".page-break {page-break-after:always;}\n",
       "}\n",
       "@media print{\n",
       ".container { width:90% !important; }\n",
       ".page-break {page-break-after:always;}\n",
       "}\n",
       "</style>\n",
       "\n"
      ],
      "text/plain": [
       "<IPython.core.display.HTML object>"
      ]
     },
     "metadata": {},
     "output_type": "display_data"
    },
    {
     "data": {
      "text/html": [
       "<h1>Carbon County Juvenile Justice 5 Year County Analysis Report for 2014-2017</h1>"
      ],
      "text/plain": [
       "<IPython.core.display.HTML object>"
      ]
     },
     "metadata": {},
     "output_type": "display_data"
    },
    {
     "data": {
      "application/vnd.jupyter.widget-view+json": {
       "model_id": "97619f103ebe46a1b81b840a59f69e3b",
       "version_major": 2,
       "version_minor": 0
      },
      "text/plain": [
       "VBox(children=(HTML(value='<hr><center><h1>ORI Arrests Data</h1></center>'), HTML(value='Data depicted represe…"
      ]
     },
     "metadata": {},
     "output_type": "display_data"
    },
    {
     "data": {
      "application/vnd.jupyter.widget-view+json": {
       "model_id": "f2d883f42fa846e0bf68aefdedb465a5",
       "version_major": 2,
       "version_minor": 0
      },
      "text/plain": [
       "HBox(children=(Output(), Output()))"
      ]
     },
     "metadata": {},
     "output_type": "display_data"
    },
    {
     "data": {
      "application/vnd.jupyter.widget-view+json": {
       "model_id": "895da99e7a574d6298f403c6ebcab9e2",
       "version_major": 2,
       "version_minor": 0
      },
      "text/plain": [
       "HTML(value='<p class=\"page-break\"></p>')"
      ]
     },
     "metadata": {},
     "output_type": "display_data"
    },
    {
     "data": {
      "application/vnd.jupyter.widget-view+json": {
       "model_id": "c4f6776f9b544c0f8970b903995325f8",
       "version_major": 2,
       "version_minor": 0
      },
      "text/plain": [
       "HTML(value='<center><h1>Arrest Rate Comparisons</h1></center>')"
      ]
     },
     "metadata": {},
     "output_type": "display_data"
    },
    {
     "data": {
      "application/vnd.jupyter.widget-view+json": {
       "model_id": "b148e8f34b26463db07878a5c96b5546",
       "version_major": 2,
       "version_minor": 0
      },
      "text/plain": [
       "HTML(value=\"\\n        Depicts county arrest rates calculated from the above ORI Arrests Data. Rate is calculat…"
      ]
     },
     "metadata": {},
     "output_type": "display_data"
    },
    {
     "data": {
      "application/vnd.jupyter.widget-view+json": {
       "model_id": "e1776efc2f50453ba96b621c160b715c",
       "version_major": 2,
       "version_minor": 0
      },
      "text/plain": [
       "HBox(children=(VBox(children=(HTML(value='<h2>County Arrest Rates</h2>'), HBox(children=(Output(),)))), VBox(c…"
      ]
     },
     "metadata": {},
     "output_type": "display_data"
    },
    {
     "data": {
      "application/vnd.jupyter.widget-view+json": {
       "model_id": "10205ff8e0cd474cadd4d61392db464b",
       "version_major": 2,
       "version_minor": 0
      },
      "text/plain": [
       "HBox(children=(VBox(children=(HTML(value='<h2>Juvenile Court Case Counts</h2>'), HTML(value='* denotes case co…"
      ]
     },
     "metadata": {},
     "output_type": "display_data"
    },
    {
     "data": {
      "application/vnd.jupyter.widget-view+json": {
       "model_id": "31633adb9b604471a280b67d5e7e622d",
       "version_major": 2,
       "version_minor": 0
      },
      "text/plain": [
       "HTML(value='<p class=\"page-break\"></p>')"
      ]
     },
     "metadata": {},
     "output_type": "display_data"
    },
    {
     "data": {
      "text/html": [
       "<p class=\"page-break\"></p>"
      ],
      "text/plain": [
       "<IPython.core.display.HTML object>"
      ]
     },
     "metadata": {},
     "output_type": "display_data"
    },
    {
     "data": {
      "text/html": [
       "<br/><br/>"
      ],
      "text/plain": [
       "<IPython.core.display.HTML object>"
      ]
     },
     "metadata": {},
     "output_type": "display_data"
    },
    {
     "data": {
      "text/html": [
       "\n",
       "            <p><b>Left Graph:</b>The bars represent the rate of juveniles arrests per 10,000 people, per year for the county. The line graph represents the Statewide average rate\n",
       "            of juvenile arrests.</p>\n",
       "            <p><b>Right Graph:</b>The bars represent how much the rate for the county has changed since the previous year, and the line graph represents the statewide \n",
       "            average percentage change in rates. Datapoints below the x-axis are times when the rate is decreasing from previous years, and points above the x-axis \n",
       "            represent an increase in the rate.</p>\n",
       "        "
      ],
      "text/plain": [
       "<IPython.core.display.HTML object>"
      ]
     },
     "metadata": {},
     "output_type": "display_data"
    },
    {
     "data": {
      "application/vnd.plotly.v1+json": {
       "data": [
        {
         "marker": {
          "color": "#6699ff",
          "line": {
           "color": "rgb(8,48,107)",
           "width": 1.5
          }
         },
         "name": "Arrest Rate per 10,000",
         "opacity": 0.6,
         "textposition": "auto",
         "type": "bar",
         "uid": "e5712542-b6aa-11e8-a0aa-18d6c706c04c",
         "x": [
          2014,
          2015,
          2016,
          2017
         ],
         "y": [
          3495.01,
          4488.76,
          875.54,
          917.84
         ]
        },
        {
         "marker": {
          "color": "#6699ff",
          "line": {
           "color": "rgb(8,48,107)",
           "width": 1.5
          }
         },
         "name": "Average State Rate",
         "type": "scatter",
         "uid": "e5712543-b6aa-11e8-a0aa-18d6c706c04c",
         "x": [
          2014,
          2015,
          2016,
          2017
         ],
         "y": [
          942.16,
          940.39,
          647.44,
          658.88
         ]
        },
        {
         "marker": {
          "color": "#6699ff",
          "line": {
           "color": "rgb(8,48,107)",
           "width": 1.5
          }
         },
         "name": "% Change in Rate",
         "opacity": 0.6,
         "type": "bar",
         "uid": "e5712544-b6aa-11e8-a0aa-18d6c706c04c",
         "x": [
          2014,
          2015,
          2016,
          2017
         ],
         "xaxis": "x2",
         "y": [
          0.02550101229424029,
          0.28433395040357534,
          -0.8049483599034032,
          0.04831304109463885
         ],
         "yaxis": "y2"
        },
        {
         "marker": {
          "color": "#6699ff",
          "line": {
           "color": "rgb(8,48,107)",
           "width": 1.5
          }
         },
         "name": "Average State % Rate Change",
         "type": "scatter",
         "uid": "e5712545-b6aa-11e8-a0aa-18d6c706c04c",
         "x": [
          2014,
          2015,
          2016,
          2017
         ],
         "xaxis": "x2",
         "y": [
          0.1995323102614788,
          -0.03353745132367398,
          -0.21696192913365023,
          0.2256040493945919
         ],
         "yaxis": "y2"
        }
       ],
       "layout": {
        "autosize": false,
        "height": 600,
        "width": 1000,
        "xaxis": {
         "domain": [
          0,
          0.45
         ]
        },
        "xaxis2": {
         "domain": [
          0.55,
          1
         ]
        },
        "yaxis2": {
         "anchor": "x2"
        }
       }
      },
      "text/html": [
       "<div id=\"c3b72ded-e0db-4596-b792-ce5a7aae17f8\" style=\"height: 600px; width: 1000px;\" class=\"plotly-graph-div\"></div><script type=\"text/javascript\">require([\"plotly\"], function(Plotly) { window.PLOTLYENV=window.PLOTLYENV || {};window.PLOTLYENV.BASE_URL=\"https://plot.ly\";\n",
       "        Plotly.plot(\n",
       "            'c3b72ded-e0db-4596-b792-ce5a7aae17f8',\n",
       "            [{\"x\": [2014, 2015, 2016, 2017], \"y\": [3495.01, 4488.76, 875.54, 917.84], \"opacity\": 0.6, \"type\": \"bar\", \"name\": \"Arrest Rate per 10,000\", \"textposition\": \"auto\", \"marker\": {\"color\": \"#6699ff\", \"line\": {\"color\": \"rgb(8,48,107)\", \"width\": 1.5}}, \"uid\": \"e5712542-b6aa-11e8-a0aa-18d6c706c04c\"}, {\"x\": [2014, 2015, 2016, 2017], \"y\": [942.16, 940.39, 647.44, 658.88], \"type\": \"scatter\", \"name\": \"Average State Rate\", \"marker\": {\"color\": \"#6699ff\", \"line\": {\"color\": \"rgb(8,48,107)\", \"width\": 1.5}}, \"uid\": \"e5712543-b6aa-11e8-a0aa-18d6c706c04c\"}, {\"x\": [2014, 2015, 2016, 2017], \"y\": [0.02550101229424029, 0.28433395040357534, -0.8049483599034032, 0.04831304109463885], \"opacity\": 0.6, \"type\": \"bar\", \"xaxis\": \"x2\", \"yaxis\": \"y2\", \"name\": \"% Change in Rate\", \"marker\": {\"color\": \"#6699ff\", \"line\": {\"color\": \"rgb(8,48,107)\", \"width\": 1.5}}, \"uid\": \"e5712544-b6aa-11e8-a0aa-18d6c706c04c\"}, {\"x\": [2014, 2015, 2016, 2017], \"y\": [0.1995323102614788, -0.03353745132367398, -0.21696192913365023, 0.2256040493945919], \"type\": \"scatter\", \"xaxis\": \"x2\", \"yaxis\": \"y2\", \"name\": \"Average State % Rate Change\", \"marker\": {\"color\": \"#6699ff\", \"line\": {\"color\": \"rgb(8,48,107)\", \"width\": 1.5}}, \"uid\": \"e5712545-b6aa-11e8-a0aa-18d6c706c04c\"}],\n",
       "            {\"height\": 600, \"width\": 1000, \"yaxis2\": {\"anchor\": \"x2\"}, \"xaxis\": {\"domain\": [0, 0.45]}, \"autosize\": false, \"xaxis2\": {\"domain\": [0.55, 1]}},\n",
       "            {\"showLink\": true, \"linkText\": \"Export to plot.ly\"}\n",
       "        ).then(function () {return Plotly.addFrames('c3b72ded-e0db-4596-b792-ce5a7aae17f8',{});}).then(function(){Plotly.animate('c3b72ded-e0db-4596-b792-ce5a7aae17f8');})\n",
       "        });</script>"
      ],
      "text/vnd.plotly.v1+html": [
       "<div id=\"c3b72ded-e0db-4596-b792-ce5a7aae17f8\" style=\"height: 600px; width: 1000px;\" class=\"plotly-graph-div\"></div><script type=\"text/javascript\">require([\"plotly\"], function(Plotly) { window.PLOTLYENV=window.PLOTLYENV || {};window.PLOTLYENV.BASE_URL=\"https://plot.ly\";\n",
       "        Plotly.plot(\n",
       "            'c3b72ded-e0db-4596-b792-ce5a7aae17f8',\n",
       "            [{\"x\": [2014, 2015, 2016, 2017], \"y\": [3495.01, 4488.76, 875.54, 917.84], \"opacity\": 0.6, \"type\": \"bar\", \"name\": \"Arrest Rate per 10,000\", \"textposition\": \"auto\", \"marker\": {\"color\": \"#6699ff\", \"line\": {\"color\": \"rgb(8,48,107)\", \"width\": 1.5}}, \"uid\": \"e5712542-b6aa-11e8-a0aa-18d6c706c04c\"}, {\"x\": [2014, 2015, 2016, 2017], \"y\": [942.16, 940.39, 647.44, 658.88], \"type\": \"scatter\", \"name\": \"Average State Rate\", \"marker\": {\"color\": \"#6699ff\", \"line\": {\"color\": \"rgb(8,48,107)\", \"width\": 1.5}}, \"uid\": \"e5712543-b6aa-11e8-a0aa-18d6c706c04c\"}, {\"x\": [2014, 2015, 2016, 2017], \"y\": [0.02550101229424029, 0.28433395040357534, -0.8049483599034032, 0.04831304109463885], \"opacity\": 0.6, \"type\": \"bar\", \"xaxis\": \"x2\", \"yaxis\": \"y2\", \"name\": \"% Change in Rate\", \"marker\": {\"color\": \"#6699ff\", \"line\": {\"color\": \"rgb(8,48,107)\", \"width\": 1.5}}, \"uid\": \"e5712544-b6aa-11e8-a0aa-18d6c706c04c\"}, {\"x\": [2014, 2015, 2016, 2017], \"y\": [0.1995323102614788, -0.03353745132367398, -0.21696192913365023, 0.2256040493945919], \"type\": \"scatter\", \"xaxis\": \"x2\", \"yaxis\": \"y2\", \"name\": \"Average State % Rate Change\", \"marker\": {\"color\": \"#6699ff\", \"line\": {\"color\": \"rgb(8,48,107)\", \"width\": 1.5}}, \"uid\": \"e5712545-b6aa-11e8-a0aa-18d6c706c04c\"}],\n",
       "            {\"height\": 600, \"width\": 1000, \"yaxis2\": {\"anchor\": \"x2\"}, \"xaxis\": {\"domain\": [0, 0.45]}, \"autosize\": false, \"xaxis2\": {\"domain\": [0.55, 1]}},\n",
       "            {\"showLink\": true, \"linkText\": \"Export to plot.ly\"}\n",
       "        ).then(function () {return Plotly.addFrames('c3b72ded-e0db-4596-b792-ce5a7aae17f8',{});}).then(function(){Plotly.animate('c3b72ded-e0db-4596-b792-ce5a7aae17f8');})\n",
       "        });</script>"
      ]
     },
     "metadata": {},
     "output_type": "display_data"
    },
    {
     "data": {
      "text/html": [
       "<p class=\"page-break\"></p>"
      ],
      "text/plain": [
       "<IPython.core.display.HTML object>"
      ]
     },
     "metadata": {},
     "output_type": "display_data"
    },
    {
     "data": {
      "application/vnd.jupyter.widget-view+json": {
       "model_id": "84c191d03d6b44bb83667d5fb69e6604",
       "version_major": 2,
       "version_minor": 0
      },
      "text/plain": [
       "HTML(value='<hr><h1>DFS Placements</h1>')"
      ]
     },
     "metadata": {},
     "output_type": "display_data"
    },
    {
     "data": {
      "application/vnd.jupyter.widget-view+json": {
       "model_id": "913a3964f71148a3b04bdf081f93caac",
       "version_major": 2,
       "version_minor": 0
      },
      "text/plain": [
       "HTML(value='The left table depicts placement type (of those in care) for probation/delinquency cases only,    …"
      ]
     },
     "metadata": {},
     "output_type": "display_data"
    },
    {
     "data": {
      "application/vnd.jupyter.widget-view+json": {
       "model_id": "8315bc9d0dad4fb190fd246e0a04dd15",
       "version_major": 2,
       "version_minor": 0
      },
      "text/plain": [
       "HBox(children=(VBox(children=(Output(),)), VBox(children=(HTML(value='<h2>District Placement Rates</h2>'), Out…"
      ]
     },
     "metadata": {},
     "output_type": "display_data"
    },
    {
     "data": {
      "application/vnd.jupyter.widget-view+json": {
       "model_id": "0cc6e837893247d1ae56094f4eaaf531",
       "version_major": 2,
       "version_minor": 0
      },
      "text/plain": [
       "HTML(value='<p class=\"page-break\"></p>')"
      ]
     },
     "metadata": {},
     "output_type": "display_data"
    },
    {
     "data": {
      "text/html": [
       "<br/><br/><br/><br/><br/><br/>"
      ],
      "text/plain": [
       "<IPython.core.display.HTML object>"
      ]
     },
     "metadata": {},
     "output_type": "display_data"
    },
    {
     "data": {
      "text/html": [
       "<br/><br/><br/><br/>"
      ],
      "text/plain": [
       "<IPython.core.display.HTML object>"
      ]
     },
     "metadata": {},
     "output_type": "display_data"
    },
    {
     "data": {
      "text/html": [
       "\n",
       "            <p><b>Left Graph:</b>The bars represent the juvenile placement rate per 10,000 people, per year for the county. The line graph represents the Statewide average rate\n",
       "            of juvenile placements.</p>\n",
       "            <p><b>Right Graph:</b>The bars represent how much the rate for the county has changed since the previous year, and the line graph represents the statewide \n",
       "            average percentage change in rates. Datapoints below the x-axis are times when the rate is decreasing from previous years, and points above the x-axis \n",
       "            represent an increase in the rate. </p>\n",
       "        "
      ],
      "text/plain": [
       "<IPython.core.display.HTML object>"
      ]
     },
     "metadata": {},
     "output_type": "display_data"
    },
    {
     "data": {
      "application/vnd.plotly.v1+json": {
       "data": [
        {
         "marker": {
          "color": "#6699ff",
          "line": {
           "color": "rgb(8,48,107)",
           "width": 1.5
          }
         },
         "name": "Placement Rate per 10,000",
         "opacity": 0.6,
         "textposition": "auto",
         "type": "bar",
         "uid": "e5712546-b6aa-11e8-a0aa-18d6c706c04c",
         "x": [
          2014,
          2015,
          2016,
          2017
         ],
         "y": [
          685.52,
          679.47,
          408.51,
          579.27
         ]
        },
        {
         "marker": {
          "color": "#6699ff",
          "line": {
           "color": "rgb(8,48,107)",
           "width": 1.5
          }
         },
         "name": "Average State Rate",
         "type": "scatter",
         "uid": "e5712547-b6aa-11e8-a0aa-18d6c706c04c",
         "x": [
          2014,
          2015,
          2016,
          2017
         ],
         "y": [
          713.51,
          672.92,
          619.78,
          633.37
         ]
        },
        {
         "marker": {
          "color": "#6699ff",
          "line": {
           "color": "rgb(8,48,107)",
           "width": 1.5
          }
         },
         "name": "% Change in Rate",
         "opacity": 0.6,
         "type": "bar",
         "uid": "e5712548-b6aa-11e8-a0aa-18d6c706c04c",
         "x": [
          2014,
          2015,
          2016,
          2017
         ],
         "xaxis": "x2",
         "y": [
          0.07077365239530775,
          -0.008825417201540398,
          -0.39878140315245714,
          0.41800690313578603
         ],
         "yaxis": "y2"
        },
        {
         "marker": {
          "color": "#6699ff",
          "line": {
           "color": "rgb(8,48,107)",
           "width": 1.5
          }
         },
         "name": "Average State % Rate Change",
         "type": "scatter",
         "uid": "e5712549-b6aa-11e8-a0aa-18d6c706c04c",
         "x": [
          2014,
          2015,
          2016,
          2017
         ],
         "xaxis": "x2",
         "y": [
          -0.06833019951948194,
          -0.056887780129220356,
          -0.07896926826368655,
          0.021927135435154455
         ],
         "yaxis": "y2"
        }
       ],
       "layout": {
        "autosize": false,
        "height": 500,
        "width": 1000,
        "xaxis": {
         "domain": [
          0,
          0.45
         ]
        },
        "xaxis2": {
         "domain": [
          0.55,
          1
         ]
        },
        "yaxis2": {
         "anchor": "x2"
        }
       }
      },
      "text/html": [
       "<div id=\"8a3fd4f8-b589-4041-a35f-aefe163738f8\" style=\"height: 500px; width: 1000px;\" class=\"plotly-graph-div\"></div><script type=\"text/javascript\">require([\"plotly\"], function(Plotly) { window.PLOTLYENV=window.PLOTLYENV || {};window.PLOTLYENV.BASE_URL=\"https://plot.ly\";\n",
       "        Plotly.plot(\n",
       "            '8a3fd4f8-b589-4041-a35f-aefe163738f8',\n",
       "            [{\"x\": [2014, 2015, 2016, 2017], \"y\": [685.52, 679.47, 408.51, 579.27], \"opacity\": 0.6, \"type\": \"bar\", \"name\": \"Placement Rate per 10,000\", \"textposition\": \"auto\", \"marker\": {\"color\": \"#6699ff\", \"line\": {\"color\": \"rgb(8,48,107)\", \"width\": 1.5}}, \"uid\": \"e5712546-b6aa-11e8-a0aa-18d6c706c04c\"}, {\"x\": [2014, 2015, 2016, 2017], \"y\": [713.51, 672.92, 619.78, 633.37], \"type\": \"scatter\", \"name\": \"Average State Rate\", \"marker\": {\"color\": \"#6699ff\", \"line\": {\"color\": \"rgb(8,48,107)\", \"width\": 1.5}}, \"uid\": \"e5712547-b6aa-11e8-a0aa-18d6c706c04c\"}, {\"x\": [2014, 2015, 2016, 2017], \"y\": [0.07077365239530775, -0.008825417201540398, -0.39878140315245714, 0.41800690313578603], \"opacity\": 0.6, \"type\": \"bar\", \"xaxis\": \"x2\", \"yaxis\": \"y2\", \"name\": \"% Change in Rate\", \"marker\": {\"color\": \"#6699ff\", \"line\": {\"color\": \"rgb(8,48,107)\", \"width\": 1.5}}, \"uid\": \"e5712548-b6aa-11e8-a0aa-18d6c706c04c\"}, {\"x\": [2014, 2015, 2016, 2017], \"y\": [-0.06833019951948194, -0.056887780129220356, -0.07896926826368655, 0.021927135435154455], \"type\": \"scatter\", \"xaxis\": \"x2\", \"yaxis\": \"y2\", \"name\": \"Average State % Rate Change\", \"marker\": {\"color\": \"#6699ff\", \"line\": {\"color\": \"rgb(8,48,107)\", \"width\": 1.5}}, \"uid\": \"e5712549-b6aa-11e8-a0aa-18d6c706c04c\"}],\n",
       "            {\"height\": 500, \"width\": 1000, \"yaxis2\": {\"anchor\": \"x2\"}, \"xaxis\": {\"domain\": [0, 0.45]}, \"autosize\": false, \"xaxis2\": {\"domain\": [0.55, 1]}},\n",
       "            {\"showLink\": true, \"linkText\": \"Export to plot.ly\"}\n",
       "        ).then(function () {return Plotly.addFrames('8a3fd4f8-b589-4041-a35f-aefe163738f8',{});}).then(function(){Plotly.animate('8a3fd4f8-b589-4041-a35f-aefe163738f8');})\n",
       "        });</script>"
      ],
      "text/vnd.plotly.v1+html": [
       "<div id=\"8a3fd4f8-b589-4041-a35f-aefe163738f8\" style=\"height: 500px; width: 1000px;\" class=\"plotly-graph-div\"></div><script type=\"text/javascript\">require([\"plotly\"], function(Plotly) { window.PLOTLYENV=window.PLOTLYENV || {};window.PLOTLYENV.BASE_URL=\"https://plot.ly\";\n",
       "        Plotly.plot(\n",
       "            '8a3fd4f8-b589-4041-a35f-aefe163738f8',\n",
       "            [{\"x\": [2014, 2015, 2016, 2017], \"y\": [685.52, 679.47, 408.51, 579.27], \"opacity\": 0.6, \"type\": \"bar\", \"name\": \"Placement Rate per 10,000\", \"textposition\": \"auto\", \"marker\": {\"color\": \"#6699ff\", \"line\": {\"color\": \"rgb(8,48,107)\", \"width\": 1.5}}, \"uid\": \"e5712546-b6aa-11e8-a0aa-18d6c706c04c\"}, {\"x\": [2014, 2015, 2016, 2017], \"y\": [713.51, 672.92, 619.78, 633.37], \"type\": \"scatter\", \"name\": \"Average State Rate\", \"marker\": {\"color\": \"#6699ff\", \"line\": {\"color\": \"rgb(8,48,107)\", \"width\": 1.5}}, \"uid\": \"e5712547-b6aa-11e8-a0aa-18d6c706c04c\"}, {\"x\": [2014, 2015, 2016, 2017], \"y\": [0.07077365239530775, -0.008825417201540398, -0.39878140315245714, 0.41800690313578603], \"opacity\": 0.6, \"type\": \"bar\", \"xaxis\": \"x2\", \"yaxis\": \"y2\", \"name\": \"% Change in Rate\", \"marker\": {\"color\": \"#6699ff\", \"line\": {\"color\": \"rgb(8,48,107)\", \"width\": 1.5}}, \"uid\": \"e5712548-b6aa-11e8-a0aa-18d6c706c04c\"}, {\"x\": [2014, 2015, 2016, 2017], \"y\": [-0.06833019951948194, -0.056887780129220356, -0.07896926826368655, 0.021927135435154455], \"type\": \"scatter\", \"xaxis\": \"x2\", \"yaxis\": \"y2\", \"name\": \"Average State % Rate Change\", \"marker\": {\"color\": \"#6699ff\", \"line\": {\"color\": \"rgb(8,48,107)\", \"width\": 1.5}}, \"uid\": \"e5712549-b6aa-11e8-a0aa-18d6c706c04c\"}],\n",
       "            {\"height\": 500, \"width\": 1000, \"yaxis2\": {\"anchor\": \"x2\"}, \"xaxis\": {\"domain\": [0, 0.45]}, \"autosize\": false, \"xaxis2\": {\"domain\": [0.55, 1]}},\n",
       "            {\"showLink\": true, \"linkText\": \"Export to plot.ly\"}\n",
       "        ).then(function () {return Plotly.addFrames('8a3fd4f8-b589-4041-a35f-aefe163738f8',{});}).then(function(){Plotly.animate('8a3fd4f8-b589-4041-a35f-aefe163738f8');})\n",
       "        });</script>"
      ]
     },
     "metadata": {},
     "output_type": "display_data"
    },
    {
     "data": {
      "text/html": [
       "<p class=\"page-break\"></p>"
      ],
      "text/plain": [
       "<IPython.core.display.HTML object>"
      ]
     },
     "metadata": {},
     "output_type": "display_data"
    },
    {
     "data": {
      "application/vnd.jupyter.widget-view+json": {
       "model_id": "9514211075e54183b93a92c1074e8f07",
       "version_major": 2,
       "version_minor": 0
      },
      "text/plain": [
       "VBox(children=(HTML(value='<hr><h2>Educational Discipline Data</h2>'), HTML(value='\\n                    The t…"
      ]
     },
     "metadata": {},
     "output_type": "display_data"
    },
    {
     "data": {
      "application/vnd.jupyter.widget-view+json": {
       "model_id": "28e300bdcf0a485193ef5ba0644bba90",
       "version_major": 2,
       "version_minor": 0
      },
      "text/plain": [
       "HBox(children=(VBox(children=(HTML(value='<h3>County Data</h3>'), Output())),))"
      ]
     },
     "metadata": {},
     "output_type": "display_data"
    },
    {
     "data": {
      "text/html": [
       "<p class=\"page-break\"></p>"
      ],
      "text/plain": [
       "<IPython.core.display.HTML object>"
      ]
     },
     "metadata": {},
     "output_type": "display_data"
    },
    {
     "data": {
      "text/html": [
       "\n",
       "            <p><b>Left Graph:</b>The bars represent the rate of educational discipline events per 10,000 people, per year for the county. The line graph represents the Statewide average rate\n",
       "            of educational discipline incidents.</p>\n",
       "            <p><b>Right Graph:</b>The bars represent how much the rate for the county has changed since the previous year, and the line graph represents the statewide \n",
       "            average percentage change in rates. Datapoints below the x-axis are times when the rate is decreasing from previous years, and points above the x-axis \n",
       "            represent an increase in the rate.</p>\n",
       "        "
      ],
      "text/plain": [
       "<IPython.core.display.HTML object>"
      ]
     },
     "metadata": {},
     "output_type": "display_data"
    },
    {
     "data": {
      "application/vnd.plotly.v1+json": {
       "data": [
        {
         "marker": {
          "color": "#6699ff",
          "line": {
           "color": "rgb(8,48,107)",
           "width": 1.5
          }
         },
         "name": "Incident Rate per 10,000",
         "opacity": 0.6,
         "textposition": "auto",
         "type": "bar",
         "uid": "e571254a-b6aa-11e8-a0aa-18d6c706c04c",
         "x": [
          2014,
          2015,
          2016,
          2017
         ],
         "y": [
          328.1,
          1073.24,
          72.36
         ]
        },
        {
         "marker": {
          "color": "#6699ff",
          "line": {
           "color": "rgb(8,48,107)",
           "width": 1.5
          }
         },
         "name": "Average State Rate",
         "type": "scatter",
         "uid": "e571254b-b6aa-11e8-a0aa-18d6c706c04c",
         "x": [
          2014,
          2015,
          2016,
          2017
         ],
         "y": [
          466.6813043478261,
          526.84,
          127.54826086956523,
          null
         ]
        },
        {
         "marker": {
          "color": "#6699ff",
          "line": {
           "color": "rgb(8,48,107)",
           "width": 1.5
          }
         },
         "name": "% Change in Rate",
         "opacity": 0.6,
         "type": "bar",
         "uid": "e571254c-b6aa-11e8-a0aa-18d6c706c04c",
         "x": [
          2014,
          2015,
          2016,
          2017
         ],
         "xaxis": "x2",
         "y": [
          -0.8011249984846465,
          2.2710758914964946,
          -0.9325779881480377
         ],
         "yaxis": "y2"
        },
        {
         "marker": {
          "color": "#6699ff",
          "line": {
           "color": "rgb(8,48,107)",
           "width": 1.5
          }
         },
         "name": "Average State % Rate Change",
         "type": "scatter",
         "uid": "e571254d-b6aa-11e8-a0aa-18d6c706c04c",
         "x": [
          2014,
          2015,
          2016,
          2017
         ],
         "xaxis": "x2",
         "y": [
          0.15857160749839955,
          0.08620703837738021,
          -0.4866102730724761,
          null
         ],
         "yaxis": "y2"
        }
       ],
       "layout": {
        "autosize": false,
        "height": 500,
        "width": 1000,
        "xaxis": {
         "domain": [
          0,
          0.45
         ]
        },
        "xaxis2": {
         "domain": [
          0.55,
          1
         ]
        },
        "yaxis2": {
         "anchor": "x2"
        }
       }
      },
      "text/html": [
       "<div id=\"3aac39ed-7922-4259-93e0-77ba42c96822\" style=\"height: 500px; width: 1000px;\" class=\"plotly-graph-div\"></div><script type=\"text/javascript\">require([\"plotly\"], function(Plotly) { window.PLOTLYENV=window.PLOTLYENV || {};window.PLOTLYENV.BASE_URL=\"https://plot.ly\";\n",
       "        Plotly.plot(\n",
       "            '3aac39ed-7922-4259-93e0-77ba42c96822',\n",
       "            [{\"x\": [2014, 2015, 2016, 2017], \"y\": [328.1, 1073.24, 72.36], \"opacity\": 0.6, \"type\": \"bar\", \"name\": \"Incident Rate per 10,000\", \"textposition\": \"auto\", \"marker\": {\"color\": \"#6699ff\", \"line\": {\"color\": \"rgb(8,48,107)\", \"width\": 1.5}}, \"uid\": \"e571254a-b6aa-11e8-a0aa-18d6c706c04c\"}, {\"x\": [2014, 2015, 2016, 2017], \"y\": [466.6813043478261, 526.84, 127.54826086956523, null], \"type\": \"scatter\", \"name\": \"Average State Rate\", \"marker\": {\"color\": \"#6699ff\", \"line\": {\"color\": \"rgb(8,48,107)\", \"width\": 1.5}}, \"uid\": \"e571254b-b6aa-11e8-a0aa-18d6c706c04c\"}, {\"x\": [2014, 2015, 2016, 2017], \"y\": [-0.8011249984846465, 2.2710758914964946, -0.9325779881480377], \"opacity\": 0.6, \"type\": \"bar\", \"xaxis\": \"x2\", \"yaxis\": \"y2\", \"name\": \"% Change in Rate\", \"marker\": {\"color\": \"#6699ff\", \"line\": {\"color\": \"rgb(8,48,107)\", \"width\": 1.5}}, \"uid\": \"e571254c-b6aa-11e8-a0aa-18d6c706c04c\"}, {\"x\": [2014, 2015, 2016, 2017], \"y\": [0.15857160749839955, 0.08620703837738021, -0.4866102730724761, null], \"type\": \"scatter\", \"xaxis\": \"x2\", \"yaxis\": \"y2\", \"name\": \"Average State % Rate Change\", \"marker\": {\"color\": \"#6699ff\", \"line\": {\"color\": \"rgb(8,48,107)\", \"width\": 1.5}}, \"uid\": \"e571254d-b6aa-11e8-a0aa-18d6c706c04c\"}],\n",
       "            {\"height\": 500, \"width\": 1000, \"yaxis2\": {\"anchor\": \"x2\"}, \"xaxis\": {\"domain\": [0, 0.45]}, \"autosize\": false, \"xaxis2\": {\"domain\": [0.55, 1]}},\n",
       "            {\"showLink\": true, \"linkText\": \"Export to plot.ly\"}\n",
       "        ).then(function () {return Plotly.addFrames('3aac39ed-7922-4259-93e0-77ba42c96822',{});}).then(function(){Plotly.animate('3aac39ed-7922-4259-93e0-77ba42c96822');})\n",
       "        });</script>"
      ],
      "text/vnd.plotly.v1+html": [
       "<div id=\"3aac39ed-7922-4259-93e0-77ba42c96822\" style=\"height: 500px; width: 1000px;\" class=\"plotly-graph-div\"></div><script type=\"text/javascript\">require([\"plotly\"], function(Plotly) { window.PLOTLYENV=window.PLOTLYENV || {};window.PLOTLYENV.BASE_URL=\"https://plot.ly\";\n",
       "        Plotly.plot(\n",
       "            '3aac39ed-7922-4259-93e0-77ba42c96822',\n",
       "            [{\"x\": [2014, 2015, 2016, 2017], \"y\": [328.1, 1073.24, 72.36], \"opacity\": 0.6, \"type\": \"bar\", \"name\": \"Incident Rate per 10,000\", \"textposition\": \"auto\", \"marker\": {\"color\": \"#6699ff\", \"line\": {\"color\": \"rgb(8,48,107)\", \"width\": 1.5}}, \"uid\": \"e571254a-b6aa-11e8-a0aa-18d6c706c04c\"}, {\"x\": [2014, 2015, 2016, 2017], \"y\": [466.6813043478261, 526.84, 127.54826086956523, null], \"type\": \"scatter\", \"name\": \"Average State Rate\", \"marker\": {\"color\": \"#6699ff\", \"line\": {\"color\": \"rgb(8,48,107)\", \"width\": 1.5}}, \"uid\": \"e571254b-b6aa-11e8-a0aa-18d6c706c04c\"}, {\"x\": [2014, 2015, 2016, 2017], \"y\": [-0.8011249984846465, 2.2710758914964946, -0.9325779881480377], \"opacity\": 0.6, \"type\": \"bar\", \"xaxis\": \"x2\", \"yaxis\": \"y2\", \"name\": \"% Change in Rate\", \"marker\": {\"color\": \"#6699ff\", \"line\": {\"color\": \"rgb(8,48,107)\", \"width\": 1.5}}, \"uid\": \"e571254c-b6aa-11e8-a0aa-18d6c706c04c\"}, {\"x\": [2014, 2015, 2016, 2017], \"y\": [0.15857160749839955, 0.08620703837738021, -0.4866102730724761, null], \"type\": \"scatter\", \"xaxis\": \"x2\", \"yaxis\": \"y2\", \"name\": \"Average State % Rate Change\", \"marker\": {\"color\": \"#6699ff\", \"line\": {\"color\": \"rgb(8,48,107)\", \"width\": 1.5}}, \"uid\": \"e571254d-b6aa-11e8-a0aa-18d6c706c04c\"}],\n",
       "            {\"height\": 500, \"width\": 1000, \"yaxis2\": {\"anchor\": \"x2\"}, \"xaxis\": {\"domain\": [0, 0.45]}, \"autosize\": false, \"xaxis2\": {\"domain\": [0.55, 1]}},\n",
       "            {\"showLink\": true, \"linkText\": \"Export to plot.ly\"}\n",
       "        ).then(function () {return Plotly.addFrames('3aac39ed-7922-4259-93e0-77ba42c96822',{});}).then(function(){Plotly.animate('3aac39ed-7922-4259-93e0-77ba42c96822');})\n",
       "        });</script>"
      ]
     },
     "metadata": {},
     "output_type": "display_data"
    },
    {
     "data": {
      "text/html": [
       "<p>Please visit <a href=\"https://github.com/coolcomputers/WyJJD/new-data/DataGuide.md\" target=\"_blank\">the Data Guide page</a> for data source citations.</p>"
      ],
      "text/plain": [
       "<IPython.core.display.HTML object>"
      ]
     },
     "metadata": {},
     "output_type": "display_data"
    },
    {
     "data": {
      "text/html": [
       "<p>Project created by Cool Computers for the Wyoming Children's Law Center, funded partially by grants provided by the <a href=\"https://www.aecf.org/where-we-work/location/wy/\" target=\"_blank\">Annie E. Casey Foundation</a></p>"
      ],
      "text/plain": [
       "<IPython.core.display.HTML object>"
      ]
     },
     "metadata": {},
     "output_type": "display_data"
    }
   ],
   "source": [
    "%run County-5Year-Report.ipynb"
   ]
  },
  {
   "cell_type": "code",
   "execution_count": null,
   "metadata": {},
   "outputs": [],
   "source": []
  }
 ],
 "metadata": {
  "kernelspec": {
   "display_name": "Python 3",
   "language": "python",
   "name": "python3"
  },
  "language_info": {
   "codemirror_mode": {
    "name": "ipython",
    "version": 3
   },
   "file_extension": ".py",
   "mimetype": "text/x-python",
   "name": "python",
   "nbconvert_exporter": "python",
   "pygments_lexer": "ipython3",
   "version": "3.4.2"
  },
  "widgets": {
   "application/vnd.jupyter.widget-state+json": {
    "state": {
     "00fd99c14dd740b19f368dc02d86ea49": {
      "model_module": "@jupyter-widgets/base",
      "model_module_version": "1.0.0",
      "model_name": "LayoutModel",
      "state": {}
     },
     "0150c3ccf8db433797de2f061d25ce5e": {
      "model_module": "@jupyter-widgets/controls",
      "model_module_version": "1.2.0",
      "model_name": "DescriptionStyleModel",
      "state": {
       "description_width": ""
      }
     },
     "017a91d5f4fe4e5fb567c3b68161fc38": {
      "model_module": "@jupyter-widgets/controls",
      "model_module_version": "1.2.0",
      "model_name": "DescriptionStyleModel",
      "state": {
       "description_width": ""
      }
     },
     "019a304847ac411694c86695f2853d30": {
      "model_module": "@jupyter-widgets/base",
      "model_module_version": "1.0.0",
      "model_name": "LayoutModel",
      "state": {}
     },
     "019c633961824707b67670a217e93dc3": {
      "model_module": "@jupyter-widgets/output",
      "model_module_version": "1.0.0",
      "model_name": "OutputModel",
      "state": {
       "layout": "IPY_MODEL_126ef0bef6c74ab0b354bdca930f8a2a",
       "outputs": [
        {
         "data": {
          "text/html": "<center><h3>Violent Felony</h3></center>",
          "text/plain": "<IPython.core.display.HTML object>"
         },
         "metadata": {},
         "output_type": "display_data"
        },
        {
         "data": {
          "text/html": "<table border=\"1\" class=\"dataframe\">\n  <thead>\n    <tr>\n      <th>County</th>\n      <th colspan=\"4\" halign=\"left\">Albany</th>\n    </tr>\n    <tr>\n      <th>Year</th>\n      <th>2014</th>\n      <th>2015</th>\n      <th>2016</th>\n      <th>2017</th>\n    </tr>\n  </thead>\n  <tbody>\n    <tr>\n      <th>Manslaughter</th>\n      <td>0</td>\n      <td>0</td>\n      <td>0</td>\n      <td>0</td>\n    </tr>\n    <tr>\n      <th>Rape</th>\n      <td>0</td>\n      <td>0</td>\n      <td>0</td>\n      <td>0</td>\n    </tr>\n    <tr>\n      <th>Robbery</th>\n      <td>1</td>\n      <td>0</td>\n      <td>0</td>\n      <td>1</td>\n    </tr>\n    <tr>\n      <th>Aggravated-Assault</th>\n      <td>1</td>\n      <td>1</td>\n      <td>0</td>\n      <td>1</td>\n    </tr>\n    <tr>\n      <th>Totals</th>\n      <td>2</td>\n      <td>1</td>\n      <td>0</td>\n      <td>2</td>\n    </tr>\n  </tbody>\n</table>",
          "text/plain": "<IPython.core.display.HTML object>"
         },
         "metadata": {},
         "output_type": "display_data"
        }
       ]
      }
     },
     "023057692076464e856d903ffe4ba020": {
      "model_module": "@jupyter-widgets/base",
      "model_module_version": "1.0.0",
      "model_name": "LayoutModel",
      "state": {}
     },
     "026e37757d7f4f5ea333d84c6367d1f6": {
      "model_module": "@jupyter-widgets/output",
      "model_module_version": "1.0.0",
      "model_name": "OutputModel",
      "state": {
       "layout": "IPY_MODEL_b3b516f841bb40e2946a4a0ed5a1558b",
       "outputs": [
        {
         "data": {
          "text/html": "<table border=\"1\" class=\"dataframe\">\n  <thead>\n    <tr>\n      <th>County</th>\n      <th colspan=\"66\" halign=\"left\">Albany</th>\n    </tr>\n    <tr>\n      <th>Age Range</th>\n      <th colspan=\"3\" halign=\"left\">0</th>\n      <th colspan=\"3\" halign=\"left\">1</th>\n      <th colspan=\"3\" halign=\"left\">10</th>\n      <th colspan=\"3\" halign=\"left\">11</th>\n      <th colspan=\"3\" halign=\"left\">12</th>\n      <th colspan=\"3\" halign=\"left\">13</th>\n      <th colspan=\"3\" halign=\"left\">14</th>\n      <th colspan=\"3\" halign=\"left\">15</th>\n      <th colspan=\"3\" halign=\"left\">16</th>\n      <th colspan=\"3\" halign=\"left\">17</th>\n      <th colspan=\"3\" halign=\"left\">18 to 20</th>\n      <th colspan=\"3\" halign=\"left\">2</th>\n      <th colspan=\"3\" halign=\"left\">21 to 24</th>\n      <th colspan=\"3\" halign=\"left\">25 &amp; over</th>\n      <th colspan=\"3\" halign=\"left\">3</th>\n      <th colspan=\"3\" halign=\"left\">4</th>\n      <th colspan=\"3\" halign=\"left\">5</th>\n      <th colspan=\"3\" halign=\"left\">6</th>\n      <th colspan=\"3\" halign=\"left\">7</th>\n      <th colspan=\"3\" halign=\"left\">8</th>\n      <th colspan=\"3\" halign=\"left\">9</th>\n      <th colspan=\"3\" halign=\"left\">Total</th>\n    </tr>\n    <tr>\n      <th>Year</th>\n      <th>2014</th>\n      <th>2015</th>\n      <th>2016</th>\n      <th>2014</th>\n      <th>2015</th>\n      <th>2016</th>\n      <th>2014</th>\n      <th>2015</th>\n      <th>2016</th>\n      <th>2014</th>\n      <th>2015</th>\n      <th>2016</th>\n      <th>2014</th>\n      <th>2015</th>\n      <th>2016</th>\n      <th>2014</th>\n      <th>2015</th>\n      <th>2016</th>\n      <th>2014</th>\n      <th>2015</th>\n      <th>2016</th>\n      <th>2014</th>\n      <th>2015</th>\n      <th>2016</th>\n      <th>2014</th>\n      <th>2015</th>\n      <th>2016</th>\n      <th>2014</th>\n      <th>2015</th>\n      <th>2016</th>\n      <th>2014</th>\n      <th>2015</th>\n      <th>2016</th>\n      <th>2014</th>\n      <th>2015</th>\n      <th>2016</th>\n      <th>2014</th>\n      <th>2015</th>\n      <th>2016</th>\n      <th>2014</th>\n      <th>2015</th>\n      <th>2016</th>\n      <th>2014</th>\n      <th>2015</th>\n      <th>2016</th>\n      <th>2014</th>\n      <th>2015</th>\n      <th>2016</th>\n      <th>2014</th>\n      <th>2015</th>\n      <th>2016</th>\n      <th>2014</th>\n      <th>2015</th>\n      <th>2016</th>\n      <th>2014</th>\n      <th>2015</th>\n      <th>2016</th>\n      <th>2014</th>\n      <th>2015</th>\n      <th>2016</th>\n      <th>2014</th>\n      <th>2015</th>\n      <th>2016</th>\n      <th>2014</th>\n      <th>2015</th>\n      <th>2016</th>\n    </tr>\n  </thead>\n  <tbody>\n    <tr>\n      <th>White</th>\n      <td>390</td>\n      <td>386</td>\n      <td>390</td>\n      <td>324</td>\n      <td>367</td>\n      <td>368</td>\n      <td>271</td>\n      <td>294</td>\n      <td>331</td>\n      <td>266</td>\n      <td>284</td>\n      <td>318</td>\n      <td>270</td>\n      <td>275</td>\n      <td>285</td>\n      <td>299</td>\n      <td>275</td>\n      <td>284</td>\n      <td>259</td>\n      <td>291</td>\n      <td>284</td>\n      <td>250</td>\n      <td>277</td>\n      <td>310</td>\n      <td>285</td>\n      <td>252</td>\n      <td>282</td>\n      <td>303</td>\n      <td>291</td>\n      <td>268</td>\n      <td>3721</td>\n      <td>3790</td>\n      <td>3710</td>\n      <td>371</td>\n      <td>336</td>\n      <td>347</td>\n      <td>6703</td>\n      <td>6426</td>\n      <td>6330</td>\n      <td>19033</td>\n      <td>19437</td>\n      <td>19671</td>\n      <td>345</td>\n      <td>350</td>\n      <td>322</td>\n      <td>357</td>\n      <td>325</td>\n      <td>347</td>\n      <td>354</td>\n      <td>348</td>\n      <td>326</td>\n      <td>324</td>\n      <td>341</td>\n      <td>332</td>\n      <td>342</td>\n      <td>324</td>\n      <td>342</td>\n      <td>324</td>\n      <td>341</td>\n      <td>323</td>\n      <td>304</td>\n      <td>317</td>\n      <td>352</td>\n      <td>35095</td>\n      <td>35327</td>\n      <td>35522</td>\n    </tr>\n    <tr>\n      <th>Black</th>\n      <td>14</td>\n      <td>10</td>\n      <td>14</td>\n      <td>16</td>\n      <td>18</td>\n      <td>13</td>\n      <td>9</td>\n      <td>6</td>\n      <td>6</td>\n      <td>6</td>\n      <td>10</td>\n      <td>6</td>\n      <td>11</td>\n      <td>4</td>\n      <td>12</td>\n      <td>9</td>\n      <td>9</td>\n      <td>5</td>\n      <td>3</td>\n      <td>7</td>\n      <td>6</td>\n      <td>5</td>\n      <td>8</td>\n      <td>5</td>\n      <td>9</td>\n      <td>11</td>\n      <td>8</td>\n      <td>23</td>\n      <td>21</td>\n      <td>21</td>\n      <td>75</td>\n      <td>66</td>\n      <td>77</td>\n      <td>13</td>\n      <td>16</td>\n      <td>16</td>\n      <td>208</td>\n      <td>195</td>\n      <td>172</td>\n      <td>399</td>\n      <td>408</td>\n      <td>397</td>\n      <td>19</td>\n      <td>16</td>\n      <td>17</td>\n      <td>19</td>\n      <td>18</td>\n      <td>15</td>\n      <td>24</td>\n      <td>19</td>\n      <td>15</td>\n      <td>19</td>\n      <td>21</td>\n      <td>12</td>\n      <td>8</td>\n      <td>14</td>\n      <td>16</td>\n      <td>9</td>\n      <td>8</td>\n      <td>13</td>\n      <td>7</td>\n      <td>8</td>\n      <td>9</td>\n      <td>905</td>\n      <td>893</td>\n      <td>855</td>\n    </tr>\n    <tr>\n      <th>American Indian</th>\n      <td>5</td>\n      <td>8</td>\n      <td>7</td>\n      <td>7</td>\n      <td>7</td>\n      <td>8</td>\n      <td>6</td>\n      <td>7</td>\n      <td>6</td>\n      <td>2</td>\n      <td>6</td>\n      <td>9</td>\n      <td>8</td>\n      <td>3</td>\n      <td>4</td>\n      <td>1</td>\n      <td>7</td>\n      <td>3</td>\n      <td>7</td>\n      <td>5</td>\n      <td>7</td>\n      <td>6</td>\n      <td>7</td>\n      <td>9</td>\n      <td>2</td>\n      <td>8</td>\n      <td>8</td>\n      <td>5</td>\n      <td>5</td>\n      <td>7</td>\n      <td>28</td>\n      <td>23</td>\n      <td>22</td>\n      <td>12</td>\n      <td>4</td>\n      <td>5</td>\n      <td>108</td>\n      <td>99</td>\n      <td>101</td>\n      <td>246</td>\n      <td>267</td>\n      <td>278</td>\n      <td>5</td>\n      <td>12</td>\n      <td>6</td>\n      <td>6</td>\n      <td>5</td>\n      <td>9</td>\n      <td>9</td>\n      <td>9</td>\n      <td>6</td>\n      <td>7</td>\n      <td>8</td>\n      <td>5</td>\n      <td>11</td>\n      <td>8</td>\n      <td>6</td>\n      <td>6</td>\n      <td>6</td>\n      <td>6</td>\n      <td>5</td>\n      <td>7</td>\n      <td>5</td>\n      <td>492</td>\n      <td>511</td>\n      <td>517</td>\n    </tr>\n    <tr>\n      <th>Asian</th>\n      <td>18</td>\n      <td>18</td>\n      <td>19</td>\n      <td>20</td>\n      <td>11</td>\n      <td>17</td>\n      <td>6</td>\n      <td>7</td>\n      <td>11</td>\n      <td>8</td>\n      <td>6</td>\n      <td>5</td>\n      <td>12</td>\n      <td>7</td>\n      <td>7</td>\n      <td>14</td>\n      <td>12</td>\n      <td>7</td>\n      <td>8</td>\n      <td>13</td>\n      <td>11</td>\n      <td>9</td>\n      <td>8</td>\n      <td>11</td>\n      <td>13</td>\n      <td>6</td>\n      <td>7</td>\n      <td>17</td>\n      <td>14</td>\n      <td>13</td>\n      <td>174</td>\n      <td>190</td>\n      <td>205</td>\n      <td>22</td>\n      <td>17</td>\n      <td>7</td>\n      <td>206</td>\n      <td>227</td>\n      <td>230</td>\n      <td>746</td>\n      <td>728</td>\n      <td>727</td>\n      <td>18</td>\n      <td>17</td>\n      <td>13</td>\n      <td>11</td>\n      <td>18</td>\n      <td>17</td>\n      <td>11</td>\n      <td>10</td>\n      <td>17</td>\n      <td>12</td>\n      <td>8</td>\n      <td>7</td>\n      <td>12</td>\n      <td>10</td>\n      <td>9</td>\n      <td>9</td>\n      <td>13</td>\n      <td>9</td>\n      <td>8</td>\n      <td>8</td>\n      <td>13</td>\n      <td>1354</td>\n      <td>1348</td>\n      <td>1362</td>\n    </tr>\n    <tr>\n      <th>Total</th>\n      <td>427</td>\n      <td>422</td>\n      <td>430</td>\n      <td>367</td>\n      <td>403</td>\n      <td>406</td>\n      <td>292</td>\n      <td>314</td>\n      <td>354</td>\n      <td>282</td>\n      <td>306</td>\n      <td>338</td>\n      <td>301</td>\n      <td>289</td>\n      <td>308</td>\n      <td>323</td>\n      <td>303</td>\n      <td>299</td>\n      <td>277</td>\n      <td>316</td>\n      <td>308</td>\n      <td>270</td>\n      <td>300</td>\n      <td>335</td>\n      <td>309</td>\n      <td>277</td>\n      <td>305</td>\n      <td>348</td>\n      <td>331</td>\n      <td>309</td>\n      <td>3998</td>\n      <td>4069</td>\n      <td>4014</td>\n      <td>418</td>\n      <td>373</td>\n      <td>375</td>\n      <td>7225</td>\n      <td>6947</td>\n      <td>6833</td>\n      <td>20424</td>\n      <td>20840</td>\n      <td>21073</td>\n      <td>387</td>\n      <td>395</td>\n      <td>358</td>\n      <td>393</td>\n      <td>366</td>\n      <td>388</td>\n      <td>398</td>\n      <td>386</td>\n      <td>364</td>\n      <td>362</td>\n      <td>378</td>\n      <td>356</td>\n      <td>373</td>\n      <td>356</td>\n      <td>373</td>\n      <td>348</td>\n      <td>368</td>\n      <td>351</td>\n      <td>324</td>\n      <td>340</td>\n      <td>379</td>\n      <td>37846</td>\n      <td>38079</td>\n      <td>38256</td>\n    </tr>\n  </tbody>\n</table>",
          "text/plain": "<IPython.core.display.HTML object>"
         },
         "metadata": {},
         "output_type": "display_data"
        }
       ]
      }
     },
     "02ca118bdf2547329b06a1dcf3ba3190": {
      "model_module": "@jupyter-widgets/output",
      "model_module_version": "1.0.0",
      "model_name": "OutputModel",
      "state": {
       "layout": "IPY_MODEL_0b331a5dc6c545a8aabcc6b87a89ef1f",
       "outputs": [
        {
         "data": {
          "text/html": "<table border=\"1\" class=\"dataframe\">\n  <thead>\n    <tr>\n      <th>County</th>\n      <th colspan=\"66\" halign=\"left\">Albany</th>\n    </tr>\n    <tr>\n      <th>Age Range</th>\n      <th colspan=\"3\" halign=\"left\">0</th>\n      <th colspan=\"3\" halign=\"left\">1</th>\n      <th colspan=\"3\" halign=\"left\">10</th>\n      <th colspan=\"3\" halign=\"left\">11</th>\n      <th colspan=\"3\" halign=\"left\">12</th>\n      <th colspan=\"3\" halign=\"left\">13</th>\n      <th colspan=\"3\" halign=\"left\">14</th>\n      <th colspan=\"3\" halign=\"left\">15</th>\n      <th colspan=\"3\" halign=\"left\">16</th>\n      <th colspan=\"3\" halign=\"left\">17</th>\n      <th colspan=\"3\" halign=\"left\">18 to 20</th>\n      <th colspan=\"3\" halign=\"left\">2</th>\n      <th colspan=\"3\" halign=\"left\">21 to 24</th>\n      <th colspan=\"3\" halign=\"left\">25 &amp; over</th>\n      <th colspan=\"3\" halign=\"left\">3</th>\n      <th colspan=\"3\" halign=\"left\">4</th>\n      <th colspan=\"3\" halign=\"left\">5</th>\n      <th colspan=\"3\" halign=\"left\">6</th>\n      <th colspan=\"3\" halign=\"left\">7</th>\n      <th colspan=\"3\" halign=\"left\">8</th>\n      <th colspan=\"3\" halign=\"left\">9</th>\n      <th colspan=\"3\" halign=\"left\">Total</th>\n    </tr>\n    <tr>\n      <th>Year</th>\n      <th>2014</th>\n      <th>2015</th>\n      <th>2016</th>\n      <th>2014</th>\n      <th>2015</th>\n      <th>2016</th>\n      <th>2014</th>\n      <th>2015</th>\n      <th>2016</th>\n      <th>2014</th>\n      <th>2015</th>\n      <th>2016</th>\n      <th>2014</th>\n      <th>2015</th>\n      <th>2016</th>\n      <th>2014</th>\n      <th>2015</th>\n      <th>2016</th>\n      <th>2014</th>\n      <th>2015</th>\n      <th>2016</th>\n      <th>2014</th>\n      <th>2015</th>\n      <th>2016</th>\n      <th>2014</th>\n      <th>2015</th>\n      <th>2016</th>\n      <th>2014</th>\n      <th>2015</th>\n      <th>2016</th>\n      <th>2014</th>\n      <th>2015</th>\n      <th>2016</th>\n      <th>2014</th>\n      <th>2015</th>\n      <th>2016</th>\n      <th>2014</th>\n      <th>2015</th>\n      <th>2016</th>\n      <th>2014</th>\n      <th>2015</th>\n      <th>2016</th>\n      <th>2014</th>\n      <th>2015</th>\n      <th>2016</th>\n      <th>2014</th>\n      <th>2015</th>\n      <th>2016</th>\n      <th>2014</th>\n      <th>2015</th>\n      <th>2016</th>\n      <th>2014</th>\n      <th>2015</th>\n      <th>2016</th>\n      <th>2014</th>\n      <th>2015</th>\n      <th>2016</th>\n      <th>2014</th>\n      <th>2015</th>\n      <th>2016</th>\n      <th>2014</th>\n      <th>2015</th>\n      <th>2016</th>\n      <th>2014</th>\n      <th>2015</th>\n      <th>2016</th>\n    </tr>\n  </thead>\n  <tbody>\n    <tr>\n      <th>White</th>\n      <td>390</td>\n      <td>386</td>\n      <td>390</td>\n      <td>324</td>\n      <td>367</td>\n      <td>368</td>\n      <td>271</td>\n      <td>294</td>\n      <td>331</td>\n      <td>266</td>\n      <td>284</td>\n      <td>318</td>\n      <td>270</td>\n      <td>275</td>\n      <td>285</td>\n      <td>299</td>\n      <td>275</td>\n      <td>284</td>\n      <td>259</td>\n      <td>291</td>\n      <td>284</td>\n      <td>250</td>\n      <td>277</td>\n      <td>310</td>\n      <td>285</td>\n      <td>252</td>\n      <td>282</td>\n      <td>303</td>\n      <td>291</td>\n      <td>268</td>\n      <td>3721</td>\n      <td>3790</td>\n      <td>3710</td>\n      <td>371</td>\n      <td>336</td>\n      <td>347</td>\n      <td>6703</td>\n      <td>6426</td>\n      <td>6330</td>\n      <td>19033</td>\n      <td>19437</td>\n      <td>19671</td>\n      <td>345</td>\n      <td>350</td>\n      <td>322</td>\n      <td>357</td>\n      <td>325</td>\n      <td>347</td>\n      <td>354</td>\n      <td>348</td>\n      <td>326</td>\n      <td>324</td>\n      <td>341</td>\n      <td>332</td>\n      <td>342</td>\n      <td>324</td>\n      <td>342</td>\n      <td>324</td>\n      <td>341</td>\n      <td>323</td>\n      <td>304</td>\n      <td>317</td>\n      <td>352</td>\n      <td>35095</td>\n      <td>35327</td>\n      <td>35522</td>\n    </tr>\n    <tr>\n      <th>Black</th>\n      <td>14</td>\n      <td>10</td>\n      <td>14</td>\n      <td>16</td>\n      <td>18</td>\n      <td>13</td>\n      <td>9</td>\n      <td>6</td>\n      <td>6</td>\n      <td>6</td>\n      <td>10</td>\n      <td>6</td>\n      <td>11</td>\n      <td>4</td>\n      <td>12</td>\n      <td>9</td>\n      <td>9</td>\n      <td>5</td>\n      <td>3</td>\n      <td>7</td>\n      <td>6</td>\n      <td>5</td>\n      <td>8</td>\n      <td>5</td>\n      <td>9</td>\n      <td>11</td>\n      <td>8</td>\n      <td>23</td>\n      <td>21</td>\n      <td>21</td>\n      <td>75</td>\n      <td>66</td>\n      <td>77</td>\n      <td>13</td>\n      <td>16</td>\n      <td>16</td>\n      <td>208</td>\n      <td>195</td>\n      <td>172</td>\n      <td>399</td>\n      <td>408</td>\n      <td>397</td>\n      <td>19</td>\n      <td>16</td>\n      <td>17</td>\n      <td>19</td>\n      <td>18</td>\n      <td>15</td>\n      <td>24</td>\n      <td>19</td>\n      <td>15</td>\n      <td>19</td>\n      <td>21</td>\n      <td>12</td>\n      <td>8</td>\n      <td>14</td>\n      <td>16</td>\n      <td>9</td>\n      <td>8</td>\n      <td>13</td>\n      <td>7</td>\n      <td>8</td>\n      <td>9</td>\n      <td>905</td>\n      <td>893</td>\n      <td>855</td>\n    </tr>\n    <tr>\n      <th>American Indian</th>\n      <td>5</td>\n      <td>8</td>\n      <td>7</td>\n      <td>7</td>\n      <td>7</td>\n      <td>8</td>\n      <td>6</td>\n      <td>7</td>\n      <td>6</td>\n      <td>2</td>\n      <td>6</td>\n      <td>9</td>\n      <td>8</td>\n      <td>3</td>\n      <td>4</td>\n      <td>1</td>\n      <td>7</td>\n      <td>3</td>\n      <td>7</td>\n      <td>5</td>\n      <td>7</td>\n      <td>6</td>\n      <td>7</td>\n      <td>9</td>\n      <td>2</td>\n      <td>8</td>\n      <td>8</td>\n      <td>5</td>\n      <td>5</td>\n      <td>7</td>\n      <td>28</td>\n      <td>23</td>\n      <td>22</td>\n      <td>12</td>\n      <td>4</td>\n      <td>5</td>\n      <td>108</td>\n      <td>99</td>\n      <td>101</td>\n      <td>246</td>\n      <td>267</td>\n      <td>278</td>\n      <td>5</td>\n      <td>12</td>\n      <td>6</td>\n      <td>6</td>\n      <td>5</td>\n      <td>9</td>\n      <td>9</td>\n      <td>9</td>\n      <td>6</td>\n      <td>7</td>\n      <td>8</td>\n      <td>5</td>\n      <td>11</td>\n      <td>8</td>\n      <td>6</td>\n      <td>6</td>\n      <td>6</td>\n      <td>6</td>\n      <td>5</td>\n      <td>7</td>\n      <td>5</td>\n      <td>492</td>\n      <td>511</td>\n      <td>517</td>\n    </tr>\n    <tr>\n      <th>Asian</th>\n      <td>18</td>\n      <td>18</td>\n      <td>19</td>\n      <td>20</td>\n      <td>11</td>\n      <td>17</td>\n      <td>6</td>\n      <td>7</td>\n      <td>11</td>\n      <td>8</td>\n      <td>6</td>\n      <td>5</td>\n      <td>12</td>\n      <td>7</td>\n      <td>7</td>\n      <td>14</td>\n      <td>12</td>\n      <td>7</td>\n      <td>8</td>\n      <td>13</td>\n      <td>11</td>\n      <td>9</td>\n      <td>8</td>\n      <td>11</td>\n      <td>13</td>\n      <td>6</td>\n      <td>7</td>\n      <td>17</td>\n      <td>14</td>\n      <td>13</td>\n      <td>174</td>\n      <td>190</td>\n      <td>205</td>\n      <td>22</td>\n      <td>17</td>\n      <td>7</td>\n      <td>206</td>\n      <td>227</td>\n      <td>230</td>\n      <td>746</td>\n      <td>728</td>\n      <td>727</td>\n      <td>18</td>\n      <td>17</td>\n      <td>13</td>\n      <td>11</td>\n      <td>18</td>\n      <td>17</td>\n      <td>11</td>\n      <td>10</td>\n      <td>17</td>\n      <td>12</td>\n      <td>8</td>\n      <td>7</td>\n      <td>12</td>\n      <td>10</td>\n      <td>9</td>\n      <td>9</td>\n      <td>13</td>\n      <td>9</td>\n      <td>8</td>\n      <td>8</td>\n      <td>13</td>\n      <td>1354</td>\n      <td>1348</td>\n      <td>1362</td>\n    </tr>\n    <tr>\n      <th>Total</th>\n      <td>427</td>\n      <td>422</td>\n      <td>430</td>\n      <td>367</td>\n      <td>403</td>\n      <td>406</td>\n      <td>292</td>\n      <td>314</td>\n      <td>354</td>\n      <td>282</td>\n      <td>306</td>\n      <td>338</td>\n      <td>301</td>\n      <td>289</td>\n      <td>308</td>\n      <td>323</td>\n      <td>303</td>\n      <td>299</td>\n      <td>277</td>\n      <td>316</td>\n      <td>308</td>\n      <td>270</td>\n      <td>300</td>\n      <td>335</td>\n      <td>309</td>\n      <td>277</td>\n      <td>305</td>\n      <td>348</td>\n      <td>331</td>\n      <td>309</td>\n      <td>3998</td>\n      <td>4069</td>\n      <td>4014</td>\n      <td>418</td>\n      <td>373</td>\n      <td>375</td>\n      <td>7225</td>\n      <td>6947</td>\n      <td>6833</td>\n      <td>20424</td>\n      <td>20840</td>\n      <td>21073</td>\n      <td>387</td>\n      <td>395</td>\n      <td>358</td>\n      <td>393</td>\n      <td>366</td>\n      <td>388</td>\n      <td>398</td>\n      <td>386</td>\n      <td>364</td>\n      <td>362</td>\n      <td>378</td>\n      <td>356</td>\n      <td>373</td>\n      <td>356</td>\n      <td>373</td>\n      <td>348</td>\n      <td>368</td>\n      <td>351</td>\n      <td>324</td>\n      <td>340</td>\n      <td>379</td>\n      <td>37846</td>\n      <td>38079</td>\n      <td>38256</td>\n    </tr>\n  </tbody>\n</table>",
          "text/plain": "<IPython.core.display.HTML object>"
         },
         "metadata": {},
         "output_type": "display_data"
        }
       ]
      }
     },
     "02e36222a40146aa8fef8a581595342d": {
      "model_module": "@jupyter-widgets/base",
      "model_module_version": "1.0.0",
      "model_name": "LayoutModel",
      "state": {}
     },
     "0305786c1c234f9ea21228c3ec5c0cf9": {
      "model_module": "@jupyter-widgets/base",
      "model_module_version": "1.0.0",
      "model_name": "LayoutModel",
      "state": {}
     },
     "03586702da8248a1a4b61c90d334c9b3": {
      "model_module": "@jupyter-widgets/controls",
      "model_module_version": "1.2.0",
      "model_name": "DescriptionStyleModel",
      "state": {
       "description_width": ""
      }
     },
     "0376bb6afcc540b1bd726ab235e8e390": {
      "model_module": "@jupyter-widgets/controls",
      "model_module_version": "1.2.0",
      "model_name": "VBoxModel",
      "state": {
       "children": [
        "IPY_MODEL_c338f4f5bd9e4c1aaa7341999ab6a70a",
        "IPY_MODEL_061e0f7cbcff4a62aa5d1c15436668d8",
        "IPY_MODEL_2e5a836932104db0802a1a225c947ea3",
        "IPY_MODEL_06c6c0e6ff1f45239fddacb408dcfaa9",
        "IPY_MODEL_4f9a2a7bee334b05b062f3ef6e744ce9"
       ],
       "layout": "IPY_MODEL_ddb1240e4f914c1e98acf567a600b438"
      }
     },
     "03a5fdadf1d845bbb395097bc2c88ddf": {
      "model_module": "@jupyter-widgets/output",
      "model_module_version": "1.0.0",
      "model_name": "OutputModel",
      "state": {
       "layout": "IPY_MODEL_813d2829c1d54f2f9189335773dad1f4",
       "outputs": [
        {
         "data": {
          "text/html": "<hr><h2>Educational Infraction Data</h2>",
          "text/plain": "<IPython.core.display.HTML object>"
         },
         "metadata": {},
         "output_type": "display_data"
        },
        {
         "data": {
          "text/html": "<table border=\"1\" class=\"dataframe\">\n  <thead>\n    <tr style=\"text-align: right;\">\n      <th></th>\n      <th></th>\n      <th></th>\n      <th>DISTRICT_ID</th>\n      <th>DISTRICT_NAME</th>\n      <th>Expulsion - Services not provided</th>\n      <th>Expulsion - Services provided</th>\n      <th>In school suspension</th>\n      <th>Out of school suspension</th>\n    </tr>\n    <tr>\n      <th>county</th>\n      <th>Beginning Year</th>\n      <th>End Year</th>\n      <th></th>\n      <th></th>\n      <th></th>\n      <th></th>\n      <th></th>\n      <th></th>\n    </tr>\n  </thead>\n  <tbody>\n    <tr>\n      <th rowspan=\"4\" valign=\"top\">Sublette</th>\n      <th rowspan=\"2\" valign=\"top\">2013</th>\n      <th>2014</th>\n      <td>1801000</td>\n      <td>Sublette #1</td>\n      <td>NaN</td>\n      <td>NaN</td>\n      <td>64.0</td>\n      <td>41.0</td>\n    </tr>\n    <tr>\n      <th>2014</th>\n      <td>1809000</td>\n      <td>Sublette #9</td>\n      <td>NaN</td>\n      <td>NaN</td>\n      <td>71.0</td>\n      <td>43.0</td>\n    </tr>\n    <tr>\n      <th rowspan=\"2\" valign=\"top\">2014</th>\n      <th>2015</th>\n      <td>1801000</td>\n      <td>Sublette #1</td>\n      <td>NaN</td>\n      <td>37.0</td>\n      <td>56.0</td>\n      <td>NaN</td>\n    </tr>\n    <tr>\n      <th>2015</th>\n      <td>1809000</td>\n      <td>Sublette #9</td>\n      <td>NaN</td>\n      <td>53.0</td>\n      <td>26.0</td>\n      <td>NaN</td>\n    </tr>\n  </tbody>\n</table>",
          "text/plain": "<IPython.core.display.HTML object>"
         },
         "metadata": {},
         "output_type": "display_data"
        }
       ]
      }
     },
     "03a9239a22e64f63928b21046218e89d": {
      "model_module": "@jupyter-widgets/base",
      "model_module_version": "1.0.0",
      "model_name": "LayoutModel",
      "state": {}
     },
     "05483f96327b4d518053c7cfdf92b1bc": {
      "model_module": "@jupyter-widgets/base",
      "model_module_version": "1.0.0",
      "model_name": "LayoutModel",
      "state": {}
     },
     "05653583088e4d258ffaf0cfc770bdd8": {
      "model_module": "@jupyter-widgets/output",
      "model_module_version": "1.0.0",
      "model_name": "OutputModel",
      "state": {
       "layout": "IPY_MODEL_57ad04ddf7964087be2f22e1ec454b5b",
       "outputs": [
        {
         "data": {
          "text/html": "<h2>DFS Placement Data</h2>",
          "text/plain": "<IPython.core.display.HTML object>"
         },
         "metadata": {},
         "output_type": "display_data"
        },
        {
         "name": "stdout",
         "output_type": "stream",
         "text": "Afcars Data\n"
        },
        {
         "data": {
          "text/html": "<table border=\"1\" class=\"dataframe\">\n  <thead>\n    <tr style=\"text-align: right;\">\n      <th></th>\n      <th></th>\n      <th>CHINS</th>\n      <th>DE</th>\n    </tr>\n    <tr>\n      <th>COUNTY</th>\n      <th>YEAR</th>\n      <th></th>\n      <th></th>\n    </tr>\n  </thead>\n  <tbody>\n    <tr>\n      <th rowspan=\"3\" valign=\"top\">Sublette</th>\n      <th>2013</th>\n      <td>6</td>\n      <td>4</td>\n    </tr>\n    <tr>\n      <th>2014</th>\n      <td>2</td>\n      <td>4</td>\n    </tr>\n    <tr>\n      <th>2015</th>\n      <td>1</td>\n      <td>3</td>\n    </tr>\n  </tbody>\n</table>",
          "text/plain": "<IPython.core.display.HTML object>"
         },
         "metadata": {},
         "output_type": "display_data"
        },
        {
         "name": "stdout",
         "output_type": "stream",
         "text": "By County\n"
        },
        {
         "data": {
          "text/html": "<table border=\"1\" class=\"dataframe\">\n  <thead>\n    <tr style=\"text-align: right;\">\n      <th></th>\n      <th></th>\n      <th>CHINS</th>\n      <th>DE</th>\n    </tr>\n    <tr>\n      <th>COUNTY</th>\n      <th>YEAR</th>\n      <th></th>\n      <th></th>\n    </tr>\n  </thead>\n  <tbody>\n    <tr>\n      <th rowspan=\"3\" valign=\"top\">Sublette</th>\n      <th>2013</th>\n      <td>9.0</td>\n      <td>13</td>\n    </tr>\n    <tr>\n      <th>2014</th>\n      <td>15.0</td>\n      <td>11</td>\n    </tr>\n    <tr>\n      <th>2015</th>\n      <td>3.0</td>\n      <td>9</td>\n    </tr>\n  </tbody>\n</table>",
          "text/plain": "<IPython.core.display.HTML object>"
         },
         "metadata": {},
         "output_type": "display_data"
        }
       ]
      }
     },
     "05ad05242147445faf0848c380f7fece": {
      "model_module": "@jupyter-widgets/output",
      "model_module_version": "1.0.0",
      "model_name": "OutputModel",
      "state": {
       "layout": "IPY_MODEL_632b7bb318394709936e5ea8e752f27f",
       "outputs": [
        {
         "data": {
          "text/html": "<table border=\"1\" class=\"dataframe\">\n  <thead>\n    <tr>\n      <th>County</th>\n      <th colspan=\"3\" halign=\"left\">Albany</th>\n    </tr>\n    <tr>\n      <th>Beginning Year</th>\n      <th>2014</th>\n      <th>2015</th>\n      <th>2016</th>\n    </tr>\n    <tr>\n      <th>End Year</th>\n      <th>2015</th>\n      <th>2016</th>\n      <th>2017</th>\n    </tr>\n  </thead>\n  <tbody>\n    <tr>\n      <th>DISTRICT_ID</th>\n      <td>101000</td>\n      <td>101000</td>\n      <td>101000</td>\n    </tr>\n    <tr>\n      <th>DISTRICT_NAME</th>\n      <td>Albany #1</td>\n      <td>Albany #1</td>\n      <td>Albany #1</td>\n    </tr>\n    <tr>\n      <th>Expulsion - Services not provided</th>\n      <td>0</td>\n      <td>0</td>\n      <td>0</td>\n    </tr>\n    <tr>\n      <th>Expulsion - Services provided</th>\n      <td>0</td>\n      <td>0</td>\n      <td>0</td>\n    </tr>\n    <tr>\n      <th>Out of school suspension</th>\n      <td>73</td>\n      <td>162</td>\n      <td>39</td>\n    </tr>\n    <tr>\n      <th>Totals</th>\n      <td>73</td>\n      <td>162</td>\n      <td>39</td>\n    </tr>\n  </tbody>\n</table>",
          "text/plain": "<IPython.core.display.HTML object>"
         },
         "metadata": {},
         "output_type": "display_data"
        }
       ]
      }
     },
     "05b5e1afdbaf4b3780e2008ea136d095": {
      "model_module": "@jupyter-widgets/base",
      "model_module_version": "1.0.0",
      "model_name": "LayoutModel",
      "state": {}
     },
     "060d55fc2e73447db82f754da348ed6d": {
      "model_module": "@jupyter-widgets/base",
      "model_module_version": "1.0.0",
      "model_name": "LayoutModel",
      "state": {}
     },
     "0615baa9b613411d94dfb4d91cf36420": {
      "model_module": "@jupyter-widgets/base",
      "model_module_version": "1.0.0",
      "model_name": "LayoutModel",
      "state": {}
     },
     "061e0f7cbcff4a62aa5d1c15436668d8": {
      "model_module": "@jupyter-widgets/output",
      "model_module_version": "1.0.0",
      "model_name": "OutputModel",
      "state": {
       "layout": "IPY_MODEL_fec25c9818a84932afc5e458e8ed7765",
       "outputs": [
        {
         "data": {
          "text/html": "<table border=\"1\" class=\"dataframe\">\n  <thead>\n    <tr>\n      <th>district</th>\n      <th colspan=\"4\" halign=\"left\">2</th>\n    </tr>\n    <tr>\n      <th>Year</th>\n      <th>2014</th>\n      <th>2015</th>\n      <th>2016</th>\n      <th>2017</th>\n    </tr>\n  </thead>\n  <tbody>\n    <tr>\n      <th>Total</th>\n      <td>240.00</td>\n      <td>237.00</td>\n      <td>146.00</td>\n      <td>209.00</td>\n    </tr>\n    <tr>\n      <th>Population 11-17</th>\n      <td>3501.00</td>\n      <td>3488.00</td>\n      <td>3574.00</td>\n      <td>3608.00</td>\n    </tr>\n    <tr>\n      <th>Rate</th>\n      <td>685.52</td>\n      <td>679.47</td>\n      <td>408.51</td>\n      <td>579.27</td>\n    </tr>\n  </tbody>\n</table>",
          "text/plain": "<IPython.core.display.HTML object>"
         },
         "metadata": {},
         "output_type": "display_data"
        }
       ]
      }
     },
     "06c6c0e6ff1f45239fddacb408dcfaa9": {
      "model_module": "@jupyter-widgets/output",
      "model_module_version": "1.0.0",
      "model_name": "OutputModel",
      "state": {
       "layout": "IPY_MODEL_2b4205134af24b5183db986c8f5396f9",
       "outputs": [
        {
         "data": {
          "text/html": "<table border=\"1\" class=\"dataframe\">\n  <thead>\n    <tr style=\"text-align: right;\">\n      <th>Year</th>\n      <th>2014</th>\n      <th>2015</th>\n      <th>2016</th>\n      <th>2017</th>\n    </tr>\n  </thead>\n  <tbody>\n    <tr>\n      <th>Total</th>\n      <td>3676.00</td>\n      <td>3502.00</td>\n      <td>3249.00</td>\n      <td>3326.00</td>\n    </tr>\n    <tr>\n      <th>Population 11-17</th>\n      <td>51520.00</td>\n      <td>52042.00</td>\n      <td>52422.00</td>\n      <td>52513.00</td>\n    </tr>\n    <tr>\n      <th>Rate</th>\n      <td>713.51</td>\n      <td>672.92</td>\n      <td>619.78</td>\n      <td>633.37</td>\n    </tr>\n  </tbody>\n</table>",
          "text/plain": "<IPython.core.display.HTML object>"
         },
         "metadata": {},
         "output_type": "display_data"
        }
       ]
      }
     },
     "080e9a92d07443b498822bb79f0455b8": {
      "model_module": "@jupyter-widgets/controls",
      "model_module_version": "1.2.0",
      "model_name": "DescriptionStyleModel",
      "state": {
       "description_width": ""
      }
     },
     "09a6b379c75846af9e8af96632df1366": {
      "model_module": "@jupyter-widgets/controls",
      "model_module_version": "1.2.0",
      "model_name": "HTMLModel",
      "state": {
       "layout": "IPY_MODEL_be6fc4e806f9401c841f90d9aa79d9e5",
       "style": "IPY_MODEL_5b39a557fcfa4948ab2af335dceb8fe8",
       "value": "<center><h1>Arrest Rate Comparisons</h1></center>"
      }
     },
     "0a00aa3284f94fd3aeb5d27c5737f47e": {
      "model_module": "@jupyter-widgets/base",
      "model_module_version": "1.0.0",
      "model_name": "LayoutModel",
      "state": {}
     },
     "0b07ce93e085478ba68a7161f893419e": {
      "model_module": "@jupyter-widgets/controls",
      "model_module_version": "1.2.0",
      "model_name": "IntRangeSliderModel",
      "state": {
       "_model_name": "IntRangeSliderModel",
       "_view_name": "IntRangeSliderView",
       "description": "Year range:",
       "layout": "IPY_MODEL_15f79c585ceb41cb91cc71bbd9c5318c",
       "max": 2017,
       "min": 2012,
       "style": "IPY_MODEL_73c369eba0ac4343a99700a82613c5c7",
       "value": [
        2014,
        2017
       ]
      }
     },
     "0b331a5dc6c545a8aabcc6b87a89ef1f": {
      "model_module": "@jupyter-widgets/base",
      "model_module_version": "1.0.0",
      "model_name": "LayoutModel",
      "state": {}
     },
     "0b414fb998084852973a1ce6b5f3853f": {
      "model_module": "@jupyter-widgets/base",
      "model_module_version": "1.0.0",
      "model_name": "LayoutModel",
      "state": {}
     },
     "0b97f44d3d674d7fbd5e845fa8246008": {
      "model_module": "@jupyter-widgets/base",
      "model_module_version": "1.0.0",
      "model_name": "LayoutModel",
      "state": {}
     },
     "0c5e4ed791804b62bfa006baa6f43aa7": {
      "model_module": "@jupyter-widgets/base",
      "model_module_version": "1.0.0",
      "model_name": "LayoutModel",
      "state": {}
     },
     "0c744eeb049a407d9c9f0d5b8ee03f10": {
      "model_module": "@jupyter-widgets/controls",
      "model_module_version": "1.2.0",
      "model_name": "DescriptionStyleModel",
      "state": {
       "description_width": ""
      }
     },
     "0ccd90b84ed04def81dd5bbd48793ba8": {
      "model_module": "@jupyter-widgets/controls",
      "model_module_version": "1.2.0",
      "model_name": "SliderStyleModel",
      "state": {
       "description_width": ""
      }
     },
     "0cd96e6a79e0427ab4629acfb308dc9c": {
      "model_module": "@jupyter-widgets/output",
      "model_module_version": "1.0.0",
      "model_name": "OutputModel",
      "state": {
       "layout": "IPY_MODEL_fd238ea2fa80490892f56697ab204e42",
       "outputs": [
        {
         "data": {
          "text/html": "<table border=\"1\" class=\"dataframe\">\n  <thead>\n    <tr>\n      <th>district</th>\n      <th colspan=\"4\" halign=\"left\">2</th>\n    </tr>\n    <tr>\n      <th>Year</th>\n      <th>2014</th>\n      <th>2015</th>\n      <th>2016</th>\n      <th>2017</th>\n    </tr>\n  </thead>\n  <tbody>\n    <tr>\n      <th>Total</th>\n      <td>240.00</td>\n      <td>237.00</td>\n      <td>146.00</td>\n      <td>209.00</td>\n    </tr>\n    <tr>\n      <th>Population 11-17</th>\n      <td>3501.00</td>\n      <td>3488.00</td>\n      <td>3574.00</td>\n      <td>3608.00</td>\n    </tr>\n    <tr>\n      <th>Rate</th>\n      <td>685.52</td>\n      <td>679.47</td>\n      <td>408.51</td>\n      <td>579.27</td>\n    </tr>\n  </tbody>\n</table>",
          "text/plain": "<IPython.core.display.HTML object>"
         },
         "metadata": {},
         "output_type": "display_data"
        }
       ]
      }
     },
     "0d8fab544e414e32bc8af8972958b66f": {
      "model_module": "@jupyter-widgets/base",
      "model_module_version": "1.0.0",
      "model_name": "LayoutModel",
      "state": {}
     },
     "0e8e1567ee2b49cb8dbddfbae60b4627": {
      "model_module": "@jupyter-widgets/base",
      "model_module_version": "1.0.0",
      "model_name": "LayoutModel",
      "state": {}
     },
     "0f9879bd34e74bd2a7004171d0a33d23": {
      "model_module": "@jupyter-widgets/controls",
      "model_module_version": "1.2.0",
      "model_name": "VBoxModel",
      "state": {
       "children": [
        "IPY_MODEL_432178f7f5924746af3fcd5e0133840e"
       ],
       "layout": "IPY_MODEL_5890deca73b94926b734cae7a170deb6"
      }
     },
     "0f9e7b3fe1d04cba9b768808c84c191b": {
      "model_module": "@jupyter-widgets/base",
      "model_module_version": "1.0.0",
      "model_name": "LayoutModel",
      "state": {}
     },
     "0fbdbb9862754d898b2a09dc16e91379": {
      "model_module": "@jupyter-widgets/controls",
      "model_module_version": "1.2.0",
      "model_name": "HBoxModel",
      "state": {
       "children": [
        "IPY_MODEL_44471f6deadf4c87b841f2178f2fd788"
       ],
       "layout": "IPY_MODEL_aa1932d3891943579c0e41e2f7bccded"
      }
     },
     "10e959ff0cae42c0981e7cdad083e574": {
      "model_module": "@jupyter-widgets/base",
      "model_module_version": "1.0.0",
      "model_name": "LayoutModel",
      "state": {}
     },
     "11472718af5d4bf39d9351c9d7c522ba": {
      "model_module": "@jupyter-widgets/base",
      "model_module_version": "1.0.0",
      "model_name": "LayoutModel",
      "state": {}
     },
     "123b6bb3b33e4d67974e23b482c5f876": {
      "model_module": "@jupyter-widgets/controls",
      "model_module_version": "1.2.0",
      "model_name": "HBoxModel",
      "state": {
       "children": [
        "IPY_MODEL_2f5e9dd44014454cae6f2604c297d845",
        "IPY_MODEL_aa72645ee4f84339a01713d489a76fbf"
       ],
       "layout": "IPY_MODEL_c8adf4d85da541fc804c71e02c660bc6"
      }
     },
     "126ef0bef6c74ab0b354bdca930f8a2a": {
      "model_module": "@jupyter-widgets/base",
      "model_module_version": "1.0.0",
      "model_name": "LayoutModel",
      "state": {}
     },
     "127e63534b214df78f6294fb174b1e72": {
      "model_module": "@jupyter-widgets/base",
      "model_module_version": "1.0.0",
      "model_name": "LayoutModel",
      "state": {}
     },
     "13789be48c3e4a0b81cf82f487998211": {
      "model_module": "@jupyter-widgets/base",
      "model_module_version": "1.0.0",
      "model_name": "LayoutModel",
      "state": {}
     },
     "13d40cb50c5b47648f70b0d4c921f75d": {
      "model_module": "@jupyter-widgets/controls",
      "model_module_version": "1.2.0",
      "model_name": "VBoxModel",
      "state": {
       "children": [
        "IPY_MODEL_d2c582152d164ac39087733872f378f5",
        "IPY_MODEL_15f128b893fa4103baf2fe7fc2cffd2d",
        "IPY_MODEL_300b8553ab974abaaf8ca3376f905788"
       ],
       "layout": "IPY_MODEL_eb18fcb92b4b49afa455f1c307088f20"
      }
     },
     "1405431371364b46bee821f0139876be": {
      "model_module": "@jupyter-widgets/base",
      "model_module_version": "1.0.0",
      "model_name": "LayoutModel",
      "state": {}
     },
     "145097f0577f4adba4f87c381f71464e": {
      "model_module": "@jupyter-widgets/controls",
      "model_module_version": "1.2.0",
      "model_name": "HTMLModel",
      "state": {
       "layout": "IPY_MODEL_2e3ac52478c248bc93b795d8db0eccff",
       "style": "IPY_MODEL_59211449e6184928af3cf61d2518abb9",
       "value": "SOURCE: OOJDP Easy Access to State and County Juvenile Court Case Counts"
      }
     },
     "14b1c6320b154a5eaa25f45592d32dba": {
      "model_module": "@jupyter-widgets/base",
      "model_module_version": "1.0.0",
      "model_name": "LayoutModel",
      "state": {}
     },
     "14b9662c093c4df79dd3aaba537775c6": {
      "model_module": "@jupyter-widgets/controls",
      "model_module_version": "1.2.0",
      "model_name": "DescriptionStyleModel",
      "state": {
       "description_width": ""
      }
     },
     "14caac21f49549ecbd65ecc73b611e93": {
      "model_module": "@jupyter-widgets/controls",
      "model_module_version": "1.2.0",
      "model_name": "HTMLModel",
      "state": {
       "layout": "IPY_MODEL_d19ced3715e5480fa75bf6a9f66a44c7",
       "style": "IPY_MODEL_4730034990914a4ba57106b8ff8a8621",
       "value": "Depicts county arrest rates calculated from the above ORI Arrests Data. Rate is calculated from         the 'Estimate per 10000 people' field at the top of the form. County arrest rates are calculated         using the sum of all arrests for each year for the selected county portrayed in the ORI Arrests Data above. Then for         comparison, the state arrest rates are calculated from all counties for the selected years. Population data is         then added from the OJJDP source containing only population values for ages 11-17 within the county."
      }
     },
     "1513e357833346eba389af4991888913": {
      "model_module": "@jupyter-widgets/controls",
      "model_module_version": "1.2.0",
      "model_name": "HTMLModel",
      "state": {
       "layout": "IPY_MODEL_53d748e9d5054680ad5d15cf167acd23",
       "style": "IPY_MODEL_14b9662c093c4df79dd3aaba537775c6",
       "value": "<p class=\"page-break\"></p>"
      }
     },
     "15de28bf6d784a1c847a22a6dc367884": {
      "model_module": "@jupyter-widgets/controls",
      "model_module_version": "1.2.0",
      "model_name": "HTMLModel",
      "state": {
       "layout": "IPY_MODEL_a9e4e015ab1a4d148f1ba92f605e74f9",
       "style": "IPY_MODEL_d34bb3fca54d4a5884dbe313a0698ca4",
       "value": "<center><h1>Arrest Rate Comparisons</h1></center>"
      }
     },
     "15f128b893fa4103baf2fe7fc2cffd2d": {
      "model_module": "@jupyter-widgets/controls",
      "model_module_version": "1.2.0",
      "model_name": "HBoxModel",
      "state": {
       "children": [
        "IPY_MODEL_2d65d0aa6b0549bf86cf288e694fae6f"
       ],
       "layout": "IPY_MODEL_764097a6fe3c458cac1b8bb4f474e885"
      }
     },
     "15f79c585ceb41cb91cc71bbd9c5318c": {
      "model_module": "@jupyter-widgets/base",
      "model_module_version": "1.0.0",
      "model_name": "LayoutModel",
      "state": {}
     },
     "160cd938ce5249bc981961a510697e2b": {
      "model_module": "@jupyter-widgets/base",
      "model_module_version": "1.0.0",
      "model_name": "LayoutModel",
      "state": {}
     },
     "163a2bd83eab4201a0a42e4441f9c2e9": {
      "model_module": "@jupyter-widgets/base",
      "model_module_version": "1.0.0",
      "model_name": "LayoutModel",
      "state": {}
     },
     "16506cab66b74d538fc9a62c470f96ef": {
      "model_module": "@jupyter-widgets/controls",
      "model_module_version": "1.2.0",
      "model_name": "DescriptionStyleModel",
      "state": {
       "description_width": ""
      }
     },
     "166a592649bb4a7db1d446e01d119a74": {
      "model_module": "@jupyter-widgets/controls",
      "model_module_version": "1.2.0",
      "model_name": "HTMLModel",
      "state": {
       "layout": "IPY_MODEL_69fcd7a1e16e441f834038e9086fb466",
       "style": "IPY_MODEL_f55926081b334851b8ffd90d7e315863",
       "value": "<hr><center><h1>ORI Arrests Data</h1></center>"
      }
     },
     "16ade3fa40d24706933b1ef19f49b920": {
      "model_module": "@jupyter-widgets/controls",
      "model_module_version": "1.2.0",
      "model_name": "HTMLModel",
      "state": {
       "layout": "IPY_MODEL_673fcaf250c54536858ad8ca153b2c94",
       "style": "IPY_MODEL_5e4fedf91d6447c4a3a784ad43bffc3f",
       "value": "The left table depicts placement type (of those in care) for probation/delinquency cases only,                 by Judicial District. The yearly numbers depicted are calculated from the 12-month average of the                  number of juveniles in a placement scenario, as reported at the end of every month.                  Data shown is for the judicial district to which the current selected                  county belongs to. The table on the right shows DFS placements by county as provided by                  the DFS prior to 2017(see note below). Placement rates are calculated using the same method                  as the arrest rates above."
      }
     },
     "177d9ad351924a99aa6d9b1fa0f5d959": {
      "model_module": "@jupyter-widgets/controls",
      "model_module_version": "1.2.0",
      "model_name": "DescriptionStyleModel",
      "state": {
       "description_width": ""
      }
     },
     "177e776113f249c797fdf6a3a8424142": {
      "model_module": "@jupyter-widgets/base",
      "model_module_version": "1.0.0",
      "model_name": "LayoutModel",
      "state": {}
     },
     "17b600e4bc8947ff9e01e66725f26128": {
      "model_module": "@jupyter-widgets/base",
      "model_module_version": "1.0.0",
      "model_name": "LayoutModel",
      "state": {}
     },
     "18bcceb8a5b747c4b718e267280a1703": {
      "model_module": "@jupyter-widgets/base",
      "model_module_version": "1.0.0",
      "model_name": "LayoutModel",
      "state": {}
     },
     "18f1df915d3f432786fd85430faf3a47": {
      "model_module": "@jupyter-widgets/controls",
      "model_module_version": "1.2.0",
      "model_name": "DescriptionStyleModel",
      "state": {
       "description_width": ""
      }
     },
     "18f968346677407ba610f18d581bce0f": {
      "model_module": "@jupyter-widgets/controls",
      "model_module_version": "1.2.0",
      "model_name": "HTMLModel",
      "state": {
       "layout": "IPY_MODEL_023057692076464e856d903ffe4ba020",
       "style": "IPY_MODEL_c41d5feea8a54e2985922e74de52ba6f",
       "value": "<h2>District Placement Rates</h2>"
      }
     },
     "190d9a74ec3a465cabb9a67fdf293981": {
      "model_module": "@jupyter-widgets/controls",
      "model_module_version": "1.2.0",
      "model_name": "DescriptionStyleModel",
      "state": {
       "description_width": ""
      }
     },
     "1b8ece6e62204cfab02aceb4180c8306": {
      "model_module": "@jupyter-widgets/controls",
      "model_module_version": "1.2.0",
      "model_name": "DescriptionStyleModel",
      "state": {
       "description_width": ""
      }
     },
     "1ba3cb8589f34a74910b5c947ad62a14": {
      "model_module": "@jupyter-widgets/controls",
      "model_module_version": "1.2.0",
      "model_name": "HTMLModel",
      "state": {
       "layout": "IPY_MODEL_55041e8d356141d281f184909765b959",
       "style": "IPY_MODEL_fe71d52ea0014984bab6b2622e52a441",
       "value": "SOURCE: OOJDP Easy Access to State and County Juvenile Court Case Counts"
      }
     },
     "1baa91caf7b746cebbaa6ed76732b3b8": {
      "model_module": "@jupyter-widgets/controls",
      "model_module_version": "1.2.0",
      "model_name": "HTMLModel",
      "state": {
       "layout": "IPY_MODEL_4210f09fe65b4e58b2c34404c74470a2",
       "style": "IPY_MODEL_6d13b440ce494446acd7f5ac64031645",
       "value": "<hr><h1>DFS Placements</h1>"
      }
     },
     "1be6e039e9c74af6884224b94afd3f8f": {
      "model_module": "@jupyter-widgets/output",
      "model_module_version": "1.0.0",
      "model_name": "OutputModel",
      "state": {
       "layout": "IPY_MODEL_2aa65284a6c04e989a8d9cefc317dabf",
       "outputs": [
        {
         "data": {
          "text/html": "<table border=\"1\" class=\"dataframe\">\n  <thead>\n    <tr>\n      <th>County</th>\n      <th colspan=\"4\" halign=\"left\">Albany</th>\n    </tr>\n    <tr>\n      <th>Year</th>\n      <th>2014</th>\n      <th>2015</th>\n      <th>2016</th>\n      <th>2017</th>\n    </tr>\n  </thead>\n  <tbody>\n    <tr>\n      <th>Age Range</th>\n      <td>11-17</td>\n      <td>11-17</td>\n      <td>11-17</td>\n      <td>11-17</td>\n    </tr>\n    <tr>\n      <th>White</th>\n      <td>1927</td>\n      <td>1938</td>\n      <td>2018</td>\n      <td>2066</td>\n    </tr>\n    <tr>\n      <th>Black</th>\n      <td>59</td>\n      <td>68</td>\n      <td>68</td>\n      <td>96</td>\n    </tr>\n    <tr>\n      <th>American Indian</th>\n      <td>32</td>\n      <td>40</td>\n      <td>44</td>\n      <td>39</td>\n    </tr>\n    <tr>\n      <th>Asian</th>\n      <td>81</td>\n      <td>63</td>\n      <td>62</td>\n      <td>56</td>\n    </tr>\n    <tr>\n      <th>Total</th>\n      <td>2099</td>\n      <td>2109</td>\n      <td>2192</td>\n      <td>2257</td>\n    </tr>\n  </tbody>\n</table>",
          "text/plain": "<IPython.core.display.HTML object>"
         },
         "metadata": {},
         "output_type": "display_data"
        }
       ]
      }
     },
     "1c3b6e46c23a41829fb13c00be242350": {
      "model_module": "@jupyter-widgets/controls",
      "model_module_version": "1.2.0",
      "model_name": "VBoxModel",
      "state": {
       "children": [
        "IPY_MODEL_4b24fe2117b84edf852dd3069e622c98",
        "IPY_MODEL_9c83810571a8419788bb97bc35937be3"
       ],
       "layout": "IPY_MODEL_e1c213aaa71342888ff2d354ad5d230a"
      }
     },
     "1c42a19888c9447b9709a3abbe60d0b1": {
      "model_module": "@jupyter-widgets/controls",
      "model_module_version": "1.2.0",
      "model_name": "VBoxModel",
      "state": {
       "children": [
        "IPY_MODEL_5c13c3e784b547e7bb27cec5f659f972",
        "IPY_MODEL_fef082307dbd406f9ecdf73bef85804e"
       ],
       "layout": "IPY_MODEL_2baf5ebb3d1f4402b0b689efeb89ce77"
      }
     },
     "1c600317fd1f4d08ab846b2c2ceed5d2": {
      "model_module": "@jupyter-widgets/base",
      "model_module_version": "1.0.0",
      "model_name": "LayoutModel",
      "state": {}
     },
     "1ce1687b907141e4ac680a2dce44422b": {
      "model_module": "@jupyter-widgets/controls",
      "model_module_version": "1.2.0",
      "model_name": "HTMLModel",
      "state": {
       "layout": "IPY_MODEL_c9c93bbbd2ed4351a19efaf931b626e2",
       "style": "IPY_MODEL_1b8ece6e62204cfab02aceb4180c8306",
       "value": "<hr><h2>Educational Discipline Data</h2>"
      }
     },
     "1d29a5a719974e2b960f6407b1844b4f": {
      "model_module": "@jupyter-widgets/controls",
      "model_module_version": "1.2.0",
      "model_name": "HTMLModel",
      "state": {
       "layout": "IPY_MODEL_b8b067183aa549e1a25af12e8ef80e18",
       "style": "IPY_MODEL_7366b1ec41f940a9b61e6b8ee9d6cc33",
       "value": "<h2>County Arrest Rates</h2>"
      }
     },
     "1e5e8cdc7127412a8d472c7aa49c9864": {
      "model_module": "@jupyter-widgets/base",
      "model_module_version": "1.0.0",
      "model_name": "LayoutModel",
      "state": {}
     },
     "20009c6dc90e4688973830ad0ce83608": {
      "model_module": "@jupyter-widgets/controls",
      "model_module_version": "1.2.0",
      "model_name": "DescriptionStyleModel",
      "state": {
       "description_width": ""
      }
     },
     "20254e63808944448db2ad96d4cac6f5": {
      "model_module": "@jupyter-widgets/base",
      "model_module_version": "1.0.0",
      "model_name": "LayoutModel",
      "state": {}
     },
     "210c33c513c948668abea8fbcfcbe664": {
      "model_module": "@jupyter-widgets/base",
      "model_module_version": "1.0.0",
      "model_name": "LayoutModel",
      "state": {}
     },
     "223d009fcb0646ce8c595b47f2005709": {
      "model_module": "@jupyter-widgets/controls",
      "model_module_version": "1.2.0",
      "model_name": "DescriptionStyleModel",
      "state": {
       "description_width": ""
      }
     },
     "22597ec4e3de472e84eb3326ce5352e7": {
      "model_module": "@jupyter-widgets/controls",
      "model_module_version": "1.2.0",
      "model_name": "VBoxModel",
      "state": {
       "children": [
        "IPY_MODEL_6e24123828384783851afb9df2dd899a",
        "IPY_MODEL_7f13df0035b44f5e8ef506da5a280ce2",
        "IPY_MODEL_9e25b3280cf14343bea0b23f09bb529a",
        "IPY_MODEL_f4365071e0324f83b15761a7563abaed"
       ],
       "layout": "IPY_MODEL_49b0fb8d199743f5ba56fc010e0cf690"
      }
     },
     "22f5f8d595154c8e9794e43059cf9213": {
      "model_module": "@jupyter-widgets/base",
      "model_module_version": "1.0.0",
      "model_name": "LayoutModel",
      "state": {}
     },
     "22faf76a58b4450f82c48470479ae7f0": {
      "model_module": "@jupyter-widgets/controls",
      "model_module_version": "1.2.0",
      "model_name": "DescriptionStyleModel",
      "state": {
       "description_width": ""
      }
     },
     "24ad7a8fe0dd4cd89a2f524888182da4": {
      "model_module": "@jupyter-widgets/controls",
      "model_module_version": "1.2.0",
      "model_name": "HTMLModel",
      "state": {
       "layout": "IPY_MODEL_4ed1dc570fe04b7f8caf1d3850ec4a99",
       "style": "IPY_MODEL_f616e2f3c46e479abddac6332a0b4a28",
       "value": "* denotes case counts greater than zero and less than five."
      }
     },
     "24c0b49daa6b442591aa9456a8dceeab": {
      "model_module": "@jupyter-widgets/controls",
      "model_module_version": "1.2.0",
      "model_name": "HBoxModel",
      "state": {
       "children": [
        "IPY_MODEL_d4e02a1b52d74b38babcd81450bde01c",
        "IPY_MODEL_0376bb6afcc540b1bd726ab235e8e390"
       ],
       "layout": "IPY_MODEL_6cec5517575b4bd9a29c3ad1ef8e2f34"
      }
     },
     "25081ffad95f47d19c9e7cfbe33945b1": {
      "model_module": "@jupyter-widgets/controls",
      "model_module_version": "1.2.0",
      "model_name": "DescriptionStyleModel",
      "state": {
       "description_width": ""
      }
     },
     "25592d820c184dafa06cb0464fc0b20f": {
      "model_module": "@jupyter-widgets/base",
      "model_module_version": "1.0.0",
      "model_name": "LayoutModel",
      "state": {}
     },
     "25a5dfa040be47aab22cd7c2cee7e48e": {
      "model_module": "@jupyter-widgets/base",
      "model_module_version": "1.0.0",
      "model_name": "LayoutModel",
      "state": {}
     },
     "25c68434b36943ab8ba11a6fd5f8f94f": {
      "model_module": "@jupyter-widgets/base",
      "model_module_version": "1.0.0",
      "model_name": "LayoutModel",
      "state": {}
     },
     "26994920dd3347b4aa0e2242385820f7": {
      "model_module": "@jupyter-widgets/base",
      "model_module_version": "1.0.0",
      "model_name": "LayoutModel",
      "state": {}
     },
     "27a95f7c03b24cf9bfccbcaf1328ce5b": {
      "model_module": "@jupyter-widgets/output",
      "model_module_version": "1.0.0",
      "model_name": "OutputModel",
      "state": {
       "layout": "IPY_MODEL_5fe744fc605a4e6e9c4a703ef0b3bbfe",
       "outputs": [
        {
         "data": {
          "text/html": "<table border=\"1\" class=\"dataframe\">\n  <thead>\n    <tr>\n      <th>Year</th>\n      <th>2014</th>\n      <th>2015</th>\n      <th>2016</th>\n      <th>2017</th>\n    </tr>\n    <tr>\n      <th>district</th>\n      <th>2</th>\n      <th>2</th>\n      <th>2</th>\n      <th>2</th>\n    </tr>\n  </thead>\n  <tbody>\n    <tr>\n      <th>Psychiatric RTC</th>\n      <td>11</td>\n      <td>11</td>\n      <td>8</td>\n      <td>11</td>\n    </tr>\n    <tr>\n      <th>Long Term FC Non Relative</th>\n      <td>0</td>\n      <td>0</td>\n      <td>0</td>\n      <td>0</td>\n    </tr>\n    <tr>\n      <th>Interim</th>\n      <td>0</td>\n      <td>0</td>\n      <td>0</td>\n      <td>0</td>\n    </tr>\n    <tr>\n      <th>Boys School</th>\n      <td>42</td>\n      <td>36</td>\n      <td>31</td>\n      <td>58</td>\n    </tr>\n    <tr>\n      <th>State Hospital</th>\n      <td>0</td>\n      <td>0</td>\n      <td>0</td>\n      <td>0</td>\n    </tr>\n    <tr>\n      <th>Girls School</th>\n      <td>6</td>\n      <td>17</td>\n      <td>6</td>\n      <td>17</td>\n    </tr>\n    <tr>\n      <th>Hospital</th>\n      <td>0</td>\n      <td>0</td>\n      <td>0</td>\n      <td>1</td>\n    </tr>\n    <tr>\n      <th>Therapeutic FC Non Relative</th>\n      <td>0</td>\n      <td>0</td>\n      <td>0</td>\n      <td>0</td>\n    </tr>\n    <tr>\n      <th>Jail</th>\n      <td>0</td>\n      <td>0</td>\n      <td>0</td>\n      <td>0</td>\n    </tr>\n    <tr>\n      <th>Pre-adoptive home</th>\n      <td>0</td>\n      <td>0</td>\n      <td>0</td>\n      <td>0</td>\n    </tr>\n    <tr>\n      <th>Crisis Center</th>\n      <td>1</td>\n      <td>7</td>\n      <td>4</td>\n      <td>1</td>\n    </tr>\n    <tr>\n      <th>Detention</th>\n      <td>20</td>\n      <td>9</td>\n      <td>18</td>\n      <td>7</td>\n    </tr>\n    <tr>\n      <th>Trial Home Visit</th>\n      <td>9</td>\n      <td>27</td>\n      <td>6</td>\n      <td>5</td>\n    </tr>\n    <tr>\n      <th>Runaway</th>\n      <td>0</td>\n      <td>0</td>\n      <td>0</td>\n      <td>1</td>\n    </tr>\n    <tr>\n      <th>Non-relative foster home</th>\n      <td>39</td>\n      <td>23</td>\n      <td>12</td>\n      <td>12</td>\n    </tr>\n    <tr>\n      <th>Residential Treatment</th>\n      <td>85</td>\n      <td>90</td>\n      <td>47</td>\n      <td>60</td>\n    </tr>\n    <tr>\n      <th>Group Home</th>\n      <td>4</td>\n      <td>16</td>\n      <td>13</td>\n      <td>20</td>\n    </tr>\n    <tr>\n      <th>Specialized FC Non Relative</th>\n      <td>0</td>\n      <td>0</td>\n      <td>0</td>\n      <td>0</td>\n    </tr>\n    <tr>\n      <th>Total Group Care</th>\n      <td>169</td>\n      <td>186</td>\n      <td>127</td>\n      <td>175</td>\n    </tr>\n    <tr>\n      <th>Total Family-like setting</th>\n      <td>71</td>\n      <td>51</td>\n      <td>19</td>\n      <td>32</td>\n    </tr>\n    <tr>\n      <th>Unknown</th>\n      <td>0</td>\n      <td>0</td>\n      <td>0</td>\n      <td>1</td>\n    </tr>\n    <tr>\n      <th>Total Children in Care</th>\n      <td>240</td>\n      <td>237</td>\n      <td>146</td>\n      <td>209</td>\n    </tr>\n  </tbody>\n</table>",
          "text/plain": "<IPython.core.display.HTML object>"
         },
         "metadata": {},
         "output_type": "display_data"
        }
       ]
      }
     },
     "27b6204328eb475992f507e6cb000418": {
      "model_module": "@jupyter-widgets/base",
      "model_module_version": "1.0.0",
      "model_name": "LayoutModel",
      "state": {}
     },
     "2804cd2b59b04633a0070d6bd8dc4878": {
      "model_module": "@jupyter-widgets/base",
      "model_module_version": "1.0.0",
      "model_name": "LayoutModel",
      "state": {}
     },
     "286ece058a8b421e84b4b701412c3df5": {
      "model_module": "@jupyter-widgets/base",
      "model_module_version": "1.0.0",
      "model_name": "LayoutModel",
      "state": {}
     },
     "28a1c2efc3ac46c3b111a52ed799dba0": {
      "model_module": "@jupyter-widgets/base",
      "model_module_version": "1.0.0",
      "model_name": "LayoutModel",
      "state": {}
     },
     "294a745d5eb1429fb10ca1211fd4054e": {
      "model_module": "@jupyter-widgets/controls",
      "model_module_version": "1.2.0",
      "model_name": "DescriptionStyleModel",
      "state": {
       "description_width": ""
      }
     },
     "296c308605564373ab4df74354413559": {
      "model_module": "@jupyter-widgets/controls",
      "model_module_version": "1.2.0",
      "model_name": "DescriptionStyleModel",
      "state": {
       "description_width": ""
      }
     },
     "29ff97ce1e764153b12676fd95df38cf": {
      "model_module": "@jupyter-widgets/controls",
      "model_module_version": "1.2.0",
      "model_name": "DescriptionStyleModel",
      "state": {
       "description_width": ""
      }
     },
     "2aa65284a6c04e989a8d9cefc317dabf": {
      "model_module": "@jupyter-widgets/base",
      "model_module_version": "1.0.0",
      "model_name": "LayoutModel",
      "state": {}
     },
     "2ab4170ddd4044fa82d5ef62ace347e1": {
      "model_module": "@jupyter-widgets/base",
      "model_module_version": "1.0.0",
      "model_name": "LayoutModel",
      "state": {}
     },
     "2aeb3c662f624b76893b4fc064bb4310": {
      "model_module": "@jupyter-widgets/base",
      "model_module_version": "1.0.0",
      "model_name": "LayoutModel",
      "state": {}
     },
     "2b4205134af24b5183db986c8f5396f9": {
      "model_module": "@jupyter-widgets/base",
      "model_module_version": "1.0.0",
      "model_name": "LayoutModel",
      "state": {}
     },
     "2baf5ebb3d1f4402b0b689efeb89ce77": {
      "model_module": "@jupyter-widgets/base",
      "model_module_version": "1.0.0",
      "model_name": "LayoutModel",
      "state": {}
     },
     "2bed3c817d79459bb6cc67da2ea0712b": {
      "model_module": "@jupyter-widgets/controls",
      "model_module_version": "1.2.0",
      "model_name": "HTMLModel",
      "state": {
       "layout": "IPY_MODEL_c493c643304146f3ac653c92ddfdf2d5",
       "style": "IPY_MODEL_f7530ad3104d482d93a9903f75b0ba1b",
       "value": "SOURCE: OOJDP Easy Access to State and County Juvenile Court Case Counts"
      }
     },
     "2bed5a88d4544953ae91b1d69aabfbb3": {
      "model_module": "@jupyter-widgets/base",
      "model_module_version": "1.0.0",
      "model_name": "LayoutModel",
      "state": {}
     },
     "2c6f0b8bc2684fba9338ee0cb05faf26": {
      "model_module": "@jupyter-widgets/output",
      "model_module_version": "1.0.0",
      "model_name": "OutputModel",
      "state": {
       "layout": "IPY_MODEL_27b6204328eb475992f507e6cb000418",
       "outputs": [
        {
         "data": {
          "text/html": "<table border=\"1\" class=\"dataframe\">\n  <thead>\n    <tr>\n      <th>district</th>\n      <th colspan=\"4\" halign=\"left\">2</th>\n    </tr>\n    <tr>\n      <th>Year</th>\n      <th>2014</th>\n      <th>2015</th>\n      <th>2016</th>\n      <th>2017</th>\n    </tr>\n  </thead>\n  <tbody>\n    <tr>\n      <th>Total</th>\n      <td>240.00</td>\n      <td>237.00</td>\n      <td>146.00</td>\n      <td>209.00</td>\n    </tr>\n    <tr>\n      <th>Population 11-17</th>\n      <td>3501.00</td>\n      <td>3488.00</td>\n      <td>3574.00</td>\n      <td>3608.00</td>\n    </tr>\n    <tr>\n      <th>Rate</th>\n      <td>685.52</td>\n      <td>679.47</td>\n      <td>408.51</td>\n      <td>579.27</td>\n    </tr>\n  </tbody>\n</table>",
          "text/plain": "<IPython.core.display.HTML object>"
         },
         "metadata": {},
         "output_type": "display_data"
        }
       ]
      }
     },
     "2d1dc0ae243840e6a3ecb99bbfd06161": {
      "model_module": "@jupyter-widgets/output",
      "model_module_version": "1.0.0",
      "model_name": "OutputModel",
      "state": {
       "layout": "IPY_MODEL_a84089407ea842048c63d07931cb6cb2",
       "outputs": [
        {
         "data": {
          "text/html": "<table border=\"1\" class=\"dataframe\">\n  <thead>\n    <tr style=\"text-align: right;\">\n      <th>Year</th>\n      <th>2014</th>\n      <th>2015</th>\n      <th>2016</th>\n      <th>2017</th>\n    </tr>\n  </thead>\n  <tbody>\n    <tr>\n      <th>Total</th>\n      <td>3676.00</td>\n      <td>3502.00</td>\n      <td>3249.00</td>\n      <td>3326.00</td>\n    </tr>\n    <tr>\n      <th>Population 11-17</th>\n      <td>51520.00</td>\n      <td>52042.00</td>\n      <td>52422.00</td>\n      <td>52513.00</td>\n    </tr>\n    <tr>\n      <th>Rate</th>\n      <td>713.51</td>\n      <td>672.92</td>\n      <td>619.78</td>\n      <td>633.37</td>\n    </tr>\n  </tbody>\n</table>",
          "text/plain": "<IPython.core.display.HTML object>"
         },
         "metadata": {},
         "output_type": "display_data"
        }
       ]
      }
     },
     "2d31a607a14842e79f16ff81e5788ee0": {
      "model_module": "@jupyter-widgets/controls",
      "model_module_version": "1.2.0",
      "model_name": "HBoxModel",
      "state": {
       "children": [
        "IPY_MODEL_cb77666a95324c8392b77f43c969fec8"
       ],
       "layout": "IPY_MODEL_5f2254217b4545db97b451c0b66876cc"
      }
     },
     "2d65d0aa6b0549bf86cf288e694fae6f": {
      "model_module": "@jupyter-widgets/output",
      "model_module_version": "1.0.0",
      "model_name": "OutputModel",
      "state": {
       "layout": "IPY_MODEL_2804cd2b59b04633a0070d6bd8dc4878",
       "outputs": [
        {
         "data": {
          "text/html": "<table border=\"1\" class=\"dataframe\">\n  <thead>\n    <tr>\n      <th>County</th>\n      <th colspan=\"4\" halign=\"left\">Albany</th>\n    </tr>\n    <tr>\n      <th>Year</th>\n      <th>2014</th>\n      <th>2015</th>\n      <th>2016</th>\n      <th>2017</th>\n    </tr>\n  </thead>\n  <tbody>\n    <tr>\n      <th>Total Incidents</th>\n      <td>177.00</td>\n      <td>162.00</td>\n      <td>100.0</td>\n      <td>156.00</td>\n    </tr>\n    <tr>\n      <th>Population 11-17</th>\n      <td>2099.00</td>\n      <td>2109.00</td>\n      <td>2192.0</td>\n      <td>2257.00</td>\n    </tr>\n    <tr>\n      <th>Rate</th>\n      <td>843.26</td>\n      <td>768.14</td>\n      <td>456.2</td>\n      <td>691.18</td>\n    </tr>\n  </tbody>\n</table>",
          "text/plain": "<IPython.core.display.HTML object>"
         },
         "metadata": {},
         "output_type": "display_data"
        }
       ]
      }
     },
     "2d8f807895574cb0b188d216961dccdf": {
      "model_module": "@jupyter-widgets/controls",
      "model_module_version": "1.2.0",
      "model_name": "IntRangeSliderModel",
      "state": {
       "_model_name": "IntRangeSliderModel",
       "_view_name": "IntRangeSliderView",
       "layout": "IPY_MODEL_4ccfc06e91634bbca5dfca528c149055",
       "max": 2017,
       "min": 2012,
       "style": "IPY_MODEL_76aa31458e1447a2bd803dd6f265f93d",
       "value": [
        2013,
        2015
       ]
      }
     },
     "2e3ac52478c248bc93b795d8db0eccff": {
      "model_module": "@jupyter-widgets/base",
      "model_module_version": "1.0.0",
      "model_name": "LayoutModel",
      "state": {}
     },
     "2e5a836932104db0802a1a225c947ea3": {
      "model_module": "@jupyter-widgets/controls",
      "model_module_version": "1.2.0",
      "model_name": "HTMLModel",
      "state": {
       "layout": "IPY_MODEL_fd565130eda64e3e9445aa64eb439696",
       "style": "IPY_MODEL_c01ee8e5a8664aaf8c431828560decb3",
       "value": "<h2>State Placement Rates</h2>"
      }
     },
     "2ea3d655bbb748a3a5f868bf494cc3b0": {
      "model_module": "@jupyter-widgets/base",
      "model_module_version": "1.0.0",
      "model_name": "LayoutModel",
      "state": {}
     },
     "2f5e9dd44014454cae6f2604c297d845": {
      "model_module": "@jupyter-widgets/output",
      "model_module_version": "1.0.0",
      "model_name": "OutputModel",
      "state": {
       "layout": "IPY_MODEL_0e8e1567ee2b49cb8dbddfbae60b4627",
       "outputs": [
        {
         "data": {
          "text/html": "<center><h3>Violent Felony</h3></center>",
          "text/plain": "<IPython.core.display.HTML object>"
         },
         "metadata": {},
         "output_type": "display_data"
        },
        {
         "data": {
          "text/html": "<table border=\"1\" class=\"dataframe\">\n  <thead>\n    <tr>\n      <th>County</th>\n      <th colspan=\"4\" halign=\"left\">Albany</th>\n    </tr>\n    <tr>\n      <th>Year</th>\n      <th>2014</th>\n      <th>2015</th>\n      <th>2016</th>\n      <th>2017</th>\n    </tr>\n  </thead>\n  <tbody>\n    <tr>\n      <th>Manslaughter</th>\n      <td>0</td>\n      <td>0</td>\n      <td>0</td>\n      <td>0</td>\n    </tr>\n    <tr>\n      <th>Rape</th>\n      <td>0</td>\n      <td>0</td>\n      <td>0</td>\n      <td>0</td>\n    </tr>\n    <tr>\n      <th>Robbery</th>\n      <td>1</td>\n      <td>0</td>\n      <td>0</td>\n      <td>1</td>\n    </tr>\n    <tr>\n      <th>Aggravated-Assault</th>\n      <td>1</td>\n      <td>1</td>\n      <td>0</td>\n      <td>1</td>\n    </tr>\n    <tr>\n      <th>Totals</th>\n      <td>2</td>\n      <td>1</td>\n      <td>0</td>\n      <td>2</td>\n    </tr>\n  </tbody>\n</table>",
          "text/plain": "<IPython.core.display.HTML object>"
         },
         "metadata": {},
         "output_type": "display_data"
        }
       ]
      }
     },
     "300b8553ab974abaaf8ca3376f905788": {
      "model_module": "@jupyter-widgets/controls",
      "model_module_version": "1.2.0",
      "model_name": "HTMLModel",
      "state": {
       "layout": "IPY_MODEL_bfdddd75ca014e69aa1ae62c313de920",
       "style": "IPY_MODEL_7ca978ce3cad42f5bdaac35876614476",
       "value": "SOURCE: Wyoming DCI UCR arrests by ORI"
      }
     },
     "31189bbd625341ec89976532dde47687": {
      "model_module": "@jupyter-widgets/output",
      "model_module_version": "1.0.0",
      "model_name": "OutputModel",
      "state": {
       "layout": "IPY_MODEL_904e8be86efe4fedb89532d3698afdb5",
       "outputs": [
        {
         "data": {
          "text/html": "<table border=\"1\" class=\"dataframe\">\n  <thead>\n    <tr>\n      <th>County</th>\n      <th colspan=\"4\" halign=\"left\">Albany</th>\n    </tr>\n    <tr>\n      <th>Year</th>\n      <th>2014</th>\n      <th>2015</th>\n      <th>2016</th>\n      <th>2017</th>\n    </tr>\n  </thead>\n  <tbody>\n    <tr>\n      <th>Age Range</th>\n      <td>11-17</td>\n      <td>11-17</td>\n      <td>11-17</td>\n      <td>11-17</td>\n    </tr>\n    <tr>\n      <th>White</th>\n      <td>1927</td>\n      <td>1938</td>\n      <td>2018</td>\n      <td>2066</td>\n    </tr>\n    <tr>\n      <th>Black</th>\n      <td>59</td>\n      <td>68</td>\n      <td>68</td>\n      <td>96</td>\n    </tr>\n    <tr>\n      <th>American Indian</th>\n      <td>32</td>\n      <td>40</td>\n      <td>44</td>\n      <td>39</td>\n    </tr>\n    <tr>\n      <th>Asian</th>\n      <td>81</td>\n      <td>63</td>\n      <td>62</td>\n      <td>56</td>\n    </tr>\n    <tr>\n      <th>Total</th>\n      <td>2099</td>\n      <td>2109</td>\n      <td>2192</td>\n      <td>2257</td>\n    </tr>\n  </tbody>\n</table>",
          "text/plain": "<IPython.core.display.HTML object>"
         },
         "metadata": {},
         "output_type": "display_data"
        }
       ]
      }
     },
     "319f08d6914d4d8c819c4ba1a6185170": {
      "model_module": "@jupyter-widgets/controls",
      "model_module_version": "1.2.0",
      "model_name": "HTMLModel",
      "state": {
       "layout": "IPY_MODEL_05483f96327b4d518053c7cfdf92b1bc",
       "style": "IPY_MODEL_67b38d8f36f8429da41b2f7a27daa6ec",
       "value": "* denotes case counts greater than zero and less than five."
      }
     },
     "324990beb9244290a7a1de2eda0275f6": {
      "model_module": "@jupyter-widgets/output",
      "model_module_version": "1.0.0",
      "model_name": "OutputModel",
      "state": {
       "layout": "IPY_MODEL_802040cb87954fa283fd2f491739eb63",
       "outputs": [
        {
         "data": {
          "text/html": "<center><h3>Lesser Offenses</h3></center>",
          "text/plain": "<IPython.core.display.HTML object>"
         },
         "metadata": {},
         "output_type": "display_data"
        },
        {
         "data": {
          "text/html": "<table border=\"1\" class=\"dataframe\">\n  <thead>\n    <tr>\n      <th>County</th>\n      <th colspan=\"4\" halign=\"left\">Albany</th>\n    </tr>\n    <tr>\n      <th>Year</th>\n      <th>2014</th>\n      <th>2015</th>\n      <th>2016</th>\n      <th>2017</th>\n    </tr>\n  </thead>\n  <tbody>\n    <tr>\n      <th>Burglary</th>\n      <td>5</td>\n      <td>0</td>\n      <td>0</td>\n      <td>2</td>\n    </tr>\n    <tr>\n      <th>Larceny-Theft</th>\n      <td>30</td>\n      <td>27</td>\n      <td>7</td>\n      <td>19</td>\n    </tr>\n    <tr>\n      <th>Motor-Vehicle-Theft</th>\n      <td>0</td>\n      <td>1</td>\n      <td>0</td>\n      <td>2</td>\n    </tr>\n    <tr>\n      <th>Arson</th>\n      <td>0</td>\n      <td>0</td>\n      <td>0</td>\n      <td>0</td>\n    </tr>\n    <tr>\n      <th>Other-Assaults</th>\n      <td>58</td>\n      <td>40</td>\n      <td>27</td>\n      <td>36</td>\n    </tr>\n    <tr>\n      <th>Forgery-Counterfeiting</th>\n      <td>0</td>\n      <td>0</td>\n      <td>0</td>\n      <td>0</td>\n    </tr>\n    <tr>\n      <th>Fraud</th>\n      <td>0</td>\n      <td>0</td>\n      <td>0</td>\n      <td>1</td>\n    </tr>\n    <tr>\n      <th>Embezzlement</th>\n      <td>0</td>\n      <td>0</td>\n      <td>2</td>\n      <td>0</td>\n    </tr>\n    <tr>\n      <th>Stolen-Property</th>\n      <td>0</td>\n      <td>0</td>\n      <td>0</td>\n      <td>4</td>\n    </tr>\n    <tr>\n      <th>Vandalism</th>\n      <td>14</td>\n      <td>11</td>\n      <td>5</td>\n      <td>11</td>\n    </tr>\n    <tr>\n      <th>Weapons</th>\n      <td>0</td>\n      <td>0</td>\n      <td>0</td>\n      <td>1</td>\n    </tr>\n    <tr>\n      <th>Prostitution</th>\n      <td>0</td>\n      <td>0</td>\n      <td>0</td>\n      <td>0</td>\n    </tr>\n    <tr>\n      <th>Sex-Offenses</th>\n      <td>1</td>\n      <td>0</td>\n      <td>4</td>\n      <td>4</td>\n    </tr>\n    <tr>\n      <th>Drug-Abuse-Violations</th>\n      <td>0</td>\n      <td>0</td>\n      <td>0</td>\n      <td>17</td>\n    </tr>\n    <tr>\n      <th>Drug-Abuse-Violations-Possession</th>\n      <td>15</td>\n      <td>20</td>\n      <td>19</td>\n      <td>17</td>\n    </tr>\n    <tr>\n      <th>Gambling-Offenses</th>\n      <td>0</td>\n      <td>0</td>\n      <td>0</td>\n      <td>0</td>\n    </tr>\n    <tr>\n      <th>Offenses-Against-Family-Children</th>\n      <td>0</td>\n      <td>0</td>\n      <td>0</td>\n      <td>0</td>\n    </tr>\n    <tr>\n      <th>Driving-Under-the-Influence</th>\n      <td>0</td>\n      <td>5</td>\n      <td>1</td>\n      <td>0</td>\n    </tr>\n    <tr>\n      <th>Liquor-Laws</th>\n      <td>22</td>\n      <td>20</td>\n      <td>16</td>\n      <td>20</td>\n    </tr>\n    <tr>\n      <th>Drunkenness</th>\n      <td>0</td>\n      <td>0</td>\n      <td>0</td>\n      <td>0</td>\n    </tr>\n    <tr>\n      <th>Disorderly-Conduct</th>\n      <td>2</td>\n      <td>1</td>\n      <td>1</td>\n      <td>3</td>\n    </tr>\n    <tr>\n      <th>All-Other-Offenses-Except-Traffic</th>\n      <td>28</td>\n      <td>36</td>\n      <td>18</td>\n      <td>17</td>\n    </tr>\n    <tr>\n      <th>Suspicion</th>\n      <td>0</td>\n      <td>0</td>\n      <td>0</td>\n      <td>0</td>\n    </tr>\n    <tr>\n      <th>Curfew-Loitering-Law-Violations</th>\n      <td>0</td>\n      <td>0</td>\n      <td>0</td>\n      <td>0</td>\n    </tr>\n    <tr>\n      <th>Run-a-ways</th>\n      <td>0</td>\n      <td>0</td>\n      <td>0</td>\n      <td>0</td>\n    </tr>\n    <tr>\n      <th>Vagrancy</th>\n      <td>0</td>\n      <td>0</td>\n      <td>0</td>\n      <td>0</td>\n    </tr>\n    <tr>\n      <th>Totals</th>\n      <td>175</td>\n      <td>161</td>\n      <td>100</td>\n      <td>154</td>\n    </tr>\n  </tbody>\n</table>",
          "text/plain": "<IPython.core.display.HTML object>"
         },
         "metadata": {},
         "output_type": "display_data"
        }
       ]
      }
     },
     "32759585e63e41aaa86e7c890daba92d": {
      "model_module": "@jupyter-widgets/base",
      "model_module_version": "1.0.0",
      "model_name": "LayoutModel",
      "state": {}
     },
     "3292c8104a404e7cad2e940eadb5c7d6": {
      "model_module": "@jupyter-widgets/base",
      "model_module_version": "1.0.0",
      "model_name": "LayoutModel",
      "state": {}
     },
     "32e96e341ada4c8babdab31dd5206b42": {
      "model_module": "@jupyter-widgets/controls",
      "model_module_version": "1.2.0",
      "model_name": "HBoxModel",
      "state": {
       "children": [
        "IPY_MODEL_481cce1999014aeba67e6b30f958aa66"
       ],
       "layout": "IPY_MODEL_0f9e7b3fe1d04cba9b768808c84c191b"
      }
     },
     "332ec7f6ad8e4603a29d010748a41d69": {
      "model_module": "@jupyter-widgets/controls",
      "model_module_version": "1.2.0",
      "model_name": "HTMLModel",
      "state": {
       "layout": "IPY_MODEL_163a2bd83eab4201a0a42e4441f9c2e9",
       "style": "IPY_MODEL_d5a9fde2ef6043d8a3469bb2397f2252",
       "value": "<hr><h1>DFS Placements</h1>"
      }
     },
     "3375458cc1964adc9d32d831587fc042": {
      "model_module": "@jupyter-widgets/base",
      "model_module_version": "1.0.0",
      "model_name": "LayoutModel",
      "state": {}
     },
     "3409beb59a954b2e84317f5956305049": {
      "model_module": "@jupyter-widgets/controls",
      "model_module_version": "1.2.0",
      "model_name": "VBoxModel",
      "state": {
       "children": [
        "IPY_MODEL_80fc29fd14a145608810376259ae45d1",
        "IPY_MODEL_a4bc91b15e2d4438a59e159c52c7e84a",
        "IPY_MODEL_6f07dec497f34e2ba7e146d72d090734",
        "IPY_MODEL_2d1dc0ae243840e6a3ecb99bbfd06161",
        "IPY_MODEL_1c42a19888c9447b9709a3abbe60d0b1"
       ],
       "layout": "IPY_MODEL_86ebc32530914a4087845db6ccd7c8e7"
      }
     },
     "34384f9df26046f18d868c6533a69067": {
      "model_module": "@jupyter-widgets/controls",
      "model_module_version": "1.2.0",
      "model_name": "HBoxModel",
      "state": {
       "children": [
        "IPY_MODEL_b315e4c2776d473b9613f9c8be21e3a4"
       ],
       "layout": "IPY_MODEL_2ab4170ddd4044fa82d5ef62ace347e1"
      }
     },
     "3494d04a86564f17b218420ee14bc366": {
      "model_module": "@jupyter-widgets/controls",
      "model_module_version": "1.2.0",
      "model_name": "HTMLModel",
      "state": {
       "layout": "IPY_MODEL_0615baa9b613411d94dfb4d91cf36420",
       "style": "IPY_MODEL_8ec5b9adaf04427dbf6787cfe50c868e",
       "value": "<p class=\"page-break\"></p>"
      }
     },
     "34d86c85538540019a5bb9fe936a931f": {
      "model_module": "@jupyter-widgets/controls",
      "model_module_version": "1.2.0",
      "model_name": "HTMLModel",
      "state": {
       "layout": "IPY_MODEL_fd16c5b1ec364f4db163b1c049c17de7",
       "style": "IPY_MODEL_ab21be507c3448b9ad191eb9037f170f",
       "value": "Depicts county arrest rates calculated from the above ORI Arrests Data. Rate is calculated from         the 'Estimate per 10000 people' field at the top of the form. County arrest rates are calculated         using the sum of all arrests for each year for the selected county portrayed in the ORI Arrests Data above. Then for         comparison, the state arrest rates are calculated from all counties for the selected years. Population data is         then added from the OJJDP source containing only population values for ages 11-17 within the county."
      }
     },
     "3569b8b23b1f499e8372bd8a27791240": {
      "model_module": "@jupyter-widgets/controls",
      "model_module_version": "1.2.0",
      "model_name": "HTMLModel",
      "state": {
       "layout": "IPY_MODEL_c743549137ac479ba563518f9438c374",
       "style": "IPY_MODEL_296c308605564373ab4df74354413559",
       "value": "SOURCE: Wyoming DCI UCR arrests by ORI"
      }
     },
     "3596f1157f50468cb6d7ef9f0adf3d68": {
      "model_module": "@jupyter-widgets/controls",
      "model_module_version": "1.2.0",
      "model_name": "DescriptionStyleModel",
      "state": {
       "description_width": ""
      }
     },
     "35ef21063e594b8baf999d437eacf720": {
      "model_module": "@jupyter-widgets/controls",
      "model_module_version": "1.2.0",
      "model_name": "HBoxModel",
      "state": {
       "children": [
        "IPY_MODEL_1be6e039e9c74af6884224b94afd3f8f"
       ],
       "layout": "IPY_MODEL_c2fd49980fa14433947916888ce6abdf"
      }
     },
     "37747c8d69384b0d8c96a9660f11140e": {
      "model_module": "@jupyter-widgets/base",
      "model_module_version": "1.0.0",
      "model_name": "LayoutModel",
      "state": {}
     },
     "37e0508c10e64e108578aca097a36836": {
      "model_module": "@jupyter-widgets/base",
      "model_module_version": "1.0.0",
      "model_name": "LayoutModel",
      "state": {}
     },
     "38849c6caad047c8b4769f0ef40fab48": {
      "model_module": "@jupyter-widgets/controls",
      "model_module_version": "1.2.0",
      "model_name": "SelectModel",
      "state": {
       "_options_labels": [
        "10000"
       ],
       "description": "Estimate per",
       "index": 0,
       "layout": "IPY_MODEL_f0b1b9a296d7435e8a9fdc22a7f85b8e",
       "style": "IPY_MODEL_b67b900b72c1451f8a189b75cb43ef5b"
      }
     },
     "39757c239cba493fbdf8e06bda554537": {
      "model_module": "@jupyter-widgets/base",
      "model_module_version": "1.0.0",
      "model_name": "LayoutModel",
      "state": {}
     },
     "39c580711cea4eb4a46e39875344b3d9": {
      "model_module": "@jupyter-widgets/controls",
      "model_module_version": "1.2.0",
      "model_name": "HTMLModel",
      "state": {
       "layout": "IPY_MODEL_d6e0e216af6148f99ea2c1609efe9948",
       "style": "IPY_MODEL_18f1df915d3f432786fd85430faf3a47",
       "value": "SOURCE: Wyoming DCI UCR arrests by ORI"
      }
     },
     "39dd58e9df3d44fba0e47daec3cdd090": {
      "model_module": "@jupyter-widgets/controls",
      "model_module_version": "1.2.0",
      "model_name": "DescriptionStyleModel",
      "state": {
       "description_width": ""
      }
     },
     "3ab7cd1f743a4ce19939cf3bc5aeb2df": {
      "model_module": "@jupyter-widgets/base",
      "model_module_version": "1.0.0",
      "model_name": "LayoutModel",
      "state": {}
     },
     "3b21590575cf4dfc9893c10f9e2c5272": {
      "model_module": "@jupyter-widgets/base",
      "model_module_version": "1.0.0",
      "model_name": "LayoutModel",
      "state": {}
     },
     "3c0ec63ffddf412c8e937677fb19a3bb": {
      "model_module": "@jupyter-widgets/controls",
      "model_module_version": "1.2.0",
      "model_name": "DescriptionStyleModel",
      "state": {
       "description_width": ""
      }
     },
     "3c593661ccbf4abf93ba2f5d152b43f3": {
      "model_module": "@jupyter-widgets/base",
      "model_module_version": "1.0.0",
      "model_name": "LayoutModel",
      "state": {}
     },
     "3c7549aa4fee44aa98acd19e12cba007": {
      "model_module": "@jupyter-widgets/base",
      "model_module_version": "1.0.0",
      "model_name": "LayoutModel",
      "state": {}
     },
     "3c8a94cb5a1341c3875e73c4a2f66447": {
      "model_module": "@jupyter-widgets/controls",
      "model_module_version": "1.2.0",
      "model_name": "DescriptionStyleModel",
      "state": {
       "description_width": ""
      }
     },
     "3c97ef26eb714d8e8c82a1a757387f77": {
      "model_module": "@jupyter-widgets/base",
      "model_module_version": "1.0.0",
      "model_name": "LayoutModel",
      "state": {}
     },
     "3d753131022a4565b9f41172a85d8774": {
      "model_module": "@jupyter-widgets/base",
      "model_module_version": "1.0.0",
      "model_name": "LayoutModel",
      "state": {}
     },
     "3f936b19b0f04970904a4eafc36bd33e": {
      "model_module": "@jupyter-widgets/output",
      "model_module_version": "1.0.0",
      "model_name": "OutputModel",
      "state": {
       "layout": "IPY_MODEL_39757c239cba493fbdf8e06bda554537",
       "outputs": [
        {
         "data": {
          "text/html": "<table border=\"1\" class=\"dataframe\">\n  <thead>\n    <tr style=\"text-align: right;\">\n      <th>Year</th>\n      <th>2014</th>\n      <th>2015</th>\n      <th>2016</th>\n      <th>2017</th>\n    </tr>\n  </thead>\n  <tbody>\n    <tr>\n      <th>Total Incidents</th>\n      <td>4854.00</td>\n      <td>4894.00</td>\n      <td>3394.00</td>\n      <td>3460.00</td>\n    </tr>\n    <tr>\n      <th>Population 11-17</th>\n      <td>51520.00</td>\n      <td>52042.00</td>\n      <td>52422.00</td>\n      <td>52513.00</td>\n    </tr>\n    <tr>\n      <th>Rate</th>\n      <td>942.16</td>\n      <td>940.39</td>\n      <td>647.44</td>\n      <td>658.88</td>\n    </tr>\n  </tbody>\n</table>",
          "text/plain": "<IPython.core.display.HTML object>"
         },
         "metadata": {},
         "output_type": "display_data"
        }
       ]
      }
     },
     "3fa5ca45868245a2aaadc6f44a0edea5": {
      "model_module": "@jupyter-widgets/base",
      "model_module_version": "1.0.0",
      "model_name": "LayoutModel",
      "state": {}
     },
     "414fed226284457a921ff2cf84a7c9d4": {
      "model_module": "@jupyter-widgets/controls",
      "model_module_version": "1.2.0",
      "model_name": "DropdownModel",
      "state": {
       "_options_labels": [
        "Sublette",
        "Albany",
        "Natrona",
        "Fremont",
        "Sheridan",
        "Laramie",
        "Teton",
        "Washakie",
        "Converse",
        "Park",
        "Hot Springs",
        "Carbon",
        "Platte",
        "Lincoln",
        "Johnson",
        "Big Horn",
        "Goshen",
        "Sweetwater",
        "Weston",
        "Crook",
        "Uinta",
        "Campbell",
        "Niobrara"
       ],
       "description": "County:",
       "index": 0,
       "layout": "IPY_MODEL_db93b44db9354abe8188a8bb6fd0e392",
       "style": "IPY_MODEL_a71e152b97334f16839de11d56630b16"
      }
     },
     "41614febb566474d880ba73ad5253226": {
      "model_module": "@jupyter-widgets/base",
      "model_module_version": "1.0.0",
      "model_name": "LayoutModel",
      "state": {}
     },
     "41701dd7865543ea89e091e10e10590d": {
      "model_module": "@jupyter-widgets/controls",
      "model_module_version": "1.2.0",
      "model_name": "HTMLModel",
      "state": {
       "layout": "IPY_MODEL_160cd938ce5249bc981961a510697e2b",
       "style": "IPY_MODEL_a061a48037534f23ac4eb897c0e31f24",
       "value": "Depicts county arrest rates calculated from the above ORI Arrests Data. Rate is calculated from         the 'Estimate per 10000 people' field at the top of the form. County arrest rates are calculated         using the sum of all arrests for each year for the selected county portrayed in the ORI Arrests Data above. Then for         comparison, the state arrest rates are calculated from all counties for the selected years. Population data is         then added from the OJJDP source containing only population values for ages 11-17 within the county."
      }
     },
     "4210f09fe65b4e58b2c34404c74470a2": {
      "model_module": "@jupyter-widgets/base",
      "model_module_version": "1.0.0",
      "model_name": "LayoutModel",
      "state": {}
     },
     "432178f7f5924746af3fcd5e0133840e": {
      "model_module": "@jupyter-widgets/controls",
      "model_module_version": "1.2.0",
      "model_name": "HTMLModel",
      "state": {
       "layout": "IPY_MODEL_dc033a8b464343baa09404f3963db20a",
       "style": "IPY_MODEL_7a74b9de4377418eb4bc074ee737c7f9",
       "value": "<hr><h2>Educational Discipline Data</h2>"
      }
     },
     "43a6365774534397b647d8f5fecc1d17": {
      "model_module": "@jupyter-widgets/controls",
      "model_module_version": "1.2.0",
      "model_name": "DescriptionStyleModel",
      "state": {
       "description_width": ""
      }
     },
     "43ae768f81074c03b77bc47934ef3d27": {
      "model_module": "@jupyter-widgets/controls",
      "model_module_version": "1.2.0",
      "model_name": "VBoxModel",
      "state": {
       "children": [
        "IPY_MODEL_84f7316912c04dd5be3af39d1962a3a9",
        "IPY_MODEL_5491b80acca54de3a4da6b1cfbc9b802",
        "IPY_MODEL_a9cdf0425d954c7890234a45ab63033d"
       ],
       "layout": "IPY_MODEL_11472718af5d4bf39d9351c9d7c522ba"
      }
     },
     "43eff1297eff43a2a368833cf14b9de6": {
      "model_module": "@jupyter-widgets/controls",
      "model_module_version": "1.2.0",
      "model_name": "HTMLModel",
      "state": {
       "layout": "IPY_MODEL_3fa5ca45868245a2aaadc6f44a0edea5",
       "style": "IPY_MODEL_cab627c01d2e4d30955109244ad19bf5",
       "value": "<p class=\"page-break\"></p>"
      }
     },
     "44471f6deadf4c87b841f2178f2fd788": {
      "model_module": "@jupyter-widgets/output",
      "model_module_version": "1.0.0",
      "model_name": "OutputModel",
      "state": {
       "layout": "IPY_MODEL_9b6e576b0cb1425d8872a9b91c442d43",
       "outputs": [
        {
         "data": {
          "text/html": "<table border=\"1\" class=\"dataframe\">\n  <thead>\n    <tr style=\"text-align: right;\">\n      <th>Year</th>\n      <th>2014</th>\n      <th>2015</th>\n      <th>2016</th>\n      <th>2017</th>\n    </tr>\n  </thead>\n  <tbody>\n    <tr>\n      <th>Total Incidents</th>\n      <td>4854.00</td>\n      <td>4894.00</td>\n      <td>3394.00</td>\n      <td>3460.00</td>\n    </tr>\n    <tr>\n      <th>Population 11-17</th>\n      <td>51520.00</td>\n      <td>52042.00</td>\n      <td>52422.00</td>\n      <td>52513.00</td>\n    </tr>\n    <tr>\n      <th>Rate</th>\n      <td>942.16</td>\n      <td>940.39</td>\n      <td>647.44</td>\n      <td>658.88</td>\n    </tr>\n  </tbody>\n</table>",
          "text/plain": "<IPython.core.display.HTML object>"
         },
         "metadata": {},
         "output_type": "display_data"
        }
       ]
      }
     },
     "45e5e9bd970e4420888870efdc051e6c": {
      "model_module": "@jupyter-widgets/output",
      "model_module_version": "1.0.0",
      "model_name": "OutputModel",
      "state": {
       "layout": "IPY_MODEL_6fb682b9f34a487f8def1887744f9cc8",
       "outputs": [
        {
         "data": {
          "text/html": "<h3>DFS By County</h3>",
          "text/plain": "<IPython.core.display.HTML object>"
         },
         "metadata": {},
         "output_type": "display_data"
        },
        {
         "data": {
          "text/html": "<table border=\"1\" class=\"dataframe\">\n  <thead>\n    <tr>\n      <th>COUNTY</th>\n      <th colspan=\"3\" halign=\"left\">Albany</th>\n    </tr>\n    <tr>\n      <th>YEAR</th>\n      <th>2014</th>\n      <th>2015</th>\n      <th>2016</th>\n    </tr>\n  </thead>\n  <tbody>\n    <tr>\n      <th>CHINS</th>\n      <td>1.0</td>\n      <td>2.0</td>\n      <td>0.0</td>\n    </tr>\n    <tr>\n      <th>DE</th>\n      <td>45.0</td>\n      <td>29.0</td>\n      <td>15.0</td>\n    </tr>\n  </tbody>\n</table>",
          "text/plain": "<IPython.core.display.HTML object>"
         },
         "metadata": {},
         "output_type": "display_data"
        }
       ]
      }
     },
     "46464bcc826240df9337d732437ffd09": {
      "model_module": "@jupyter-widgets/controls",
      "model_module_version": "1.2.0",
      "model_name": "DescriptionStyleModel",
      "state": {
       "description_width": ""
      }
     },
     "469c3c1b4fc34322a2f1ffeac37f586b": {
      "model_module": "@jupyter-widgets/output",
      "model_module_version": "1.0.0",
      "model_name": "OutputModel",
      "state": {
       "layout": "IPY_MODEL_e5e405c5ed71483aa3da709d93a729f0",
       "outputs": [
        {
         "data": {
          "text/html": "<table border=\"1\" class=\"dataframe\">\n  <thead>\n    <tr>\n      <th>County</th>\n      <th colspan=\"4\" halign=\"left\">Albany</th>\n    </tr>\n    <tr>\n      <th>Year</th>\n      <th>2014</th>\n      <th>2015</th>\n      <th>2016</th>\n      <th>2017</th>\n    </tr>\n  </thead>\n  <tbody>\n    <tr>\n      <th>Total Incidents</th>\n      <td>177.00</td>\n      <td>162.00</td>\n      <td>100.0</td>\n      <td>156.00</td>\n    </tr>\n    <tr>\n      <th>Population 11-17</th>\n      <td>2099.00</td>\n      <td>2109.00</td>\n      <td>2192.0</td>\n      <td>2257.00</td>\n    </tr>\n    <tr>\n      <th>Rate</th>\n      <td>843.26</td>\n      <td>768.14</td>\n      <td>456.2</td>\n      <td>691.18</td>\n    </tr>\n  </tbody>\n</table>",
          "text/plain": "<IPython.core.display.HTML object>"
         },
         "metadata": {},
         "output_type": "display_data"
        }
       ]
      }
     },
     "4730034990914a4ba57106b8ff8a8621": {
      "model_module": "@jupyter-widgets/controls",
      "model_module_version": "1.2.0",
      "model_name": "DescriptionStyleModel",
      "state": {
       "description_width": ""
      }
     },
     "475c3ca4bf4d4732820fa31e00222f0f": {
      "model_module": "@jupyter-widgets/base",
      "model_module_version": "1.0.0",
      "model_name": "LayoutModel",
      "state": {}
     },
     "481cce1999014aeba67e6b30f958aa66": {
      "model_module": "@jupyter-widgets/output",
      "model_module_version": "1.0.0",
      "model_name": "OutputModel",
      "state": {
       "layout": "IPY_MODEL_5fe79cd331e54e36acdf730f087d3cc2",
       "outputs": [
        {
         "data": {
          "text/html": "<table border=\"1\" class=\"dataframe\">\n  <thead>\n    <tr>\n      <th>Year</th>\n      <th>2015</th>\n    </tr>\n    <tr>\n      <th>County Name</th>\n      <th>Albany</th>\n    </tr>\n  </thead>\n  <tbody>\n    <tr>\n      <th>Delinquency Petition</th>\n      <td>24</td>\n    </tr>\n    <tr>\n      <th>Status Petition</th>\n      <td>*</td>\n    </tr>\n    <tr>\n      <th>Dependency Petition</th>\n      <td>13</td>\n    </tr>\n  </tbody>\n</table>",
          "text/plain": "<IPython.core.display.HTML object>"
         },
         "metadata": {},
         "output_type": "display_data"
        }
       ]
      }
     },
     "4894d110d541455c9514cf3dec3f4ab4": {
      "model_module": "@jupyter-widgets/controls",
      "model_module_version": "1.2.0",
      "model_name": "IntRangeSliderModel",
      "state": {
       "_model_name": "IntRangeSliderModel",
       "_view_name": "IntRangeSliderView",
       "description": "Year range:",
       "layout": "IPY_MODEL_97ebcf3db976474aa114c073c7d1b93f",
       "max": 2017,
       "min": 2012,
       "style": "IPY_MODEL_dc31a059e1e14a5596a7171954215c5f",
       "value": [
        2014,
        2017
       ]
      }
     },
     "48b51878f8fe4bd3a3e3137a9405b034": {
      "model_module": "@jupyter-widgets/base",
      "model_module_version": "1.0.0",
      "model_name": "LayoutModel",
      "state": {}
     },
     "4931807bc2cd46929a2669717ca8d9b7": {
      "model_module": "@jupyter-widgets/base",
      "model_module_version": "1.0.0",
      "model_name": "LayoutModel",
      "state": {}
     },
     "496875d3b453460494df617b1824ae32": {
      "model_module": "@jupyter-widgets/controls",
      "model_module_version": "1.2.0",
      "model_name": "HTMLModel",
      "state": {
       "layout": "IPY_MODEL_6f19275d5dd04ddc917109dd418b467d",
       "style": "IPY_MODEL_9b952a057f8d433689c838db9230a863",
       "value": "<hr><center><h1>ORI Arrests Data</h1></center>"
      }
     },
     "4985462ed77249bf9eb6be42b68f0643": {
      "model_module": "@jupyter-widgets/base",
      "model_module_version": "1.0.0",
      "model_name": "LayoutModel",
      "state": {}
     },
     "4987863dd67740baaf77ec3d9c2b88ea": {
      "model_module": "@jupyter-widgets/base",
      "model_module_version": "1.0.0",
      "model_name": "LayoutModel",
      "state": {}
     },
     "49b0fb8d199743f5ba56fc010e0cf690": {
      "model_module": "@jupyter-widgets/base",
      "model_module_version": "1.0.0",
      "model_name": "LayoutModel",
      "state": {}
     },
     "4a1c5c997f07478fa84ae4c216400225": {
      "model_module": "@jupyter-widgets/controls",
      "model_module_version": "1.2.0",
      "model_name": "DescriptionStyleModel",
      "state": {
       "description_width": ""
      }
     },
     "4a27991eba2342b18d2815d088ce4961": {
      "model_module": "@jupyter-widgets/controls",
      "model_module_version": "1.2.0",
      "model_name": "HTMLModel",
      "state": {
       "layout": "IPY_MODEL_4a758c151499403ea237bd50fa3970f3",
       "style": "IPY_MODEL_dc056675b84a4f1e99dc1d73e04c9f58",
       "value": "* denotes case counts greater than zero and less than five."
      }
     },
     "4a758c151499403ea237bd50fa3970f3": {
      "model_module": "@jupyter-widgets/base",
      "model_module_version": "1.0.0",
      "model_name": "LayoutModel",
      "state": {}
     },
     "4af0ec39474d49df94391055f00569d4": {
      "model_module": "@jupyter-widgets/base",
      "model_module_version": "1.0.0",
      "model_name": "LayoutModel",
      "state": {}
     },
     "4aff5af15a6a4d59926de391160f60da": {
      "model_module": "@jupyter-widgets/output",
      "model_module_version": "1.0.0",
      "model_name": "OutputModel",
      "state": {
       "layout": "IPY_MODEL_22f5f8d595154c8e9794e43059cf9213",
       "outputs": [
        {
         "data": {
          "text/html": "<table border=\"1\" class=\"dataframe\">\n  <thead>\n    <tr style=\"text-align: right;\">\n      <th>Year</th>\n      <th>2014</th>\n      <th>2015</th>\n      <th>2016</th>\n      <th>2017</th>\n    </tr>\n  </thead>\n  <tbody>\n    <tr>\n      <th>Total Incidents</th>\n      <td>4854.00</td>\n      <td>4894.00</td>\n      <td>3394.00</td>\n      <td>3460.00</td>\n    </tr>\n    <tr>\n      <th>Population 11-17</th>\n      <td>51520.00</td>\n      <td>52042.00</td>\n      <td>52422.00</td>\n      <td>52513.00</td>\n    </tr>\n    <tr>\n      <th>Rate</th>\n      <td>942.16</td>\n      <td>940.39</td>\n      <td>647.44</td>\n      <td>658.88</td>\n    </tr>\n  </tbody>\n</table>",
          "text/plain": "<IPython.core.display.HTML object>"
         },
         "metadata": {},
         "output_type": "display_data"
        }
       ]
      }
     },
     "4b24fe2117b84edf852dd3069e622c98": {
      "model_module": "@jupyter-widgets/controls",
      "model_module_version": "1.2.0",
      "model_name": "HTMLModel",
      "state": {
       "layout": "IPY_MODEL_7211e156561f475c8580240dfe9dbf7e",
       "style": "IPY_MODEL_70053b1a3447452fac92c48beb19b2b1",
       "value": "<hr><center><h1>ORI Arrests Data</h1></center>"
      }
     },
     "4bf60906e40e43ceab34001e192f2fc3": {
      "model_module": "@jupyter-widgets/base",
      "model_module_version": "1.0.0",
      "model_name": "LayoutModel",
      "state": {}
     },
     "4cc49bccb0aa41ddbbbf2afbcb96a22b": {
      "model_module": "@jupyter-widgets/base",
      "model_module_version": "1.0.0",
      "model_name": "LayoutModel",
      "state": {}
     },
     "4ccfc06e91634bbca5dfca528c149055": {
      "model_module": "@jupyter-widgets/base",
      "model_module_version": "1.0.0",
      "model_name": "LayoutModel",
      "state": {}
     },
     "4da9e19ca5f3412e976e30273c966888": {
      "model_module": "@jupyter-widgets/controls",
      "model_module_version": "1.2.0",
      "model_name": "DescriptionStyleModel",
      "state": {
       "description_width": ""
      }
     },
     "4df1954da05a4cbfbc5a80cba52b8466": {
      "model_module": "@jupyter-widgets/controls",
      "model_module_version": "1.2.0",
      "model_name": "HBoxModel",
      "state": {
       "children": [
        "IPY_MODEL_bfe4f17dcbc24878961f61961ad2bc72",
        "IPY_MODEL_8a50afdc2e634b53b39d72a9c71a2904"
       ],
       "layout": "IPY_MODEL_25a5dfa040be47aab22cd7c2cee7e48e"
      }
     },
     "4dfdfd02333b40638551e6ecc05e1f08": {
      "model_module": "@jupyter-widgets/controls",
      "model_module_version": "1.2.0",
      "model_name": "DescriptionStyleModel",
      "state": {
       "description_width": ""
      }
     },
     "4ed1dc570fe04b7f8caf1d3850ec4a99": {
      "model_module": "@jupyter-widgets/base",
      "model_module_version": "1.0.0",
      "model_name": "LayoutModel",
      "state": {}
     },
     "4f08f7adcddf4f8fac003092ed8658ce": {
      "model_module": "@jupyter-widgets/controls",
      "model_module_version": "1.2.0",
      "model_name": "HTMLModel",
      "state": {
       "layout": "IPY_MODEL_25592d820c184dafa06cb0464fc0b20f",
       "style": "IPY_MODEL_addc8427e8ad4129b43b74dab9490d30",
       "value": "<p class=\"page-break\"></p>"
      }
     },
     "4f26172a79e4453cb7e282d03237d021": {
      "model_module": "@jupyter-widgets/controls",
      "model_module_version": "1.2.0",
      "model_name": "HTMLModel",
      "state": {
       "layout": "IPY_MODEL_25c68434b36943ab8ba11a6fd5f8f94f",
       "style": "IPY_MODEL_bd6f32c9d6bd4d2492ea4b4d8dce9333",
       "value": "SOURCE: Wyoming DCI UCR arrests by ORI"
      }
     },
     "4f6fe90904984a0a83e8c6276156ec95": {
      "model_module": "@jupyter-widgets/controls",
      "model_module_version": "1.2.0",
      "model_name": "HTMLModel",
      "state": {
       "layout": "IPY_MODEL_ee6de8f5b626485a8f43488d20231a56",
       "style": "IPY_MODEL_43a6365774534397b647d8f5fecc1d17",
       "value": "<h2>State Placement Rates</h2>"
      }
     },
     "4f9a2a7bee334b05b062f3ef6e744ce9": {
      "model_module": "@jupyter-widgets/controls",
      "model_module_version": "1.2.0",
      "model_name": "VBoxModel",
      "state": {
       "children": [
        "IPY_MODEL_45e5e9bd970e4420888870efdc051e6c",
        "IPY_MODEL_b1f2ce71d9eb4bbdac2f50cc330c41f3"
       ],
       "layout": "IPY_MODEL_857ce24401cd473aa0e1efbfcf8b0a82"
      }
     },
     "4fd185b2f3e646df8b3b7ff6a63a6ed4": {
      "model_module": "@jupyter-widgets/base",
      "model_module_version": "1.0.0",
      "model_name": "LayoutModel",
      "state": {}
     },
     "50222b335fa54d27a9c893b5cf5401ab": {
      "model_module": "@jupyter-widgets/controls",
      "model_module_version": "1.2.0",
      "model_name": "DescriptionStyleModel",
      "state": {
       "description_width": ""
      }
     },
     "5086d159b09742a2afbf95e123c2cbd4": {
      "model_module": "@jupyter-widgets/output",
      "model_module_version": "1.0.0",
      "model_name": "OutputModel",
      "state": {
       "layout": "IPY_MODEL_dae029df244e4b93a3e6b74be1c80861",
       "outputs": [
        {
         "data": {
          "text/html": "<center><h3>Lesser Offenses</h3></center>",
          "text/plain": "<IPython.core.display.HTML object>"
         },
         "metadata": {},
         "output_type": "display_data"
        },
        {
         "data": {
          "text/html": "<table border=\"1\" class=\"dataframe\">\n  <thead>\n    <tr>\n      <th>County</th>\n      <th colspan=\"4\" halign=\"left\">Albany</th>\n    </tr>\n    <tr>\n      <th>Year</th>\n      <th>2014</th>\n      <th>2015</th>\n      <th>2016</th>\n      <th>2017</th>\n    </tr>\n  </thead>\n  <tbody>\n    <tr>\n      <th>Burglary</th>\n      <td>5</td>\n      <td>0</td>\n      <td>0</td>\n      <td>2</td>\n    </tr>\n    <tr>\n      <th>Larceny-Theft</th>\n      <td>30</td>\n      <td>27</td>\n      <td>7</td>\n      <td>19</td>\n    </tr>\n    <tr>\n      <th>Motor-Vehicle-Theft</th>\n      <td>0</td>\n      <td>1</td>\n      <td>0</td>\n      <td>2</td>\n    </tr>\n    <tr>\n      <th>Arson</th>\n      <td>0</td>\n      <td>0</td>\n      <td>0</td>\n      <td>0</td>\n    </tr>\n    <tr>\n      <th>Other-Assaults</th>\n      <td>58</td>\n      <td>40</td>\n      <td>27</td>\n      <td>36</td>\n    </tr>\n    <tr>\n      <th>Forgery-Counterfeiting</th>\n      <td>0</td>\n      <td>0</td>\n      <td>0</td>\n      <td>0</td>\n    </tr>\n    <tr>\n      <th>Fraud</th>\n      <td>0</td>\n      <td>0</td>\n      <td>0</td>\n      <td>1</td>\n    </tr>\n    <tr>\n      <th>Embezzlement</th>\n      <td>0</td>\n      <td>0</td>\n      <td>2</td>\n      <td>0</td>\n    </tr>\n    <tr>\n      <th>Stolen-Property</th>\n      <td>0</td>\n      <td>0</td>\n      <td>0</td>\n      <td>4</td>\n    </tr>\n    <tr>\n      <th>Vandalism</th>\n      <td>14</td>\n      <td>11</td>\n      <td>5</td>\n      <td>11</td>\n    </tr>\n    <tr>\n      <th>Weapons</th>\n      <td>0</td>\n      <td>0</td>\n      <td>0</td>\n      <td>1</td>\n    </tr>\n    <tr>\n      <th>Prostitution</th>\n      <td>0</td>\n      <td>0</td>\n      <td>0</td>\n      <td>0</td>\n    </tr>\n    <tr>\n      <th>Sex-Offenses</th>\n      <td>1</td>\n      <td>0</td>\n      <td>4</td>\n      <td>4</td>\n    </tr>\n    <tr>\n      <th>Drug-Abuse-Violations</th>\n      <td>0</td>\n      <td>0</td>\n      <td>0</td>\n      <td>17</td>\n    </tr>\n    <tr>\n      <th>Drug-Abuse-Violations-Possession</th>\n      <td>15</td>\n      <td>20</td>\n      <td>19</td>\n      <td>17</td>\n    </tr>\n    <tr>\n      <th>Gambling-Offenses</th>\n      <td>0</td>\n      <td>0</td>\n      <td>0</td>\n      <td>0</td>\n    </tr>\n    <tr>\n      <th>Offenses-Against-Family-Children</th>\n      <td>0</td>\n      <td>0</td>\n      <td>0</td>\n      <td>0</td>\n    </tr>\n    <tr>\n      <th>Driving-Under-the-Influence</th>\n      <td>0</td>\n      <td>5</td>\n      <td>1</td>\n      <td>0</td>\n    </tr>\n    <tr>\n      <th>Liquor-Laws</th>\n      <td>22</td>\n      <td>20</td>\n      <td>16</td>\n      <td>20</td>\n    </tr>\n    <tr>\n      <th>Drunkenness</th>\n      <td>0</td>\n      <td>0</td>\n      <td>0</td>\n      <td>0</td>\n    </tr>\n    <tr>\n      <th>Disorderly-Conduct</th>\n      <td>2</td>\n      <td>1</td>\n      <td>1</td>\n      <td>3</td>\n    </tr>\n    <tr>\n      <th>All-Other-Offenses-Except-Traffic</th>\n      <td>28</td>\n      <td>36</td>\n      <td>18</td>\n      <td>17</td>\n    </tr>\n    <tr>\n      <th>Suspicion</th>\n      <td>0</td>\n      <td>0</td>\n      <td>0</td>\n      <td>0</td>\n    </tr>\n    <tr>\n      <th>Curfew-Loitering-Law-Violations</th>\n      <td>0</td>\n      <td>0</td>\n      <td>0</td>\n      <td>0</td>\n    </tr>\n    <tr>\n      <th>Run-a-ways</th>\n      <td>0</td>\n      <td>0</td>\n      <td>0</td>\n      <td>0</td>\n    </tr>\n    <tr>\n      <th>Vagrancy</th>\n      <td>0</td>\n      <td>0</td>\n      <td>0</td>\n      <td>0</td>\n    </tr>\n    <tr>\n      <th>Totals</th>\n      <td>175</td>\n      <td>161</td>\n      <td>100</td>\n      <td>154</td>\n    </tr>\n  </tbody>\n</table>",
          "text/plain": "<IPython.core.display.HTML object>"
         },
         "metadata": {},
         "output_type": "display_data"
        }
       ]
      }
     },
     "50c05b77dd3249a6abb803e11bca5a4c": {
      "model_module": "@jupyter-widgets/controls",
      "model_module_version": "1.2.0",
      "model_name": "HTMLModel",
      "state": {
       "layout": "IPY_MODEL_3c97ef26eb714d8e8c82a1a757387f77",
       "style": "IPY_MODEL_c95b7ec2f5a94a2e9046034fb15768b3",
       "value": "The left table depicts placement type (of those in care) for probation/delinquency cases only,                 by Judicial District. The yearly numbers depicted are calculated from the 12-month average of the                  number of juveniles in a placement scenario, as reported at the end of every month.                  Data shown is for the judicial district to which the current selected                  county belongs to. The table on the right shows DFS placements by county as provided by                  the DFS prior to 2017(see note below). Placement rates are calculated using the same method                  as the arrest rates above."
      }
     },
     "50ed0f4784e8454ca75edc0bed002c48": {
      "model_module": "@jupyter-widgets/controls",
      "model_module_version": "1.2.0",
      "model_name": "DescriptionStyleModel",
      "state": {
       "description_width": ""
      }
     },
     "5199e16ba6b049d7ada3578bbaa2ed21": {
      "model_module": "@jupyter-widgets/base",
      "model_module_version": "1.0.0",
      "model_name": "LayoutModel",
      "state": {}
     },
     "529c0e11003b4ca8bbaa53cef8f836ed": {
      "model_module": "@jupyter-widgets/controls",
      "model_module_version": "1.2.0",
      "model_name": "DescriptionStyleModel",
      "state": {
       "description_width": ""
      }
     },
     "52f0d7d40ad84e42bb0a0846c771fc34": {
      "model_module": "@jupyter-widgets/base",
      "model_module_version": "1.0.0",
      "model_name": "LayoutModel",
      "state": {}
     },
     "53d748e9d5054680ad5d15cf167acd23": {
      "model_module": "@jupyter-widgets/base",
      "model_module_version": "1.0.0",
      "model_name": "LayoutModel",
      "state": {}
     },
     "540c36afbcf944f5abc94e67e1b99498": {
      "model_module": "@jupyter-widgets/controls",
      "model_module_version": "1.2.0",
      "model_name": "HTMLModel",
      "state": {
       "layout": "IPY_MODEL_0305786c1c234f9ea21228c3ec5c0cf9",
       "style": "IPY_MODEL_dd9e4e9f1f2a4d3b86222cf9cef92b5b",
       "value": "<h2>Juvenile Population Demographics by Age Group</h2>"
      }
     },
     "5491b80acca54de3a4da6b1cfbc9b802": {
      "model_module": "@jupyter-widgets/controls",
      "model_module_version": "1.2.0",
      "model_name": "HBoxModel",
      "state": {
       "children": [
        "IPY_MODEL_469c3c1b4fc34322a2f1ffeac37f586b"
       ],
       "layout": "IPY_MODEL_8736cfca54854e7b964db13d607a41bb"
      }
     },
     "54d0980d99844f20b914633a0181eb27": {
      "model_module": "@jupyter-widgets/controls",
      "model_module_version": "1.2.0",
      "model_name": "HTMLModel",
      "state": {
       "layout": "IPY_MODEL_1405431371364b46bee821f0139876be",
       "style": "IPY_MODEL_88d98a80b8f84d6c8343a6c849f48d81",
       "value": "<hr><h2>Educational Discipline Data</h2>"
      }
     },
     "55041e8d356141d281f184909765b959": {
      "model_module": "@jupyter-widgets/base",
      "model_module_version": "1.0.0",
      "model_name": "LayoutModel",
      "state": {}
     },
     "552f07177bf5498c93f53a5ccf1e3f57": {
      "model_module": "@jupyter-widgets/base",
      "model_module_version": "1.0.0",
      "model_name": "LayoutModel",
      "state": {}
     },
     "553b9e8d914246b4be008ad6af77a1eb": {
      "model_module": "@jupyter-widgets/controls",
      "model_module_version": "1.2.0",
      "model_name": "HBoxModel",
      "state": {
       "children": [
        "IPY_MODEL_ffea873e861a4c6483348518298043e9"
       ],
       "layout": "IPY_MODEL_93d55dec014743af8421ca258bace0a6"
      }
     },
     "5629311b17b44817baddd521fa0c8911": {
      "model_module": "@jupyter-widgets/controls",
      "model_module_version": "1.2.0",
      "model_name": "HTMLModel",
      "state": {
       "layout": "IPY_MODEL_bfb4793aab3842db869827d7faca990b",
       "style": "IPY_MODEL_03586702da8248a1a4b61c90d334c9b3",
       "value": "<h2>Juvenile Court Case Counts</h2>"
      }
     },
     "56d3c9406bf94960be23baa68bc5d201": {
      "model_module": "@jupyter-widgets/output",
      "model_module_version": "1.0.0",
      "model_name": "OutputModel",
      "state": {
       "layout": "IPY_MODEL_c2ac94f5f32c4cc0a23eb89b534a7ff5",
       "outputs": [
        {
         "data": {
          "text/html": "<table border=\"1\" class=\"dataframe\">\n  <thead>\n    <tr>\n      <th>County</th>\n      <th colspan=\"66\" halign=\"left\">Albany</th>\n    </tr>\n    <tr>\n      <th>Age Range</th>\n      <th colspan=\"3\" halign=\"left\">0</th>\n      <th colspan=\"3\" halign=\"left\">1</th>\n      <th colspan=\"3\" halign=\"left\">10</th>\n      <th colspan=\"3\" halign=\"left\">11</th>\n      <th colspan=\"3\" halign=\"left\">12</th>\n      <th colspan=\"3\" halign=\"left\">13</th>\n      <th colspan=\"3\" halign=\"left\">14</th>\n      <th colspan=\"3\" halign=\"left\">15</th>\n      <th colspan=\"3\" halign=\"left\">16</th>\n      <th colspan=\"3\" halign=\"left\">17</th>\n      <th colspan=\"3\" halign=\"left\">18 to 20</th>\n      <th colspan=\"3\" halign=\"left\">2</th>\n      <th colspan=\"3\" halign=\"left\">21 to 24</th>\n      <th colspan=\"3\" halign=\"left\">25 &amp; over</th>\n      <th colspan=\"3\" halign=\"left\">3</th>\n      <th colspan=\"3\" halign=\"left\">4</th>\n      <th colspan=\"3\" halign=\"left\">5</th>\n      <th colspan=\"3\" halign=\"left\">6</th>\n      <th colspan=\"3\" halign=\"left\">7</th>\n      <th colspan=\"3\" halign=\"left\">8</th>\n      <th colspan=\"3\" halign=\"left\">9</th>\n      <th colspan=\"3\" halign=\"left\">Total</th>\n    </tr>\n    <tr>\n      <th>Year</th>\n      <th>2014</th>\n      <th>2015</th>\n      <th>2016</th>\n      <th>2014</th>\n      <th>2015</th>\n      <th>2016</th>\n      <th>2014</th>\n      <th>2015</th>\n      <th>2016</th>\n      <th>2014</th>\n      <th>2015</th>\n      <th>2016</th>\n      <th>2014</th>\n      <th>2015</th>\n      <th>2016</th>\n      <th>2014</th>\n      <th>2015</th>\n      <th>2016</th>\n      <th>2014</th>\n      <th>2015</th>\n      <th>2016</th>\n      <th>2014</th>\n      <th>2015</th>\n      <th>2016</th>\n      <th>2014</th>\n      <th>2015</th>\n      <th>2016</th>\n      <th>2014</th>\n      <th>2015</th>\n      <th>2016</th>\n      <th>2014</th>\n      <th>2015</th>\n      <th>2016</th>\n      <th>2014</th>\n      <th>2015</th>\n      <th>2016</th>\n      <th>2014</th>\n      <th>2015</th>\n      <th>2016</th>\n      <th>2014</th>\n      <th>2015</th>\n      <th>2016</th>\n      <th>2014</th>\n      <th>2015</th>\n      <th>2016</th>\n      <th>2014</th>\n      <th>2015</th>\n      <th>2016</th>\n      <th>2014</th>\n      <th>2015</th>\n      <th>2016</th>\n      <th>2014</th>\n      <th>2015</th>\n      <th>2016</th>\n      <th>2014</th>\n      <th>2015</th>\n      <th>2016</th>\n      <th>2014</th>\n      <th>2015</th>\n      <th>2016</th>\n      <th>2014</th>\n      <th>2015</th>\n      <th>2016</th>\n      <th>2014</th>\n      <th>2015</th>\n      <th>2016</th>\n    </tr>\n  </thead>\n  <tbody>\n    <tr>\n      <th>White</th>\n      <td>390</td>\n      <td>386</td>\n      <td>390</td>\n      <td>324</td>\n      <td>367</td>\n      <td>368</td>\n      <td>271</td>\n      <td>294</td>\n      <td>331</td>\n      <td>266</td>\n      <td>284</td>\n      <td>318</td>\n      <td>270</td>\n      <td>275</td>\n      <td>285</td>\n      <td>299</td>\n      <td>275</td>\n      <td>284</td>\n      <td>259</td>\n      <td>291</td>\n      <td>284</td>\n      <td>250</td>\n      <td>277</td>\n      <td>310</td>\n      <td>285</td>\n      <td>252</td>\n      <td>282</td>\n      <td>303</td>\n      <td>291</td>\n      <td>268</td>\n      <td>3721</td>\n      <td>3790</td>\n      <td>3710</td>\n      <td>371</td>\n      <td>336</td>\n      <td>347</td>\n      <td>6703</td>\n      <td>6426</td>\n      <td>6330</td>\n      <td>19033</td>\n      <td>19437</td>\n      <td>19671</td>\n      <td>345</td>\n      <td>350</td>\n      <td>322</td>\n      <td>357</td>\n      <td>325</td>\n      <td>347</td>\n      <td>354</td>\n      <td>348</td>\n      <td>326</td>\n      <td>324</td>\n      <td>341</td>\n      <td>332</td>\n      <td>342</td>\n      <td>324</td>\n      <td>342</td>\n      <td>324</td>\n      <td>341</td>\n      <td>323</td>\n      <td>304</td>\n      <td>317</td>\n      <td>352</td>\n      <td>35095</td>\n      <td>35327</td>\n      <td>35522</td>\n    </tr>\n    <tr>\n      <th>Black</th>\n      <td>14</td>\n      <td>10</td>\n      <td>14</td>\n      <td>16</td>\n      <td>18</td>\n      <td>13</td>\n      <td>9</td>\n      <td>6</td>\n      <td>6</td>\n      <td>6</td>\n      <td>10</td>\n      <td>6</td>\n      <td>11</td>\n      <td>4</td>\n      <td>12</td>\n      <td>9</td>\n      <td>9</td>\n      <td>5</td>\n      <td>3</td>\n      <td>7</td>\n      <td>6</td>\n      <td>5</td>\n      <td>8</td>\n      <td>5</td>\n      <td>9</td>\n      <td>11</td>\n      <td>8</td>\n      <td>23</td>\n      <td>21</td>\n      <td>21</td>\n      <td>75</td>\n      <td>66</td>\n      <td>77</td>\n      <td>13</td>\n      <td>16</td>\n      <td>16</td>\n      <td>208</td>\n      <td>195</td>\n      <td>172</td>\n      <td>399</td>\n      <td>408</td>\n      <td>397</td>\n      <td>19</td>\n      <td>16</td>\n      <td>17</td>\n      <td>19</td>\n      <td>18</td>\n      <td>15</td>\n      <td>24</td>\n      <td>19</td>\n      <td>15</td>\n      <td>19</td>\n      <td>21</td>\n      <td>12</td>\n      <td>8</td>\n      <td>14</td>\n      <td>16</td>\n      <td>9</td>\n      <td>8</td>\n      <td>13</td>\n      <td>7</td>\n      <td>8</td>\n      <td>9</td>\n      <td>905</td>\n      <td>893</td>\n      <td>855</td>\n    </tr>\n    <tr>\n      <th>American Indian</th>\n      <td>5</td>\n      <td>8</td>\n      <td>7</td>\n      <td>7</td>\n      <td>7</td>\n      <td>8</td>\n      <td>6</td>\n      <td>7</td>\n      <td>6</td>\n      <td>2</td>\n      <td>6</td>\n      <td>9</td>\n      <td>8</td>\n      <td>3</td>\n      <td>4</td>\n      <td>1</td>\n      <td>7</td>\n      <td>3</td>\n      <td>7</td>\n      <td>5</td>\n      <td>7</td>\n      <td>6</td>\n      <td>7</td>\n      <td>9</td>\n      <td>2</td>\n      <td>8</td>\n      <td>8</td>\n      <td>5</td>\n      <td>5</td>\n      <td>7</td>\n      <td>28</td>\n      <td>23</td>\n      <td>22</td>\n      <td>12</td>\n      <td>4</td>\n      <td>5</td>\n      <td>108</td>\n      <td>99</td>\n      <td>101</td>\n      <td>246</td>\n      <td>267</td>\n      <td>278</td>\n      <td>5</td>\n      <td>12</td>\n      <td>6</td>\n      <td>6</td>\n      <td>5</td>\n      <td>9</td>\n      <td>9</td>\n      <td>9</td>\n      <td>6</td>\n      <td>7</td>\n      <td>8</td>\n      <td>5</td>\n      <td>11</td>\n      <td>8</td>\n      <td>6</td>\n      <td>6</td>\n      <td>6</td>\n      <td>6</td>\n      <td>5</td>\n      <td>7</td>\n      <td>5</td>\n      <td>492</td>\n      <td>511</td>\n      <td>517</td>\n    </tr>\n    <tr>\n      <th>Asian</th>\n      <td>18</td>\n      <td>18</td>\n      <td>19</td>\n      <td>20</td>\n      <td>11</td>\n      <td>17</td>\n      <td>6</td>\n      <td>7</td>\n      <td>11</td>\n      <td>8</td>\n      <td>6</td>\n      <td>5</td>\n      <td>12</td>\n      <td>7</td>\n      <td>7</td>\n      <td>14</td>\n      <td>12</td>\n      <td>7</td>\n      <td>8</td>\n      <td>13</td>\n      <td>11</td>\n      <td>9</td>\n      <td>8</td>\n      <td>11</td>\n      <td>13</td>\n      <td>6</td>\n      <td>7</td>\n      <td>17</td>\n      <td>14</td>\n      <td>13</td>\n      <td>174</td>\n      <td>190</td>\n      <td>205</td>\n      <td>22</td>\n      <td>17</td>\n      <td>7</td>\n      <td>206</td>\n      <td>227</td>\n      <td>230</td>\n      <td>746</td>\n      <td>728</td>\n      <td>727</td>\n      <td>18</td>\n      <td>17</td>\n      <td>13</td>\n      <td>11</td>\n      <td>18</td>\n      <td>17</td>\n      <td>11</td>\n      <td>10</td>\n      <td>17</td>\n      <td>12</td>\n      <td>8</td>\n      <td>7</td>\n      <td>12</td>\n      <td>10</td>\n      <td>9</td>\n      <td>9</td>\n      <td>13</td>\n      <td>9</td>\n      <td>8</td>\n      <td>8</td>\n      <td>13</td>\n      <td>1354</td>\n      <td>1348</td>\n      <td>1362</td>\n    </tr>\n    <tr>\n      <th>Total</th>\n      <td>427</td>\n      <td>422</td>\n      <td>430</td>\n      <td>367</td>\n      <td>403</td>\n      <td>406</td>\n      <td>292</td>\n      <td>314</td>\n      <td>354</td>\n      <td>282</td>\n      <td>306</td>\n      <td>338</td>\n      <td>301</td>\n      <td>289</td>\n      <td>308</td>\n      <td>323</td>\n      <td>303</td>\n      <td>299</td>\n      <td>277</td>\n      <td>316</td>\n      <td>308</td>\n      <td>270</td>\n      <td>300</td>\n      <td>335</td>\n      <td>309</td>\n      <td>277</td>\n      <td>305</td>\n      <td>348</td>\n      <td>331</td>\n      <td>309</td>\n      <td>3998</td>\n      <td>4069</td>\n      <td>4014</td>\n      <td>418</td>\n      <td>373</td>\n      <td>375</td>\n      <td>7225</td>\n      <td>6947</td>\n      <td>6833</td>\n      <td>20424</td>\n      <td>20840</td>\n      <td>21073</td>\n      <td>387</td>\n      <td>395</td>\n      <td>358</td>\n      <td>393</td>\n      <td>366</td>\n      <td>388</td>\n      <td>398</td>\n      <td>386</td>\n      <td>364</td>\n      <td>362</td>\n      <td>378</td>\n      <td>356</td>\n      <td>373</td>\n      <td>356</td>\n      <td>373</td>\n      <td>348</td>\n      <td>368</td>\n      <td>351</td>\n      <td>324</td>\n      <td>340</td>\n      <td>379</td>\n      <td>37846</td>\n      <td>38079</td>\n      <td>38256</td>\n    </tr>\n  </tbody>\n</table>",
          "text/plain": "<IPython.core.display.HTML object>"
         },
         "metadata": {},
         "output_type": "display_data"
        }
       ]
      }
     },
     "57ad04ddf7964087be2f22e1ec454b5b": {
      "model_module": "@jupyter-widgets/base",
      "model_module_version": "1.0.0",
      "model_name": "LayoutModel",
      "state": {}
     },
     "57c21247c63748898519522101ff609f": {
      "model_module": "@jupyter-widgets/base",
      "model_module_version": "1.0.0",
      "model_name": "LayoutModel",
      "state": {}
     },
     "587b6fab86c34ad385cd445371321fc0": {
      "model_module": "@jupyter-widgets/base",
      "model_module_version": "1.0.0",
      "model_name": "LayoutModel",
      "state": {}
     },
     "5890deca73b94926b734cae7a170deb6": {
      "model_module": "@jupyter-widgets/base",
      "model_module_version": "1.0.0",
      "model_name": "LayoutModel",
      "state": {}
     },
     "58fb6eca4e244ec29f393c7f2f2d0844": {
      "model_module": "@jupyter-widgets/controls",
      "model_module_version": "1.2.0",
      "model_name": "IntRangeSliderModel",
      "state": {
       "_model_name": "IntRangeSliderModel",
       "_view_name": "IntRangeSliderView",
       "description": "Year range:",
       "layout": "IPY_MODEL_37e0508c10e64e108578aca097a36836",
       "max": 2017,
       "min": 2012,
       "style": "IPY_MODEL_cd780237afb24689900f50aeb562f5f6",
       "value": [
        2014,
        2017
       ]
      }
     },
     "59211449e6184928af3cf61d2518abb9": {
      "model_module": "@jupyter-widgets/controls",
      "model_module_version": "1.2.0",
      "model_name": "DescriptionStyleModel",
      "state": {
       "description_width": ""
      }
     },
     "598ebefc93cc4e1da1ecd83ff80831eb": {
      "model_module": "@jupyter-widgets/base",
      "model_module_version": "1.0.0",
      "model_name": "LayoutModel",
      "state": {}
     },
     "5a028a78771d4af9aa3b38ed1193f6f4": {
      "model_module": "@jupyter-widgets/controls",
      "model_module_version": "1.2.0",
      "model_name": "DescriptionStyleModel",
      "state": {
       "description_width": ""
      }
     },
     "5a37ff7965e34f05b682465a3d258dc4": {
      "model_module": "@jupyter-widgets/output",
      "model_module_version": "1.0.0",
      "model_name": "OutputModel",
      "state": {
       "layout": "IPY_MODEL_7f4f40ef7fc0469eacc677a3cbd0284c",
       "outputs": [
        {
         "data": {
          "text/html": "<table border=\"1\" class=\"dataframe\">\n  <thead>\n    <tr>\n      <th>Year</th>\n      <th>2015</th>\n    </tr>\n    <tr>\n      <th>County Name</th>\n      <th>Albany</th>\n    </tr>\n  </thead>\n  <tbody>\n    <tr>\n      <th>Delinquency Petition</th>\n      <td>24</td>\n    </tr>\n    <tr>\n      <th>Status Petition</th>\n      <td>*</td>\n    </tr>\n    <tr>\n      <th>Dependency Petition</th>\n      <td>13</td>\n    </tr>\n  </tbody>\n</table>",
          "text/plain": "<IPython.core.display.HTML object>"
         },
         "metadata": {},
         "output_type": "display_data"
        }
       ]
      }
     },
     "5a77b1b711f7429d8ae62fe4eccb35ab": {
      "model_module": "@jupyter-widgets/base",
      "model_module_version": "1.0.0",
      "model_name": "LayoutModel",
      "state": {}
     },
     "5b39a557fcfa4948ab2af335dceb8fe8": {
      "model_module": "@jupyter-widgets/controls",
      "model_module_version": "1.2.0",
      "model_name": "DescriptionStyleModel",
      "state": {
       "description_width": ""
      }
     },
     "5b8a68afa027462faa4e0b051976e564": {
      "model_module": "@jupyter-widgets/controls",
      "model_module_version": "1.2.0",
      "model_name": "HTMLModel",
      "state": {
       "layout": "IPY_MODEL_b7530dd46fe9443dafa2110f1d325740",
       "style": "IPY_MODEL_29ff97ce1e764153b12676fd95df38cf",
       "value": "<h2>State Arrest Rates</h2><br>"
      }
     },
     "5ba5d286841041b79e6ef8cb5d83e352": {
      "model_module": "@jupyter-widgets/controls",
      "model_module_version": "1.2.0",
      "model_name": "HTMLModel",
      "state": {
       "layout": "IPY_MODEL_e977dfe293f74ab6914dff2a959f293d",
       "style": "IPY_MODEL_ea50f445f02349b6ad67af94b681b805",
       "value": "<h2>County Arrest Rates</h2>"
      }
     },
     "5c13c3e784b547e7bb27cec5f659f972": {
      "model_module": "@jupyter-widgets/output",
      "model_module_version": "1.0.0",
      "model_name": "OutputModel",
      "state": {
       "layout": "IPY_MODEL_96648fb467a94fbda6cf1bce5a92eea5",
       "outputs": [
        {
         "data": {
          "text/html": "<h3>DFS By County</h3>",
          "text/plain": "<IPython.core.display.HTML object>"
         },
         "metadata": {},
         "output_type": "display_data"
        },
        {
         "data": {
          "text/html": "<table border=\"1\" class=\"dataframe\">\n  <thead>\n    <tr>\n      <th>COUNTY</th>\n      <th colspan=\"3\" halign=\"left\">Albany</th>\n    </tr>\n    <tr>\n      <th>YEAR</th>\n      <th>2014</th>\n      <th>2015</th>\n      <th>2016</th>\n    </tr>\n  </thead>\n  <tbody>\n    <tr>\n      <th>CHINS</th>\n      <td>1.0</td>\n      <td>2.0</td>\n      <td>0.0</td>\n    </tr>\n    <tr>\n      <th>DE</th>\n      <td>45.0</td>\n      <td>29.0</td>\n      <td>15.0</td>\n    </tr>\n  </tbody>\n</table>",
          "text/plain": "<IPython.core.display.HTML object>"
         },
         "metadata": {},
         "output_type": "display_data"
        }
       ]
      }
     },
     "5c622560f5a94f31bff6fdac43642fe5": {
      "model_module": "@jupyter-widgets/base",
      "model_module_version": "1.0.0",
      "model_name": "LayoutModel",
      "state": {}
     },
     "5c82cdc0230f4478996b3718573be57f": {
      "model_module": "@jupyter-widgets/controls",
      "model_module_version": "1.2.0",
      "model_name": "HTMLModel",
      "state": {
       "layout": "IPY_MODEL_828e013c39c44897a22734e915476b9f",
       "style": "IPY_MODEL_20009c6dc90e4688973830ad0ce83608",
       "value": "<p class=\"page-break\"></p>"
      }
     },
     "5d37cdb53f2a405aa9c98cc6260cdb89": {
      "model_module": "@jupyter-widgets/base",
      "model_module_version": "1.0.0",
      "model_name": "LayoutModel",
      "state": {}
     },
     "5e4291ba68c141b398a9da1129debd11": {
      "model_module": "@jupyter-widgets/base",
      "model_module_version": "1.0.0",
      "model_name": "LayoutModel",
      "state": {}
     },
     "5e4fedf91d6447c4a3a784ad43bffc3f": {
      "model_module": "@jupyter-widgets/controls",
      "model_module_version": "1.2.0",
      "model_name": "DescriptionStyleModel",
      "state": {
       "description_width": ""
      }
     },
     "5e95035650854ba2bdc09b016f09e948": {
      "model_module": "@jupyter-widgets/base",
      "model_module_version": "1.0.0",
      "model_name": "LayoutModel",
      "state": {}
     },
     "5f2254217b4545db97b451c0b66876cc": {
      "model_module": "@jupyter-widgets/base",
      "model_module_version": "1.0.0",
      "model_name": "LayoutModel",
      "state": {}
     },
     "5f90f86c0b8f4b94a4a001ccd91af71e": {
      "model_module": "@jupyter-widgets/controls",
      "model_module_version": "1.2.0",
      "model_name": "DropdownModel",
      "state": {
       "_options_labels": [
        "Sublette",
        "Albany",
        "Natrona",
        "Fremont",
        "Sheridan",
        "Laramie",
        "Teton",
        "Washakie",
        "Converse",
        "Park",
        "Hot Springs",
        "Carbon",
        "Platte",
        "Lincoln",
        "Johnson",
        "Big Horn",
        "Goshen",
        "Sweetwater",
        "Weston",
        "Crook",
        "Uinta",
        "Campbell",
        "Niobrara"
       ],
       "description": "County:",
       "index": 0,
       "layout": "IPY_MODEL_48b51878f8fe4bd3a3e3137a9405b034",
       "style": "IPY_MODEL_3596f1157f50468cb6d7ef9f0adf3d68"
      }
     },
     "5fe744fc605a4e6e9c4a703ef0b3bbfe": {
      "model_module": "@jupyter-widgets/base",
      "model_module_version": "1.0.0",
      "model_name": "LayoutModel",
      "state": {}
     },
     "5fe79cd331e54e36acdf730f087d3cc2": {
      "model_module": "@jupyter-widgets/base",
      "model_module_version": "1.0.0",
      "model_name": "LayoutModel",
      "state": {}
     },
     "5ffa8cde28994bc084d18c9252c5bc69": {
      "model_module": "@jupyter-widgets/controls",
      "model_module_version": "1.2.0",
      "model_name": "VBoxModel",
      "state": {
       "children": [
        "IPY_MODEL_18f968346677407ba610f18d581bce0f",
        "IPY_MODEL_2c6f0b8bc2684fba9338ee0cb05faf26",
        "IPY_MODEL_cad8972fa84b4df39fdb828a7f1428f6",
        "IPY_MODEL_7c7af612fcc5479983fc1860354b00ed",
        "IPY_MODEL_a9b2d10a76d24040ae9262330d1fae67"
       ],
       "layout": "IPY_MODEL_c4de3a869c9049df8bcb227ae74fbebe"
      }
     },
     "60705e945d004317a624c16b88137043": {
      "model_module": "@jupyter-widgets/controls",
      "model_module_version": "1.2.0",
      "model_name": "HTMLModel",
      "state": {
       "layout": "IPY_MODEL_c74930ac3fb640a88c266b7c31a2bd6f",
       "style": "IPY_MODEL_8fb018a03ea64a59ac710c8f6f920bd6",
       "value": "Depicts county arrest rates calculated from the above ORI Arrests Data. Rate is calculated from         the 'Estimate per 10000 people' field at the top of the form. County arrest rates are calculated         using the sum of all arrests for each year for the selected county portrayed in the ORI Arrests Data above. Then for         comparison, the state arrest rates are calculated from all counties for the selected years. Population data is         then added from the OJJDP source containing only population values for ages 11-17 within the county."
      }
     },
     "607722bc4d81453d87aea9ef14290c8d": {
      "model_module": "@jupyter-widgets/controls",
      "model_module_version": "1.2.0",
      "model_name": "VBoxModel",
      "state": {
       "children": [
        "IPY_MODEL_ddb575a2d00f43279a0753769dc798a0",
        "IPY_MODEL_4a27991eba2342b18d2815d088ce4961",
        "IPY_MODEL_553b9e8d914246b4be008ad6af77a1eb",
        "IPY_MODEL_2bed3c817d79459bb6cc67da2ea0712b"
       ],
       "layout": "IPY_MODEL_fdb53cbfec6b40598f5bcb5c463af2ba"
      }
     },
     "60d3646e2ab148d29d778993c4d7f454": {
      "model_module": "@jupyter-widgets/controls",
      "model_module_version": "1.2.0",
      "model_name": "DescriptionStyleModel",
      "state": {
       "description_width": ""
      }
     },
     "60ded4e25416474dacbe53742299f0f1": {
      "model_module": "@jupyter-widgets/output",
      "model_module_version": "1.0.0",
      "model_name": "OutputModel",
      "state": {
       "layout": "IPY_MODEL_a0d1b23d9dc243afaf547cfa74e05715",
       "outputs": [
        {
         "data": {
          "text/html": "<h3>Afcars Data</h3>",
          "text/plain": "<IPython.core.display.HTML object>"
         },
         "metadata": {},
         "output_type": "display_data"
        },
        {
         "data": {
          "text/html": "<table border=\"1\" class=\"dataframe\">\n  <thead>\n    <tr>\n      <th>COUNTY</th>\n      <th colspan=\"3\" halign=\"left\">Albany</th>\n    </tr>\n    <tr>\n      <th>YEAR</th>\n      <th>2014</th>\n      <th>2015</th>\n      <th>2016</th>\n    </tr>\n  </thead>\n  <tbody>\n    <tr>\n      <th>CHINS</th>\n      <td>1</td>\n      <td>2</td>\n      <td>0</td>\n    </tr>\n    <tr>\n      <th>DE</th>\n      <td>14</td>\n      <td>7</td>\n      <td>3</td>\n    </tr>\n  </tbody>\n</table>",
          "text/plain": "<IPython.core.display.HTML object>"
         },
         "metadata": {},
         "output_type": "display_data"
        }
       ]
      }
     },
     "632b7bb318394709936e5ea8e752f27f": {
      "model_module": "@jupyter-widgets/base",
      "model_module_version": "1.0.0",
      "model_name": "LayoutModel",
      "state": {}
     },
     "63ffdd83bbf74f8dbdf479b94c92cce6": {
      "model_module": "@jupyter-widgets/output",
      "model_module_version": "1.0.0",
      "model_name": "OutputModel",
      "state": {
       "layout": "IPY_MODEL_32759585e63e41aaa86e7c890daba92d",
       "outputs": [
        {
         "data": {
          "text/html": "<table border=\"1\" class=\"dataframe\">\n  <thead>\n    <tr style=\"text-align: right;\">\n      <th>Year</th>\n      <th>2014</th>\n      <th>2015</th>\n      <th>2016</th>\n      <th>2017</th>\n    </tr>\n  </thead>\n  <tbody>\n    <tr>\n      <th>Total</th>\n      <td>3676.00</td>\n      <td>3502.00</td>\n      <td>3249.00</td>\n      <td>3326.00</td>\n    </tr>\n    <tr>\n      <th>Population 11-17</th>\n      <td>51520.00</td>\n      <td>52042.00</td>\n      <td>52422.00</td>\n      <td>52513.00</td>\n    </tr>\n    <tr>\n      <th>Rate</th>\n      <td>713.51</td>\n      <td>672.92</td>\n      <td>619.78</td>\n      <td>633.37</td>\n    </tr>\n  </tbody>\n</table>",
          "text/plain": "<IPython.core.display.HTML object>"
         },
         "metadata": {},
         "output_type": "display_data"
        }
       ]
      }
     },
     "643b53b0d1d7438bbeb090815b5a4cec": {
      "model_module": "@jupyter-widgets/controls",
      "model_module_version": "1.2.0",
      "model_name": "HTMLModel",
      "state": {
       "layout": "IPY_MODEL_9faa87740d984f788a2a8c7250c40bc9",
       "style": "IPY_MODEL_529c0e11003b4ca8bbaa53cef8f836ed",
       "value": "<center><h1>Arrest Rate Comparisons</h1></center>"
      }
     },
     "645db67a532741c0abfe610c8eccded2": {
      "model_module": "@jupyter-widgets/base",
      "model_module_version": "1.0.0",
      "model_name": "LayoutModel",
      "state": {}
     },
     "64c4ed3f942c495896a27c99d4c48720": {
      "model_module": "@jupyter-widgets/output",
      "model_module_version": "1.0.0",
      "model_name": "OutputModel",
      "state": {
       "layout": "IPY_MODEL_a671818fcc7c403dacefcfa80ef1f4f1",
       "outputs": [
        {
         "data": {
          "text/html": "<h2>ORI Arrests Data</h2>",
          "text/plain": "<IPython.core.display.HTML object>"
         },
         "metadata": {},
         "output_type": "display_data"
        },
        {
         "data": {
          "text/html": "<table border=\"1\" class=\"dataframe\">\n  <thead>\n    <tr style=\"text-align: right;\">\n      <th></th>\n      <th></th>\n      <th>Manslaughter</th>\n      <th>Rape</th>\n      <th>Robbery</th>\n      <th>Aggravated-Assault</th>\n    </tr>\n    <tr>\n      <th>County</th>\n      <th>Year</th>\n      <th></th>\n      <th></th>\n      <th></th>\n      <th></th>\n    </tr>\n  </thead>\n  <tbody>\n    <tr>\n      <th rowspan=\"3\" valign=\"top\">Sublette</th>\n      <th>2013</th>\n      <td>0</td>\n      <td>0</td>\n      <td>0</td>\n      <td>0</td>\n    </tr>\n    <tr>\n      <th>2014</th>\n      <td>0</td>\n      <td>0</td>\n      <td>0</td>\n      <td>0</td>\n    </tr>\n    <tr>\n      <th>2015</th>\n      <td>0</td>\n      <td>0</td>\n      <td>0</td>\n      <td>0</td>\n    </tr>\n  </tbody>\n</table>",
          "text/plain": "<IPython.core.display.HTML object>"
         },
         "metadata": {},
         "output_type": "display_data"
        }
       ]
      }
     },
     "64e5cc3313a346b4a4d7d0a81f6ddbda": {
      "model_module": "@jupyter-widgets/base",
      "model_module_version": "1.0.0",
      "model_name": "LayoutModel",
      "state": {}
     },
     "64fe5458c3cd49e191cc60b1e4098deb": {
      "model_module": "@jupyter-widgets/output",
      "model_module_version": "1.0.0",
      "model_name": "OutputModel",
      "state": {
       "layout": "IPY_MODEL_b3f7cd432bfb4b93ba78e8366d44446e",
       "outputs": [
        {
         "data": {
          "text/html": "<hr><h2>DFS Placement Data</h2>",
          "text/plain": "<IPython.core.display.HTML object>"
         },
         "metadata": {},
         "output_type": "display_data"
        },
        {
         "name": "stdout",
         "output_type": "stream",
         "text": "Afcars Data\n"
        },
        {
         "data": {
          "text/html": "<table border=\"1\" class=\"dataframe\">\n  <thead>\n    <tr style=\"text-align: right;\">\n      <th></th>\n      <th></th>\n      <th>CHINS</th>\n      <th>DE</th>\n    </tr>\n    <tr>\n      <th>COUNTY</th>\n      <th>YEAR</th>\n      <th></th>\n      <th></th>\n    </tr>\n  </thead>\n  <tbody>\n    <tr>\n      <th rowspan=\"3\" valign=\"top\">Sublette</th>\n      <th>2013</th>\n      <td>6</td>\n      <td>4</td>\n    </tr>\n    <tr>\n      <th>2014</th>\n      <td>2</td>\n      <td>4</td>\n    </tr>\n    <tr>\n      <th>2015</th>\n      <td>1</td>\n      <td>3</td>\n    </tr>\n  </tbody>\n</table>",
          "text/plain": "<IPython.core.display.HTML object>"
         },
         "metadata": {},
         "output_type": "display_data"
        },
        {
         "name": "stdout",
         "output_type": "stream",
         "text": "By County\n"
        },
        {
         "data": {
          "text/html": "<table border=\"1\" class=\"dataframe\">\n  <thead>\n    <tr style=\"text-align: right;\">\n      <th></th>\n      <th></th>\n      <th>CHINS</th>\n      <th>DE</th>\n    </tr>\n    <tr>\n      <th>COUNTY</th>\n      <th>YEAR</th>\n      <th></th>\n      <th></th>\n    </tr>\n  </thead>\n  <tbody>\n    <tr>\n      <th rowspan=\"3\" valign=\"top\">Sublette</th>\n      <th>2013</th>\n      <td>9.0</td>\n      <td>13</td>\n    </tr>\n    <tr>\n      <th>2014</th>\n      <td>15.0</td>\n      <td>11</td>\n    </tr>\n    <tr>\n      <th>2015</th>\n      <td>3.0</td>\n      <td>9</td>\n    </tr>\n  </tbody>\n</table>",
          "text/plain": "<IPython.core.display.HTML object>"
         },
         "metadata": {},
         "output_type": "display_data"
        }
       ]
      }
     },
     "66186fd8186d4c809cf049ce6f392f38": {
      "model_module": "@jupyter-widgets/controls",
      "model_module_version": "1.2.0",
      "model_name": "HTMLModel",
      "state": {
       "layout": "IPY_MODEL_7d58aa3bcb0441a896e2651624e071ea",
       "style": "IPY_MODEL_e14e58c8a37e47fc9192b74fafae2c01",
       "value": "Prior to 2017 all DFS reports were reported on a per county basis. After 2017, DFS data collection systems no longer classified data per county."
      }
     },
     "66bc8d80b4a541d8ba02c1fd936af33b": {
      "model_module": "@jupyter-widgets/base",
      "model_module_version": "1.0.0",
      "model_name": "LayoutModel",
      "state": {}
     },
     "673fcaf250c54536858ad8ca153b2c94": {
      "model_module": "@jupyter-widgets/base",
      "model_module_version": "1.0.0",
      "model_name": "LayoutModel",
      "state": {}
     },
     "676b074e90314a22b75d2bbf0998059b": {
      "model_module": "@jupyter-widgets/controls",
      "model_module_version": "1.2.0",
      "model_name": "HBoxModel",
      "state": {
       "children": [
        "IPY_MODEL_d21fbe0427c64160878f119146d3f0ac",
        "IPY_MODEL_dcfbe0491b2340d0b7d8b19cf82586bd"
       ],
       "layout": "IPY_MODEL_4fd185b2f3e646df8b3b7ff6a63a6ed4"
      }
     },
     "677c4dd352964ef6b473a7edc4ff7910": {
      "model_module": "@jupyter-widgets/controls",
      "model_module_version": "1.2.0",
      "model_name": "HBoxModel",
      "state": {
       "children": [
        "IPY_MODEL_c15f45b6df5b427c92cf88f24f940719",
        "IPY_MODEL_f408c4747a024d0093cb67ad570b17a4"
       ],
       "layout": "IPY_MODEL_5e95035650854ba2bdc09b016f09e948"
      }
     },
     "67b38d8f36f8429da41b2f7a27daa6ec": {
      "model_module": "@jupyter-widgets/controls",
      "model_module_version": "1.2.0",
      "model_name": "DescriptionStyleModel",
      "state": {
       "description_width": ""
      }
     },
     "6821a6c748fd4c0482b657015d603a12": {
      "model_module": "@jupyter-widgets/base",
      "model_module_version": "1.0.0",
      "model_name": "LayoutModel",
      "state": {}
     },
     "68274439ec4442edaef52bc7d68a66fd": {
      "model_module": "@jupyter-widgets/controls",
      "model_module_version": "1.2.0",
      "model_name": "HBoxModel",
      "state": {
       "children": [
        "IPY_MODEL_5a37ff7965e34f05b682465a3d258dc4"
       ],
       "layout": "IPY_MODEL_c9bc17f8538b4676830b010df933632c"
      }
     },
     "682acc6fc35b46fdb64b0e75d552b8c7": {
      "model_module": "@jupyter-widgets/base",
      "model_module_version": "1.0.0",
      "model_name": "LayoutModel",
      "state": {}
     },
     "689223a32f164fe180b737248c6cbfe3": {
      "model_module": "@jupyter-widgets/controls",
      "model_module_version": "1.2.0",
      "model_name": "DescriptionStyleModel",
      "state": {
       "description_width": ""
      }
     },
     "690d157d9a92444ab944965ec2bf816b": {
      "model_module": "@jupyter-widgets/base",
      "model_module_version": "1.0.0",
      "model_name": "LayoutModel",
      "state": {}
     },
     "69210d97683f4b1095194b6f8ed80f84": {
      "model_module": "@jupyter-widgets/base",
      "model_module_version": "1.0.0",
      "model_name": "LayoutModel",
      "state": {}
     },
     "69fcd7a1e16e441f834038e9086fb466": {
      "model_module": "@jupyter-widgets/base",
      "model_module_version": "1.0.0",
      "model_name": "LayoutModel",
      "state": {}
     },
     "6bbe7c516b7e46dc8b7933734e617e5d": {
      "model_module": "@jupyter-widgets/controls",
      "model_module_version": "1.2.0",
      "model_name": "HBoxModel",
      "state": {
       "children": [
        "IPY_MODEL_e8dbc7953ae54da0955da214c7260593",
        "IPY_MODEL_2d8f807895574cb0b188d216961dccdf"
       ],
       "layout": "IPY_MODEL_8744c7db8aa5487d977a12c31bcf7e41"
      }
     },
     "6cec5517575b4bd9a29c3ad1ef8e2f34": {
      "model_module": "@jupyter-widgets/base",
      "model_module_version": "1.0.0",
      "model_name": "LayoutModel",
      "state": {}
     },
     "6d01fb9cfcad4e78bbcdeb2f9a6f280a": {
      "model_module": "@jupyter-widgets/controls",
      "model_module_version": "1.2.0",
      "model_name": "DescriptionStyleModel",
      "state": {
       "description_width": ""
      }
     },
     "6d13b440ce494446acd7f5ac64031645": {
      "model_module": "@jupyter-widgets/controls",
      "model_module_version": "1.2.0",
      "model_name": "DescriptionStyleModel",
      "state": {
       "description_width": ""
      }
     },
     "6d28b9a6958d44d6a44854bb1588339b": {
      "model_module": "@jupyter-widgets/base",
      "model_module_version": "1.0.0",
      "model_name": "LayoutModel",
      "state": {}
     },
     "6de8da1594cb43afb3b88f8aac1d3078": {
      "model_module": "@jupyter-widgets/controls",
      "model_module_version": "1.2.0",
      "model_name": "SliderStyleModel",
      "state": {
       "description_width": ""
      }
     },
     "6e060f9e2f8c4dde9ca761d7f0edb01a": {
      "model_module": "@jupyter-widgets/controls",
      "model_module_version": "1.2.0",
      "model_name": "HTMLModel",
      "state": {
       "layout": "IPY_MODEL_127e63534b214df78f6294fb174b1e72",
       "style": "IPY_MODEL_3c0ec63ffddf412c8e937677fb19a3bb",
       "value": "<p class=\"page-break\"></p>"
      }
     },
     "6e24123828384783851afb9df2dd899a": {
      "model_module": "@jupyter-widgets/controls",
      "model_module_version": "1.2.0",
      "model_name": "HBoxModel",
      "state": {
       "children": [
        "IPY_MODEL_414fed226284457a921ff2cf84a7c9d4",
        "IPY_MODEL_bb8c9f4d18574ff9aeb73341ddd1a008"
       ],
       "layout": "IPY_MODEL_4987863dd67740baaf77ec3d9c2b88ea"
      }
     },
     "6e2d6c42d16040cc99076342fa2f6a9c": {
      "model_module": "@jupyter-widgets/controls",
      "model_module_version": "1.2.0",
      "model_name": "VBoxModel",
      "state": {
       "children": [
        "IPY_MODEL_5629311b17b44817baddd521fa0c8911",
        "IPY_MODEL_24ad7a8fe0dd4cd89a2f524888182da4",
        "IPY_MODEL_68274439ec4442edaef52bc7d68a66fd",
        "IPY_MODEL_1ba3cb8589f34a74910b5c947ad62a14"
       ],
       "layout": "IPY_MODEL_b213e0c7c92a467a9f2ef1e2dc0d2ade"
      }
     },
     "6e53a6442dae42f69bfd7723ef5c83f1": {
      "model_module": "@jupyter-widgets/controls",
      "model_module_version": "1.2.0",
      "model_name": "HTMLModel",
      "state": {
       "layout": "IPY_MODEL_20254e63808944448db2ad96d4cac6f5",
       "style": "IPY_MODEL_95e7483333e64a5591a18b347e2abb77",
       "value": "<h2>Juvenile Court Case Counts</h2>"
      }
     },
     "6e7058647b2c4baab8f9d46fd760cbf3": {
      "model_module": "@jupyter-widgets/controls",
      "model_module_version": "1.2.0",
      "model_name": "HBoxModel",
      "state": {
       "children": [
        "IPY_MODEL_99a49e0b456048e4b6008f7473e61800"
       ],
       "layout": "IPY_MODEL_4cc49bccb0aa41ddbbbf2afbcb96a22b"
      }
     },
     "6f07dec497f34e2ba7e146d72d090734": {
      "model_module": "@jupyter-widgets/controls",
      "model_module_version": "1.2.0",
      "model_name": "HTMLModel",
      "state": {
       "layout": "IPY_MODEL_a2f07a6170d34d2ab0aa5ba9670e329d",
       "style": "IPY_MODEL_080e9a92d07443b498822bb79f0455b8",
       "value": "<h2>State Placement Rates</h2>"
      }
     },
     "6f19275d5dd04ddc917109dd418b467d": {
      "model_module": "@jupyter-widgets/base",
      "model_module_version": "1.0.0",
      "model_name": "LayoutModel",
      "state": {}
     },
     "6f69dcd866d3424da3bf7c9e661c9b9f": {
      "model_module": "@jupyter-widgets/controls",
      "model_module_version": "1.2.0",
      "model_name": "HTMLModel",
      "state": {
       "layout": "IPY_MODEL_66bc8d80b4a541d8ba02c1fd936af33b",
       "style": "IPY_MODEL_5a028a78771d4af9aa3b38ed1193f6f4",
       "value": "<h2>Juvenile Population Demographics by Age Group</h2>"
      }
     },
     "6fb682b9f34a487f8def1887744f9cc8": {
      "model_module": "@jupyter-widgets/base",
      "model_module_version": "1.0.0",
      "model_name": "LayoutModel",
      "state": {}
     },
     "70053b1a3447452fac92c48beb19b2b1": {
      "model_module": "@jupyter-widgets/controls",
      "model_module_version": "1.2.0",
      "model_name": "DescriptionStyleModel",
      "state": {
       "description_width": ""
      }
     },
     "711ed3cde47b49ea8cccf47fcde00ea7": {
      "model_module": "@jupyter-widgets/controls",
      "model_module_version": "1.2.0",
      "model_name": "HTMLModel",
      "state": {
       "layout": "IPY_MODEL_cc06d76b31e942f487f7293f58905117",
       "style": "IPY_MODEL_bb97c07f2ae544bda32dd4450d65763d",
       "value": "<h2>Juvenile Population Demographics by Age Group</h2>"
      }
     },
     "7211e156561f475c8580240dfe9dbf7e": {
      "model_module": "@jupyter-widgets/base",
      "model_module_version": "1.0.0",
      "model_name": "LayoutModel",
      "state": {}
     },
     "721ddd3ac3a54b5e8087a8dbd71dc09d": {
      "model_module": "@jupyter-widgets/controls",
      "model_module_version": "1.2.0",
      "model_name": "IntRangeSliderModel",
      "state": {
       "_model_name": "IntRangeSliderModel",
       "_view_name": "IntRangeSliderView",
       "description": "Year range:",
       "layout": "IPY_MODEL_3c593661ccbf4abf93ba2f5d152b43f3",
       "max": 2017,
       "min": 2012,
       "style": "IPY_MODEL_84380532b3ac40c9a2056fb4ec176ffb",
       "value": [
        2014,
        2017
       ]
      }
     },
     "734b1330935442229ea48203edadeb96": {
      "model_module": "@jupyter-widgets/controls",
      "model_module_version": "1.2.0",
      "model_name": "DropdownModel",
      "state": {
       "_options_labels": [
        "Albany",
        "Big Horn",
        "Campbell",
        "Carbon",
        "Converse",
        "Crook",
        "Fremont",
        "Goshen",
        "Hot Springs",
        "Johnson",
        "Laramie",
        "Lincoln",
        "Natrona",
        "Niobrara",
        "Park",
        "Platte",
        "Sheridan",
        "Sublette",
        "Sweetwater",
        "Teton",
        "Uinta",
        "Washakie",
        "Weston"
       ],
       "description": "County:",
       "index": 0,
       "layout": "IPY_MODEL_bc19536bc440477ea766c25b82a6cd88",
       "style": "IPY_MODEL_16506cab66b74d538fc9a62c470f96ef"
      }
     },
     "7366b1ec41f940a9b61e6b8ee9d6cc33": {
      "model_module": "@jupyter-widgets/controls",
      "model_module_version": "1.2.0",
      "model_name": "DescriptionStyleModel",
      "state": {
       "description_width": ""
      }
     },
     "73c369eba0ac4343a99700a82613c5c7": {
      "model_module": "@jupyter-widgets/controls",
      "model_module_version": "1.2.0",
      "model_name": "SliderStyleModel",
      "state": {
       "description_width": ""
      }
     },
     "756e897e15cd444a85402d08f4716e29": {
      "model_module": "@jupyter-widgets/base",
      "model_module_version": "1.0.0",
      "model_name": "LayoutModel",
      "state": {}
     },
     "758f0a6fde4942d3a6eb024a0267899a": {
      "model_module": "@jupyter-widgets/controls",
      "model_module_version": "1.2.0",
      "model_name": "DescriptionStyleModel",
      "state": {
       "description_width": ""
      }
     },
     "7593746041f14102af83d6fc6969fd54": {
      "model_module": "@jupyter-widgets/controls",
      "model_module_version": "1.2.0",
      "model_name": "HTMLModel",
      "state": {
       "layout": "IPY_MODEL_ba2d952d043449d091bca88d7690cd9c",
       "style": "IPY_MODEL_c49286b0bbc3446485555a07e6c8570b",
       "value": "<p class=\"page-break\"></p>"
      }
     },
     "764097a6fe3c458cac1b8bb4f474e885": {
      "model_module": "@jupyter-widgets/base",
      "model_module_version": "1.0.0",
      "model_name": "LayoutModel",
      "state": {}
     },
     "767a84b4766d4eac9d8ca59a25283990": {
      "model_module": "@jupyter-widgets/controls",
      "model_module_version": "1.2.0",
      "model_name": "DescriptionStyleModel",
      "state": {
       "description_width": ""
      }
     },
     "76aa31458e1447a2bd803dd6f265f93d": {
      "model_module": "@jupyter-widgets/controls",
      "model_module_version": "1.2.0",
      "model_name": "SliderStyleModel",
      "state": {
       "description_width": ""
      }
     },
     "76ef3843bf1b43c9892f09881c7d4a82": {
      "model_module": "@jupyter-widgets/controls",
      "model_module_version": "1.2.0",
      "model_name": "DescriptionStyleModel",
      "state": {
       "description_width": ""
      }
     },
     "78afe04d391f4eb7b61acd81b0058bf2": {
      "model_module": "@jupyter-widgets/controls",
      "model_module_version": "1.2.0",
      "model_name": "VBoxModel",
      "state": {
       "children": [
        "IPY_MODEL_c444b999c991482da61c93d44b9bad6a",
        "IPY_MODEL_64fe5458c3cd49e191cc60b1e4098deb",
        "IPY_MODEL_f319211b5b3e4647a642dbcb1f00ea34",
        "IPY_MODEL_03a5fdadf1d845bbb395097bc2c88ddf"
       ],
       "layout": "IPY_MODEL_f9a1c9835de942d4aca8a236b01725ee"
      }
     },
     "78c287a2d7d941a2b47ca1807f9c002d": {
      "model_module": "@jupyter-widgets/controls",
      "model_module_version": "1.2.0",
      "model_name": "HBoxModel",
      "state": {
       "children": [
        "IPY_MODEL_3f936b19b0f04970904a4eafc36bd33e"
       ],
       "layout": "IPY_MODEL_c111eea13d2242fe9827c1acf436d5d2"
      }
     },
     "7a02884a8cb349d6b170d281bc703362": {
      "model_module": "@jupyter-widgets/controls",
      "model_module_version": "1.2.0",
      "model_name": "VBoxModel",
      "state": {
       "children": [
        "IPY_MODEL_496875d3b453460494df617b1824ae32",
        "IPY_MODEL_c05f97d11cd741fd919e726d7aaed5c4"
       ],
       "layout": "IPY_MODEL_3375458cc1964adc9d32d831587fc042"
      }
     },
     "7a74b9de4377418eb4bc074ee737c7f9": {
      "model_module": "@jupyter-widgets/controls",
      "model_module_version": "1.2.0",
      "model_name": "DescriptionStyleModel",
      "state": {
       "description_width": ""
      }
     },
     "7a87d12f2c2d454d8dbfbad8367a3ec3": {
      "model_module": "@jupyter-widgets/controls",
      "model_module_version": "1.2.0",
      "model_name": "HTMLModel",
      "state": {
       "layout": "IPY_MODEL_7b95a7e83051490ea0dfcc5e70bc65be",
       "style": "IPY_MODEL_190d9a74ec3a465cabb9a67fdf293981",
       "value": "Wyoming Juvenile Arrests reported from agency ORI numbers. Split between violent felony offenses and non-violent offenses."
      }
     },
     "7acb1fef88be4308ab5dd4d4e3d4a07d": {
      "model_module": "@jupyter-widgets/controls",
      "model_module_version": "1.2.0",
      "model_name": "DescriptionStyleModel",
      "state": {
       "description_width": ""
      }
     },
     "7aed522104d0496586dc269294254382": {
      "model_module": "@jupyter-widgets/controls",
      "model_module_version": "1.2.0",
      "model_name": "VBoxModel",
      "state": {
       "children": [
        "IPY_MODEL_dd6d353552fc4c50b195cf91fa9c6165"
       ],
       "layout": "IPY_MODEL_d5647a9c468e4964a37dc89f222bab0a"
      }
     },
     "7afa450f05e64df289800616a2e654f8": {
      "model_module": "@jupyter-widgets/controls",
      "model_module_version": "1.2.0",
      "model_name": "HTMLModel",
      "state": {
       "layout": "IPY_MODEL_552f07177bf5498c93f53a5ccf1e3f57",
       "style": "IPY_MODEL_7d8a9e437f2648c098f9d31fe15de376",
       "value": "SOURCE: Wyoming DCI UCR arrests by ORI"
      }
     },
     "7b95a7e83051490ea0dfcc5e70bc65be": {
      "model_module": "@jupyter-widgets/base",
      "model_module_version": "1.0.0",
      "model_name": "LayoutModel",
      "state": {}
     },
     "7c7af612fcc5479983fc1860354b00ed": {
      "model_module": "@jupyter-widgets/output",
      "model_module_version": "1.0.0",
      "model_name": "OutputModel",
      "state": {
       "layout": "IPY_MODEL_6821a6c748fd4c0482b657015d603a12",
       "outputs": [
        {
         "data": {
          "text/html": "<table border=\"1\" class=\"dataframe\">\n  <thead>\n    <tr style=\"text-align: right;\">\n      <th>Year</th>\n      <th>2014</th>\n      <th>2015</th>\n      <th>2016</th>\n      <th>2017</th>\n    </tr>\n  </thead>\n  <tbody>\n    <tr>\n      <th>Total</th>\n      <td>3676.00</td>\n      <td>3502.00</td>\n      <td>3249.00</td>\n      <td>3326.00</td>\n    </tr>\n    <tr>\n      <th>Population 11-17</th>\n      <td>51520.00</td>\n      <td>52042.00</td>\n      <td>52422.00</td>\n      <td>52513.00</td>\n    </tr>\n    <tr>\n      <th>Rate</th>\n      <td>713.51</td>\n      <td>672.92</td>\n      <td>619.78</td>\n      <td>633.37</td>\n    </tr>\n  </tbody>\n</table>",
          "text/plain": "<IPython.core.display.HTML object>"
         },
         "metadata": {},
         "output_type": "display_data"
        }
       ]
      }
     },
     "7ca978ce3cad42f5bdaac35876614476": {
      "model_module": "@jupyter-widgets/controls",
      "model_module_version": "1.2.0",
      "model_name": "DescriptionStyleModel",
      "state": {
       "description_width": ""
      }
     },
     "7cc82d8f1c5549b7b341c3a1632b044e": {
      "model_module": "@jupyter-widgets/controls",
      "model_module_version": "1.2.0",
      "model_name": "VBoxModel",
      "state": {
       "children": [
        "IPY_MODEL_b55b880ab7e240d4950a9b58ef46f9c7",
        "IPY_MODEL_05653583088e4d258ffaf0cfc770bdd8",
        "IPY_MODEL_ce5797e198584631a6e6aa877194066b",
        "IPY_MODEL_f556adf1deca43048df6b663249cf866"
       ],
       "layout": "IPY_MODEL_5a77b1b711f7429d8ae62fe4eccb35ab"
      }
     },
     "7d1ba85ecd174dbe82f409a73968baf5": {
      "model_module": "@jupyter-widgets/controls",
      "model_module_version": "1.2.0",
      "model_name": "SelectModel",
      "state": {
       "_options_labels": [
        "10000"
       ],
       "description": "Estimate per",
       "index": 0,
       "layout": "IPY_MODEL_17b600e4bc8947ff9e01e66725f26128",
       "style": "IPY_MODEL_6d01fb9cfcad4e78bbcdeb2f9a6f280a"
      }
     },
     "7d58aa3bcb0441a896e2651624e071ea": {
      "model_module": "@jupyter-widgets/base",
      "model_module_version": "1.0.0",
      "model_name": "LayoutModel",
      "state": {}
     },
     "7d5dc081d2c74705ab5a2491e2ada9da": {
      "model_module": "@jupyter-widgets/base",
      "model_module_version": "1.0.0",
      "model_name": "LayoutModel",
      "state": {}
     },
     "7d8a9e437f2648c098f9d31fe15de376": {
      "model_module": "@jupyter-widgets/controls",
      "model_module_version": "1.2.0",
      "model_name": "DescriptionStyleModel",
      "state": {
       "description_width": ""
      }
     },
     "7dca5bfa271740c992ebd7fe79461737": {
      "model_module": "@jupyter-widgets/controls",
      "model_module_version": "1.2.0",
      "model_name": "VBoxModel",
      "state": {
       "children": [
        "IPY_MODEL_d2e566cf3cb74d5faf2a82444c7d9dab",
        "IPY_MODEL_cdef322a32eb40c4bcaaca5d60ab5d45",
        "IPY_MODEL_7afa450f05e64df289800616a2e654f8",
        "IPY_MODEL_8148752e773b4f00a9e623060c360108",
        "IPY_MODEL_35ef21063e594b8baf999d437eacf720"
       ],
       "layout": "IPY_MODEL_690d157d9a92444ab944965ec2bf816b"
      }
     },
     "7eceba7e382e43429a87c02e7eabe7f8": {
      "model_module": "@jupyter-widgets/base",
      "model_module_version": "1.0.0",
      "model_name": "LayoutModel",
      "state": {}
     },
     "7f13df0035b44f5e8ef506da5a280ce2": {
      "model_module": "@jupyter-widgets/output",
      "model_module_version": "1.0.0",
      "model_name": "OutputModel",
      "state": {
       "layout": "IPY_MODEL_682acc6fc35b46fdb64b0e75d552b8c7",
       "outputs": [
        {
         "name": "stdout",
         "output_type": "stream",
         "text": "Afcars Data\n"
        },
        {
         "data": {
          "text/html": "<table border=\"1\" class=\"dataframe\">\n  <thead>\n    <tr style=\"text-align: right;\">\n      <th></th>\n      <th></th>\n      <th>CHINS</th>\n      <th>DE</th>\n    </tr>\n    <tr>\n      <th>COUNTY</th>\n      <th>YEAR</th>\n      <th></th>\n      <th></th>\n    </tr>\n  </thead>\n  <tbody>\n    <tr>\n      <th rowspan=\"3\" valign=\"top\">Sublette</th>\n      <th>2013</th>\n      <td>6</td>\n      <td>4</td>\n    </tr>\n    <tr>\n      <th>2014</th>\n      <td>2</td>\n      <td>4</td>\n    </tr>\n    <tr>\n      <th>2015</th>\n      <td>1</td>\n      <td>3</td>\n    </tr>\n  </tbody>\n</table>",
          "text/plain": "<IPython.core.display.HTML object>"
         },
         "metadata": {},
         "output_type": "display_data"
        },
        {
         "name": "stdout",
         "output_type": "stream",
         "text": "By County\n"
        },
        {
         "data": {
          "text/html": "<table border=\"1\" class=\"dataframe\">\n  <thead>\n    <tr style=\"text-align: right;\">\n      <th></th>\n      <th></th>\n      <th>CHINS</th>\n      <th>DE</th>\n    </tr>\n    <tr>\n      <th>COUNTY</th>\n      <th>YEAR</th>\n      <th></th>\n      <th></th>\n    </tr>\n  </thead>\n  <tbody>\n    <tr>\n      <th rowspan=\"3\" valign=\"top\">Sublette</th>\n      <th>2013</th>\n      <td>9.0</td>\n      <td>13</td>\n    </tr>\n    <tr>\n      <th>2014</th>\n      <td>15.0</td>\n      <td>11</td>\n    </tr>\n    <tr>\n      <th>2015</th>\n      <td>3.0</td>\n      <td>9</td>\n    </tr>\n  </tbody>\n</table>",
          "text/plain": "<IPython.core.display.HTML object>"
         },
         "metadata": {},
         "output_type": "display_data"
        }
       ]
      }
     },
     "7f4f40ef7fc0469eacc677a3cbd0284c": {
      "model_module": "@jupyter-widgets/base",
      "model_module_version": "1.0.0",
      "model_name": "LayoutModel",
      "state": {}
     },
     "802040cb87954fa283fd2f491739eb63": {
      "model_module": "@jupyter-widgets/base",
      "model_module_version": "1.0.0",
      "model_name": "LayoutModel",
      "state": {}
     },
     "80fc29fd14a145608810376259ae45d1": {
      "model_module": "@jupyter-widgets/controls",
      "model_module_version": "1.2.0",
      "model_name": "HTMLModel",
      "state": {
       "layout": "IPY_MODEL_c38297e44cc049eabd6ff21a58e07add",
       "style": "IPY_MODEL_f52c577b653b49c3bed5daec1f0d7ffe",
       "value": "<h2>District Placement Rates</h2>"
      }
     },
     "813d2829c1d54f2f9189335773dad1f4": {
      "model_module": "@jupyter-widgets/base",
      "model_module_version": "1.0.0",
      "model_name": "LayoutModel",
      "state": {}
     },
     "8148752e773b4f00a9e623060c360108": {
      "model_module": "@jupyter-widgets/controls",
      "model_module_version": "1.2.0",
      "model_name": "HTMLModel",
      "state": {
       "layout": "IPY_MODEL_bde407a53fdb4213a3124b3dbddbcf53",
       "style": "IPY_MODEL_e441b95c5609467aa086ccac02e09184",
       "value": "<h2>Juvenile Population Demographics by Age Group</h2>"
      }
     },
     "8155224031a049e6a9981ac0b0fa6124": {
      "model_module": "@jupyter-widgets/controls",
      "model_module_version": "1.2.0",
      "model_name": "DescriptionStyleModel",
      "state": {
       "description_width": ""
      }
     },
     "81829552a89846f8bb206499d66a1d8d": {
      "model_module": "@jupyter-widgets/output",
      "model_module_version": "1.0.0",
      "model_name": "OutputModel",
      "state": {
       "layout": "IPY_MODEL_bcbb646392be49ca9f4592ae093fdb4c",
       "outputs": [
        {
         "data": {
          "text/html": "<h3>DFS By County</h3>",
          "text/plain": "<IPython.core.display.HTML object>"
         },
         "metadata": {},
         "output_type": "display_data"
        },
        {
         "data": {
          "text/html": "<table border=\"1\" class=\"dataframe\">\n  <thead>\n    <tr>\n      <th>COUNTY</th>\n      <th colspan=\"3\" halign=\"left\">Albany</th>\n    </tr>\n    <tr>\n      <th>YEAR</th>\n      <th>2014</th>\n      <th>2015</th>\n      <th>2016</th>\n    </tr>\n  </thead>\n  <tbody>\n    <tr>\n      <th>CHINS</th>\n      <td>1.0</td>\n      <td>2.0</td>\n      <td>0.0</td>\n    </tr>\n    <tr>\n      <th>DE</th>\n      <td>45.0</td>\n      <td>29.0</td>\n      <td>15.0</td>\n    </tr>\n  </tbody>\n</table>",
          "text/plain": "<IPython.core.display.HTML object>"
         },
         "metadata": {},
         "output_type": "display_data"
        }
       ]
      }
     },
     "81d0e6eb076b434982861b550cd32b64": {
      "model_module": "@jupyter-widgets/base",
      "model_module_version": "1.0.0",
      "model_name": "LayoutModel",
      "state": {}
     },
     "828a4852cd7841f6ade044c7cc4f3a3c": {
      "model_module": "@jupyter-widgets/base",
      "model_module_version": "1.0.0",
      "model_name": "LayoutModel",
      "state": {}
     },
     "828e013c39c44897a22734e915476b9f": {
      "model_module": "@jupyter-widgets/base",
      "model_module_version": "1.0.0",
      "model_name": "LayoutModel",
      "state": {}
     },
     "84380532b3ac40c9a2056fb4ec176ffb": {
      "model_module": "@jupyter-widgets/controls",
      "model_module_version": "1.2.0",
      "model_name": "SliderStyleModel",
      "state": {
       "description_width": ""
      }
     },
     "84f7316912c04dd5be3af39d1962a3a9": {
      "model_module": "@jupyter-widgets/controls",
      "model_module_version": "1.2.0",
      "model_name": "HTMLModel",
      "state": {
       "layout": "IPY_MODEL_9f50f26dd3424107b4ac2329f419057e",
       "style": "IPY_MODEL_4da9e19ca5f3412e976e30273c966888",
       "value": "<h2>County Arrest Rates</h2>"
      }
     },
     "857ce24401cd473aa0e1efbfcf8b0a82": {
      "model_module": "@jupyter-widgets/base",
      "model_module_version": "1.0.0",
      "model_name": "LayoutModel",
      "state": {}
     },
     "86b2d9c47c104e768627e1e444ffa478": {
      "model_module": "@jupyter-widgets/base",
      "model_module_version": "1.0.0",
      "model_name": "LayoutModel",
      "state": {}
     },
     "86ebc32530914a4087845db6ccd7c8e7": {
      "model_module": "@jupyter-widgets/base",
      "model_module_version": "1.0.0",
      "model_name": "LayoutModel",
      "state": {}
     },
     "87093f42e23c4b35883206d6ed9c251f": {
      "model_module": "@jupyter-widgets/base",
      "model_module_version": "1.0.0",
      "model_name": "LayoutModel",
      "state": {}
     },
     "8736cfca54854e7b964db13d607a41bb": {
      "model_module": "@jupyter-widgets/base",
      "model_module_version": "1.0.0",
      "model_name": "LayoutModel",
      "state": {}
     },
     "8744c7db8aa5487d977a12c31bcf7e41": {
      "model_module": "@jupyter-widgets/base",
      "model_module_version": "1.0.0",
      "model_name": "LayoutModel",
      "state": {}
     },
     "87918194b76440638ead303c7b5bc9c3": {
      "model_module": "@jupyter-widgets/base",
      "model_module_version": "1.0.0",
      "model_name": "LayoutModel",
      "state": {}
     },
     "8797aef813124025b0f0b112585a7ec2": {
      "model_module": "@jupyter-widgets/controls",
      "model_module_version": "1.2.0",
      "model_name": "DropdownModel",
      "state": {
       "_options_labels": [
        "Albany",
        "Big Horn",
        "Campbell",
        "Carbon",
        "Converse",
        "Crook",
        "Fremont",
        "Goshen",
        "Hot Springs",
        "Johnson",
        "Laramie",
        "Lincoln",
        "Natrona",
        "Niobrara",
        "Park",
        "Platte",
        "Sheridan",
        "Sublette",
        "Sweetwater",
        "Teton",
        "Uinta",
        "Washakie",
        "Weston"
       ],
       "description": "County:",
       "index": 0,
       "layout": "IPY_MODEL_02e36222a40146aa8fef8a581595342d",
       "style": "IPY_MODEL_39dd58e9df3d44fba0e47daec3cdd090"
      }
     },
     "885acfe96c7543e1ab7967f0708527f3": {
      "model_module": "@jupyter-widgets/controls",
      "model_module_version": "1.2.0",
      "model_name": "DescriptionStyleModel",
      "state": {
       "description_width": ""
      }
     },
     "8882d37c6ec54e46a627dd3ad1f6c023": {
      "model_module": "@jupyter-widgets/controls",
      "model_module_version": "1.2.0",
      "model_name": "DescriptionStyleModel",
      "state": {
       "description_width": ""
      }
     },
     "88958cca988f4363b63ee854ebb55837": {
      "model_module": "@jupyter-widgets/base",
      "model_module_version": "1.0.0",
      "model_name": "LayoutModel",
      "state": {}
     },
     "88d98a80b8f84d6c8343a6c849f48d81": {
      "model_module": "@jupyter-widgets/controls",
      "model_module_version": "1.2.0",
      "model_name": "DescriptionStyleModel",
      "state": {
       "description_width": ""
      }
     },
     "8a50afdc2e634b53b39d72a9c71a2904": {
      "model_module": "@jupyter-widgets/controls",
      "model_module_version": "1.2.0",
      "model_name": "VBoxModel",
      "state": {
       "children": [
        "IPY_MODEL_e3baa50dd436441d8ee18226699c1305",
        "IPY_MODEL_78c287a2d7d941a2b47ca1807f9c002d",
        "IPY_MODEL_39c580711cea4eb4a46e39875344b3d9",
        "IPY_MODEL_6f69dcd866d3424da3bf7c9e661c9b9f",
        "IPY_MODEL_eb537c193b5f482c93c3ead210910e1c"
       ],
       "layout": "IPY_MODEL_fd4f6e405aeb41bfaea1c44b9b0d070f"
      }
     },
     "8d6afd9678e244e0a5747ebfc61294e0": {
      "model_module": "@jupyter-widgets/base",
      "model_module_version": "1.0.0",
      "model_name": "LayoutModel",
      "state": {}
     },
     "8ec5b9adaf04427dbf6787cfe50c868e": {
      "model_module": "@jupyter-widgets/controls",
      "model_module_version": "1.2.0",
      "model_name": "DescriptionStyleModel",
      "state": {
       "description_width": ""
      }
     },
     "8fb018a03ea64a59ac710c8f6f920bd6": {
      "model_module": "@jupyter-widgets/controls",
      "model_module_version": "1.2.0",
      "model_name": "DescriptionStyleModel",
      "state": {
       "description_width": ""
      }
     },
     "8fbdd9ee4ba2409e93bd1cab62e84b66": {
      "model_module": "@jupyter-widgets/base",
      "model_module_version": "1.0.0",
      "model_name": "LayoutModel",
      "state": {}
     },
     "904e8be86efe4fedb89532d3698afdb5": {
      "model_module": "@jupyter-widgets/base",
      "model_module_version": "1.0.0",
      "model_name": "LayoutModel",
      "state": {}
     },
     "90fb2fa951724247b3560ead504f6696": {
      "model_module": "@jupyter-widgets/output",
      "model_module_version": "1.0.0",
      "model_name": "OutputModel",
      "state": {
       "layout": "IPY_MODEL_911fc2dfcfeb418088c52378bce023d5",
       "outputs": [
        {
         "data": {
          "text/html": "<table border=\"1\" class=\"dataframe\">\n  <thead>\n    <tr>\n      <th>Year</th>\n      <th>2014</th>\n      <th>2015</th>\n      <th>2016</th>\n      <th>2017</th>\n    </tr>\n    <tr>\n      <th>district</th>\n      <th>2</th>\n      <th>2</th>\n      <th>2</th>\n      <th>2</th>\n    </tr>\n  </thead>\n  <tbody>\n    <tr>\n      <th>Psychiatric RTC</th>\n      <td>11</td>\n      <td>11</td>\n      <td>8</td>\n      <td>11</td>\n    </tr>\n    <tr>\n      <th>Long Term FC Non Relative</th>\n      <td>0</td>\n      <td>0</td>\n      <td>0</td>\n      <td>0</td>\n    </tr>\n    <tr>\n      <th>Interim</th>\n      <td>0</td>\n      <td>0</td>\n      <td>0</td>\n      <td>0</td>\n    </tr>\n    <tr>\n      <th>Boys School</th>\n      <td>42</td>\n      <td>36</td>\n      <td>31</td>\n      <td>58</td>\n    </tr>\n    <tr>\n      <th>State Hospital</th>\n      <td>0</td>\n      <td>0</td>\n      <td>0</td>\n      <td>0</td>\n    </tr>\n    <tr>\n      <th>Girls School</th>\n      <td>6</td>\n      <td>17</td>\n      <td>6</td>\n      <td>17</td>\n    </tr>\n    <tr>\n      <th>Hospital</th>\n      <td>0</td>\n      <td>0</td>\n      <td>0</td>\n      <td>1</td>\n    </tr>\n    <tr>\n      <th>Therapeutic FC Non Relative</th>\n      <td>0</td>\n      <td>0</td>\n      <td>0</td>\n      <td>0</td>\n    </tr>\n    <tr>\n      <th>Jail</th>\n      <td>0</td>\n      <td>0</td>\n      <td>0</td>\n      <td>0</td>\n    </tr>\n    <tr>\n      <th>Pre-adoptive home</th>\n      <td>0</td>\n      <td>0</td>\n      <td>0</td>\n      <td>0</td>\n    </tr>\n    <tr>\n      <th>Crisis Center</th>\n      <td>1</td>\n      <td>7</td>\n      <td>4</td>\n      <td>1</td>\n    </tr>\n    <tr>\n      <th>Detention</th>\n      <td>20</td>\n      <td>9</td>\n      <td>18</td>\n      <td>7</td>\n    </tr>\n    <tr>\n      <th>Trial Home Visit</th>\n      <td>9</td>\n      <td>27</td>\n      <td>6</td>\n      <td>5</td>\n    </tr>\n    <tr>\n      <th>Runaway</th>\n      <td>0</td>\n      <td>0</td>\n      <td>0</td>\n      <td>1</td>\n    </tr>\n    <tr>\n      <th>Non-relative foster home</th>\n      <td>39</td>\n      <td>23</td>\n      <td>12</td>\n      <td>12</td>\n    </tr>\n    <tr>\n      <th>Residential Treatment</th>\n      <td>85</td>\n      <td>90</td>\n      <td>47</td>\n      <td>60</td>\n    </tr>\n    <tr>\n      <th>Group Home</th>\n      <td>4</td>\n      <td>16</td>\n      <td>13</td>\n      <td>20</td>\n    </tr>\n    <tr>\n      <th>Specialized FC Non Relative</th>\n      <td>0</td>\n      <td>0</td>\n      <td>0</td>\n      <td>0</td>\n    </tr>\n    <tr>\n      <th>Total Group Care</th>\n      <td>169</td>\n      <td>186</td>\n      <td>127</td>\n      <td>175</td>\n    </tr>\n    <tr>\n      <th>Total Family-like setting</th>\n      <td>71</td>\n      <td>51</td>\n      <td>19</td>\n      <td>32</td>\n    </tr>\n    <tr>\n      <th>Unknown</th>\n      <td>0</td>\n      <td>0</td>\n      <td>0</td>\n      <td>1</td>\n    </tr>\n    <tr>\n      <th>Total Children in Care</th>\n      <td>240</td>\n      <td>237</td>\n      <td>146</td>\n      <td>209</td>\n    </tr>\n  </tbody>\n</table>",
          "text/plain": "<IPython.core.display.HTML object>"
         },
         "metadata": {},
         "output_type": "display_data"
        }
       ]
      }
     },
     "90ff8a87583444d0893b7dfbe75cc274": {
      "model_module": "@jupyter-widgets/controls",
      "model_module_version": "1.2.0",
      "model_name": "HTMLModel",
      "state": {
       "layout": "IPY_MODEL_5c622560f5a94f31bff6fdac43642fe5",
       "style": "IPY_MODEL_50ed0f4784e8454ca75edc0bed002c48",
       "value": "<p class=\"page-break\"></p>"
      }
     },
     "911fc2dfcfeb418088c52378bce023d5": {
      "model_module": "@jupyter-widgets/base",
      "model_module_version": "1.0.0",
      "model_name": "LayoutModel",
      "state": {}
     },
     "920379ac8ffb40189dd667b6b0e9696a": {
      "model_module": "@jupyter-widgets/controls",
      "model_module_version": "1.2.0",
      "model_name": "HTMLModel",
      "state": {
       "layout": "IPY_MODEL_e3a2094e0ac14b89ac6142e99597d910",
       "style": "IPY_MODEL_d4e6f3f1017d42d98fea25600e6c478b",
       "value": "Prior to 2017 all DFS reports were reported on a per county basis. After 2017, DFS data collection systems no longer classified data per county."
      }
     },
     "921664f7b73d405e8aa3469c7be9ce49": {
      "model_module": "@jupyter-widgets/controls",
      "model_module_version": "1.2.0",
      "model_name": "SelectModel",
      "state": {
       "_options_labels": [
        "10000"
       ],
       "description": "Estimate per",
       "index": 0,
       "layout": "IPY_MODEL_d4d3c15d16694016ba7cb5c3579a0d8b",
       "style": "IPY_MODEL_df1884de9e204cc98e7fd55e68d35d94"
      }
     },
     "93559ba7b671404b9942f6731748176c": {
      "model_module": "@jupyter-widgets/output",
      "model_module_version": "1.0.0",
      "model_name": "OutputModel",
      "state": {
       "layout": "IPY_MODEL_9f9918a83a7c4179905538fc84669dcb",
       "outputs": [
        {
         "data": {
          "text/html": "<h2>Educational Infraction Data</h2>",
          "text/plain": "<IPython.core.display.HTML object>"
         },
         "metadata": {},
         "output_type": "display_data"
        },
        {
         "data": {
          "text/html": "<table border=\"1\" class=\"dataframe\">\n  <thead>\n    <tr style=\"text-align: right;\">\n      <th></th>\n      <th></th>\n      <th></th>\n      <th>DISTRICT_ID</th>\n      <th>DISTRICT_NAME</th>\n      <th>Expulsion - Services not provided</th>\n      <th>Expulsion - Services provided</th>\n      <th>In school suspension</th>\n      <th>Out of school suspension</th>\n    </tr>\n    <tr>\n      <th>county</th>\n      <th>Beginning Year</th>\n      <th>End Year</th>\n      <th></th>\n      <th></th>\n      <th></th>\n      <th></th>\n      <th></th>\n      <th></th>\n    </tr>\n  </thead>\n  <tbody>\n    <tr>\n      <th rowspan=\"4\" valign=\"top\">Sublette</th>\n      <th rowspan=\"2\" valign=\"top\">2013</th>\n      <th>2014</th>\n      <td>1801000</td>\n      <td>Sublette #1</td>\n      <td>NaN</td>\n      <td>NaN</td>\n      <td>64.0</td>\n      <td>41.0</td>\n    </tr>\n    <tr>\n      <th>2014</th>\n      <td>1809000</td>\n      <td>Sublette #9</td>\n      <td>NaN</td>\n      <td>NaN</td>\n      <td>71.0</td>\n      <td>43.0</td>\n    </tr>\n    <tr>\n      <th rowspan=\"2\" valign=\"top\">2014</th>\n      <th>2015</th>\n      <td>1801000</td>\n      <td>Sublette #1</td>\n      <td>NaN</td>\n      <td>37.0</td>\n      <td>56.0</td>\n      <td>NaN</td>\n    </tr>\n    <tr>\n      <th>2015</th>\n      <td>1809000</td>\n      <td>Sublette #9</td>\n      <td>NaN</td>\n      <td>53.0</td>\n      <td>26.0</td>\n      <td>NaN</td>\n    </tr>\n  </tbody>\n</table>",
          "text/plain": "<IPython.core.display.HTML object>"
         },
         "metadata": {},
         "output_type": "display_data"
        }
       ]
      }
     },
     "935980fc870f448da1e7f89f18263b77": {
      "model_module": "@jupyter-widgets/controls",
      "model_module_version": "1.2.0",
      "model_name": "HTMLModel",
      "state": {
       "layout": "IPY_MODEL_c5af75fb42454a55a26734dd2597d4cb",
       "style": "IPY_MODEL_db3171a7ae1d4c7f88bf615b7d2a3435",
       "value": "SOURCE: OOJDP Easy Access to State and County Juvenile Court Case Counts"
      }
     },
     "93d55dec014743af8421ca258bace0a6": {
      "model_module": "@jupyter-widgets/base",
      "model_module_version": "1.0.0",
      "model_name": "LayoutModel",
      "state": {}
     },
     "95a9c37c71064699b38eb72c197a80a8": {
      "model_module": "@jupyter-widgets/controls",
      "model_module_version": "1.2.0",
      "model_name": "HBoxModel",
      "state": {
       "children": [
        "IPY_MODEL_e5db493dbbff4882a7772f8db4b13df3"
       ],
       "layout": "IPY_MODEL_ad81ec1538764450a6d64ff24d6425eb"
      }
     },
     "95e7483333e64a5591a18b347e2abb77": {
      "model_module": "@jupyter-widgets/controls",
      "model_module_version": "1.2.0",
      "model_name": "DescriptionStyleModel",
      "state": {
       "description_width": ""
      }
     },
     "962c6e1a0bdc4288a6981ae3f2cb9e6b": {
      "model_module": "@jupyter-widgets/base",
      "model_module_version": "1.0.0",
      "model_name": "LayoutModel",
      "state": {}
     },
     "96648fb467a94fbda6cf1bce5a92eea5": {
      "model_module": "@jupyter-widgets/base",
      "model_module_version": "1.0.0",
      "model_name": "LayoutModel",
      "state": {}
     },
     "97ac9d3de61546dfbb1492b9dfb5f00c": {
      "model_module": "@jupyter-widgets/base",
      "model_module_version": "1.0.0",
      "model_name": "LayoutModel",
      "state": {}
     },
     "97ebcf3db976474aa114c073c7d1b93f": {
      "model_module": "@jupyter-widgets/base",
      "model_module_version": "1.0.0",
      "model_name": "LayoutModel",
      "state": {}
     },
     "980c7559e0d24eda8e4738d6beb3ddfd": {
      "model_module": "@jupyter-widgets/controls",
      "model_module_version": "1.2.0",
      "model_name": "HBoxModel",
      "state": {
       "children": [
        "IPY_MODEL_e063d2eb32e94825beb6654f0c5adf13",
        "IPY_MODEL_5086d159b09742a2afbf95e123c2cbd4"
       ],
       "layout": "IPY_MODEL_1e5e8cdc7127412a8d472c7aa49c9864"
      }
     },
     "98b68692ae2e4d92b224528a0b23908f": {
      "model_module": "@jupyter-widgets/base",
      "model_module_version": "1.0.0",
      "model_name": "LayoutModel",
      "state": {}
     },
     "99a49e0b456048e4b6008f7473e61800": {
      "model_module": "@jupyter-widgets/output",
      "model_module_version": "1.0.0",
      "model_name": "OutputModel",
      "state": {
       "layout": "IPY_MODEL_d44c18099ceb43d282e1ac9db782879a",
       "outputs": [
        {
         "data": {
          "text/html": "<table border=\"1\" class=\"dataframe\">\n  <thead>\n    <tr>\n      <th>County</th>\n      <th colspan=\"4\" halign=\"left\">Albany</th>\n    </tr>\n    <tr>\n      <th>Year</th>\n      <th>2014</th>\n      <th>2015</th>\n      <th>2016</th>\n      <th>2017</th>\n    </tr>\n  </thead>\n  <tbody>\n    <tr>\n      <th>Total Incidents</th>\n      <td>177.00</td>\n      <td>162.00</td>\n      <td>100.0</td>\n      <td>156.00</td>\n    </tr>\n    <tr>\n      <th>Population 11-17</th>\n      <td>2099.00</td>\n      <td>2109.00</td>\n      <td>2192.0</td>\n      <td>2257.00</td>\n    </tr>\n    <tr>\n      <th>Rate</th>\n      <td>843.26</td>\n      <td>768.14</td>\n      <td>456.2</td>\n      <td>691.18</td>\n    </tr>\n  </tbody>\n</table>",
          "text/plain": "<IPython.core.display.HTML object>"
         },
         "metadata": {},
         "output_type": "display_data"
        }
       ]
      }
     },
     "9b6e576b0cb1425d8872a9b91c442d43": {
      "model_module": "@jupyter-widgets/base",
      "model_module_version": "1.0.0",
      "model_name": "LayoutModel",
      "state": {}
     },
     "9b952a057f8d433689c838db9230a863": {
      "model_module": "@jupyter-widgets/controls",
      "model_module_version": "1.2.0",
      "model_name": "DescriptionStyleModel",
      "state": {
       "description_width": ""
      }
     },
     "9c4bad1fd2dd4df9985825e5b58e29e7": {
      "model_module": "@jupyter-widgets/output",
      "model_module_version": "1.0.0",
      "model_name": "OutputModel",
      "state": {
       "layout": "IPY_MODEL_f8cb2cb4a51646b6b050f59a38d9fecd",
       "outputs": [
        {
         "data": {
          "text/html": "<table border=\"1\" class=\"dataframe\">\n  <thead>\n    <tr>\n      <th>County</th>\n      <th colspan=\"3\" halign=\"left\">Albany</th>\n    </tr>\n    <tr>\n      <th>Beginning Year</th>\n      <th>2014</th>\n      <th>2015</th>\n      <th>2016</th>\n    </tr>\n    <tr>\n      <th>End Year</th>\n      <th>2015</th>\n      <th>2016</th>\n      <th>2017</th>\n    </tr>\n  </thead>\n  <tbody>\n    <tr>\n      <th>DISTRICT_ID</th>\n      <td>101000</td>\n      <td>101000</td>\n      <td>101000</td>\n    </tr>\n    <tr>\n      <th>DISTRICT_NAME</th>\n      <td>Albany #1</td>\n      <td>Albany #1</td>\n      <td>Albany #1</td>\n    </tr>\n    <tr>\n      <th>Expulsion - Services not provided</th>\n      <td>0</td>\n      <td>0</td>\n      <td>0</td>\n    </tr>\n    <tr>\n      <th>Expulsion - Services provided</th>\n      <td>0</td>\n      <td>0</td>\n      <td>0</td>\n    </tr>\n    <tr>\n      <th>Out of school suspension</th>\n      <td>73</td>\n      <td>162</td>\n      <td>39</td>\n    </tr>\n    <tr>\n      <th>Totals</th>\n      <td>73</td>\n      <td>162</td>\n      <td>39</td>\n    </tr>\n  </tbody>\n</table>",
          "text/plain": "<IPython.core.display.HTML object>"
         },
         "metadata": {},
         "output_type": "display_data"
        }
       ]
      }
     },
     "9c7da54d84b3446994177066ff4d27bc": {
      "model_module": "@jupyter-widgets/controls",
      "model_module_version": "1.2.0",
      "model_name": "DescriptionStyleModel",
      "state": {
       "description_width": ""
      }
     },
     "9c83810571a8419788bb97bc35937be3": {
      "model_module": "@jupyter-widgets/controls",
      "model_module_version": "1.2.0",
      "model_name": "HTMLModel",
      "state": {
       "layout": "IPY_MODEL_69210d97683f4b1095194b6f8ed80f84",
       "style": "IPY_MODEL_76ef3843bf1b43c9892f09881c7d4a82",
       "value": "Wyoming Juvenile Arrests reported from agency ORI numbers. Split between violent felony offenses and non-violent offenses."
      }
     },
     "9dbe2ad86bba49bcb250fa5e16012e54": {
      "model_module": "@jupyter-widgets/output",
      "model_module_version": "1.0.0",
      "model_name": "OutputModel",
      "state": {
       "layout": "IPY_MODEL_0d8fab544e414e32bc8af8972958b66f",
       "outputs": [
        {
         "data": {
          "text/html": "<table border=\"1\" class=\"dataframe\">\n  <thead>\n    <tr>\n      <th>County</th>\n      <th colspan=\"4\" halign=\"left\">Albany</th>\n    </tr>\n    <tr>\n      <th>Year</th>\n      <th>2014</th>\n      <th>2015</th>\n      <th>2016</th>\n      <th>2017</th>\n    </tr>\n  </thead>\n  <tbody>\n    <tr>\n      <th>Total Incidents</th>\n      <td>177.00</td>\n      <td>162.00</td>\n      <td>100.0</td>\n      <td>156.00</td>\n    </tr>\n    <tr>\n      <th>Population 11-17</th>\n      <td>2099.00</td>\n      <td>2109.00</td>\n      <td>2192.0</td>\n      <td>2257.00</td>\n    </tr>\n    <tr>\n      <th>Rate</th>\n      <td>843.26</td>\n      <td>768.14</td>\n      <td>456.2</td>\n      <td>691.18</td>\n    </tr>\n  </tbody>\n</table>",
          "text/plain": "<IPython.core.display.HTML object>"
         },
         "metadata": {},
         "output_type": "display_data"
        }
       ]
      }
     },
     "9e25b3280cf14343bea0b23f09bb529a": {
      "model_module": "@jupyter-widgets/output",
      "model_module_version": "1.0.0",
      "model_name": "OutputModel",
      "state": {
       "layout": "IPY_MODEL_8fbdd9ee4ba2409e93bd1cab62e84b66",
       "outputs": [
        {
         "data": {
          "text/html": "<table border=\"1\" class=\"dataframe\">\n  <thead>\n    <tr style=\"text-align: right;\">\n      <th></th>\n      <th></th>\n      <th>Manslaughter</th>\n      <th>Rape</th>\n      <th>Robbery</th>\n      <th>Aggravated-Assault</th>\n      <th>Burglary</th>\n      <th>Larceny-Theft</th>\n      <th>Motor-Vehicle-Theft</th>\n      <th>Arson</th>\n      <th>Other-Assaults</th>\n      <th>Forgery-Counterfeiting</th>\n      <th>Fraud</th>\n      <th>Embezzlement</th>\n      <th>Stolen-Property</th>\n      <th>Vandalism</th>\n      <th>Weapons</th>\n      <th>Prostitution</th>\n      <th>Sex-Offenses</th>\n      <th>Drug-Abuse-Violations</th>\n      <th>Drug-Abuse-Violations-Possession</th>\n      <th>Gambling-Offenses</th>\n      <th>Offenses-Against-Family-Children</th>\n      <th>Driving-Under-the-Influence</th>\n      <th>Liquor-Laws</th>\n      <th>Drunkenness</th>\n      <th>Disorderly-Conduct</th>\n      <th>All-Other-Offenses-Except-Traffic</th>\n      <th>Suspicion</th>\n      <th>Curfew-Loitering-Law-Violations</th>\n      <th>Run-a-ways</th>\n      <th>Vagrancy</th>\n    </tr>\n    <tr>\n      <th>County</th>\n      <th>Year</th>\n      <th></th>\n      <th></th>\n      <th></th>\n      <th></th>\n      <th></th>\n      <th></th>\n      <th></th>\n      <th></th>\n      <th></th>\n      <th></th>\n      <th></th>\n      <th></th>\n      <th></th>\n      <th></th>\n      <th></th>\n      <th></th>\n      <th></th>\n      <th></th>\n      <th></th>\n      <th></th>\n      <th></th>\n      <th></th>\n      <th></th>\n      <th></th>\n      <th></th>\n      <th></th>\n      <th></th>\n      <th></th>\n      <th></th>\n      <th></th>\n    </tr>\n  </thead>\n  <tbody>\n    <tr>\n      <th rowspan=\"3\" valign=\"top\">Sublette</th>\n      <th>2013</th>\n      <td>0</td>\n      <td>0</td>\n      <td>0</td>\n      <td>0</td>\n      <td>1</td>\n      <td>2</td>\n      <td>0</td>\n      <td>0</td>\n      <td>4</td>\n      <td>0</td>\n      <td>0</td>\n      <td>0</td>\n      <td>0</td>\n      <td>0</td>\n      <td>0</td>\n      <td>0</td>\n      <td>0</td>\n      <td>0</td>\n      <td>3</td>\n      <td>0</td>\n      <td>0</td>\n      <td>0</td>\n      <td>7</td>\n      <td>0</td>\n      <td>0</td>\n      <td>13</td>\n      <td>0</td>\n      <td>0</td>\n      <td>1</td>\n      <td>0</td>\n    </tr>\n    <tr>\n      <th>2014</th>\n      <td>0</td>\n      <td>0</td>\n      <td>0</td>\n      <td>0</td>\n      <td>0</td>\n      <td>2</td>\n      <td>0</td>\n      <td>0</td>\n      <td>1</td>\n      <td>0</td>\n      <td>0</td>\n      <td>0</td>\n      <td>0</td>\n      <td>1</td>\n      <td>0</td>\n      <td>0</td>\n      <td>0</td>\n      <td>0</td>\n      <td>4</td>\n      <td>0</td>\n      <td>0</td>\n      <td>0</td>\n      <td>7</td>\n      <td>0</td>\n      <td>2</td>\n      <td>7</td>\n      <td>0</td>\n      <td>1</td>\n      <td>1</td>\n      <td>0</td>\n    </tr>\n    <tr>\n      <th>2015</th>\n      <td>0</td>\n      <td>0</td>\n      <td>0</td>\n      <td>0</td>\n      <td>0</td>\n      <td>0</td>\n      <td>0</td>\n      <td>0</td>\n      <td>0</td>\n      <td>0</td>\n      <td>0</td>\n      <td>0</td>\n      <td>0</td>\n      <td>0</td>\n      <td>0</td>\n      <td>0</td>\n      <td>0</td>\n      <td>2</td>\n      <td>3</td>\n      <td>0</td>\n      <td>0</td>\n      <td>0</td>\n      <td>2</td>\n      <td>2</td>\n      <td>0</td>\n      <td>5</td>\n      <td>0</td>\n      <td>0</td>\n      <td>0</td>\n      <td>0</td>\n    </tr>\n  </tbody>\n</table>",
          "text/plain": "<IPython.core.display.HTML object>"
         },
         "metadata": {},
         "output_type": "display_data"
        }
       ]
      }
     },
     "9e3d0697741d49c9b9d52e930bc96f9f": {
      "model_module": "@jupyter-widgets/controls",
      "model_module_version": "1.2.0",
      "model_name": "HBoxModel",
      "state": {
       "children": [
        "IPY_MODEL_aff91a6ba0fd41df9c1413d06293c478",
        "IPY_MODEL_324990beb9244290a7a1de2eda0275f6"
       ],
       "layout": "IPY_MODEL_c35c7e81dd8e4f8ab6a40b63114b206b"
      }
     },
     "9e476c531a094fd894707db6473c7811": {
      "model_module": "@jupyter-widgets/base",
      "model_module_version": "1.0.0",
      "model_name": "LayoutModel",
      "state": {}
     },
     "9f50f26dd3424107b4ac2329f419057e": {
      "model_module": "@jupyter-widgets/base",
      "model_module_version": "1.0.0",
      "model_name": "LayoutModel",
      "state": {}
     },
     "9f76614d45aa4756a51f928cde13f7ff": {
      "model_module": "@jupyter-widgets/base",
      "model_module_version": "1.0.0",
      "model_name": "LayoutModel",
      "state": {}
     },
     "9f9918a83a7c4179905538fc84669dcb": {
      "model_module": "@jupyter-widgets/base",
      "model_module_version": "1.0.0",
      "model_name": "LayoutModel",
      "state": {}
     },
     "9faa87740d984f788a2a8c7250c40bc9": {
      "model_module": "@jupyter-widgets/base",
      "model_module_version": "1.0.0",
      "model_name": "LayoutModel",
      "state": {}
     },
     "a061a48037534f23ac4eb897c0e31f24": {
      "model_module": "@jupyter-widgets/controls",
      "model_module_version": "1.2.0",
      "model_name": "DescriptionStyleModel",
      "state": {
       "description_width": ""
      }
     },
     "a0b21e387a544703a65b5100f4812874": {
      "model_module": "@jupyter-widgets/controls",
      "model_module_version": "1.2.0",
      "model_name": "IntRangeSliderModel",
      "state": {
       "_model_name": "IntRangeSliderModel",
       "_view_name": "IntRangeSliderView",
       "layout": "IPY_MODEL_1c600317fd1f4d08ab846b2c2ceed5d2",
       "max": 2017,
       "min": 2012,
       "style": "IPY_MODEL_db6c7c2dd7c24ecb81a950ceed494704",
       "value": [
        2013,
        2015
       ]
      }
     },
     "a0d1b23d9dc243afaf547cfa74e05715": {
      "model_module": "@jupyter-widgets/base",
      "model_module_version": "1.0.0",
      "model_name": "LayoutModel",
      "state": {}
     },
     "a10995a39c7a4230b958b28ee6ea480c": {
      "model_module": "@jupyter-widgets/controls",
      "model_module_version": "1.2.0",
      "model_name": "HTMLModel",
      "state": {
       "layout": "IPY_MODEL_ec0ceebdfc814fb18a01a57ba3743c88",
       "style": "IPY_MODEL_fb150851710d4c068b05806d1e2790b5",
       "value": "<h2>State Arrest Rates</h2><br>"
      }
     },
     "a1b7d80f1d764554b811e554291d1167": {
      "model_module": "@jupyter-widgets/base",
      "model_module_version": "1.0.0",
      "model_name": "LayoutModel",
      "state": {}
     },
     "a1e05ad1aa5d433a9e131dad607a2f63": {
      "model_module": "@jupyter-widgets/base",
      "model_module_version": "1.0.0",
      "model_name": "LayoutModel",
      "state": {}
     },
     "a2f07a6170d34d2ab0aa5ba9670e329d": {
      "model_module": "@jupyter-widgets/base",
      "model_module_version": "1.0.0",
      "model_name": "LayoutModel",
      "state": {}
     },
     "a4bc91b15e2d4438a59e159c52c7e84a": {
      "model_module": "@jupyter-widgets/output",
      "model_module_version": "1.0.0",
      "model_name": "OutputModel",
      "state": {
       "layout": "IPY_MODEL_5e4291ba68c141b398a9da1129debd11",
       "outputs": [
        {
         "data": {
          "text/html": "<table border=\"1\" class=\"dataframe\">\n  <thead>\n    <tr>\n      <th>district</th>\n      <th colspan=\"4\" halign=\"left\">2</th>\n    </tr>\n    <tr>\n      <th>Year</th>\n      <th>2014</th>\n      <th>2015</th>\n      <th>2016</th>\n      <th>2017</th>\n    </tr>\n  </thead>\n  <tbody>\n    <tr>\n      <th>Total</th>\n      <td>240.00</td>\n      <td>237.00</td>\n      <td>146.00</td>\n      <td>209.00</td>\n    </tr>\n    <tr>\n      <th>Population 11-17</th>\n      <td>3501.00</td>\n      <td>3488.00</td>\n      <td>3574.00</td>\n      <td>3608.00</td>\n    </tr>\n    <tr>\n      <th>Rate</th>\n      <td>685.52</td>\n      <td>679.47</td>\n      <td>408.51</td>\n      <td>579.27</td>\n    </tr>\n  </tbody>\n</table>",
          "text/plain": "<IPython.core.display.HTML object>"
         },
         "metadata": {},
         "output_type": "display_data"
        }
       ]
      }
     },
     "a58715e6986a43c196a390a145d80b19": {
      "model_module": "@jupyter-widgets/base",
      "model_module_version": "1.0.0",
      "model_name": "LayoutModel",
      "state": {}
     },
     "a5f520e6add7434f87b8ac0f915e67aa": {
      "model_module": "@jupyter-widgets/controls",
      "model_module_version": "1.2.0",
      "model_name": "HTMLModel",
      "state": {
       "layout": "IPY_MODEL_6d28b9a6958d44d6a44854bb1588339b",
       "style": "IPY_MODEL_bca06abd52f242468208b9d1398f04be",
       "value": "* denotes case counts greater than zero and less than five."
      }
     },
     "a671818fcc7c403dacefcfa80ef1f4f1": {
      "model_module": "@jupyter-widgets/base",
      "model_module_version": "1.0.0",
      "model_name": "LayoutModel",
      "state": {}
     },
     "a71e152b97334f16839de11d56630b16": {
      "model_module": "@jupyter-widgets/controls",
      "model_module_version": "1.2.0",
      "model_name": "DescriptionStyleModel",
      "state": {
       "description_width": ""
      }
     },
     "a84089407ea842048c63d07931cb6cb2": {
      "model_module": "@jupyter-widgets/base",
      "model_module_version": "1.0.0",
      "model_name": "LayoutModel",
      "state": {}
     },
     "a92a3cb204274f5badbaeca3be4cb06a": {
      "model_module": "@jupyter-widgets/controls",
      "model_module_version": "1.2.0",
      "model_name": "HTMLModel",
      "state": {
       "layout": "IPY_MODEL_a58715e6986a43c196a390a145d80b19",
       "style": "IPY_MODEL_017a91d5f4fe4e5fb567c3b68161fc38",
       "value": "<hr><h2>Educational Discipline Data</h2>"
      }
     },
     "a9b2d10a76d24040ae9262330d1fae67": {
      "model_module": "@jupyter-widgets/controls",
      "model_module_version": "1.2.0",
      "model_name": "VBoxModel",
      "state": {
       "children": [
        "IPY_MODEL_81829552a89846f8bb206499d66a1d8d",
        "IPY_MODEL_66186fd8186d4c809cf049ce6f392f38"
       ],
       "layout": "IPY_MODEL_be41dfcb2b9d449f979c9106825476b3"
      }
     },
     "a9cdf0425d954c7890234a45ab63033d": {
      "model_module": "@jupyter-widgets/controls",
      "model_module_version": "1.2.0",
      "model_name": "HTMLModel",
      "state": {
       "layout": "IPY_MODEL_fa79a31aeae8455ebe1a849baef96b1a",
       "style": "IPY_MODEL_8882d37c6ec54e46a627dd3ad1f6c023",
       "value": "SOURCE: Wyoming DCI UCR arrests by ORI"
      }
     },
     "a9e4e015ab1a4d148f1ba92f605e74f9": {
      "model_module": "@jupyter-widgets/base",
      "model_module_version": "1.0.0",
      "model_name": "LayoutModel",
      "state": {}
     },
     "a9fdbad89e9f44baa8381ce47c2c613c": {
      "model_module": "@jupyter-widgets/controls",
      "model_module_version": "1.2.0",
      "model_name": "VBoxModel",
      "state": {
       "children": [
        "IPY_MODEL_90fb2fa951724247b3560ead504f6696"
       ],
       "layout": "IPY_MODEL_14b1c6320b154a5eaa25f45592d32dba"
      }
     },
     "aa1932d3891943579c0e41e2f7bccded": {
      "model_module": "@jupyter-widgets/base",
      "model_module_version": "1.0.0",
      "model_name": "LayoutModel",
      "state": {}
     },
     "aa72645ee4f84339a01713d489a76fbf": {
      "model_module": "@jupyter-widgets/output",
      "model_module_version": "1.0.0",
      "model_name": "OutputModel",
      "state": {
       "layout": "IPY_MODEL_03a9239a22e64f63928b21046218e89d",
       "outputs": [
        {
         "data": {
          "text/html": "<center><h3>Lesser Offenses</h3></center>",
          "text/plain": "<IPython.core.display.HTML object>"
         },
         "metadata": {},
         "output_type": "display_data"
        },
        {
         "data": {
          "text/html": "<table border=\"1\" class=\"dataframe\">\n  <thead>\n    <tr>\n      <th>County</th>\n      <th colspan=\"4\" halign=\"left\">Albany</th>\n    </tr>\n    <tr>\n      <th>Year</th>\n      <th>2014</th>\n      <th>2015</th>\n      <th>2016</th>\n      <th>2017</th>\n    </tr>\n  </thead>\n  <tbody>\n    <tr>\n      <th>Burglary</th>\n      <td>5</td>\n      <td>0</td>\n      <td>0</td>\n      <td>2</td>\n    </tr>\n    <tr>\n      <th>Larceny-Theft</th>\n      <td>30</td>\n      <td>27</td>\n      <td>7</td>\n      <td>19</td>\n    </tr>\n    <tr>\n      <th>Motor-Vehicle-Theft</th>\n      <td>0</td>\n      <td>1</td>\n      <td>0</td>\n      <td>2</td>\n    </tr>\n    <tr>\n      <th>Arson</th>\n      <td>0</td>\n      <td>0</td>\n      <td>0</td>\n      <td>0</td>\n    </tr>\n    <tr>\n      <th>Other-Assaults</th>\n      <td>58</td>\n      <td>40</td>\n      <td>27</td>\n      <td>36</td>\n    </tr>\n    <tr>\n      <th>Forgery-Counterfeiting</th>\n      <td>0</td>\n      <td>0</td>\n      <td>0</td>\n      <td>0</td>\n    </tr>\n    <tr>\n      <th>Fraud</th>\n      <td>0</td>\n      <td>0</td>\n      <td>0</td>\n      <td>1</td>\n    </tr>\n    <tr>\n      <th>Embezzlement</th>\n      <td>0</td>\n      <td>0</td>\n      <td>2</td>\n      <td>0</td>\n    </tr>\n    <tr>\n      <th>Stolen-Property</th>\n      <td>0</td>\n      <td>0</td>\n      <td>0</td>\n      <td>4</td>\n    </tr>\n    <tr>\n      <th>Vandalism</th>\n      <td>14</td>\n      <td>11</td>\n      <td>5</td>\n      <td>11</td>\n    </tr>\n    <tr>\n      <th>Weapons</th>\n      <td>0</td>\n      <td>0</td>\n      <td>0</td>\n      <td>1</td>\n    </tr>\n    <tr>\n      <th>Prostitution</th>\n      <td>0</td>\n      <td>0</td>\n      <td>0</td>\n      <td>0</td>\n    </tr>\n    <tr>\n      <th>Sex-Offenses</th>\n      <td>1</td>\n      <td>0</td>\n      <td>4</td>\n      <td>4</td>\n    </tr>\n    <tr>\n      <th>Drug-Abuse-Violations</th>\n      <td>0</td>\n      <td>0</td>\n      <td>0</td>\n      <td>17</td>\n    </tr>\n    <tr>\n      <th>Drug-Abuse-Violations-Possession</th>\n      <td>15</td>\n      <td>20</td>\n      <td>19</td>\n      <td>17</td>\n    </tr>\n    <tr>\n      <th>Gambling-Offenses</th>\n      <td>0</td>\n      <td>0</td>\n      <td>0</td>\n      <td>0</td>\n    </tr>\n    <tr>\n      <th>Offenses-Against-Family-Children</th>\n      <td>0</td>\n      <td>0</td>\n      <td>0</td>\n      <td>0</td>\n    </tr>\n    <tr>\n      <th>Driving-Under-the-Influence</th>\n      <td>0</td>\n      <td>5</td>\n      <td>1</td>\n      <td>0</td>\n    </tr>\n    <tr>\n      <th>Liquor-Laws</th>\n      <td>22</td>\n      <td>20</td>\n      <td>16</td>\n      <td>20</td>\n    </tr>\n    <tr>\n      <th>Drunkenness</th>\n      <td>0</td>\n      <td>0</td>\n      <td>0</td>\n      <td>0</td>\n    </tr>\n    <tr>\n      <th>Disorderly-Conduct</th>\n      <td>2</td>\n      <td>1</td>\n      <td>1</td>\n      <td>3</td>\n    </tr>\n    <tr>\n      <th>All-Other-Offenses-Except-Traffic</th>\n      <td>28</td>\n      <td>36</td>\n      <td>18</td>\n      <td>17</td>\n    </tr>\n    <tr>\n      <th>Suspicion</th>\n      <td>0</td>\n      <td>0</td>\n      <td>0</td>\n      <td>0</td>\n    </tr>\n    <tr>\n      <th>Curfew-Loitering-Law-Violations</th>\n      <td>0</td>\n      <td>0</td>\n      <td>0</td>\n      <td>0</td>\n    </tr>\n    <tr>\n      <th>Run-a-ways</th>\n      <td>0</td>\n      <td>0</td>\n      <td>0</td>\n      <td>0</td>\n    </tr>\n    <tr>\n      <th>Vagrancy</th>\n      <td>0</td>\n      <td>0</td>\n      <td>0</td>\n      <td>0</td>\n    </tr>\n    <tr>\n      <th>Totals</th>\n      <td>175</td>\n      <td>161</td>\n      <td>100</td>\n      <td>154</td>\n    </tr>\n  </tbody>\n</table>",
          "text/plain": "<IPython.core.display.HTML object>"
         },
         "metadata": {},
         "output_type": "display_data"
        }
       ]
      }
     },
     "ab21be507c3448b9ad191eb9037f170f": {
      "model_module": "@jupyter-widgets/controls",
      "model_module_version": "1.2.0",
      "model_name": "DescriptionStyleModel",
      "state": {
       "description_width": ""
      }
     },
     "abfd6deda0b646868529ad64032efc01": {
      "model_module": "@jupyter-widgets/output",
      "model_module_version": "1.0.0",
      "model_name": "OutputModel",
      "state": {
       "layout": "IPY_MODEL_2ea3d655bbb748a3a5f868bf494cc3b0",
       "outputs": [
        {
         "data": {
          "text/html": "<h3>Afcars Data</h3>",
          "text/plain": "<IPython.core.display.HTML object>"
         },
         "metadata": {},
         "output_type": "display_data"
        },
        {
         "data": {
          "text/html": "<table border=\"1\" class=\"dataframe\">\n  <thead>\n    <tr>\n      <th>COUNTY</th>\n      <th colspan=\"3\" halign=\"left\">Albany</th>\n    </tr>\n    <tr>\n      <th>YEAR</th>\n      <th>2014</th>\n      <th>2015</th>\n      <th>2016</th>\n    </tr>\n  </thead>\n  <tbody>\n    <tr>\n      <th>CHINS</th>\n      <td>1</td>\n      <td>2</td>\n      <td>0</td>\n    </tr>\n    <tr>\n      <th>DE</th>\n      <td>14</td>\n      <td>7</td>\n      <td>3</td>\n    </tr>\n  </tbody>\n</table>",
          "text/plain": "<IPython.core.display.HTML object>"
         },
         "metadata": {},
         "output_type": "display_data"
        }
       ]
      }
     },
     "acfe5c8a0bf344f1969ed6cee544b299": {
      "model_module": "@jupyter-widgets/base",
      "model_module_version": "1.0.0",
      "model_name": "LayoutModel",
      "state": {}
     },
     "ad113cc8b75c4772afe9f4fff8a89d3d": {
      "model_module": "@jupyter-widgets/base",
      "model_module_version": "1.0.0",
      "model_name": "LayoutModel",
      "state": {}
     },
     "ad81ec1538764450a6d64ff24d6425eb": {
      "model_module": "@jupyter-widgets/base",
      "model_module_version": "1.0.0",
      "model_name": "LayoutModel",
      "state": {}
     },
     "addc8427e8ad4129b43b74dab9490d30": {
      "model_module": "@jupyter-widgets/controls",
      "model_module_version": "1.2.0",
      "model_name": "DescriptionStyleModel",
      "state": {
       "description_width": ""
      }
     },
     "ade049bd057f4f41abd70f6356886283": {
      "model_module": "@jupyter-widgets/controls",
      "model_module_version": "1.2.0",
      "model_name": "VBoxModel",
      "state": {
       "children": [
        "IPY_MODEL_5ba5d286841041b79e6ef8cb5d83e352",
        "IPY_MODEL_6e7058647b2c4baab8f9d46fd760cbf3",
        "IPY_MODEL_e03363b0c33e45f499aff2e20d256b82"
       ],
       "layout": "IPY_MODEL_598ebefc93cc4e1da1ecd83ff80831eb"
      }
     },
     "adf8a4fc6169410199c04c15defece2d": {
      "model_module": "@jupyter-widgets/base",
      "model_module_version": "1.0.0",
      "model_name": "LayoutModel",
      "state": {}
     },
     "aee31b5cf56840a389026253d9be5b81": {
      "model_module": "@jupyter-widgets/controls",
      "model_module_version": "1.2.0",
      "model_name": "HTMLModel",
      "state": {
       "layout": "IPY_MODEL_a1b7d80f1d764554b811e554291d1167",
       "style": "IPY_MODEL_cc1c02d94ae34968875d88cef0de6799",
       "value": "<hr><center><h1>ORI Arrests Data</h1></center>"
      }
     },
     "aff91a6ba0fd41df9c1413d06293c478": {
      "model_module": "@jupyter-widgets/output",
      "model_module_version": "1.0.0",
      "model_name": "OutputModel",
      "state": {
       "layout": "IPY_MODEL_0a00aa3284f94fd3aeb5d27c5737f47e",
       "outputs": [
        {
         "data": {
          "text/html": "<center><h3>Violent Felony</h3></center>",
          "text/plain": "<IPython.core.display.HTML object>"
         },
         "metadata": {},
         "output_type": "display_data"
        },
        {
         "data": {
          "text/html": "<table border=\"1\" class=\"dataframe\">\n  <thead>\n    <tr>\n      <th>County</th>\n      <th colspan=\"4\" halign=\"left\">Albany</th>\n    </tr>\n    <tr>\n      <th>Year</th>\n      <th>2014</th>\n      <th>2015</th>\n      <th>2016</th>\n      <th>2017</th>\n    </tr>\n  </thead>\n  <tbody>\n    <tr>\n      <th>Manslaughter</th>\n      <td>0</td>\n      <td>0</td>\n      <td>0</td>\n      <td>0</td>\n    </tr>\n    <tr>\n      <th>Rape</th>\n      <td>0</td>\n      <td>0</td>\n      <td>0</td>\n      <td>0</td>\n    </tr>\n    <tr>\n      <th>Robbery</th>\n      <td>1</td>\n      <td>0</td>\n      <td>0</td>\n      <td>1</td>\n    </tr>\n    <tr>\n      <th>Aggravated-Assault</th>\n      <td>1</td>\n      <td>1</td>\n      <td>0</td>\n      <td>1</td>\n    </tr>\n    <tr>\n      <th>Totals</th>\n      <td>2</td>\n      <td>1</td>\n      <td>0</td>\n      <td>2</td>\n    </tr>\n  </tbody>\n</table>",
          "text/plain": "<IPython.core.display.HTML object>"
         },
         "metadata": {},
         "output_type": "display_data"
        }
       ]
      }
     },
     "b0e608175a8647cdb3b9489a694fa756": {
      "model_module": "@jupyter-widgets/output",
      "model_module_version": "1.0.0",
      "model_name": "OutputModel",
      "state": {
       "layout": "IPY_MODEL_8d6afd9678e244e0a5747ebfc61294e0",
       "outputs": [
        {
         "data": {
          "text/html": "<table border=\"1\" class=\"dataframe\">\n  <thead>\n    <tr>\n      <th>County</th>\n      <th colspan=\"66\" halign=\"left\">Albany</th>\n    </tr>\n    <tr>\n      <th>Age Range</th>\n      <th colspan=\"3\" halign=\"left\">0</th>\n      <th colspan=\"3\" halign=\"left\">1</th>\n      <th colspan=\"3\" halign=\"left\">10</th>\n      <th colspan=\"3\" halign=\"left\">11</th>\n      <th colspan=\"3\" halign=\"left\">12</th>\n      <th colspan=\"3\" halign=\"left\">13</th>\n      <th colspan=\"3\" halign=\"left\">14</th>\n      <th colspan=\"3\" halign=\"left\">15</th>\n      <th colspan=\"3\" halign=\"left\">16</th>\n      <th colspan=\"3\" halign=\"left\">17</th>\n      <th colspan=\"3\" halign=\"left\">18 to 20</th>\n      <th colspan=\"3\" halign=\"left\">2</th>\n      <th colspan=\"3\" halign=\"left\">21 to 24</th>\n      <th colspan=\"3\" halign=\"left\">25 &amp; over</th>\n      <th colspan=\"3\" halign=\"left\">3</th>\n      <th colspan=\"3\" halign=\"left\">4</th>\n      <th colspan=\"3\" halign=\"left\">5</th>\n      <th colspan=\"3\" halign=\"left\">6</th>\n      <th colspan=\"3\" halign=\"left\">7</th>\n      <th colspan=\"3\" halign=\"left\">8</th>\n      <th colspan=\"3\" halign=\"left\">9</th>\n      <th colspan=\"3\" halign=\"left\">Total</th>\n    </tr>\n    <tr>\n      <th>Year</th>\n      <th>2014</th>\n      <th>2015</th>\n      <th>2016</th>\n      <th>2014</th>\n      <th>2015</th>\n      <th>2016</th>\n      <th>2014</th>\n      <th>2015</th>\n      <th>2016</th>\n      <th>2014</th>\n      <th>2015</th>\n      <th>2016</th>\n      <th>2014</th>\n      <th>2015</th>\n      <th>2016</th>\n      <th>2014</th>\n      <th>2015</th>\n      <th>2016</th>\n      <th>2014</th>\n      <th>2015</th>\n      <th>2016</th>\n      <th>2014</th>\n      <th>2015</th>\n      <th>2016</th>\n      <th>2014</th>\n      <th>2015</th>\n      <th>2016</th>\n      <th>2014</th>\n      <th>2015</th>\n      <th>2016</th>\n      <th>2014</th>\n      <th>2015</th>\n      <th>2016</th>\n      <th>2014</th>\n      <th>2015</th>\n      <th>2016</th>\n      <th>2014</th>\n      <th>2015</th>\n      <th>2016</th>\n      <th>2014</th>\n      <th>2015</th>\n      <th>2016</th>\n      <th>2014</th>\n      <th>2015</th>\n      <th>2016</th>\n      <th>2014</th>\n      <th>2015</th>\n      <th>2016</th>\n      <th>2014</th>\n      <th>2015</th>\n      <th>2016</th>\n      <th>2014</th>\n      <th>2015</th>\n      <th>2016</th>\n      <th>2014</th>\n      <th>2015</th>\n      <th>2016</th>\n      <th>2014</th>\n      <th>2015</th>\n      <th>2016</th>\n      <th>2014</th>\n      <th>2015</th>\n      <th>2016</th>\n      <th>2014</th>\n      <th>2015</th>\n      <th>2016</th>\n    </tr>\n  </thead>\n  <tbody>\n    <tr>\n      <th>White</th>\n      <td>390</td>\n      <td>386</td>\n      <td>390</td>\n      <td>324</td>\n      <td>367</td>\n      <td>368</td>\n      <td>271</td>\n      <td>294</td>\n      <td>331</td>\n      <td>266</td>\n      <td>284</td>\n      <td>318</td>\n      <td>270</td>\n      <td>275</td>\n      <td>285</td>\n      <td>299</td>\n      <td>275</td>\n      <td>284</td>\n      <td>259</td>\n      <td>291</td>\n      <td>284</td>\n      <td>250</td>\n      <td>277</td>\n      <td>310</td>\n      <td>285</td>\n      <td>252</td>\n      <td>282</td>\n      <td>303</td>\n      <td>291</td>\n      <td>268</td>\n      <td>3721</td>\n      <td>3790</td>\n      <td>3710</td>\n      <td>371</td>\n      <td>336</td>\n      <td>347</td>\n      <td>6703</td>\n      <td>6426</td>\n      <td>6330</td>\n      <td>19033</td>\n      <td>19437</td>\n      <td>19671</td>\n      <td>345</td>\n      <td>350</td>\n      <td>322</td>\n      <td>357</td>\n      <td>325</td>\n      <td>347</td>\n      <td>354</td>\n      <td>348</td>\n      <td>326</td>\n      <td>324</td>\n      <td>341</td>\n      <td>332</td>\n      <td>342</td>\n      <td>324</td>\n      <td>342</td>\n      <td>324</td>\n      <td>341</td>\n      <td>323</td>\n      <td>304</td>\n      <td>317</td>\n      <td>352</td>\n      <td>35095</td>\n      <td>35327</td>\n      <td>35522</td>\n    </tr>\n    <tr>\n      <th>Black</th>\n      <td>14</td>\n      <td>10</td>\n      <td>14</td>\n      <td>16</td>\n      <td>18</td>\n      <td>13</td>\n      <td>9</td>\n      <td>6</td>\n      <td>6</td>\n      <td>6</td>\n      <td>10</td>\n      <td>6</td>\n      <td>11</td>\n      <td>4</td>\n      <td>12</td>\n      <td>9</td>\n      <td>9</td>\n      <td>5</td>\n      <td>3</td>\n      <td>7</td>\n      <td>6</td>\n      <td>5</td>\n      <td>8</td>\n      <td>5</td>\n      <td>9</td>\n      <td>11</td>\n      <td>8</td>\n      <td>23</td>\n      <td>21</td>\n      <td>21</td>\n      <td>75</td>\n      <td>66</td>\n      <td>77</td>\n      <td>13</td>\n      <td>16</td>\n      <td>16</td>\n      <td>208</td>\n      <td>195</td>\n      <td>172</td>\n      <td>399</td>\n      <td>408</td>\n      <td>397</td>\n      <td>19</td>\n      <td>16</td>\n      <td>17</td>\n      <td>19</td>\n      <td>18</td>\n      <td>15</td>\n      <td>24</td>\n      <td>19</td>\n      <td>15</td>\n      <td>19</td>\n      <td>21</td>\n      <td>12</td>\n      <td>8</td>\n      <td>14</td>\n      <td>16</td>\n      <td>9</td>\n      <td>8</td>\n      <td>13</td>\n      <td>7</td>\n      <td>8</td>\n      <td>9</td>\n      <td>905</td>\n      <td>893</td>\n      <td>855</td>\n    </tr>\n    <tr>\n      <th>American Indian</th>\n      <td>5</td>\n      <td>8</td>\n      <td>7</td>\n      <td>7</td>\n      <td>7</td>\n      <td>8</td>\n      <td>6</td>\n      <td>7</td>\n      <td>6</td>\n      <td>2</td>\n      <td>6</td>\n      <td>9</td>\n      <td>8</td>\n      <td>3</td>\n      <td>4</td>\n      <td>1</td>\n      <td>7</td>\n      <td>3</td>\n      <td>7</td>\n      <td>5</td>\n      <td>7</td>\n      <td>6</td>\n      <td>7</td>\n      <td>9</td>\n      <td>2</td>\n      <td>8</td>\n      <td>8</td>\n      <td>5</td>\n      <td>5</td>\n      <td>7</td>\n      <td>28</td>\n      <td>23</td>\n      <td>22</td>\n      <td>12</td>\n      <td>4</td>\n      <td>5</td>\n      <td>108</td>\n      <td>99</td>\n      <td>101</td>\n      <td>246</td>\n      <td>267</td>\n      <td>278</td>\n      <td>5</td>\n      <td>12</td>\n      <td>6</td>\n      <td>6</td>\n      <td>5</td>\n      <td>9</td>\n      <td>9</td>\n      <td>9</td>\n      <td>6</td>\n      <td>7</td>\n      <td>8</td>\n      <td>5</td>\n      <td>11</td>\n      <td>8</td>\n      <td>6</td>\n      <td>6</td>\n      <td>6</td>\n      <td>6</td>\n      <td>5</td>\n      <td>7</td>\n      <td>5</td>\n      <td>492</td>\n      <td>511</td>\n      <td>517</td>\n    </tr>\n    <tr>\n      <th>Asian</th>\n      <td>18</td>\n      <td>18</td>\n      <td>19</td>\n      <td>20</td>\n      <td>11</td>\n      <td>17</td>\n      <td>6</td>\n      <td>7</td>\n      <td>11</td>\n      <td>8</td>\n      <td>6</td>\n      <td>5</td>\n      <td>12</td>\n      <td>7</td>\n      <td>7</td>\n      <td>14</td>\n      <td>12</td>\n      <td>7</td>\n      <td>8</td>\n      <td>13</td>\n      <td>11</td>\n      <td>9</td>\n      <td>8</td>\n      <td>11</td>\n      <td>13</td>\n      <td>6</td>\n      <td>7</td>\n      <td>17</td>\n      <td>14</td>\n      <td>13</td>\n      <td>174</td>\n      <td>190</td>\n      <td>205</td>\n      <td>22</td>\n      <td>17</td>\n      <td>7</td>\n      <td>206</td>\n      <td>227</td>\n      <td>230</td>\n      <td>746</td>\n      <td>728</td>\n      <td>727</td>\n      <td>18</td>\n      <td>17</td>\n      <td>13</td>\n      <td>11</td>\n      <td>18</td>\n      <td>17</td>\n      <td>11</td>\n      <td>10</td>\n      <td>17</td>\n      <td>12</td>\n      <td>8</td>\n      <td>7</td>\n      <td>12</td>\n      <td>10</td>\n      <td>9</td>\n      <td>9</td>\n      <td>13</td>\n      <td>9</td>\n      <td>8</td>\n      <td>8</td>\n      <td>13</td>\n      <td>1354</td>\n      <td>1348</td>\n      <td>1362</td>\n    </tr>\n    <tr>\n      <th>Total</th>\n      <td>427</td>\n      <td>422</td>\n      <td>430</td>\n      <td>367</td>\n      <td>403</td>\n      <td>406</td>\n      <td>292</td>\n      <td>314</td>\n      <td>354</td>\n      <td>282</td>\n      <td>306</td>\n      <td>338</td>\n      <td>301</td>\n      <td>289</td>\n      <td>308</td>\n      <td>323</td>\n      <td>303</td>\n      <td>299</td>\n      <td>277</td>\n      <td>316</td>\n      <td>308</td>\n      <td>270</td>\n      <td>300</td>\n      <td>335</td>\n      <td>309</td>\n      <td>277</td>\n      <td>305</td>\n      <td>348</td>\n      <td>331</td>\n      <td>309</td>\n      <td>3998</td>\n      <td>4069</td>\n      <td>4014</td>\n      <td>418</td>\n      <td>373</td>\n      <td>375</td>\n      <td>7225</td>\n      <td>6947</td>\n      <td>6833</td>\n      <td>20424</td>\n      <td>20840</td>\n      <td>21073</td>\n      <td>387</td>\n      <td>395</td>\n      <td>358</td>\n      <td>393</td>\n      <td>366</td>\n      <td>388</td>\n      <td>398</td>\n      <td>386</td>\n      <td>364</td>\n      <td>362</td>\n      <td>378</td>\n      <td>356</td>\n      <td>373</td>\n      <td>356</td>\n      <td>373</td>\n      <td>348</td>\n      <td>368</td>\n      <td>351</td>\n      <td>324</td>\n      <td>340</td>\n      <td>379</td>\n      <td>37846</td>\n      <td>38079</td>\n      <td>38256</td>\n    </tr>\n  </tbody>\n</table>",
          "text/plain": "<IPython.core.display.HTML object>"
         },
         "metadata": {},
         "output_type": "display_data"
        }
       ]
      }
     },
     "b1355f8f3c1045eab7beca662a469835": {
      "model_module": "@jupyter-widgets/output",
      "model_module_version": "1.0.0",
      "model_name": "OutputModel",
      "state": {
       "layout": "IPY_MODEL_00fd99c14dd740b19f368dc02d86ea49",
       "outputs": [
        {
         "data": {
          "text/html": "<table border=\"1\" class=\"dataframe\">\n  <thead>\n    <tr>\n      <th>County</th>\n      <th colspan=\"4\" halign=\"left\">Albany</th>\n    </tr>\n    <tr>\n      <th>Year</th>\n      <th>2014</th>\n      <th>2015</th>\n      <th>2016</th>\n      <th>2017</th>\n    </tr>\n  </thead>\n  <tbody>\n    <tr>\n      <th>Age Range</th>\n      <td>11-17</td>\n      <td>11-17</td>\n      <td>11-17</td>\n      <td>11-17</td>\n    </tr>\n    <tr>\n      <th>White</th>\n      <td>1927</td>\n      <td>1938</td>\n      <td>2018</td>\n      <td>2066</td>\n    </tr>\n    <tr>\n      <th>Black</th>\n      <td>59</td>\n      <td>68</td>\n      <td>68</td>\n      <td>96</td>\n    </tr>\n    <tr>\n      <th>American Indian</th>\n      <td>32</td>\n      <td>40</td>\n      <td>44</td>\n      <td>39</td>\n    </tr>\n    <tr>\n      <th>Asian</th>\n      <td>81</td>\n      <td>63</td>\n      <td>62</td>\n      <td>56</td>\n    </tr>\n    <tr>\n      <th>Total</th>\n      <td>2099</td>\n      <td>2109</td>\n      <td>2192</td>\n      <td>2257</td>\n    </tr>\n  </tbody>\n</table>",
          "text/plain": "<IPython.core.display.HTML object>"
         },
         "metadata": {},
         "output_type": "display_data"
        }
       ]
      }
     },
     "b1f2ce71d9eb4bbdac2f50cc330c41f3": {
      "model_module": "@jupyter-widgets/controls",
      "model_module_version": "1.2.0",
      "model_name": "HTMLModel",
      "state": {
       "layout": "IPY_MODEL_5d37cdb53f2a405aa9c98cc6260cdb89",
       "style": "IPY_MODEL_223d009fcb0646ce8c595b47f2005709",
       "value": "Prior to 2017 all DFS reports were reported on a per county basis. After 2017, DFS data collection systems no longer classified data per county."
      }
     },
     "b213e0c7c92a467a9f2ef1e2dc0d2ade": {
      "model_module": "@jupyter-widgets/base",
      "model_module_version": "1.0.0",
      "model_name": "LayoutModel",
      "state": {}
     },
     "b222d2f48f664007b15cd243d611534d": {
      "model_module": "@jupyter-widgets/output",
      "model_module_version": "1.0.0",
      "model_name": "OutputModel",
      "state": {
       "layout": "IPY_MODEL_b40e8ade8480463f95e2f18d2a4a6ab3",
       "outputs": [
        {
         "data": {
          "text/html": "<h3>Afcars Data</h3>",
          "text/plain": "<IPython.core.display.HTML object>"
         },
         "metadata": {},
         "output_type": "display_data"
        },
        {
         "data": {
          "text/html": "<table border=\"1\" class=\"dataframe\">\n  <thead>\n    <tr>\n      <th>COUNTY</th>\n      <th colspan=\"3\" halign=\"left\">Albany</th>\n    </tr>\n    <tr>\n      <th>YEAR</th>\n      <th>2014</th>\n      <th>2015</th>\n      <th>2016</th>\n    </tr>\n  </thead>\n  <tbody>\n    <tr>\n      <th>CHINS</th>\n      <td>1</td>\n      <td>2</td>\n      <td>0</td>\n    </tr>\n    <tr>\n      <th>DE</th>\n      <td>14</td>\n      <td>7</td>\n      <td>3</td>\n    </tr>\n  </tbody>\n</table>",
          "text/plain": "<IPython.core.display.HTML object>"
         },
         "metadata": {},
         "output_type": "display_data"
        }
       ]
      }
     },
     "b2aa4b3d9ca545beab2acb64b53206cb": {
      "model_module": "@jupyter-widgets/base",
      "model_module_version": "1.0.0",
      "model_name": "LayoutModel",
      "state": {}
     },
     "b315e4c2776d473b9613f9c8be21e3a4": {
      "model_module": "@jupyter-widgets/output",
      "model_module_version": "1.0.0",
      "model_name": "OutputModel",
      "state": {
       "layout": "IPY_MODEL_37747c8d69384b0d8c96a9660f11140e",
       "outputs": [
        {
         "data": {
          "text/html": "<table border=\"1\" class=\"dataframe\">\n  <thead>\n    <tr>\n      <th>County</th>\n      <th colspan=\"4\" halign=\"left\">Albany</th>\n    </tr>\n    <tr>\n      <th>Year</th>\n      <th>2014</th>\n      <th>2015</th>\n      <th>2016</th>\n      <th>2017</th>\n    </tr>\n  </thead>\n  <tbody>\n    <tr>\n      <th>Age Range</th>\n      <td>11-17</td>\n      <td>11-17</td>\n      <td>11-17</td>\n      <td>11-17</td>\n    </tr>\n    <tr>\n      <th>White</th>\n      <td>1927</td>\n      <td>1938</td>\n      <td>2018</td>\n      <td>2066</td>\n    </tr>\n    <tr>\n      <th>Black</th>\n      <td>59</td>\n      <td>68</td>\n      <td>68</td>\n      <td>96</td>\n    </tr>\n    <tr>\n      <th>American Indian</th>\n      <td>32</td>\n      <td>40</td>\n      <td>44</td>\n      <td>39</td>\n    </tr>\n    <tr>\n      <th>Asian</th>\n      <td>81</td>\n      <td>63</td>\n      <td>62</td>\n      <td>56</td>\n    </tr>\n    <tr>\n      <th>Total</th>\n      <td>2099</td>\n      <td>2109</td>\n      <td>2192</td>\n      <td>2257</td>\n    </tr>\n  </tbody>\n</table>",
          "text/plain": "<IPython.core.display.HTML object>"
         },
         "metadata": {},
         "output_type": "display_data"
        }
       ]
      }
     },
     "b36d648fcd924c769c9cfb32065f4ebe": {
      "model_module": "@jupyter-widgets/base",
      "model_module_version": "1.0.0",
      "model_name": "LayoutModel",
      "state": {}
     },
     "b385278eb22b43c0990bb0a0879e39ea": {
      "model_module": "@jupyter-widgets/controls",
      "model_module_version": "1.2.0",
      "model_name": "VBoxModel",
      "state": {
       "children": [
        "IPY_MODEL_6bbe7c516b7e46dc8b7933734e617e5d",
        "IPY_MODEL_b9794f04981d45a681e6d72366d28ebf",
        "IPY_MODEL_64c4ed3f942c495896a27c99d4c48720",
        "IPY_MODEL_93559ba7b671404b9942f6731748176c"
       ],
       "layout": "IPY_MODEL_3d753131022a4565b9f41172a85d8774"
      }
     },
     "b3b516f841bb40e2946a4a0ed5a1558b": {
      "model_module": "@jupyter-widgets/base",
      "model_module_version": "1.0.0",
      "model_name": "LayoutModel",
      "state": {}
     },
     "b3f7cd432bfb4b93ba78e8366d44446e": {
      "model_module": "@jupyter-widgets/base",
      "model_module_version": "1.0.0",
      "model_name": "LayoutModel",
      "state": {}
     },
     "b40e8ade8480463f95e2f18d2a4a6ab3": {
      "model_module": "@jupyter-widgets/base",
      "model_module_version": "1.0.0",
      "model_name": "LayoutModel",
      "state": {}
     },
     "b55b880ab7e240d4950a9b58ef46f9c7": {
      "model_module": "@jupyter-widgets/controls",
      "model_module_version": "1.2.0",
      "model_name": "HBoxModel",
      "state": {
       "children": [
        "IPY_MODEL_5f90f86c0b8f4b94a4a001ccd91af71e",
        "IPY_MODEL_fce59ad10594441fb322bbeb9ecfc3c2"
       ],
       "layout": "IPY_MODEL_645db67a532741c0abfe610c8eccded2"
      }
     },
     "b67b900b72c1451f8a189b75cb43ef5b": {
      "model_module": "@jupyter-widgets/controls",
      "model_module_version": "1.2.0",
      "model_name": "DescriptionStyleModel",
      "state": {
       "description_width": ""
      }
     },
     "b71a5e909ac346528bc2ebde66d1ca80": {
      "model_module": "@jupyter-widgets/controls",
      "model_module_version": "1.2.0",
      "model_name": "VBoxModel",
      "state": {
       "children": [
        "IPY_MODEL_1d29a5a719974e2b960f6407b1844b4f",
        "IPY_MODEL_ff1bf630d0d94664b7ca24d20696a934",
        "IPY_MODEL_c3642f5c8c924441af8728de9b71c2b7"
       ],
       "layout": "IPY_MODEL_587b6fab86c34ad385cd445371321fc0"
      }
     },
     "b7530dd46fe9443dafa2110f1d325740": {
      "model_module": "@jupyter-widgets/base",
      "model_module_version": "1.0.0",
      "model_name": "LayoutModel",
      "state": {}
     },
     "b772695a931c4da88c1f1a9aa777d009": {
      "model_module": "@jupyter-widgets/base",
      "model_module_version": "1.0.0",
      "model_name": "LayoutModel",
      "state": {}
     },
     "b7de272ac4c44705b4228c358ac17459": {
      "model_module": "@jupyter-widgets/controls",
      "model_module_version": "1.2.0",
      "model_name": "HTMLModel",
      "state": {
       "layout": "IPY_MODEL_2aeb3c662f624b76893b4fc064bb4310",
       "style": "IPY_MODEL_e218dd9f89514143b4cc1880a48eebfb",
       "value": "<center><h1>Arrest Rate Comparisons</h1></center>"
      }
     },
     "b8b067183aa549e1a25af12e8ef80e18": {
      "model_module": "@jupyter-widgets/base",
      "model_module_version": "1.0.0",
      "model_name": "LayoutModel",
      "state": {}
     },
     "b8dfd286645b4ce8b7539a3794770398": {
      "model_module": "@jupyter-widgets/controls",
      "model_module_version": "1.2.0",
      "model_name": "VBoxModel",
      "state": {
       "children": [
        "IPY_MODEL_c2517fb985b442b38ce7f48818b3ee88",
        "IPY_MODEL_319f08d6914d4d8c819c4ba1a6185170",
        "IPY_MODEL_32e96e341ada4c8babdab31dd5206b42",
        "IPY_MODEL_935980fc870f448da1e7f89f18263b77"
       ],
       "layout": "IPY_MODEL_98b68692ae2e4d92b224528a0b23908f"
      }
     },
     "b93356f5c11c4ea0949e6c279e015284": {
      "model_module": "@jupyter-widgets/controls",
      "model_module_version": "1.2.0",
      "model_name": "HTMLModel",
      "state": {
       "layout": "IPY_MODEL_ed5bb4a3cad346aa929c6cb087392340",
       "style": "IPY_MODEL_4a1c5c997f07478fa84ae4c216400225",
       "value": "<hr><h1>DFS Placements</h1>"
      }
     },
     "b943b6d801f8493ebf41fcaa34d20716": {
      "model_module": "@jupyter-widgets/controls",
      "model_module_version": "1.2.0",
      "model_name": "VBoxModel",
      "state": {
       "children": [
        "IPY_MODEL_a92a3cb204274f5badbaeca3be4cb06a"
       ],
       "layout": "IPY_MODEL_97ac9d3de61546dfbb1492b9dfb5f00c"
      }
     },
     "b9794f04981d45a681e6d72366d28ebf": {
      "model_module": "@jupyter-widgets/output",
      "model_module_version": "1.0.0",
      "model_name": "OutputModel",
      "state": {
       "layout": "IPY_MODEL_adf8a4fc6169410199c04c15defece2d",
       "outputs": [
        {
         "data": {
          "text/html": "<h2>DFS Placement Data</h2>",
          "text/plain": "<IPython.core.display.HTML object>"
         },
         "metadata": {},
         "output_type": "display_data"
        },
        {
         "name": "stdout",
         "output_type": "stream",
         "text": "Afcars Data\n"
        },
        {
         "data": {
          "text/html": "<table border=\"1\" class=\"dataframe\">\n  <thead>\n    <tr style=\"text-align: right;\">\n      <th></th>\n      <th></th>\n      <th>CHINS</th>\n      <th>DE</th>\n    </tr>\n    <tr>\n      <th>COUNTY</th>\n      <th>YEAR</th>\n      <th></th>\n      <th></th>\n    </tr>\n  </thead>\n  <tbody>\n    <tr>\n      <th rowspan=\"3\" valign=\"top\">Sublette</th>\n      <th>2013</th>\n      <td>6</td>\n      <td>4</td>\n    </tr>\n    <tr>\n      <th>2014</th>\n      <td>2</td>\n      <td>4</td>\n    </tr>\n    <tr>\n      <th>2015</th>\n      <td>1</td>\n      <td>3</td>\n    </tr>\n  </tbody>\n</table>",
          "text/plain": "<IPython.core.display.HTML object>"
         },
         "metadata": {},
         "output_type": "display_data"
        },
        {
         "name": "stdout",
         "output_type": "stream",
         "text": "By County\n"
        },
        {
         "data": {
          "text/html": "<table border=\"1\" class=\"dataframe\">\n  <thead>\n    <tr style=\"text-align: right;\">\n      <th></th>\n      <th></th>\n      <th>CHINS</th>\n      <th>DE</th>\n    </tr>\n    <tr>\n      <th>COUNTY</th>\n      <th>YEAR</th>\n      <th></th>\n      <th></th>\n    </tr>\n  </thead>\n  <tbody>\n    <tr>\n      <th rowspan=\"3\" valign=\"top\">Sublette</th>\n      <th>2013</th>\n      <td>9.0</td>\n      <td>13</td>\n    </tr>\n    <tr>\n      <th>2014</th>\n      <td>15.0</td>\n      <td>11</td>\n    </tr>\n    <tr>\n      <th>2015</th>\n      <td>3.0</td>\n      <td>9</td>\n    </tr>\n  </tbody>\n</table>",
          "text/plain": "<IPython.core.display.HTML object>"
         },
         "metadata": {},
         "output_type": "display_data"
        }
       ]
      }
     },
     "ba2d952d043449d091bca88d7690cd9c": {
      "model_module": "@jupyter-widgets/base",
      "model_module_version": "1.0.0",
      "model_name": "LayoutModel",
      "state": {}
     },
     "baaa59e5ec9447b6bfd8e366d626c158": {
      "model_module": "@jupyter-widgets/base",
      "model_module_version": "1.0.0",
      "model_name": "LayoutModel",
      "state": {}
     },
     "bb4e09b178d44b0aaca48482167c38a8": {
      "model_module": "@jupyter-widgets/controls",
      "model_module_version": "1.2.0",
      "model_name": "HTMLModel",
      "state": {
       "layout": "IPY_MODEL_f83bb435e8bb4312bf858582f8ec5dd5",
       "style": "IPY_MODEL_e2bb915f2ea54f0aa693adc4b7f492b7",
       "value": "<p class=\"page-break\"></p>"
      }
     },
     "bb8c9f4d18574ff9aeb73341ddd1a008": {
      "model_module": "@jupyter-widgets/controls",
      "model_module_version": "1.2.0",
      "model_name": "IntRangeSliderModel",
      "state": {
       "_model_name": "IntRangeSliderModel",
       "_view_name": "IntRangeSliderView",
       "layout": "IPY_MODEL_81d0e6eb076b434982861b550cd32b64",
       "max": 2017,
       "min": 2012,
       "style": "IPY_MODEL_6de8da1594cb43afb3b88f8aac1d3078",
       "value": [
        2013,
        2015
       ]
      }
     },
     "bb97c07f2ae544bda32dd4450d65763d": {
      "model_module": "@jupyter-widgets/controls",
      "model_module_version": "1.2.0",
      "model_name": "DescriptionStyleModel",
      "state": {
       "description_width": ""
      }
     },
     "bc12232e28be4ce1919a8b3ba267f14b": {
      "model_module": "@jupyter-widgets/controls",
      "model_module_version": "1.2.0",
      "model_name": "DescriptionStyleModel",
      "state": {
       "description_width": ""
      }
     },
     "bc19536bc440477ea766c25b82a6cd88": {
      "model_module": "@jupyter-widgets/base",
      "model_module_version": "1.0.0",
      "model_name": "LayoutModel",
      "state": {}
     },
     "bc90b0ff2f46461baddb7dedd47452b3": {
      "model_module": "@jupyter-widgets/controls",
      "model_module_version": "1.2.0",
      "model_name": "SelectModel",
      "state": {
       "_options_labels": [
        "10000"
       ],
       "description": "Estimate per",
       "index": 0,
       "layout": "IPY_MODEL_7eceba7e382e43429a87c02e7eabe7f8",
       "style": "IPY_MODEL_8155224031a049e6a9981ac0b0fa6124"
      }
     },
     "bca06abd52f242468208b9d1398f04be": {
      "model_module": "@jupyter-widgets/controls",
      "model_module_version": "1.2.0",
      "model_name": "DescriptionStyleModel",
      "state": {
       "description_width": ""
      }
     },
     "bcbb646392be49ca9f4592ae093fdb4c": {
      "model_module": "@jupyter-widgets/base",
      "model_module_version": "1.0.0",
      "model_name": "LayoutModel",
      "state": {}
     },
     "bd3f1b23aeaa464f8e3535635936f88c": {
      "model_module": "@jupyter-widgets/output",
      "model_module_version": "1.0.0",
      "model_name": "OutputModel",
      "state": {
       "layout": "IPY_MODEL_05b5e1afdbaf4b3780e2008ea136d095",
       "outputs": [
        {
         "data": {
          "text/html": "<h3>DFS By County</h3>",
          "text/plain": "<IPython.core.display.HTML object>"
         },
         "metadata": {},
         "output_type": "display_data"
        },
        {
         "data": {
          "text/html": "<table border=\"1\" class=\"dataframe\">\n  <thead>\n    <tr>\n      <th>COUNTY</th>\n      <th colspan=\"3\" halign=\"left\">Albany</th>\n    </tr>\n    <tr>\n      <th>YEAR</th>\n      <th>2014</th>\n      <th>2015</th>\n      <th>2016</th>\n    </tr>\n  </thead>\n  <tbody>\n    <tr>\n      <th>CHINS</th>\n      <td>1.0</td>\n      <td>2.0</td>\n      <td>0.0</td>\n    </tr>\n    <tr>\n      <th>DE</th>\n      <td>45.0</td>\n      <td>29.0</td>\n      <td>15.0</td>\n    </tr>\n  </tbody>\n</table>",
          "text/plain": "<IPython.core.display.HTML object>"
         },
         "metadata": {},
         "output_type": "display_data"
        }
       ]
      }
     },
     "bd6f32c9d6bd4d2492ea4b4d8dce9333": {
      "model_module": "@jupyter-widgets/controls",
      "model_module_version": "1.2.0",
      "model_name": "DescriptionStyleModel",
      "state": {
       "description_width": ""
      }
     },
     "bde407a53fdb4213a3124b3dbddbcf53": {
      "model_module": "@jupyter-widgets/base",
      "model_module_version": "1.0.0",
      "model_name": "LayoutModel",
      "state": {}
     },
     "be41dfcb2b9d449f979c9106825476b3": {
      "model_module": "@jupyter-widgets/base",
      "model_module_version": "1.0.0",
      "model_name": "LayoutModel",
      "state": {}
     },
     "be6fc4e806f9401c841f90d9aa79d9e5": {
      "model_module": "@jupyter-widgets/base",
      "model_module_version": "1.0.0",
      "model_name": "LayoutModel",
      "state": {}
     },
     "bf253d0f8a814f038444c36301c178e8": {
      "model_module": "@jupyter-widgets/controls",
      "model_module_version": "1.2.0",
      "model_name": "HTMLModel",
      "state": {
       "layout": "IPY_MODEL_87093f42e23c4b35883206d6ed9c251f",
       "style": "IPY_MODEL_c5d0a08b0e754617901bf9d57e1d0274",
       "value": "SOURCE: Wyoming DCI UCR arrests by ORI"
      }
     },
     "bf8eba4c3be641f8a3410e5a2e5d8aa7": {
      "model_module": "@jupyter-widgets/output",
      "model_module_version": "1.0.0",
      "model_name": "OutputModel",
      "state": {
       "layout": "IPY_MODEL_e5480156c00b49f1be043e465e43ecd6",
       "outputs": [
        {
         "data": {
          "text/html": "<table border=\"1\" class=\"dataframe\">\n  <thead>\n    <tr>\n      <th>Year</th>\n      <th>2014</th>\n      <th>2015</th>\n      <th>2016</th>\n      <th>2017</th>\n    </tr>\n    <tr>\n      <th>district</th>\n      <th>2</th>\n      <th>2</th>\n      <th>2</th>\n      <th>2</th>\n    </tr>\n  </thead>\n  <tbody>\n    <tr>\n      <th>Psychiatric RTC</th>\n      <td>11</td>\n      <td>11</td>\n      <td>8</td>\n      <td>11</td>\n    </tr>\n    <tr>\n      <th>Long Term FC Non Relative</th>\n      <td>0</td>\n      <td>0</td>\n      <td>0</td>\n      <td>0</td>\n    </tr>\n    <tr>\n      <th>Interim</th>\n      <td>0</td>\n      <td>0</td>\n      <td>0</td>\n      <td>0</td>\n    </tr>\n    <tr>\n      <th>Boys School</th>\n      <td>42</td>\n      <td>36</td>\n      <td>31</td>\n      <td>58</td>\n    </tr>\n    <tr>\n      <th>State Hospital</th>\n      <td>0</td>\n      <td>0</td>\n      <td>0</td>\n      <td>0</td>\n    </tr>\n    <tr>\n      <th>Girls School</th>\n      <td>6</td>\n      <td>17</td>\n      <td>6</td>\n      <td>17</td>\n    </tr>\n    <tr>\n      <th>Hospital</th>\n      <td>0</td>\n      <td>0</td>\n      <td>0</td>\n      <td>1</td>\n    </tr>\n    <tr>\n      <th>Therapeutic FC Non Relative</th>\n      <td>0</td>\n      <td>0</td>\n      <td>0</td>\n      <td>0</td>\n    </tr>\n    <tr>\n      <th>Jail</th>\n      <td>0</td>\n      <td>0</td>\n      <td>0</td>\n      <td>0</td>\n    </tr>\n    <tr>\n      <th>Pre-adoptive home</th>\n      <td>0</td>\n      <td>0</td>\n      <td>0</td>\n      <td>0</td>\n    </tr>\n    <tr>\n      <th>Crisis Center</th>\n      <td>1</td>\n      <td>7</td>\n      <td>4</td>\n      <td>1</td>\n    </tr>\n    <tr>\n      <th>Detention</th>\n      <td>20</td>\n      <td>9</td>\n      <td>18</td>\n      <td>7</td>\n    </tr>\n    <tr>\n      <th>Trial Home Visit</th>\n      <td>9</td>\n      <td>27</td>\n      <td>6</td>\n      <td>5</td>\n    </tr>\n    <tr>\n      <th>Runaway</th>\n      <td>0</td>\n      <td>0</td>\n      <td>0</td>\n      <td>1</td>\n    </tr>\n    <tr>\n      <th>Non-relative foster home</th>\n      <td>39</td>\n      <td>23</td>\n      <td>12</td>\n      <td>12</td>\n    </tr>\n    <tr>\n      <th>Residential Treatment</th>\n      <td>85</td>\n      <td>90</td>\n      <td>47</td>\n      <td>60</td>\n    </tr>\n    <tr>\n      <th>Group Home</th>\n      <td>4</td>\n      <td>16</td>\n      <td>13</td>\n      <td>20</td>\n    </tr>\n    <tr>\n      <th>Specialized FC Non Relative</th>\n      <td>0</td>\n      <td>0</td>\n      <td>0</td>\n      <td>0</td>\n    </tr>\n    <tr>\n      <th>Total Group Care</th>\n      <td>169</td>\n      <td>186</td>\n      <td>127</td>\n      <td>175</td>\n    </tr>\n    <tr>\n      <th>Total Family-like setting</th>\n      <td>71</td>\n      <td>51</td>\n      <td>19</td>\n      <td>32</td>\n    </tr>\n    <tr>\n      <th>Unknown</th>\n      <td>0</td>\n      <td>0</td>\n      <td>0</td>\n      <td>1</td>\n    </tr>\n    <tr>\n      <th>Total Children in Care</th>\n      <td>240</td>\n      <td>237</td>\n      <td>146</td>\n      <td>209</td>\n    </tr>\n  </tbody>\n</table>",
          "text/plain": "<IPython.core.display.HTML object>"
         },
         "metadata": {},
         "output_type": "display_data"
        }
       ]
      }
     },
     "bfb4793aab3842db869827d7faca990b": {
      "model_module": "@jupyter-widgets/base",
      "model_module_version": "1.0.0",
      "model_name": "LayoutModel",
      "state": {}
     },
     "bfdddd75ca014e69aa1ae62c313de920": {
      "model_module": "@jupyter-widgets/base",
      "model_module_version": "1.0.0",
      "model_name": "LayoutModel",
      "state": {}
     },
     "bfe4f17dcbc24878961f61961ad2bc72": {
      "model_module": "@jupyter-widgets/controls",
      "model_module_version": "1.2.0",
      "model_name": "VBoxModel",
      "state": {
       "children": [
        "IPY_MODEL_ade049bd057f4f41abd70f6356886283",
        "IPY_MODEL_b8dfd286645b4ce8b7539a3794770398"
       ],
       "layout": "IPY_MODEL_9f76614d45aa4756a51f928cde13f7ff"
      }
     },
     "c01ee8e5a8664aaf8c431828560decb3": {
      "model_module": "@jupyter-widgets/controls",
      "model_module_version": "1.2.0",
      "model_name": "DescriptionStyleModel",
      "state": {
       "description_width": ""
      }
     },
     "c05f97d11cd741fd919e726d7aaed5c4": {
      "model_module": "@jupyter-widgets/controls",
      "model_module_version": "1.2.0",
      "model_name": "HTMLModel",
      "state": {
       "layout": "IPY_MODEL_13789be48c3e4a0b81cf82f487998211",
       "style": "IPY_MODEL_25081ffad95f47d19c9e7cfbe33945b1",
       "value": "Wyoming Juvenile Arrests reported from agency ORI numbers. Split between violent felony offenses and non-violent offenses."
      }
     },
     "c0bacd86ca5e48c7a7ca92485916ef83": {
      "model_module": "@jupyter-widgets/controls",
      "model_module_version": "1.2.0",
      "model_name": "HBoxModel",
      "state": {
       "children": [
        "IPY_MODEL_b1355f8f3c1045eab7beca662a469835"
       ],
       "layout": "IPY_MODEL_a1e05ad1aa5d433a9e131dad607a2f63"
      }
     },
     "c0ed0091da6d492ea24dea03ab485354": {
      "model_module": "@jupyter-widgets/controls",
      "model_module_version": "1.2.0",
      "model_name": "HBoxModel",
      "state": {
       "children": [
        "IPY_MODEL_dfa744bdd0a84e5bbe08c1f056c7a84b",
        "IPY_MODEL_d7d6096d95954eb9a523a0d8be79a1a3"
       ],
       "layout": "IPY_MODEL_756e897e15cd444a85402d08f4716e29"
      }
     },
     "c111eea13d2242fe9827c1acf436d5d2": {
      "model_module": "@jupyter-widgets/base",
      "model_module_version": "1.0.0",
      "model_name": "LayoutModel",
      "state": {}
     },
     "c15f45b6df5b427c92cf88f24f940719": {
      "model_module": "@jupyter-widgets/controls",
      "model_module_version": "1.2.0",
      "model_name": "VBoxModel",
      "state": {
       "children": [
        "IPY_MODEL_b71a5e909ac346528bc2ebde66d1ca80",
        "IPY_MODEL_607722bc4d81453d87aea9ef14290c8d"
       ],
       "layout": "IPY_MODEL_c88bfb8fa5f9476b90169e240256a15e"
      }
     },
     "c23523225830414c9766c2563c660b94": {
      "model_module": "@jupyter-widgets/base",
      "model_module_version": "1.0.0",
      "model_name": "LayoutModel",
      "state": {}
     },
     "c2517fb985b442b38ce7f48818b3ee88": {
      "model_module": "@jupyter-widgets/controls",
      "model_module_version": "1.2.0",
      "model_name": "HTMLModel",
      "state": {
       "layout": "IPY_MODEL_fae5a666f35e4151b97312008b1c17c2",
       "style": "IPY_MODEL_ccd24b62bf2b4a11ad81d3edaf0e9e1e",
       "value": "<h2>Juvenile Court Case Counts</h2>"
      }
     },
     "c2ac94f5f32c4cc0a23eb89b534a7ff5": {
      "model_module": "@jupyter-widgets/base",
      "model_module_version": "1.0.0",
      "model_name": "LayoutModel",
      "state": {}
     },
     "c2b1243b150449a2af24e921b21ba03f": {
      "model_module": "@jupyter-widgets/controls",
      "model_module_version": "1.2.0",
      "model_name": "HTMLModel",
      "state": {
       "layout": "IPY_MODEL_ddde3068dbad4294af835ff638a64593",
       "style": "IPY_MODEL_bc12232e28be4ce1919a8b3ba267f14b",
       "value": "SOURCE: Wyoming DCI UCR arrests by ORI"
      }
     },
     "c2cc0cffaf8a4977b80db71d03d1fb35": {
      "model_module": "@jupyter-widgets/controls",
      "model_module_version": "1.2.0",
      "model_name": "HTMLModel",
      "state": {
       "layout": "IPY_MODEL_ec8690ad28c040babdfae3bfac6babec",
       "style": "IPY_MODEL_22faf76a58b4450f82c48470479ae7f0",
       "value": "SOURCE: Wyoming DCI UCR arrests by ORI"
      }
     },
     "c2fd49980fa14433947916888ce6abdf": {
      "model_module": "@jupyter-widgets/base",
      "model_module_version": "1.0.0",
      "model_name": "LayoutModel",
      "state": {}
     },
     "c31a74d8297f4e99b2b4d863512b13bf": {
      "model_module": "@jupyter-widgets/base",
      "model_module_version": "1.0.0",
      "model_name": "LayoutModel",
      "state": {}
     },
     "c338f4f5bd9e4c1aaa7341999ab6a70a": {
      "model_module": "@jupyter-widgets/controls",
      "model_module_version": "1.2.0",
      "model_name": "HTMLModel",
      "state": {
       "layout": "IPY_MODEL_210c33c513c948668abea8fbcfcbe664",
       "style": "IPY_MODEL_885acfe96c7543e1ab7967f0708527f3",
       "value": "<h2>District Placement Rates</h2>"
      }
     },
     "c35c7e81dd8e4f8ab6a40b63114b206b": {
      "model_module": "@jupyter-widgets/base",
      "model_module_version": "1.0.0",
      "model_name": "LayoutModel",
      "state": {}
     },
     "c3642f5c8c924441af8728de9b71c2b7": {
      "model_module": "@jupyter-widgets/controls",
      "model_module_version": "1.2.0",
      "model_name": "HTMLModel",
      "state": {
       "layout": "IPY_MODEL_b2aa4b3d9ca545beab2acb64b53206cb",
       "style": "IPY_MODEL_60d3646e2ab148d29d778993c4d7f454",
       "value": "SOURCE: Wyoming DCI UCR arrests by ORI"
      }
     },
     "c38297e44cc049eabd6ff21a58e07add": {
      "model_module": "@jupyter-widgets/base",
      "model_module_version": "1.0.0",
      "model_name": "LayoutModel",
      "state": {}
     },
     "c41d5feea8a54e2985922e74de52ba6f": {
      "model_module": "@jupyter-widgets/controls",
      "model_module_version": "1.2.0",
      "model_name": "DescriptionStyleModel",
      "state": {
       "description_width": ""
      }
     },
     "c444b999c991482da61c93d44b9bad6a": {
      "model_module": "@jupyter-widgets/controls",
      "model_module_version": "1.2.0",
      "model_name": "HBoxModel",
      "state": {
       "children": [
        "IPY_MODEL_d83c975dac9949d990cb473e9eb9d81d",
        "IPY_MODEL_a0b21e387a544703a65b5100f4812874"
       ],
       "layout": "IPY_MODEL_b36d648fcd924c769c9cfb32065f4ebe"
      }
     },
     "c49286b0bbc3446485555a07e6c8570b": {
      "model_module": "@jupyter-widgets/controls",
      "model_module_version": "1.2.0",
      "model_name": "DescriptionStyleModel",
      "state": {
       "description_width": ""
      }
     },
     "c493c643304146f3ac653c92ddfdf2d5": {
      "model_module": "@jupyter-widgets/base",
      "model_module_version": "1.0.0",
      "model_name": "LayoutModel",
      "state": {}
     },
     "c4bd970fa03c4012a190013d9c80d7c5": {
      "model_module": "@jupyter-widgets/controls",
      "model_module_version": "1.2.0",
      "model_name": "VBoxModel",
      "state": {
       "children": [
        "IPY_MODEL_6e53a6442dae42f69bfd7723ef5c83f1",
        "IPY_MODEL_a5f520e6add7434f87b8ac0f915e67aa",
        "IPY_MODEL_2d31a607a14842e79f16ff81e5788ee0",
        "IPY_MODEL_145097f0577f4adba4f87c381f71464e"
       ],
       "layout": "IPY_MODEL_d78608d32dc941569545af46902febb2"
      }
     },
     "c4de3a869c9049df8bcb227ae74fbebe": {
      "model_module": "@jupyter-widgets/base",
      "model_module_version": "1.0.0",
      "model_name": "LayoutModel",
      "state": {}
     },
     "c5792a157fd04b0ebf11823d721df2b4": {
      "model_module": "@jupyter-widgets/base",
      "model_module_version": "1.0.0",
      "model_name": "LayoutModel",
      "state": {}
     },
     "c5af75fb42454a55a26734dd2597d4cb": {
      "model_module": "@jupyter-widgets/base",
      "model_module_version": "1.0.0",
      "model_name": "LayoutModel",
      "state": {}
     },
     "c5d0a08b0e754617901bf9d57e1d0274": {
      "model_module": "@jupyter-widgets/controls",
      "model_module_version": "1.2.0",
      "model_name": "DescriptionStyleModel",
      "state": {
       "description_width": ""
      }
     },
     "c5f00818bc5d4e6db993d2042517afec": {
      "model_module": "@jupyter-widgets/controls",
      "model_module_version": "1.2.0",
      "model_name": "DescriptionStyleModel",
      "state": {
       "description_width": ""
      }
     },
     "c743549137ac479ba563518f9438c374": {
      "model_module": "@jupyter-widgets/base",
      "model_module_version": "1.0.0",
      "model_name": "LayoutModel",
      "state": {}
     },
     "c74930ac3fb640a88c266b7c31a2bd6f": {
      "model_module": "@jupyter-widgets/base",
      "model_module_version": "1.0.0",
      "model_name": "LayoutModel",
      "state": {}
     },
     "c7ada7ce54e04624a118f2fcd155a354": {
      "model_module": "@jupyter-widgets/base",
      "model_module_version": "1.0.0",
      "model_name": "LayoutModel",
      "state": {}
     },
     "c85931cada18461e93ae19d1793242cc": {
      "model_module": "@jupyter-widgets/controls",
      "model_module_version": "1.2.0",
      "model_name": "HTMLModel",
      "state": {
       "layout": "IPY_MODEL_fa917b3221d6431faf1db8d6c4e00dff",
       "style": "IPY_MODEL_3c8a94cb5a1341c3875e73c4a2f66447",
       "value": "<h2>District Placement Rates</h2>"
      }
     },
     "c88bfb8fa5f9476b90169e240256a15e": {
      "model_module": "@jupyter-widgets/base",
      "model_module_version": "1.0.0",
      "model_name": "LayoutModel",
      "state": {}
     },
     "c8adf4d85da541fc804c71e02c660bc6": {
      "model_module": "@jupyter-widgets/base",
      "model_module_version": "1.0.0",
      "model_name": "LayoutModel",
      "state": {}
     },
     "c95b7ec2f5a94a2e9046034fb15768b3": {
      "model_module": "@jupyter-widgets/controls",
      "model_module_version": "1.2.0",
      "model_name": "DescriptionStyleModel",
      "state": {
       "description_width": ""
      }
     },
     "c9bc17f8538b4676830b010df933632c": {
      "model_module": "@jupyter-widgets/base",
      "model_module_version": "1.0.0",
      "model_name": "LayoutModel",
      "state": {}
     },
     "c9c93bbbd2ed4351a19efaf931b626e2": {
      "model_module": "@jupyter-widgets/base",
      "model_module_version": "1.0.0",
      "model_name": "LayoutModel",
      "state": {}
     },
     "ca2e9b4b95e7485296f5b222acdd15a7": {
      "model_module": "@jupyter-widgets/base",
      "model_module_version": "1.0.0",
      "model_name": "LayoutModel",
      "state": {}
     },
     "ca740ddc288346ca9e2615fdc3bb1d2a": {
      "model_module": "@jupyter-widgets/controls",
      "model_module_version": "1.2.0",
      "model_name": "VBoxModel",
      "state": {
       "children": [
        "IPY_MODEL_aee31b5cf56840a389026253d9be5b81",
        "IPY_MODEL_f9e6b2a74ec740ab96265e7790efc2af"
       ],
       "layout": "IPY_MODEL_cb284a893755480295c15acb15b4b520"
      }
     },
     "ca9d4b68b72e494e9b79cb7b0c927166": {
      "model_module": "@jupyter-widgets/controls",
      "model_module_version": "1.2.0",
      "model_name": "VBoxModel",
      "state": {
       "children": [
        "IPY_MODEL_ecebad9560ae49648fe31644150ceb57"
       ],
       "layout": "IPY_MODEL_26994920dd3347b4aa0e2242385820f7"
      }
     },
     "cab627c01d2e4d30955109244ad19bf5": {
      "model_module": "@jupyter-widgets/controls",
      "model_module_version": "1.2.0",
      "model_name": "DescriptionStyleModel",
      "state": {
       "description_width": ""
      }
     },
     "cad8972fa84b4df39fdb828a7f1428f6": {
      "model_module": "@jupyter-widgets/controls",
      "model_module_version": "1.2.0",
      "model_name": "HTMLModel",
      "state": {
       "layout": "IPY_MODEL_0b97f44d3d674d7fbd5e845fa8246008",
       "style": "IPY_MODEL_0150c3ccf8db433797de2f061d25ce5e",
       "value": "<h2>State Placement Rates</h2>"
      }
     },
     "cb284a893755480295c15acb15b4b520": {
      "model_module": "@jupyter-widgets/base",
      "model_module_version": "1.0.0",
      "model_name": "LayoutModel",
      "state": {}
     },
     "cb77666a95324c8392b77f43c969fec8": {
      "model_module": "@jupyter-widgets/output",
      "model_module_version": "1.0.0",
      "model_name": "OutputModel",
      "state": {
       "layout": "IPY_MODEL_2bed5a88d4544953ae91b1d69aabfbb3",
       "outputs": [
        {
         "data": {
          "text/html": "<table border=\"1\" class=\"dataframe\">\n  <thead>\n    <tr>\n      <th>Year</th>\n      <th>2015</th>\n    </tr>\n    <tr>\n      <th>County Name</th>\n      <th>Albany</th>\n    </tr>\n  </thead>\n  <tbody>\n    <tr>\n      <th>Delinquency Petition</th>\n      <td>24</td>\n    </tr>\n    <tr>\n      <th>Status Petition</th>\n      <td>*</td>\n    </tr>\n    <tr>\n      <th>Dependency Petition</th>\n      <td>13</td>\n    </tr>\n  </tbody>\n</table>",
          "text/plain": "<IPython.core.display.HTML object>"
         },
         "metadata": {},
         "output_type": "display_data"
        }
       ]
      }
     },
     "cb9eaa8ec8d041c0881c67890907ff43": {
      "model_module": "@jupyter-widgets/base",
      "model_module_version": "1.0.0",
      "model_name": "LayoutModel",
      "state": {}
     },
     "cbf0d3bce35a40b9a0bac493e2540700": {
      "model_module": "@jupyter-widgets/base",
      "model_module_version": "1.0.0",
      "model_name": "LayoutModel",
      "state": {}
     },
     "cc06d76b31e942f487f7293f58905117": {
      "model_module": "@jupyter-widgets/base",
      "model_module_version": "1.0.0",
      "model_name": "LayoutModel",
      "state": {}
     },
     "cc1c02d94ae34968875d88cef0de6799": {
      "model_module": "@jupyter-widgets/controls",
      "model_module_version": "1.2.0",
      "model_name": "DescriptionStyleModel",
      "state": {
       "description_width": ""
      }
     },
     "ccb0e4b9d3914b60905ce588ce25d234": {
      "model_module": "@jupyter-widgets/controls",
      "model_module_version": "1.2.0",
      "model_name": "VBoxModel",
      "state": {
       "children": [
        "IPY_MODEL_05ad05242147445faf0848c380f7fece"
       ],
       "layout": "IPY_MODEL_4af0ec39474d49df94391055f00569d4"
      }
     },
     "ccd24b62bf2b4a11ad81d3edaf0e9e1e": {
      "model_module": "@jupyter-widgets/controls",
      "model_module_version": "1.2.0",
      "model_name": "DescriptionStyleModel",
      "state": {
       "description_width": ""
      }
     },
     "cd780237afb24689900f50aeb562f5f6": {
      "model_module": "@jupyter-widgets/controls",
      "model_module_version": "1.2.0",
      "model_name": "SliderStyleModel",
      "state": {
       "description_width": ""
      }
     },
     "cdcf237f7a904609b73b156eb136c2a4": {
      "model_module": "@jupyter-widgets/controls",
      "model_module_version": "1.2.0",
      "model_name": "DescriptionStyleModel",
      "state": {
       "description_width": ""
      }
     },
     "cdef322a32eb40c4bcaaca5d60ab5d45": {
      "model_module": "@jupyter-widgets/controls",
      "model_module_version": "1.2.0",
      "model_name": "HBoxModel",
      "state": {
       "children": [
        "IPY_MODEL_4aff5af15a6a4d59926de391160f60da"
       ],
       "layout": "IPY_MODEL_b772695a931c4da88c1f1a9aa777d009"
      }
     },
     "ce5797e198584631a6e6aa877194066b": {
      "model_module": "@jupyter-widgets/output",
      "model_module_version": "1.0.0",
      "model_name": "OutputModel",
      "state": {
       "layout": "IPY_MODEL_286ece058a8b421e84b4b701412c3df5",
       "outputs": [
        {
         "data": {
          "text/html": "<h2>ORI Arrests Data</h2>",
          "text/plain": "<IPython.core.display.HTML object>"
         },
         "metadata": {},
         "output_type": "display_data"
        },
        {
         "data": {
          "text/html": "<table border=\"1\" class=\"dataframe\">\n  <thead>\n    <tr style=\"text-align: right;\">\n      <th></th>\n      <th></th>\n      <th>Manslaughter</th>\n      <th>Rape</th>\n      <th>Robbery</th>\n      <th>Aggravated-Assault</th>\n    </tr>\n    <tr>\n      <th>County</th>\n      <th>Year</th>\n      <th></th>\n      <th></th>\n      <th></th>\n      <th></th>\n    </tr>\n  </thead>\n  <tbody>\n    <tr>\n      <th rowspan=\"3\" valign=\"top\">Sublette</th>\n      <th>2013</th>\n      <td>0</td>\n      <td>0</td>\n      <td>0</td>\n      <td>0</td>\n    </tr>\n    <tr>\n      <th>2014</th>\n      <td>0</td>\n      <td>0</td>\n      <td>0</td>\n      <td>0</td>\n    </tr>\n    <tr>\n      <th>2015</th>\n      <td>0</td>\n      <td>0</td>\n      <td>0</td>\n      <td>0</td>\n    </tr>\n  </tbody>\n</table>",
          "text/plain": "<IPython.core.display.HTML object>"
         },
         "metadata": {},
         "output_type": "display_data"
        }
       ]
      }
     },
     "cf5bafbec2094f09bd33a63290386df4": {
      "model_module": "@jupyter-widgets/controls",
      "model_module_version": "1.2.0",
      "model_name": "HTMLModel",
      "state": {
       "layout": "IPY_MODEL_e95524f599214ab08d84f99d6c909199",
       "style": "IPY_MODEL_cdcf237f7a904609b73b156eb136c2a4",
       "value": "The left table depicts placement type (of those in care) for probation/delinquency cases only,                 by Judicial District. The yearly numbers depicted are calculated from the 12-month average of the                  number of juveniles in a placement scenario, as reported at the end of every month.                  Data shown is for the judicial district to which the current selected                  county belongs to. The table on the right shows DFS placements by county as provided by                  the DFS prior to 2017(see note below). Placement rates are calculated using the same method                  as the arrest rates above."
      }
     },
     "cfe2c9015d1e4e4890d8a9c33d09833f": {
      "model_module": "@jupyter-widgets/controls",
      "model_module_version": "1.2.0",
      "model_name": "HBoxModel",
      "state": {
       "children": [
        "IPY_MODEL_019c633961824707b67670a217e93dc3",
        "IPY_MODEL_dfbe89ceb1e64a0eb55eaa1e3747ca47"
       ],
       "layout": "IPY_MODEL_177e776113f249c797fdf6a3a8424142"
      }
     },
     "d19ced3715e5480fa75bf6a9f66a44c7": {
      "model_module": "@jupyter-widgets/base",
      "model_module_version": "1.0.0",
      "model_name": "LayoutModel",
      "state": {}
     },
     "d21fbe0427c64160878f119146d3f0ac": {
      "model_module": "@jupyter-widgets/controls",
      "model_module_version": "1.2.0",
      "model_name": "VBoxModel",
      "state": {
       "children": [
        "IPY_MODEL_d32323f9c29d4d0398f1a6cc2878df91"
       ],
       "layout": "IPY_MODEL_c31a74d8297f4e99b2b4d863512b13bf"
      }
     },
     "d2c582152d164ac39087733872f378f5": {
      "model_module": "@jupyter-widgets/controls",
      "model_module_version": "1.2.0",
      "model_name": "HTMLModel",
      "state": {
       "layout": "IPY_MODEL_10e959ff0cae42c0981e7cdad083e574",
       "style": "IPY_MODEL_689223a32f164fe180b737248c6cbfe3",
       "value": "<h2>County Arrest Rates</h2>"
      }
     },
     "d2e566cf3cb74d5faf2a82444c7d9dab": {
      "model_module": "@jupyter-widgets/controls",
      "model_module_version": "1.2.0",
      "model_name": "HTMLModel",
      "state": {
       "layout": "IPY_MODEL_c7ada7ce54e04624a118f2fcd155a354",
       "style": "IPY_MODEL_767a84b4766d4eac9d8ca59a25283990",
       "value": "<h2>State Arrest Rates</h2><br>"
      }
     },
     "d32323f9c29d4d0398f1a6cc2878df91": {
      "model_module": "@jupyter-widgets/output",
      "model_module_version": "1.0.0",
      "model_name": "OutputModel",
      "state": {
       "layout": "IPY_MODEL_c5792a157fd04b0ebf11823d721df2b4",
       "outputs": [
        {
         "data": {
          "text/html": "<table border=\"1\" class=\"dataframe\">\n  <thead>\n    <tr>\n      <th>Year</th>\n      <th>2014</th>\n      <th>2015</th>\n      <th>2016</th>\n      <th>2017</th>\n    </tr>\n    <tr>\n      <th>district</th>\n      <th>2</th>\n      <th>2</th>\n      <th>2</th>\n      <th>2</th>\n    </tr>\n  </thead>\n  <tbody>\n    <tr>\n      <th>Psychiatric RTC</th>\n      <td>11</td>\n      <td>11</td>\n      <td>8</td>\n      <td>11</td>\n    </tr>\n    <tr>\n      <th>Long Term FC Non Relative</th>\n      <td>0</td>\n      <td>0</td>\n      <td>0</td>\n      <td>0</td>\n    </tr>\n    <tr>\n      <th>Interim</th>\n      <td>0</td>\n      <td>0</td>\n      <td>0</td>\n      <td>0</td>\n    </tr>\n    <tr>\n      <th>Boys School</th>\n      <td>42</td>\n      <td>36</td>\n      <td>31</td>\n      <td>58</td>\n    </tr>\n    <tr>\n      <th>State Hospital</th>\n      <td>0</td>\n      <td>0</td>\n      <td>0</td>\n      <td>0</td>\n    </tr>\n    <tr>\n      <th>Girls School</th>\n      <td>6</td>\n      <td>17</td>\n      <td>6</td>\n      <td>17</td>\n    </tr>\n    <tr>\n      <th>Hospital</th>\n      <td>0</td>\n      <td>0</td>\n      <td>0</td>\n      <td>1</td>\n    </tr>\n    <tr>\n      <th>Therapeutic FC Non Relative</th>\n      <td>0</td>\n      <td>0</td>\n      <td>0</td>\n      <td>0</td>\n    </tr>\n    <tr>\n      <th>Jail</th>\n      <td>0</td>\n      <td>0</td>\n      <td>0</td>\n      <td>0</td>\n    </tr>\n    <tr>\n      <th>Pre-adoptive home</th>\n      <td>0</td>\n      <td>0</td>\n      <td>0</td>\n      <td>0</td>\n    </tr>\n    <tr>\n      <th>Crisis Center</th>\n      <td>1</td>\n      <td>7</td>\n      <td>4</td>\n      <td>1</td>\n    </tr>\n    <tr>\n      <th>Detention</th>\n      <td>20</td>\n      <td>9</td>\n      <td>18</td>\n      <td>7</td>\n    </tr>\n    <tr>\n      <th>Trial Home Visit</th>\n      <td>9</td>\n      <td>27</td>\n      <td>6</td>\n      <td>5</td>\n    </tr>\n    <tr>\n      <th>Runaway</th>\n      <td>0</td>\n      <td>0</td>\n      <td>0</td>\n      <td>1</td>\n    </tr>\n    <tr>\n      <th>Non-relative foster home</th>\n      <td>39</td>\n      <td>23</td>\n      <td>12</td>\n      <td>12</td>\n    </tr>\n    <tr>\n      <th>Residential Treatment</th>\n      <td>85</td>\n      <td>90</td>\n      <td>47</td>\n      <td>60</td>\n    </tr>\n    <tr>\n      <th>Group Home</th>\n      <td>4</td>\n      <td>16</td>\n      <td>13</td>\n      <td>20</td>\n    </tr>\n    <tr>\n      <th>Specialized FC Non Relative</th>\n      <td>0</td>\n      <td>0</td>\n      <td>0</td>\n      <td>0</td>\n    </tr>\n    <tr>\n      <th>Total Group Care</th>\n      <td>169</td>\n      <td>186</td>\n      <td>127</td>\n      <td>175</td>\n    </tr>\n    <tr>\n      <th>Total Family-like setting</th>\n      <td>71</td>\n      <td>51</td>\n      <td>19</td>\n      <td>32</td>\n    </tr>\n    <tr>\n      <th>Unknown</th>\n      <td>0</td>\n      <td>0</td>\n      <td>0</td>\n      <td>1</td>\n    </tr>\n    <tr>\n      <th>Total Children in Care</th>\n      <td>240</td>\n      <td>237</td>\n      <td>146</td>\n      <td>209</td>\n    </tr>\n  </tbody>\n</table>",
          "text/plain": "<IPython.core.display.HTML object>"
         },
         "metadata": {},
         "output_type": "display_data"
        }
       ]
      }
     },
     "d34a5743ee0246ddbee41ebe6b0d1785": {
      "model_module": "@jupyter-widgets/base",
      "model_module_version": "1.0.0",
      "model_name": "LayoutModel",
      "state": {}
     },
     "d34bb3fca54d4a5884dbe313a0698ca4": {
      "model_module": "@jupyter-widgets/controls",
      "model_module_version": "1.2.0",
      "model_name": "DescriptionStyleModel",
      "state": {
       "description_width": ""
      }
     },
     "d3ba2103d4614e86866b19453036f6d1": {
      "model_module": "@jupyter-widgets/controls",
      "model_module_version": "1.2.0",
      "model_name": "VBoxModel",
      "state": {
       "children": [
        "IPY_MODEL_bd3f1b23aeaa464f8e3535635936f88c",
        "IPY_MODEL_920379ac8ffb40189dd667b6b0e9696a"
       ],
       "layout": "IPY_MODEL_5199e16ba6b049d7ada3578bbaa2ed21"
      }
     },
     "d4106e46b1734967bf52b0562a734fe8": {
      "model_module": "@jupyter-widgets/controls",
      "model_module_version": "1.2.0",
      "model_name": "HTMLModel",
      "state": {
       "layout": "IPY_MODEL_ebf9b6226af9414aa94f99b64f0011a6",
       "style": "IPY_MODEL_0c744eeb049a407d9c9f0d5b8ee03f10",
       "value": "SOURCE: Wyoming DCI UCR arrests by ORI"
      }
     },
     "d44c18099ceb43d282e1ac9db782879a": {
      "model_module": "@jupyter-widgets/base",
      "model_module_version": "1.0.0",
      "model_name": "LayoutModel",
      "state": {}
     },
     "d4d3c15d16694016ba7cb5c3579a0d8b": {
      "model_module": "@jupyter-widgets/base",
      "model_module_version": "1.0.0",
      "model_name": "LayoutModel",
      "state": {}
     },
     "d4e02a1b52d74b38babcd81450bde01c": {
      "model_module": "@jupyter-widgets/controls",
      "model_module_version": "1.2.0",
      "model_name": "VBoxModel",
      "state": {
       "children": [
        "IPY_MODEL_27a95f7c03b24cf9bfccbcaf1328ce5b"
       ],
       "layout": "IPY_MODEL_f41ad246626545bd8f05f873b2475cef"
      }
     },
     "d4e6f3f1017d42d98fea25600e6c478b": {
      "model_module": "@jupyter-widgets/controls",
      "model_module_version": "1.2.0",
      "model_name": "DescriptionStyleModel",
      "state": {
       "description_width": ""
      }
     },
     "d5647a9c468e4964a37dc89f222bab0a": {
      "model_module": "@jupyter-widgets/base",
      "model_module_version": "1.0.0",
      "model_name": "LayoutModel",
      "state": {}
     },
     "d5a9fde2ef6043d8a3469bb2397f2252": {
      "model_module": "@jupyter-widgets/controls",
      "model_module_version": "1.2.0",
      "model_name": "DescriptionStyleModel",
      "state": {
       "description_width": ""
      }
     },
     "d6126691e5d7472998e48fea561c7ead": {
      "model_module": "@jupyter-widgets/controls",
      "model_module_version": "1.2.0",
      "model_name": "HTMLModel",
      "state": {
       "layout": "IPY_MODEL_87918194b76440638ead303c7b5bc9c3",
       "style": "IPY_MODEL_758f0a6fde4942d3a6eb024a0267899a",
       "value": "<p class=\"page-break\"></p>"
      }
     },
     "d6e0e216af6148f99ea2c1609efe9948": {
      "model_module": "@jupyter-widgets/base",
      "model_module_version": "1.0.0",
      "model_name": "LayoutModel",
      "state": {}
     },
     "d73e20848b3d44768b5e6639d476df8e": {
      "model_module": "@jupyter-widgets/controls",
      "model_module_version": "1.2.0",
      "model_name": "DescriptionStyleModel",
      "state": {
       "description_width": ""
      }
     },
     "d78608d32dc941569545af46902febb2": {
      "model_module": "@jupyter-widgets/base",
      "model_module_version": "1.0.0",
      "model_name": "LayoutModel",
      "state": {}
     },
     "d78e499bc50a4121bc8e8259b555c8ff": {
      "model_module": "@jupyter-widgets/base",
      "model_module_version": "1.0.0",
      "model_name": "LayoutModel",
      "state": {}
     },
     "d7d6096d95954eb9a523a0d8be79a1a3": {
      "model_module": "@jupyter-widgets/controls",
      "model_module_version": "1.2.0",
      "model_name": "VBoxModel",
      "state": {
       "children": [
        "IPY_MODEL_5b8a68afa027462faa4e0b051976e564",
        "IPY_MODEL_0fbdbb9862754d898b2a09dc16e91379",
        "IPY_MODEL_3569b8b23b1f499e8372bd8a27791240",
        "IPY_MODEL_711ed3cde47b49ea8cccf47fcde00ea7",
        "IPY_MODEL_c0bacd86ca5e48c7a7ca92485916ef83"
       ],
       "layout": "IPY_MODEL_28a1c2efc3ac46c3b111a52ed799dba0"
      }
     },
     "d83c975dac9949d990cb473e9eb9d81d": {
      "model_module": "@jupyter-widgets/controls",
      "model_module_version": "1.2.0",
      "model_name": "DropdownModel",
      "state": {
       "_options_labels": [
        "Sublette",
        "Albany",
        "Natrona",
        "Fremont",
        "Sheridan",
        "Laramie",
        "Teton",
        "Washakie",
        "Converse",
        "Park",
        "Hot Springs",
        "Carbon",
        "Platte",
        "Lincoln",
        "Johnson",
        "Big Horn",
        "Goshen",
        "Sweetwater",
        "Weston",
        "Crook",
        "Uinta",
        "Campbell",
        "Niobrara"
       ],
       "description": "County:",
       "index": 0,
       "layout": "IPY_MODEL_41614febb566474d880ba73ad5253226",
       "style": "IPY_MODEL_9c7da54d84b3446994177066ff4d27bc"
      }
     },
     "d8bec1f64a7642719929c8264defa21f": {
      "model_module": "@jupyter-widgets/controls",
      "model_module_version": "1.2.0",
      "model_name": "HBoxModel",
      "state": {
       "children": [
        "IPY_MODEL_fb7a42ecc4204ea0a4fb1360a007e4a3",
        "IPY_MODEL_5ffa8cde28994bc084d18c9252c5bc69"
       ],
       "layout": "IPY_MODEL_ff783505f7c9459b8c8c4d2c42b49f95"
      }
     },
     "dae029df244e4b93a3e6b74be1c80861": {
      "model_module": "@jupyter-widgets/base",
      "model_module_version": "1.0.0",
      "model_name": "LayoutModel",
      "state": {}
     },
     "db3171a7ae1d4c7f88bf615b7d2a3435": {
      "model_module": "@jupyter-widgets/controls",
      "model_module_version": "1.2.0",
      "model_name": "DescriptionStyleModel",
      "state": {
       "description_width": ""
      }
     },
     "db39d44ba4a04407add67beeacc70319": {
      "model_module": "@jupyter-widgets/output",
      "model_module_version": "1.0.0",
      "model_name": "OutputModel",
      "state": {
       "layout": "IPY_MODEL_060d55fc2e73447db82f754da348ed6d",
       "outputs": [
        {
         "data": {
          "text/html": "<h3>Afcars Data</h3>",
          "text/plain": "<IPython.core.display.HTML object>"
         },
         "metadata": {},
         "output_type": "display_data"
        },
        {
         "data": {
          "text/html": "<table border=\"1\" class=\"dataframe\">\n  <thead>\n    <tr>\n      <th>COUNTY</th>\n      <th colspan=\"3\" halign=\"left\">Albany</th>\n    </tr>\n    <tr>\n      <th>YEAR</th>\n      <th>2014</th>\n      <th>2015</th>\n      <th>2016</th>\n    </tr>\n  </thead>\n  <tbody>\n    <tr>\n      <th>CHINS</th>\n      <td>1</td>\n      <td>2</td>\n      <td>0</td>\n    </tr>\n    <tr>\n      <th>DE</th>\n      <td>14</td>\n      <td>7</td>\n      <td>3</td>\n    </tr>\n  </tbody>\n</table>",
          "text/plain": "<IPython.core.display.HTML object>"
         },
         "metadata": {},
         "output_type": "display_data"
        }
       ]
      }
     },
     "db6c7c2dd7c24ecb81a950ceed494704": {
      "model_module": "@jupyter-widgets/controls",
      "model_module_version": "1.2.0",
      "model_name": "SliderStyleModel",
      "state": {
       "description_width": ""
      }
     },
     "db93b44db9354abe8188a8bb6fd0e392": {
      "model_module": "@jupyter-widgets/base",
      "model_module_version": "1.0.0",
      "model_name": "LayoutModel",
      "state": {}
     },
     "dc033a8b464343baa09404f3963db20a": {
      "model_module": "@jupyter-widgets/base",
      "model_module_version": "1.0.0",
      "model_name": "LayoutModel",
      "state": {}
     },
     "dc056675b84a4f1e99dc1d73e04c9f58": {
      "model_module": "@jupyter-widgets/controls",
      "model_module_version": "1.2.0",
      "model_name": "DescriptionStyleModel",
      "state": {
       "description_width": ""
      }
     },
     "dc31a059e1e14a5596a7171954215c5f": {
      "model_module": "@jupyter-widgets/controls",
      "model_module_version": "1.2.0",
      "model_name": "SliderStyleModel",
      "state": {
       "description_width": ""
      }
     },
     "dc79405525a84e19b5e2ce737acf431d": {
      "model_module": "@jupyter-widgets/base",
      "model_module_version": "1.0.0",
      "model_name": "LayoutModel",
      "state": {}
     },
     "dcfbe0491b2340d0b7d8b19cf82586bd": {
      "model_module": "@jupyter-widgets/controls",
      "model_module_version": "1.2.0",
      "model_name": "VBoxModel",
      "state": {
       "children": [
        "IPY_MODEL_c85931cada18461e93ae19d1793242cc",
        "IPY_MODEL_0cd96e6a79e0427ab4629acfb308dc9c",
        "IPY_MODEL_4f6fe90904984a0a83e8c6276156ec95",
        "IPY_MODEL_63ffdd83bbf74f8dbdf479b94c92cce6",
        "IPY_MODEL_d3ba2103d4614e86866b19453036f6d1"
       ],
       "layout": "IPY_MODEL_64e5cc3313a346b4a4d7d0a81f6ddbda"
      }
     },
     "dd059fdf4cdb4f65a84319071686b7e5": {
      "model_module": "@jupyter-widgets/controls",
      "model_module_version": "1.2.0",
      "model_name": "DescriptionStyleModel",
      "state": {
       "description_width": ""
      }
     },
     "dd33ed75bd00484d8ff0cea469a7f6f7": {
      "model_module": "@jupyter-widgets/controls",
      "model_module_version": "1.2.0",
      "model_name": "HTMLModel",
      "state": {
       "layout": "IPY_MODEL_cb9eaa8ec8d041c0881c67890907ff43",
       "style": "IPY_MODEL_46464bcc826240df9337d732437ffd09",
       "value": "<hr><h1>DFS Placements</h1>"
      }
     },
     "dd6d353552fc4c50b195cf91fa9c6165": {
      "model_module": "@jupyter-widgets/output",
      "model_module_version": "1.0.0",
      "model_name": "OutputModel",
      "state": {
       "layout": "IPY_MODEL_e0cd47f3033341c9b9606d1f56e1e1af",
       "outputs": [
        {
         "data": {
          "text/html": "<table border=\"1\" class=\"dataframe\">\n  <thead>\n    <tr>\n      <th>County</th>\n      <th colspan=\"3\" halign=\"left\">Albany</th>\n    </tr>\n    <tr>\n      <th>Beginning Year</th>\n      <th>2014</th>\n      <th>2015</th>\n      <th>2016</th>\n    </tr>\n    <tr>\n      <th>End Year</th>\n      <th>2015</th>\n      <th>2016</th>\n      <th>2017</th>\n    </tr>\n  </thead>\n  <tbody>\n    <tr>\n      <th>DISTRICT_ID</th>\n      <td>101000</td>\n      <td>101000</td>\n      <td>101000</td>\n    </tr>\n    <tr>\n      <th>DISTRICT_NAME</th>\n      <td>Albany #1</td>\n      <td>Albany #1</td>\n      <td>Albany #1</td>\n    </tr>\n    <tr>\n      <th>Expulsion - Services not provided</th>\n      <td>0</td>\n      <td>0</td>\n      <td>0</td>\n    </tr>\n    <tr>\n      <th>Expulsion - Services provided</th>\n      <td>0</td>\n      <td>0</td>\n      <td>0</td>\n    </tr>\n    <tr>\n      <th>Out of school suspension</th>\n      <td>73</td>\n      <td>162</td>\n      <td>39</td>\n    </tr>\n    <tr>\n      <th>Totals</th>\n      <td>73</td>\n      <td>162</td>\n      <td>39</td>\n    </tr>\n  </tbody>\n</table>",
          "text/plain": "<IPython.core.display.HTML object>"
         },
         "metadata": {},
         "output_type": "display_data"
        }
       ]
      }
     },
     "dd9e4e9f1f2a4d3b86222cf9cef92b5b": {
      "model_module": "@jupyter-widgets/controls",
      "model_module_version": "1.2.0",
      "model_name": "DescriptionStyleModel",
      "state": {
       "description_width": ""
      }
     },
     "ddaa82165fd742d696211d6173ec1ce3": {
      "model_module": "@jupyter-widgets/base",
      "model_module_version": "1.0.0",
      "model_name": "LayoutModel",
      "state": {}
     },
     "ddb1240e4f914c1e98acf567a600b438": {
      "model_module": "@jupyter-widgets/base",
      "model_module_version": "1.0.0",
      "model_name": "LayoutModel",
      "state": {}
     },
     "ddb575a2d00f43279a0753769dc798a0": {
      "model_module": "@jupyter-widgets/controls",
      "model_module_version": "1.2.0",
      "model_name": "HTMLModel",
      "state": {
       "layout": "IPY_MODEL_962c6e1a0bdc4288a6981ae3f2cb9e6b",
       "style": "IPY_MODEL_177d9ad351924a99aa6d9b1fa0f5d959",
       "value": "<h2>Juvenile Court Case Counts</h2>"
      }
     },
     "ddde3068dbad4294af835ff638a64593": {
      "model_module": "@jupyter-widgets/base",
      "model_module_version": "1.0.0",
      "model_name": "LayoutModel",
      "state": {}
     },
     "df1884de9e204cc98e7fd55e68d35d94": {
      "model_module": "@jupyter-widgets/controls",
      "model_module_version": "1.2.0",
      "model_name": "DescriptionStyleModel",
      "state": {
       "description_width": ""
      }
     },
     "dfa744bdd0a84e5bbe08c1f056c7a84b": {
      "model_module": "@jupyter-widgets/controls",
      "model_module_version": "1.2.0",
      "model_name": "VBoxModel",
      "state": {
       "children": [
        "IPY_MODEL_13d40cb50c5b47648f70b0d4c921f75d",
        "IPY_MODEL_c4bd970fa03c4012a190013d9c80d7c5"
       ],
       "layout": "IPY_MODEL_828a4852cd7841f6ade044c7cc4f3a3c"
      }
     },
     "dfbe89ceb1e64a0eb55eaa1e3747ca47": {
      "model_module": "@jupyter-widgets/output",
      "model_module_version": "1.0.0",
      "model_name": "OutputModel",
      "state": {
       "layout": "IPY_MODEL_ca2e9b4b95e7485296f5b222acdd15a7",
       "outputs": [
        {
         "data": {
          "text/html": "<center><h3>Lesser Offenses</h3></center>",
          "text/plain": "<IPython.core.display.HTML object>"
         },
         "metadata": {},
         "output_type": "display_data"
        },
        {
         "data": {
          "text/html": "<table border=\"1\" class=\"dataframe\">\n  <thead>\n    <tr>\n      <th>County</th>\n      <th colspan=\"4\" halign=\"left\">Albany</th>\n    </tr>\n    <tr>\n      <th>Year</th>\n      <th>2014</th>\n      <th>2015</th>\n      <th>2016</th>\n      <th>2017</th>\n    </tr>\n  </thead>\n  <tbody>\n    <tr>\n      <th>Burglary</th>\n      <td>5</td>\n      <td>0</td>\n      <td>0</td>\n      <td>2</td>\n    </tr>\n    <tr>\n      <th>Larceny-Theft</th>\n      <td>30</td>\n      <td>27</td>\n      <td>7</td>\n      <td>19</td>\n    </tr>\n    <tr>\n      <th>Motor-Vehicle-Theft</th>\n      <td>0</td>\n      <td>1</td>\n      <td>0</td>\n      <td>2</td>\n    </tr>\n    <tr>\n      <th>Arson</th>\n      <td>0</td>\n      <td>0</td>\n      <td>0</td>\n      <td>0</td>\n    </tr>\n    <tr>\n      <th>Other-Assaults</th>\n      <td>58</td>\n      <td>40</td>\n      <td>27</td>\n      <td>36</td>\n    </tr>\n    <tr>\n      <th>Forgery-Counterfeiting</th>\n      <td>0</td>\n      <td>0</td>\n      <td>0</td>\n      <td>0</td>\n    </tr>\n    <tr>\n      <th>Fraud</th>\n      <td>0</td>\n      <td>0</td>\n      <td>0</td>\n      <td>1</td>\n    </tr>\n    <tr>\n      <th>Embezzlement</th>\n      <td>0</td>\n      <td>0</td>\n      <td>2</td>\n      <td>0</td>\n    </tr>\n    <tr>\n      <th>Stolen-Property</th>\n      <td>0</td>\n      <td>0</td>\n      <td>0</td>\n      <td>4</td>\n    </tr>\n    <tr>\n      <th>Vandalism</th>\n      <td>14</td>\n      <td>11</td>\n      <td>5</td>\n      <td>11</td>\n    </tr>\n    <tr>\n      <th>Weapons</th>\n      <td>0</td>\n      <td>0</td>\n      <td>0</td>\n      <td>1</td>\n    </tr>\n    <tr>\n      <th>Prostitution</th>\n      <td>0</td>\n      <td>0</td>\n      <td>0</td>\n      <td>0</td>\n    </tr>\n    <tr>\n      <th>Sex-Offenses</th>\n      <td>1</td>\n      <td>0</td>\n      <td>4</td>\n      <td>4</td>\n    </tr>\n    <tr>\n      <th>Drug-Abuse-Violations</th>\n      <td>0</td>\n      <td>0</td>\n      <td>0</td>\n      <td>17</td>\n    </tr>\n    <tr>\n      <th>Drug-Abuse-Violations-Possession</th>\n      <td>15</td>\n      <td>20</td>\n      <td>19</td>\n      <td>17</td>\n    </tr>\n    <tr>\n      <th>Gambling-Offenses</th>\n      <td>0</td>\n      <td>0</td>\n      <td>0</td>\n      <td>0</td>\n    </tr>\n    <tr>\n      <th>Offenses-Against-Family-Children</th>\n      <td>0</td>\n      <td>0</td>\n      <td>0</td>\n      <td>0</td>\n    </tr>\n    <tr>\n      <th>Driving-Under-the-Influence</th>\n      <td>0</td>\n      <td>5</td>\n      <td>1</td>\n      <td>0</td>\n    </tr>\n    <tr>\n      <th>Liquor-Laws</th>\n      <td>22</td>\n      <td>20</td>\n      <td>16</td>\n      <td>20</td>\n    </tr>\n    <tr>\n      <th>Drunkenness</th>\n      <td>0</td>\n      <td>0</td>\n      <td>0</td>\n      <td>0</td>\n    </tr>\n    <tr>\n      <th>Disorderly-Conduct</th>\n      <td>2</td>\n      <td>1</td>\n      <td>1</td>\n      <td>3</td>\n    </tr>\n    <tr>\n      <th>All-Other-Offenses-Except-Traffic</th>\n      <td>28</td>\n      <td>36</td>\n      <td>18</td>\n      <td>17</td>\n    </tr>\n    <tr>\n      <th>Suspicion</th>\n      <td>0</td>\n      <td>0</td>\n      <td>0</td>\n      <td>0</td>\n    </tr>\n    <tr>\n      <th>Curfew-Loitering-Law-Violations</th>\n      <td>0</td>\n      <td>0</td>\n      <td>0</td>\n      <td>0</td>\n    </tr>\n    <tr>\n      <th>Run-a-ways</th>\n      <td>0</td>\n      <td>0</td>\n      <td>0</td>\n      <td>0</td>\n    </tr>\n    <tr>\n      <th>Vagrancy</th>\n      <td>0</td>\n      <td>0</td>\n      <td>0</td>\n      <td>0</td>\n    </tr>\n    <tr>\n      <th>Totals</th>\n      <td>175</td>\n      <td>161</td>\n      <td>100</td>\n      <td>154</td>\n    </tr>\n  </tbody>\n</table>",
          "text/plain": "<IPython.core.display.HTML object>"
         },
         "metadata": {},
         "output_type": "display_data"
        }
       ]
      }
     },
     "e03363b0c33e45f499aff2e20d256b82": {
      "model_module": "@jupyter-widgets/controls",
      "model_module_version": "1.2.0",
      "model_name": "HTMLModel",
      "state": {
       "layout": "IPY_MODEL_d34a5743ee0246ddbee41ebe6b0d1785",
       "style": "IPY_MODEL_4dfdfd02333b40638551e6ecc05e1f08",
       "value": "SOURCE: Wyoming DCI UCR arrests by ORI"
      }
     },
     "e045a6a23d834c478ba4e707484a370b": {
      "model_module": "@jupyter-widgets/controls",
      "model_module_version": "1.2.0",
      "model_name": "VBoxModel",
      "state": {
       "children": [
        "IPY_MODEL_166a592649bb4a7db1d446e01d119a74",
        "IPY_MODEL_7a87d12f2c2d454d8dbfbad8367a3ec3"
       ],
       "layout": "IPY_MODEL_3b21590575cf4dfc9893c10f9e2c5272"
      }
     },
     "e063d2eb32e94825beb6654f0c5adf13": {
      "model_module": "@jupyter-widgets/output",
      "model_module_version": "1.0.0",
      "model_name": "OutputModel",
      "state": {
       "layout": "IPY_MODEL_52f0d7d40ad84e42bb0a0846c771fc34",
       "outputs": [
        {
         "data": {
          "text/html": "<center><h3>Violent Felony</h3></center>",
          "text/plain": "<IPython.core.display.HTML object>"
         },
         "metadata": {},
         "output_type": "display_data"
        },
        {
         "data": {
          "text/html": "<table border=\"1\" class=\"dataframe\">\n  <thead>\n    <tr>\n      <th>County</th>\n      <th colspan=\"4\" halign=\"left\">Albany</th>\n    </tr>\n    <tr>\n      <th>Year</th>\n      <th>2014</th>\n      <th>2015</th>\n      <th>2016</th>\n      <th>2017</th>\n    </tr>\n  </thead>\n  <tbody>\n    <tr>\n      <th>Manslaughter</th>\n      <td>0</td>\n      <td>0</td>\n      <td>0</td>\n      <td>0</td>\n    </tr>\n    <tr>\n      <th>Rape</th>\n      <td>0</td>\n      <td>0</td>\n      <td>0</td>\n      <td>0</td>\n    </tr>\n    <tr>\n      <th>Robbery</th>\n      <td>1</td>\n      <td>0</td>\n      <td>0</td>\n      <td>1</td>\n    </tr>\n    <tr>\n      <th>Aggravated-Assault</th>\n      <td>1</td>\n      <td>1</td>\n      <td>0</td>\n      <td>1</td>\n    </tr>\n    <tr>\n      <th>Totals</th>\n      <td>2</td>\n      <td>1</td>\n      <td>0</td>\n      <td>2</td>\n    </tr>\n  </tbody>\n</table>",
          "text/plain": "<IPython.core.display.HTML object>"
         },
         "metadata": {},
         "output_type": "display_data"
        }
       ]
      }
     },
     "e0cd47f3033341c9b9606d1f56e1e1af": {
      "model_module": "@jupyter-widgets/base",
      "model_module_version": "1.0.0",
      "model_name": "LayoutModel",
      "state": {}
     },
     "e14e58c8a37e47fc9192b74fafae2c01": {
      "model_module": "@jupyter-widgets/controls",
      "model_module_version": "1.2.0",
      "model_name": "DescriptionStyleModel",
      "state": {
       "description_width": ""
      }
     },
     "e1c213aaa71342888ff2d354ad5d230a": {
      "model_module": "@jupyter-widgets/base",
      "model_module_version": "1.0.0",
      "model_name": "LayoutModel",
      "state": {}
     },
     "e218dd9f89514143b4cc1880a48eebfb": {
      "model_module": "@jupyter-widgets/controls",
      "model_module_version": "1.2.0",
      "model_name": "DescriptionStyleModel",
      "state": {
       "description_width": ""
      }
     },
     "e2bb915f2ea54f0aa693adc4b7f492b7": {
      "model_module": "@jupyter-widgets/controls",
      "model_module_version": "1.2.0",
      "model_name": "DescriptionStyleModel",
      "state": {
       "description_width": ""
      }
     },
     "e3a2094e0ac14b89ac6142e99597d910": {
      "model_module": "@jupyter-widgets/base",
      "model_module_version": "1.0.0",
      "model_name": "LayoutModel",
      "state": {}
     },
     "e3baa50dd436441d8ee18226699c1305": {
      "model_module": "@jupyter-widgets/controls",
      "model_module_version": "1.2.0",
      "model_name": "HTMLModel",
      "state": {
       "layout": "IPY_MODEL_ddaa82165fd742d696211d6173ec1ce3",
       "style": "IPY_MODEL_7acb1fef88be4308ab5dd4d4e3d4a07d",
       "value": "<h2>State Arrest Rates</h2><br>"
      }
     },
     "e441b95c5609467aa086ccac02e09184": {
      "model_module": "@jupyter-widgets/controls",
      "model_module_version": "1.2.0",
      "model_name": "DescriptionStyleModel",
      "state": {
       "description_width": ""
      }
     },
     "e5480156c00b49f1be043e465e43ecd6": {
      "model_module": "@jupyter-widgets/base",
      "model_module_version": "1.0.0",
      "model_name": "LayoutModel",
      "state": {}
     },
     "e5db493dbbff4882a7772f8db4b13df3": {
      "model_module": "@jupyter-widgets/output",
      "model_module_version": "1.0.0",
      "model_name": "OutputModel",
      "state": {
       "layout": "IPY_MODEL_dc79405525a84e19b5e2ce737acf431d",
       "outputs": [
        {
         "data": {
          "text/html": "<table border=\"1\" class=\"dataframe\">\n  <thead>\n    <tr style=\"text-align: right;\">\n      <th>Year</th>\n      <th>2014</th>\n      <th>2015</th>\n      <th>2016</th>\n      <th>2017</th>\n    </tr>\n  </thead>\n  <tbody>\n    <tr>\n      <th>Total Incidents</th>\n      <td>4854.00</td>\n      <td>4894.00</td>\n      <td>3394.00</td>\n      <td>3460.00</td>\n    </tr>\n    <tr>\n      <th>Population 11-17</th>\n      <td>51520.00</td>\n      <td>52042.00</td>\n      <td>52422.00</td>\n      <td>52513.00</td>\n    </tr>\n    <tr>\n      <th>Rate</th>\n      <td>942.16</td>\n      <td>940.39</td>\n      <td>647.44</td>\n      <td>658.88</td>\n    </tr>\n  </tbody>\n</table>",
          "text/plain": "<IPython.core.display.HTML object>"
         },
         "metadata": {},
         "output_type": "display_data"
        }
       ]
      }
     },
     "e5e405c5ed71483aa3da709d93a729f0": {
      "model_module": "@jupyter-widgets/base",
      "model_module_version": "1.0.0",
      "model_name": "LayoutModel",
      "state": {}
     },
     "e6f9b83c1f1c40f2aa5db95ff8ae0416": {
      "model_module": "@jupyter-widgets/controls",
      "model_module_version": "1.2.0",
      "model_name": "HTMLModel",
      "state": {
       "layout": "IPY_MODEL_7d5dc081d2c74705ab5a2491e2ada9da",
       "style": "IPY_MODEL_dd059fdf4cdb4f65a84319071686b7e5",
       "value": "<p class=\"page-break\"></p>"
      }
     },
     "e8dbc7953ae54da0955da214c7260593": {
      "model_module": "@jupyter-widgets/controls",
      "model_module_version": "1.2.0",
      "model_name": "DropdownModel",
      "state": {
       "_options_labels": [
        "Sublette",
        "Albany",
        "Natrona",
        "Fremont",
        "Sheridan",
        "Laramie",
        "Teton",
        "Washakie",
        "Converse",
        "Park",
        "Hot Springs",
        "Carbon",
        "Platte",
        "Lincoln",
        "Johnson",
        "Big Horn",
        "Goshen",
        "Sweetwater",
        "Weston",
        "Crook",
        "Uinta",
        "Campbell",
        "Niobrara"
       ],
       "description": "County:",
       "index": 0,
       "layout": "IPY_MODEL_ea9560b9ba2742039f35052853ce4398",
       "style": "IPY_MODEL_ee771f98ece643f9a34dce05b8c67b68"
      }
     },
     "e95524f599214ab08d84f99d6c909199": {
      "model_module": "@jupyter-widgets/base",
      "model_module_version": "1.0.0",
      "model_name": "LayoutModel",
      "state": {}
     },
     "e977dfe293f74ab6914dff2a959f293d": {
      "model_module": "@jupyter-widgets/base",
      "model_module_version": "1.0.0",
      "model_name": "LayoutModel",
      "state": {}
     },
     "ea50f445f02349b6ad67af94b681b805": {
      "model_module": "@jupyter-widgets/controls",
      "model_module_version": "1.2.0",
      "model_name": "DescriptionStyleModel",
      "state": {
       "description_width": ""
      }
     },
     "ea5f0895c55c4b91b30f225f4b081faa": {
      "model_module": "@jupyter-widgets/controls",
      "model_module_version": "1.2.0",
      "model_name": "DescriptionStyleModel",
      "state": {
       "description_width": ""
      }
     },
     "ea9560b9ba2742039f35052853ce4398": {
      "model_module": "@jupyter-widgets/base",
      "model_module_version": "1.0.0",
      "model_name": "LayoutModel",
      "state": {}
     },
     "eb18fcb92b4b49afa455f1c307088f20": {
      "model_module": "@jupyter-widgets/base",
      "model_module_version": "1.0.0",
      "model_name": "LayoutModel",
      "state": {}
     },
     "eb537c193b5f482c93c3ead210910e1c": {
      "model_module": "@jupyter-widgets/controls",
      "model_module_version": "1.2.0",
      "model_name": "HBoxModel",
      "state": {
       "children": [
        "IPY_MODEL_31189bbd625341ec89976532dde47687"
       ],
       "layout": "IPY_MODEL_57c21247c63748898519522101ff609f"
      }
     },
     "ebf9b6226af9414aa94f99b64f0011a6": {
      "model_module": "@jupyter-widgets/base",
      "model_module_version": "1.0.0",
      "model_name": "LayoutModel",
      "state": {}
     },
     "ec0ceebdfc814fb18a01a57ba3743c88": {
      "model_module": "@jupyter-widgets/base",
      "model_module_version": "1.0.0",
      "model_name": "LayoutModel",
      "state": {}
     },
     "ec6d1826006849b9a1cca5be5677bb04": {
      "model_module": "@jupyter-widgets/controls",
      "model_module_version": "1.2.0",
      "model_name": "VBoxModel",
      "state": {
       "children": [
        "IPY_MODEL_1ce1687b907141e4ac680a2dce44422b"
       ],
       "layout": "IPY_MODEL_acfe5c8a0bf344f1969ed6cee544b299"
      }
     },
     "ec8690ad28c040babdfae3bfac6babec": {
      "model_module": "@jupyter-widgets/base",
      "model_module_version": "1.0.0",
      "model_name": "LayoutModel",
      "state": {}
     },
     "ecebad9560ae49648fe31644150ceb57": {
      "model_module": "@jupyter-widgets/output",
      "model_module_version": "1.0.0",
      "model_name": "OutputModel",
      "state": {
       "layout": "IPY_MODEL_ed10046ed8374a49848cbb16c963adec",
       "outputs": [
        {
         "data": {
          "text/html": "<table border=\"1\" class=\"dataframe\">\n  <thead>\n    <tr>\n      <th>County</th>\n      <th colspan=\"3\" halign=\"left\">Albany</th>\n    </tr>\n    <tr>\n      <th>Beginning Year</th>\n      <th>2014</th>\n      <th>2015</th>\n      <th>2016</th>\n    </tr>\n    <tr>\n      <th>End Year</th>\n      <th>2015</th>\n      <th>2016</th>\n      <th>2017</th>\n    </tr>\n  </thead>\n  <tbody>\n    <tr>\n      <th>DISTRICT_ID</th>\n      <td>101000</td>\n      <td>101000</td>\n      <td>101000</td>\n    </tr>\n    <tr>\n      <th>DISTRICT_NAME</th>\n      <td>Albany #1</td>\n      <td>Albany #1</td>\n      <td>Albany #1</td>\n    </tr>\n    <tr>\n      <th>Expulsion - Services not provided</th>\n      <td>0</td>\n      <td>0</td>\n      <td>0</td>\n    </tr>\n    <tr>\n      <th>Expulsion - Services provided</th>\n      <td>0</td>\n      <td>0</td>\n      <td>0</td>\n    </tr>\n    <tr>\n      <th>Out of school suspension</th>\n      <td>73</td>\n      <td>162</td>\n      <td>39</td>\n    </tr>\n    <tr>\n      <th>Totals</th>\n      <td>73</td>\n      <td>162</td>\n      <td>39</td>\n    </tr>\n  </tbody>\n</table>",
          "text/plain": "<IPython.core.display.HTML object>"
         },
         "metadata": {},
         "output_type": "display_data"
        }
       ]
      }
     },
     "ed10046ed8374a49848cbb16c963adec": {
      "model_module": "@jupyter-widgets/base",
      "model_module_version": "1.0.0",
      "model_name": "LayoutModel",
      "state": {}
     },
     "ed5bb4a3cad346aa929c6cb087392340": {
      "model_module": "@jupyter-widgets/base",
      "model_module_version": "1.0.0",
      "model_name": "LayoutModel",
      "state": {}
     },
     "ed793d74ff664dafb127463e66b7e46d": {
      "model_module": "@jupyter-widgets/controls",
      "model_module_version": "1.2.0",
      "model_name": "HBoxModel",
      "state": {
       "children": [
        "IPY_MODEL_a9fdbad89e9f44baa8381ce47c2c613c",
        "IPY_MODEL_3409beb59a954b2e84317f5956305049"
       ],
       "layout": "IPY_MODEL_ad113cc8b75c4772afe9f4fff8a89d3d"
      }
     },
     "ee67716b03ff438d86f8deaef923a0d1": {
      "model_module": "@jupyter-widgets/controls",
      "model_module_version": "1.2.0",
      "model_name": "VBoxModel",
      "state": {
       "children": [
        "IPY_MODEL_43ae768f81074c03b77bc47934ef3d27",
        "IPY_MODEL_6e2d6c42d16040cc99076342fa2f6a9c"
       ],
       "layout": "IPY_MODEL_0c5e4ed791804b62bfa006baa6f43aa7"
      }
     },
     "ee6de8f5b626485a8f43488d20231a56": {
      "model_module": "@jupyter-widgets/base",
      "model_module_version": "1.0.0",
      "model_name": "LayoutModel",
      "state": {}
     },
     "ee771f98ece643f9a34dce05b8c67b68": {
      "model_module": "@jupyter-widgets/controls",
      "model_module_version": "1.2.0",
      "model_name": "DescriptionStyleModel",
      "state": {
       "description_width": ""
      }
     },
     "ef6d7649237c4813884072a25d953007": {
      "model_module": "@jupyter-widgets/controls",
      "model_module_version": "1.2.0",
      "model_name": "HTMLModel",
      "state": {
       "layout": "IPY_MODEL_0b414fb998084852973a1ce6b5f3853f",
       "style": "IPY_MODEL_294a745d5eb1429fb10ca1211fd4054e",
       "value": "<p class=\"page-break\"></p>"
      }
     },
     "ef89abf3feae494391bbc32e76f68f20": {
      "model_module": "@jupyter-widgets/controls",
      "model_module_version": "1.2.0",
      "model_name": "HBoxModel",
      "state": {
       "children": [
        "IPY_MODEL_ee67716b03ff438d86f8deaef923a0d1",
        "IPY_MODEL_7dca5bfa271740c992ebd7fe79461737"
       ],
       "layout": "IPY_MODEL_4bf60906e40e43ceab34001e192f2fc3"
      }
     },
     "f0b1b9a296d7435e8a9fdc22a7f85b8e": {
      "model_module": "@jupyter-widgets/base",
      "model_module_version": "1.0.0",
      "model_name": "LayoutModel",
      "state": {}
     },
     "f319211b5b3e4647a642dbcb1f00ea34": {
      "model_module": "@jupyter-widgets/output",
      "model_module_version": "1.0.0",
      "model_name": "OutputModel",
      "state": {
       "layout": "IPY_MODEL_88958cca988f4363b63ee854ebb55837",
       "outputs": [
        {
         "data": {
          "text/html": "<hr><h2>ORI Arrests Data</h2>",
          "text/plain": "<IPython.core.display.HTML object>"
         },
         "metadata": {},
         "output_type": "display_data"
        },
        {
         "data": {
          "text/html": "Violent Felony",
          "text/plain": "<IPython.core.display.HTML object>"
         },
         "metadata": {},
         "output_type": "display_data"
        },
        {
         "data": {
          "text/html": "<table border=\"1\" class=\"dataframe\">\n  <thead>\n    <tr style=\"text-align: right;\">\n      <th></th>\n      <th></th>\n      <th>Manslaughter</th>\n      <th>Rape</th>\n      <th>Robbery</th>\n      <th>Aggravated-Assault</th>\n    </tr>\n    <tr>\n      <th>County</th>\n      <th>Year</th>\n      <th></th>\n      <th></th>\n      <th></th>\n      <th></th>\n    </tr>\n  </thead>\n  <tbody>\n    <tr>\n      <th rowspan=\"3\" valign=\"top\">Sublette</th>\n      <th>2013</th>\n      <td>0</td>\n      <td>0</td>\n      <td>0</td>\n      <td>0</td>\n    </tr>\n    <tr>\n      <th>2014</th>\n      <td>0</td>\n      <td>0</td>\n      <td>0</td>\n      <td>0</td>\n    </tr>\n    <tr>\n      <th>2015</th>\n      <td>0</td>\n      <td>0</td>\n      <td>0</td>\n      <td>0</td>\n    </tr>\n  </tbody>\n</table>",
          "text/plain": "<IPython.core.display.HTML object>"
         },
         "metadata": {},
         "output_type": "display_data"
        },
        {
         "data": {
          "text/html": "Lesser Offenses",
          "text/plain": "<IPython.core.display.HTML object>"
         },
         "metadata": {},
         "output_type": "display_data"
        },
        {
         "data": {
          "text/html": "<table border=\"1\" class=\"dataframe\">\n  <thead>\n    <tr style=\"text-align: right;\">\n      <th></th>\n      <th></th>\n      <th>Burglary</th>\n      <th>Larceny-Theft</th>\n      <th>Motor-Vehicle-Theft</th>\n      <th>Arson</th>\n      <th>Other-Assaults</th>\n      <th>Forgery-Counterfeiting</th>\n      <th>Fraud</th>\n      <th>Embezzlement</th>\n      <th>Stolen-Property</th>\n      <th>Vandalism</th>\n      <th>Weapons</th>\n      <th>Prostitution</th>\n      <th>Sex-Offenses</th>\n      <th>Drug-Abuse-Violations</th>\n      <th>Drug-Abuse-Violations-Possession</th>\n      <th>Gambling-Offenses</th>\n      <th>Offenses-Against-Family-Children</th>\n      <th>Driving-Under-the-Influence</th>\n      <th>Liquor-Laws</th>\n      <th>Drunkenness</th>\n      <th>Disorderly-Conduct</th>\n      <th>All-Other-Offenses-Except-Traffic</th>\n      <th>Suspicion</th>\n      <th>Curfew-Loitering-Law-Violations</th>\n      <th>Run-a-ways</th>\n      <th>Vagrancy</th>\n    </tr>\n    <tr>\n      <th>County</th>\n      <th>Year</th>\n      <th></th>\n      <th></th>\n      <th></th>\n      <th></th>\n      <th></th>\n      <th></th>\n      <th></th>\n      <th></th>\n      <th></th>\n      <th></th>\n      <th></th>\n      <th></th>\n      <th></th>\n      <th></th>\n      <th></th>\n      <th></th>\n      <th></th>\n      <th></th>\n      <th></th>\n      <th></th>\n      <th></th>\n      <th></th>\n      <th></th>\n      <th></th>\n      <th></th>\n      <th></th>\n    </tr>\n  </thead>\n  <tbody>\n    <tr>\n      <th rowspan=\"3\" valign=\"top\">Sublette</th>\n      <th>2013</th>\n      <td>1</td>\n      <td>2</td>\n      <td>0</td>\n      <td>0</td>\n      <td>4</td>\n      <td>0</td>\n      <td>0</td>\n      <td>0</td>\n      <td>0</td>\n      <td>0</td>\n      <td>0</td>\n      <td>0</td>\n      <td>0</td>\n      <td>0</td>\n      <td>3</td>\n      <td>0</td>\n      <td>0</td>\n      <td>0</td>\n      <td>7</td>\n      <td>0</td>\n      <td>0</td>\n      <td>13</td>\n      <td>0</td>\n      <td>0</td>\n      <td>1</td>\n      <td>0</td>\n    </tr>\n    <tr>\n      <th>2014</th>\n      <td>0</td>\n      <td>2</td>\n      <td>0</td>\n      <td>0</td>\n      <td>1</td>\n      <td>0</td>\n      <td>0</td>\n      <td>0</td>\n      <td>0</td>\n      <td>1</td>\n      <td>0</td>\n      <td>0</td>\n      <td>0</td>\n      <td>0</td>\n      <td>4</td>\n      <td>0</td>\n      <td>0</td>\n      <td>0</td>\n      <td>7</td>\n      <td>0</td>\n      <td>2</td>\n      <td>7</td>\n      <td>0</td>\n      <td>1</td>\n      <td>1</td>\n      <td>0</td>\n    </tr>\n    <tr>\n      <th>2015</th>\n      <td>0</td>\n      <td>0</td>\n      <td>0</td>\n      <td>0</td>\n      <td>0</td>\n      <td>0</td>\n      <td>0</td>\n      <td>0</td>\n      <td>0</td>\n      <td>0</td>\n      <td>0</td>\n      <td>0</td>\n      <td>0</td>\n      <td>2</td>\n      <td>3</td>\n      <td>0</td>\n      <td>0</td>\n      <td>0</td>\n      <td>2</td>\n      <td>2</td>\n      <td>0</td>\n      <td>5</td>\n      <td>0</td>\n      <td>0</td>\n      <td>0</td>\n      <td>0</td>\n    </tr>\n  </tbody>\n</table>",
          "text/plain": "<IPython.core.display.HTML object>"
         },
         "metadata": {},
         "output_type": "display_data"
        }
       ]
      }
     },
     "f408c4747a024d0093cb67ad570b17a4": {
      "model_module": "@jupyter-widgets/controls",
      "model_module_version": "1.2.0",
      "model_name": "VBoxModel",
      "state": {
       "children": [
        "IPY_MODEL_a10995a39c7a4230b958b28ee6ea480c",
        "IPY_MODEL_95a9c37c71064699b38eb72c197a80a8",
        "IPY_MODEL_bf253d0f8a814f038444c36301c178e8",
        "IPY_MODEL_540c36afbcf944f5abc94e67e1b99498",
        "IPY_MODEL_34384f9df26046f18d868c6533a69067"
       ],
       "layout": "IPY_MODEL_d78e499bc50a4121bc8e8259b555c8ff"
      }
     },
     "f41ad246626545bd8f05f873b2475cef": {
      "model_module": "@jupyter-widgets/base",
      "model_module_version": "1.0.0",
      "model_name": "LayoutModel",
      "state": {}
     },
     "f4365071e0324f83b15761a7563abaed": {
      "model_module": "@jupyter-widgets/output",
      "model_module_version": "1.0.0",
      "model_name": "OutputModel",
      "state": {
       "layout": "IPY_MODEL_9e476c531a094fd894707db6473c7811",
       "outputs": [
        {
         "data": {
          "text/html": "<table border=\"1\" class=\"dataframe\">\n  <thead>\n    <tr style=\"text-align: right;\">\n      <th></th>\n      <th></th>\n      <th></th>\n      <th>DISTRICT_ID</th>\n      <th>DISTRICT_NAME</th>\n      <th>Expulsion - Services not provided</th>\n      <th>Expulsion - Services provided</th>\n      <th>In school suspension</th>\n      <th>Out of school suspension</th>\n    </tr>\n    <tr>\n      <th>county</th>\n      <th>Beginning Year</th>\n      <th>End Year</th>\n      <th></th>\n      <th></th>\n      <th></th>\n      <th></th>\n      <th></th>\n      <th></th>\n    </tr>\n  </thead>\n  <tbody>\n    <tr>\n      <th rowspan=\"4\" valign=\"top\">Sublette</th>\n      <th rowspan=\"2\" valign=\"top\">2013</th>\n      <th>2014</th>\n      <td>1801000</td>\n      <td>Sublette #1</td>\n      <td>NaN</td>\n      <td>NaN</td>\n      <td>64.0</td>\n      <td>41.0</td>\n    </tr>\n    <tr>\n      <th>2014</th>\n      <td>1809000</td>\n      <td>Sublette #9</td>\n      <td>NaN</td>\n      <td>NaN</td>\n      <td>71.0</td>\n      <td>43.0</td>\n    </tr>\n    <tr>\n      <th rowspan=\"2\" valign=\"top\">2014</th>\n      <th>2015</th>\n      <td>1801000</td>\n      <td>Sublette #1</td>\n      <td>NaN</td>\n      <td>37.0</td>\n      <td>56.0</td>\n      <td>NaN</td>\n    </tr>\n    <tr>\n      <th>2015</th>\n      <td>1809000</td>\n      <td>Sublette #9</td>\n      <td>NaN</td>\n      <td>53.0</td>\n      <td>26.0</td>\n      <td>NaN</td>\n    </tr>\n  </tbody>\n</table>",
          "text/plain": "<IPython.core.display.HTML object>"
         },
         "metadata": {},
         "output_type": "display_data"
        }
       ]
      }
     },
     "f52c577b653b49c3bed5daec1f0d7ffe": {
      "model_module": "@jupyter-widgets/controls",
      "model_module_version": "1.2.0",
      "model_name": "DescriptionStyleModel",
      "state": {
       "description_width": ""
      }
     },
     "f556adf1deca43048df6b663249cf866": {
      "model_module": "@jupyter-widgets/output",
      "model_module_version": "1.0.0",
      "model_name": "OutputModel",
      "state": {
       "layout": "IPY_MODEL_3c7549aa4fee44aa98acd19e12cba007",
       "outputs": [
        {
         "data": {
          "text/html": "<h2>Educational Infraction Data</h2>",
          "text/plain": "<IPython.core.display.HTML object>"
         },
         "metadata": {},
         "output_type": "display_data"
        },
        {
         "data": {
          "text/html": "<table border=\"1\" class=\"dataframe\">\n  <thead>\n    <tr style=\"text-align: right;\">\n      <th></th>\n      <th></th>\n      <th></th>\n      <th>DISTRICT_ID</th>\n      <th>DISTRICT_NAME</th>\n      <th>Expulsion - Services not provided</th>\n      <th>Expulsion - Services provided</th>\n      <th>In school suspension</th>\n      <th>Out of school suspension</th>\n    </tr>\n    <tr>\n      <th>county</th>\n      <th>Beginning Year</th>\n      <th>End Year</th>\n      <th></th>\n      <th></th>\n      <th></th>\n      <th></th>\n      <th></th>\n      <th></th>\n    </tr>\n  </thead>\n  <tbody>\n    <tr>\n      <th rowspan=\"4\" valign=\"top\">Sublette</th>\n      <th rowspan=\"2\" valign=\"top\">2013</th>\n      <th>2014</th>\n      <td>1801000</td>\n      <td>Sublette #1</td>\n      <td>NaN</td>\n      <td>NaN</td>\n      <td>64.0</td>\n      <td>41.0</td>\n    </tr>\n    <tr>\n      <th>2014</th>\n      <td>1809000</td>\n      <td>Sublette #9</td>\n      <td>NaN</td>\n      <td>NaN</td>\n      <td>71.0</td>\n      <td>43.0</td>\n    </tr>\n    <tr>\n      <th rowspan=\"2\" valign=\"top\">2014</th>\n      <th>2015</th>\n      <td>1801000</td>\n      <td>Sublette #1</td>\n      <td>NaN</td>\n      <td>37.0</td>\n      <td>56.0</td>\n      <td>NaN</td>\n    </tr>\n    <tr>\n      <th>2015</th>\n      <td>1809000</td>\n      <td>Sublette #9</td>\n      <td>NaN</td>\n      <td>53.0</td>\n      <td>26.0</td>\n      <td>NaN</td>\n    </tr>\n  </tbody>\n</table>",
          "text/plain": "<IPython.core.display.HTML object>"
         },
         "metadata": {},
         "output_type": "display_data"
        }
       ]
      }
     },
     "f55926081b334851b8ffd90d7e315863": {
      "model_module": "@jupyter-widgets/controls",
      "model_module_version": "1.2.0",
      "model_name": "DescriptionStyleModel",
      "state": {
       "description_width": ""
      }
     },
     "f55db61eb2f843f2905d3f7657edcd44": {
      "model_module": "@jupyter-widgets/controls",
      "model_module_version": "1.2.0",
      "model_name": "DropdownModel",
      "state": {
       "_options_labels": [
        "Albany",
        "Big Horn",
        "Campbell",
        "Carbon",
        "Converse",
        "Crook",
        "Fremont",
        "Goshen",
        "Hot Springs",
        "Johnson",
        "Laramie",
        "Lincoln",
        "Natrona",
        "Niobrara",
        "Park",
        "Platte",
        "Sheridan",
        "Sublette",
        "Sweetwater",
        "Teton",
        "Uinta",
        "Washakie",
        "Weston"
       ],
       "description": "County:",
       "index": 0,
       "layout": "IPY_MODEL_019a304847ac411694c86695f2853d30",
       "style": "IPY_MODEL_c5f00818bc5d4e6db993d2042517afec"
      }
     },
     "f616e2f3c46e479abddac6332a0b4a28": {
      "model_module": "@jupyter-widgets/controls",
      "model_module_version": "1.2.0",
      "model_name": "DescriptionStyleModel",
      "state": {
       "description_width": ""
      }
     },
     "f73e8fb1dbd74cf4995ff2558f2e64b2": {
      "model_module": "@jupyter-widgets/controls",
      "model_module_version": "1.2.0",
      "model_name": "VBoxModel",
      "state": {
       "children": [
        "IPY_MODEL_9c4bad1fd2dd4df9985825e5b58e29e7"
       ],
       "layout": "IPY_MODEL_4931807bc2cd46929a2669717ca8d9b7"
      }
     },
     "f7530ad3104d482d93a9903f75b0ba1b": {
      "model_module": "@jupyter-widgets/controls",
      "model_module_version": "1.2.0",
      "model_name": "DescriptionStyleModel",
      "state": {
       "description_width": ""
      }
     },
     "f83bb435e8bb4312bf858582f8ec5dd5": {
      "model_module": "@jupyter-widgets/base",
      "model_module_version": "1.0.0",
      "model_name": "LayoutModel",
      "state": {}
     },
     "f8cb2cb4a51646b6b050f59a38d9fecd": {
      "model_module": "@jupyter-widgets/base",
      "model_module_version": "1.0.0",
      "model_name": "LayoutModel",
      "state": {}
     },
     "f95def4526f84f93af63c9ca30d1288d": {
      "model_module": "@jupyter-widgets/controls",
      "model_module_version": "1.2.0",
      "model_name": "VBoxModel",
      "state": {
       "children": [
        "IPY_MODEL_54d0980d99844f20b914633a0181eb27"
       ],
       "layout": "IPY_MODEL_cbf0d3bce35a40b9a0bac493e2540700"
      }
     },
     "f9a1c9835de942d4aca8a236b01725ee": {
      "model_module": "@jupyter-widgets/base",
      "model_module_version": "1.0.0",
      "model_name": "LayoutModel",
      "state": {}
     },
     "f9e6b2a74ec740ab96265e7790efc2af": {
      "model_module": "@jupyter-widgets/controls",
      "model_module_version": "1.2.0",
      "model_name": "HTMLModel",
      "state": {
       "layout": "IPY_MODEL_18bcceb8a5b747c4b718e267280a1703",
       "style": "IPY_MODEL_50222b335fa54d27a9c893b5cf5401ab",
       "value": "Wyoming Juvenile Arrests reported from agency ORI numbers. Split between violent felony offenses and non-violent offenses."
      }
     },
     "fa79a31aeae8455ebe1a849baef96b1a": {
      "model_module": "@jupyter-widgets/base",
      "model_module_version": "1.0.0",
      "model_name": "LayoutModel",
      "state": {}
     },
     "fa917b3221d6431faf1db8d6c4e00dff": {
      "model_module": "@jupyter-widgets/base",
      "model_module_version": "1.0.0",
      "model_name": "LayoutModel",
      "state": {}
     },
     "fae5a666f35e4151b97312008b1c17c2": {
      "model_module": "@jupyter-widgets/base",
      "model_module_version": "1.0.0",
      "model_name": "LayoutModel",
      "state": {}
     },
     "fb150851710d4c068b05806d1e2790b5": {
      "model_module": "@jupyter-widgets/controls",
      "model_module_version": "1.2.0",
      "model_name": "DescriptionStyleModel",
      "state": {
       "description_width": ""
      }
     },
     "fb7a42ecc4204ea0a4fb1360a007e4a3": {
      "model_module": "@jupyter-widgets/controls",
      "model_module_version": "1.2.0",
      "model_name": "VBoxModel",
      "state": {
       "children": [
        "IPY_MODEL_bf8eba4c3be641f8a3410e5a2e5d8aa7"
       ],
       "layout": "IPY_MODEL_3292c8104a404e7cad2e940eadb5c7d6"
      }
     },
     "fb807646eeed409c8156f30a90fe6833": {
      "model_module": "@jupyter-widgets/controls",
      "model_module_version": "1.2.0",
      "model_name": "DropdownModel",
      "state": {
       "_options_labels": [
        "Albany",
        "Big Horn",
        "Campbell",
        "Carbon",
        "Converse",
        "Crook",
        "Fremont",
        "Goshen",
        "Hot Springs",
        "Johnson",
        "Laramie",
        "Lincoln",
        "Natrona",
        "Niobrara",
        "Park",
        "Platte",
        "Sheridan",
        "Sublette",
        "Sweetwater",
        "Teton",
        "Uinta",
        "Washakie",
        "Weston"
       ],
       "description": "County:",
       "index": 0,
       "layout": "IPY_MODEL_86b2d9c47c104e768627e1e444ffa478",
       "style": "IPY_MODEL_ea5f0895c55c4b91b30f225f4b081faa"
      }
     },
     "fb9fb54b6a584f9f9a23a0460d2dbc27": {
      "model_module": "@jupyter-widgets/controls",
      "model_module_version": "1.2.0",
      "model_name": "HTMLModel",
      "state": {
       "layout": "IPY_MODEL_4985462ed77249bf9eb6be42b68f0643",
       "style": "IPY_MODEL_d73e20848b3d44768b5e6639d476df8e",
       "value": "The left table depicts placement type (of those in care) for probation/delinquency cases only,                 by Judicial District. The yearly numbers depicted are calculated from the 12-month average of the                  number of juveniles in a placement scenario, as reported at the end of every month.                  Data shown is for the judicial district to which the current selected                  county belongs to. The table on the right shows DFS placements by county as provided by                  the DFS prior to 2017(see note below). Placement rates are calculated using the same method                  as the arrest rates above."
      }
     },
     "fbc4775d58db424eaa42c6470cc03cfe": {
      "model_module": "@jupyter-widgets/controls",
      "model_module_version": "1.2.0",
      "model_name": "DescriptionStyleModel",
      "state": {
       "description_width": ""
      }
     },
     "fce59ad10594441fb322bbeb9ecfc3c2": {
      "model_module": "@jupyter-widgets/controls",
      "model_module_version": "1.2.0",
      "model_name": "IntRangeSliderModel",
      "state": {
       "_model_name": "IntRangeSliderModel",
       "_view_name": "IntRangeSliderView",
       "layout": "IPY_MODEL_baaa59e5ec9447b6bfd8e366d626c158",
       "max": 2017,
       "min": 2012,
       "style": "IPY_MODEL_0ccd90b84ed04def81dd5bbd48793ba8",
       "value": [
        2013,
        2015
       ]
      }
     },
     "fd16c5b1ec364f4db163b1c049c17de7": {
      "model_module": "@jupyter-widgets/base",
      "model_module_version": "1.0.0",
      "model_name": "LayoutModel",
      "state": {}
     },
     "fd238ea2fa80490892f56697ab204e42": {
      "model_module": "@jupyter-widgets/base",
      "model_module_version": "1.0.0",
      "model_name": "LayoutModel",
      "state": {}
     },
     "fd4f6e405aeb41bfaea1c44b9b0d070f": {
      "model_module": "@jupyter-widgets/base",
      "model_module_version": "1.0.0",
      "model_name": "LayoutModel",
      "state": {}
     },
     "fd565130eda64e3e9445aa64eb439696": {
      "model_module": "@jupyter-widgets/base",
      "model_module_version": "1.0.0",
      "model_name": "LayoutModel",
      "state": {}
     },
     "fdb53cbfec6b40598f5bcb5c463af2ba": {
      "model_module": "@jupyter-widgets/base",
      "model_module_version": "1.0.0",
      "model_name": "LayoutModel",
      "state": {}
     },
     "fe71d52ea0014984bab6b2622e52a441": {
      "model_module": "@jupyter-widgets/controls",
      "model_module_version": "1.2.0",
      "model_name": "DescriptionStyleModel",
      "state": {
       "description_width": ""
      }
     },
     "fec25c9818a84932afc5e458e8ed7765": {
      "model_module": "@jupyter-widgets/base",
      "model_module_version": "1.0.0",
      "model_name": "LayoutModel",
      "state": {}
     },
     "fef082307dbd406f9ecdf73bef85804e": {
      "model_module": "@jupyter-widgets/controls",
      "model_module_version": "1.2.0",
      "model_name": "HTMLModel",
      "state": {
       "layout": "IPY_MODEL_475c3ca4bf4d4732820fa31e00222f0f",
       "style": "IPY_MODEL_fbc4775d58db424eaa42c6470cc03cfe",
       "value": "Prior to 2017 all DFS reports were reported on a per county basis. After 2017, DFS data collection systems no longer classified data per county."
      }
     },
     "ff1bf630d0d94664b7ca24d20696a934": {
      "model_module": "@jupyter-widgets/controls",
      "model_module_version": "1.2.0",
      "model_name": "HBoxModel",
      "state": {
       "children": [
        "IPY_MODEL_9dbe2ad86bba49bcb250fa5e16012e54"
       ],
       "layout": "IPY_MODEL_c23523225830414c9766c2563c660b94"
      }
     },
     "ff783505f7c9459b8c8c4d2c42b49f95": {
      "model_module": "@jupyter-widgets/base",
      "model_module_version": "1.0.0",
      "model_name": "LayoutModel",
      "state": {}
     },
     "ffea873e861a4c6483348518298043e9": {
      "model_module": "@jupyter-widgets/output",
      "model_module_version": "1.0.0",
      "model_name": "OutputModel",
      "state": {
       "layout": "IPY_MODEL_3ab7cd1f743a4ce19939cf3bc5aeb2df",
       "outputs": [
        {
         "data": {
          "text/html": "<table border=\"1\" class=\"dataframe\">\n  <thead>\n    <tr>\n      <th>Year</th>\n      <th>2015</th>\n    </tr>\n    <tr>\n      <th>County Name</th>\n      <th>Albany</th>\n    </tr>\n  </thead>\n  <tbody>\n    <tr>\n      <th>Delinquency Petition</th>\n      <td>24</td>\n    </tr>\n    <tr>\n      <th>Status Petition</th>\n      <td>*</td>\n    </tr>\n    <tr>\n      <th>Dependency Petition</th>\n      <td>13</td>\n    </tr>\n  </tbody>\n</table>",
          "text/plain": "<IPython.core.display.HTML object>"
         },
         "metadata": {},
         "output_type": "display_data"
        }
       ]
      }
     }
    },
    "version_major": 2,
    "version_minor": 0
   }
  }
 },
 "nbformat": 4,
 "nbformat_minor": 2
}
