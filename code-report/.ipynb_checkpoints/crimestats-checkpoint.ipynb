{
 "cells": [
  {
   "cell_type": "code",
   "execution_count": null,
   "metadata": {},
   "outputs": [],
   "source": [
    "# calculate various crime stats\n",
    "\n",
    "def calculate_arrest_rate(df):\n",
    "    return\n",
    "\n",
    "def calculate_crime_rate(df):\n",
    "    return\n",
    "\n",
    "def calculate_population_at_risk(df):\n",
    "    return\n",
    "\n",
    "def calculate_clearance_rate(df):\n",
    "    return"
   ]
  }
 ],
 "metadata": {
  "kernelspec": {
   "display_name": "Python 2",
   "language": "python",
   "name": "python2"
  },
  "language_info": {
   "codemirror_mode": {
    "name": "ipython",
    "version": 2
   },
   "file_extension": ".py",
   "mimetype": "text/x-python",
   "name": "python",
   "nbconvert_exporter": "python",
   "pygments_lexer": "ipython2",
   "version": "2.7.9"
  }
 },
 "nbformat": 4,
 "nbformat_minor": 2
}
