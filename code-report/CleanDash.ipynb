{
 "cells": [
  {
   "cell_type": "code",
   "execution_count": 11,
   "metadata": {
    "extensions": {
     "jupyter_dashboards": {
      "version": 1,
      "views": {
       "grid_default": {
        "hidden": true
       },
       "report_default": {}
      }
     }
    }
   },
   "outputs": [],
   "source": [
    "from ipywidgets import widgets\n",
    "from ipywidgets import interactive\n",
    "from IPython.display import display, HTML\n",
    "from pivottablejs import pivot_ui\n",
    "\n",
    "import csv\n",
    "import numpy as np\n",
    "import pandas as pd\n",
    "import os, sys\n",
    "import subprocess\n",
    "import base64 #for createdownloadlink\n",
    "\n",
    "data_folder = '../new-data/'\n",
    "dci_data_folder = data_folder+'DCI/all-combined/'\n",
    "dfs_afcars_data_file = data_folder+'DFS/DFS_12-16-AFCARS-CLEAN.csv'\n",
    "dfs_county_data_file = data_folder+'DFS/DFS_12-16-Placements-ByCounty-CLEAN.csv'\n",
    "dfs_plc_data_file = data_folder+'DFS/DFS_12-16-Placements-ByPLC-CLEAN.csv'\n",
    "school_discipline_data_file = data_folder+'school-discipline/SchoolDiscipline_2007-17_Combined-CSV.csv'\n",
    "\n",
    "#found:https://stackoverflow.com/questions/31893930/download-csv-from-an-ipython-notebook\n",
    "def create_download_link( df, title = \"Download CSV file\", filename = \"data.csv\"):\n",
    "    csv = df.to_csv()\n",
    "    b64 = base64.b64encode(csv.encode())\n",
    "    payload = b64.decode()\n",
    "    html = '<a download=\"{filename}\" href=\"data:text/csv;base64,{payload}\" target=\"_blank\">{title}</a>'\n",
    "    html = html.format(payload=payload,title=title,filename=filename)\n",
    "    return HTML(html)\n",
    "#end found\n"
   ]
  },
  {
   "cell_type": "code",
   "execution_count": 8,
   "metadata": {
    "extensions": {
     "jupyter_dashboards": {
      "version": 1,
      "views": {
       "grid_default": {
        "hidden": true
       },
       "report_default": {}
      }
     }
    }
   },
   "outputs": [],
   "source": [
    "#Functions to get data frames\n",
    "def getOverview():#DONE\n",
    "    gather_overview_frames = []    \n",
    "    current_path = dci_data_folder+'overview/'\n",
    "    year_files = next(os.walk(current_path))[2]\n",
    "    for f in year_files:#process each file for this year\n",
    "        file_path = current_path+'/'+f\n",
    "        year = f.split('-')[0]\n",
    "        try:\n",
    "            df = pd.read_csv(file_path,sep=',',header='infer',index_col=0)\n",
    "            df.assign(Year=year)\n",
    "            gather_overview_frames.append(df)\n",
    "        except Exception as e:\n",
    "            print('cant load file: '+file_path)\n",
    "            print('['+str(e)+']')\n",
    "            print('*****************************************************************************************')\n",
    "    return pd.concat(gather_overview_frames)\n",
    "\n",
    "def getDFS():\n",
    "    afcars = pd.read_csv(dfs_afcars_data_file,sep=',',header='infer',index_col=0)\n",
    "    county = pd.read_csv(dfs_county_data_file,sep=',',header='infer',index_col=0)\n",
    "    plc = pd.read_csv(dfs_plc_data_file,sep=',',header='infer',index_col=0)\n",
    "    return afcars, county, plc\n",
    "\n",
    "def getSchool():\n",
    "    return pd.read_csv(school_discipline_data_file,sep=',',header='infer',index_col=0)"
   ]
  },
  {
   "cell_type": "markdown",
   "metadata": {
    "extensions": {
     "jupyter_dashboards": {
      "version": 1,
      "views": {
       "grid_default": {
        "col": 0,
        "height": 39,
        "hidden": false,
        "row": 0,
        "width": 12
       },
       "report_default": {}
      }
     }
    }
   },
   "source": [
    "<a id='top'></a>\n",
    "# Wyoming Juvenile Justice Data (WyJJD)\n",
    "Project funded through grants received by the [Wyoming Children's Law Center](wyoclc.org)\n",
    "\n",
    "\n",
    "# Table of Contents\n",
    "## DCI Data\n",
    "* [Overview](#dcioverview)\n",
    "* [Detailed Index Offense Information](#detailedindex)\n",
    "\n",
    "## DFS Data\n",
    "* [Overview](#dfsoverview)\n",
    "\n",
    "## DOE Data\n",
    "* [Overview](#doeoverview)\n",
    "\n",
    "\n",
    "### Interactive Tables\n",
    "This project contains interactive data tables which allow you to create custom representations of information for your exploration. At the top left of every table you will see a menu where you can select multiple report visualization styles ranging from Excel-like tables to heatmaps. Just below this selection is another selection menu which allows you to change the accumulation methods used on the data(i.e. sum, unique count, etc). Along the left side of the report view below these selection menus is a selection of possible data points that are available. Click and drag these points to either the column on the side or to the top of the table, depending on how you want to view the data. There are also download links accompanying each table in order to download the data for use in other projects and/or reports.\n",
    "\n",
    "For example, \n",
    "\n",
    "<img src=\"https://pivottable.js.org/images/animation.gif\">\n",
    "To see more demos or view the behind the scenes methods please <a href=\"https://github.com/nicolaskruchten/pivottable/wiki/Optional-Extra-Renderers\">visit here</a>"
   ]
  },
  {
   "cell_type": "markdown",
   "metadata": {
    "extensions": {
     "jupyter_dashboards": {
      "version": 1,
      "views": {
       "grid_default": {
        "col": 0,
        "height": 5,
        "hidden": false,
        "row": 39,
        "width": 12
       },
       "report_default": {}
      }
     }
    }
   },
   "source": [
    "<a id='dcioverview'></a>\n",
    "[back to top](#top)\n",
    "# Division of Criminal Investigation\n",
    "## Overview"
   ]
  },
  {
   "cell_type": "code",
   "execution_count": 9,
   "metadata": {
    "extensions": {
     "jupyter_dashboards": {
      "version": 1,
      "views": {
       "grid_default": {
        "hidden": true
       },
       "report_default": {}
      }
     }
    }
   },
   "outputs": [],
   "source": [
    "overviewDF = getOverview()"
   ]
  },
  {
   "cell_type": "markdown",
   "metadata": {
    "extensions": {
     "jupyter_dashboards": {
      "version": 1,
      "views": {
       "grid_default": {
        "col": 0,
        "height": 4,
        "hidden": false,
        "row": 44,
        "width": 4
       },
       "report_default": {}
      }
     }
    }
   },
   "source": [
    "<p id=\"detailedindex\"></p>\n",
    "## Detailed Index Offense Information"
   ]
  },
  {
   "cell_type": "markdown",
   "metadata": {
    "extensions": {
     "jupyter_dashboards": {
      "version": 1,
      "views": {
       "grid_default": {
        "col": 0,
        "height": 5,
        "hidden": false,
        "row": 48,
        "width": 12
       },
       "report_default": {}
      }
     }
    }
   },
   "source": [
    "<a id='dfsoverview'></a>\n",
    "[back to top](#top)\n",
    "# Department of Family Services\n",
    "## Overview"
   ]
  },
  {
   "cell_type": "code",
   "execution_count": 26,
   "metadata": {
    "extensions": {
     "jupyter_dashboards": {
      "version": 1,
      "views": {
       "grid_default": {
        "col": 0,
        "height": 56,
        "hidden": false,
        "row": 53,
        "width": 12
       },
       "report_default": {}
      }
     }
    }
   },
   "outputs": [
    {
     "data": {
      "text/html": [
       "<h3>Data by County</h3>"
      ],
      "text/plain": [
       "<IPython.core.display.HTML object>"
      ]
     },
     "metadata": {},
     "output_type": "display_data"
    },
    {
     "data": {
      "text/html": [
       "<a download=\"DFS_ByCounty.csv\" href=\"data:text/csv;base64,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\" target=\"_blank\">Download County Data</a>"
      ],
      "text/plain": [
       "<IPython.core.display.HTML object>"
      ]
     },
     "metadata": {},
     "output_type": "display_data"
    },
    {
     "data": {
      "text/html": [
       "\n",
       "        <iframe\n",
       "            width=\"100%\"\n",
       "            height=\"500\"\n",
       "            src=\"pivottablejs.html\"\n",
       "            frameborder=\"0\"\n",
       "            allowfullscreen\n",
       "        ></iframe>\n",
       "        "
      ],
      "text/plain": [
       "<IPython.lib.display.IFrame at 0x7f5594041650>"
      ]
     },
     "metadata": {},
     "output_type": "display_data"
    },
    {
     "data": {
      "text/html": [
       "<h3>PLC Data</h3>"
      ],
      "text/plain": [
       "<IPython.core.display.HTML object>"
      ]
     },
     "metadata": {},
     "output_type": "display_data"
    },
    {
     "data": {
      "text/html": [
       "<a download=\"DFS_PLC.csv\" href=\"data:text/csv;base64,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\" target=\"_blank\">Download PLC Data</a>"
      ],
      "text/plain": [
       "<IPython.core.display.HTML object>"
      ]
     },
     "metadata": {},
     "output_type": "display_data"
    },
    {
     "data": {
      "text/html": [
       "\n",
       "        <iframe\n",
       "            width=\"100%\"\n",
       "            height=\"500\"\n",
       "            src=\"pivottablejs.html\"\n",
       "            frameborder=\"0\"\n",
       "            allowfullscreen\n",
       "        ></iframe>\n",
       "        "
      ],
      "text/plain": [
       "<IPython.lib.display.IFrame at 0x7f55ac322e50>"
      ]
     },
     "metadata": {},
     "output_type": "display_data"
    },
    {
     "data": {
      "text/html": [
       "<h3>AFCARS Data</h3>"
      ],
      "text/plain": [
       "<IPython.core.display.HTML object>"
      ]
     },
     "metadata": {},
     "output_type": "display_data"
    },
    {
     "data": {
      "text/html": [
       "<a download=\"DFS_AFCARS.csv\" href=\"data:text/csv;base64,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\" target=\"_blank\">Download AFCARS Data</a>"
      ],
      "text/plain": [
       "<IPython.core.display.HTML object>"
      ]
     },
     "metadata": {},
     "output_type": "display_data"
    },
    {
     "data": {
      "text/html": [
       "\n",
       "        <iframe\n",
       "            width=\"100%\"\n",
       "            height=\"500\"\n",
       "            src=\"pivottablejs.html\"\n",
       "            frameborder=\"0\"\n",
       "            allowfullscreen\n",
       "        ></iframe>\n",
       "        "
      ],
      "text/plain": [
       "<IPython.lib.display.IFrame at 0x7f5578dfb850>"
      ]
     },
     "metadata": {},
     "output_type": "display_data"
    }
   ],
   "source": [
    "afcars, county, plc = getDFS()\n",
    "\n",
    "\n",
    "\n",
    "\n",
    "\n",
    "#https://pivottable.js.org/examples/\n",
    "display(HTML(\"<h3>Data by County</h3>\"))\n",
    "display(create_download_link(county,title=\"Download County Data\",filename=\"DFS_ByCounty.csv\"))\n",
    "display(pivot_ui(county))\n",
    "display(HTML(\"<h3>PLC Data</h3>\"))\n",
    "display(create_download_link(plc,title=\"Download PLC Data\",filename=\"DFS_PLC.csv\"))\n",
    "display(pivot_ui(plc))\n",
    "display(HTML(\"<h3>AFCARS Data</h3>\"))\n",
    "display(create_download_link(afcars,title=\"Download AFCARS Data\",filename=\"DFS_AFCARS.csv\"))\n",
    "display(pivot_ui(afcars))\n"
   ]
  },
  {
   "cell_type": "markdown",
   "metadata": {
    "extensions": {
     "jupyter_dashboards": {
      "version": 1,
      "views": {
       "grid_default": {
        "col": 0,
        "height": 5,
        "hidden": false,
        "row": 128,
        "width": 12
       },
       "report_default": {}
      }
     }
    }
   },
   "source": [
    "<a id='doeoverview'></a>\n",
    "[back to top](#top)\n",
    "# Department of Education\n",
    "## Overview"
   ]
  },
  {
   "cell_type": "code",
   "execution_count": 25,
   "metadata": {
    "extensions": {
     "jupyter_dashboards": {
      "version": 1,
      "views": {
       "grid_default": {
        "col": 0,
        "height": 19,
        "hidden": false,
        "row": 109,
        "width": 12
       },
       "report_default": {}
      }
     }
    }
   },
   "outputs": [
    {
     "data": {
      "text/html": [
       "<h3>School Juvenile Data</h3>"
      ],
      "text/plain": [
       "<IPython.core.display.HTML object>"
      ]
     },
     "metadata": {},
     "output_type": "display_data"
    },
    {
     "data": {
      "text/html": [
       "<a download=\"SchoolJuvenileData.csv\" href=\"data:text/csv;base64,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\" target=\"_blank\">Download School Juvenile Data</a>"
      ],
      "text/plain": [
       "<IPython.core.display.HTML object>"
      ]
     },
     "metadata": {},
     "output_type": "display_data"
    },
    {
     "data": {
      "text/html": [
       "\n",
       "        <iframe\n",
       "            width=\"100%\"\n",
       "            height=\"500\"\n",
       "            src=\"pivottablejs.html\"\n",
       "            frameborder=\"0\"\n",
       "            allowfullscreen\n",
       "        ></iframe>\n",
       "        "
      ],
      "text/plain": [
       "<IPython.lib.display.IFrame at 0x7f55ac322fd0>"
      ]
     },
     "metadata": {},
     "output_type": "display_data"
    }
   ],
   "source": [
    "school_data = getSchool()\n",
    "#print(school_data)\n",
    "# df, title = \"Download CSV file\", filename = \"data.csv\"\n",
    "display(HTML(\"<h3>School Juvenile Data</h3>\"))\n",
    "display(create_download_link(school_data,title=\"Download School Juvenile Data\",filename=\"SchoolJuvenileData.csv\"))\n",
    "#display(school_data)\n",
    "#display(HTML(school_data.to_html()))\n",
    "#https://blog.ouseful.info/2016/12/29/simple-view-controls-for-pandas-dataframes-using-ipython-widgets/\n",
    "display(pivot_ui(school_data))"
   ]
  }
 ],
 "metadata": {
  "extensions": {
   "jupyter_dashboards": {
    "activeView": "grid_default",
    "version": 1,
    "views": {
     "grid_default": {
      "cellMargin": 10,
      "defaultCellHeight": 20,
      "maxColumns": 12,
      "name": "grid",
      "type": "grid"
     },
     "report_default": {
      "name": "report",
      "type": "report"
     }
    }
   }
  },
  "kernelspec": {
   "display_name": "Python 2",
   "language": "python",
   "name": "python2"
  },
  "language_info": {
   "codemirror_mode": {
    "name": "ipython",
    "version": 2
   },
   "file_extension": ".py",
   "mimetype": "text/x-python",
   "name": "python",
   "nbconvert_exporter": "python",
   "pygments_lexer": "ipython2",
   "version": "2.7.9"
  },
  "widgets": {
   "application/vnd.jupyter.widget-state+json": {
    "state": {},
    "version_major": 2,
    "version_minor": 0
   }
  }
 },
 "nbformat": 4,
 "nbformat_minor": 2
}
